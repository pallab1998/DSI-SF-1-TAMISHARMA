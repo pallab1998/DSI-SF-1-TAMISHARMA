{
 "cells": [
  {
   "cell_type": "code",
   "execution_count": 13,
   "metadata": {
    "collapsed": false,
    "slideshow": {
     "slide_type": "skip"
    }
   },
   "outputs": [
    {
     "data": {
      "text/html": [
       "<style>\n",
       "table,td,tr,th {border:none !important; }\n",
       "</style>"
      ],
      "text/plain": [
       "<IPython.core.display.HTML object>"
      ]
     },
     "metadata": {},
     "output_type": "display_data"
    }
   ],
   "source": [
    "%%html\n",
    "<style>\n",
    "table,td,tr,th {border:none !important; }\n",
    "</style>"
   ]
  },
  {
   "cell_type": "markdown",
   "metadata": {
    "slideshow": {
     "slide_type": "skip"
    }
   },
   "source": [
    "\n",
    "> ```---\n",
    "title: Intro to Clustering\n",
    "duration: \"1:25\"\n",
    "creator:\n",
    "    name: Patrick Smith\n",
    "    city: DC\n",
    "    updated:  David Yerrington\n",
    "    city: SF\n",
    "---```\n"
   ]
  },
  {
   "cell_type": "markdown",
   "metadata": {
    "slideshow": {
     "slide_type": "slide"
    }
   },
   "source": [
    "<img src=\"https://ga-dash.s3.amazonaws.com/production/assets/logo-9f88ae6c9c3871690e33280fcf557f33.png\" style=\"float: left; margin: 10px\">\n",
    "# Intro to Clustering and K-Means\n",
    "Week 7 | Lesson 1.1\n",
    "\n",
    "![](https://snag.gy/kYWumd.jpg)"
   ]
  },
  {
   "cell_type": "markdown",
   "metadata": {
    "slideshow": {
     "slide_type": "slide"
    }
   },
   "source": [
    "### LEARNING OBJECTIVES\n",
    "*After this lesson, you will be able to:*\n",
    "- Understand basic unsupervised clustering problems\n",
    "- Format and preprocess data for cluster\n",
    "- Perform a K-Means Clustering Analysis\n",
    "- Evaluate clusters for fit "
   ]
  },
  {
   "cell_type": "markdown",
   "metadata": {
    "slideshow": {
     "slide_type": "slide"
    }
   },
   "source": [
    "### STUDENT PRE-WORK\n",
    "*Before this lesson, you should already be able to:*\n",
    "- Write basic Python including functions\n",
    "- Have a working knowledge of Pandas and Scikit-Learn"
   ]
  },
  {
   "cell_type": "markdown",
   "metadata": {
    "slideshow": {
     "slide_type": "slide"
    }
   },
   "source": [
    "### LESSON GUIDE\n",
    "| TIMING  | TYPE  | TOPIC  |\n",
    "|:-:|---|---|\n",
    "| 5 min  | [Opening](#opening)  | Topic description  |\n",
    "| 10 min  | [Introduction](#introduction)   | What is Clustering?  |\n",
    "| 15 min  | [Demo](#demo)  | Example of Clustering  |\n",
    "| 25 min  | [Guided Practice](#guided-practice<a name=\"opening\"></a>)  | Format your data for clustering |\n",
    "| 25 min  | [Independent Practice](#ind-practice)  | Perform a k-means cluster analysis |\n",
    "| 5 min  | [Conclusion](#conclusion)  | Conclusion  |\n",
    "\n",
    "---"
   ]
  },
  {
   "cell_type": "markdown",
   "metadata": {
    "slideshow": {
     "slide_type": "slide"
    }
   },
   "source": [
    "## How robust do you think \"unsupervized\" classification can be?\n",
    "- What's you're initial impression?"
   ]
  },
  {
   "cell_type": "markdown",
   "metadata": {
    "slideshow": {
     "slide_type": "slide"
    }
   },
   "source": [
    "### Unsupervised Learning\n",
    "<img src=\"https://snag.gy/QGVqBS.jpg\">"
   ]
  },
  {
   "cell_type": "markdown",
   "metadata": {
    "slideshow": {
     "slide_type": "slide"
    }
   },
   "source": [
    "Until now, we haven't talked much about unsupervised learning.  We use unsupervised methods when we don't have labeled data.\n",
    "\n",
    "| Pros | Cons |\n",
    "|---|---|\n",
    "| No labels | Difficult to assess without SME |\n",
    "| Few or no assumptions about data | Scaling / normalization often necessary |\n",
    "| Useful for subset / segmentation discovery | Difficult to visualize |\n",
    "| Great for broad insights | Extremely difficult to tune |\n",
    "| Many models avalable | No obvious choice in many cases |\n",
    "| Black magic | Considered \"unconventional\" for serious problems |"
   ]
  },
  {
   "cell_type": "markdown",
   "metadata": {
    "slideshow": {
     "slide_type": "slide"
    }
   },
   "source": [
    "<a name=\"introduction\"></a>\n",
    "## Introduction: Intro to Clustering (5 mins)\n",
    "\n",
    "Clustering as a wide variety of applications including:\n",
    "\n",
    "\n",
    "### Genetics\n",
    "![](https://snag.gy/TP2RA4.jpg)\n"
   ]
  },
  {
   "cell_type": "markdown",
   "metadata": {
    "slideshow": {
     "slide_type": "slide"
    }
   },
   "source": [
    "## Consumer Internet\n",
    "\n",
    "<table>\n",
    "    <tr>\n",
    "        <td><img src=\"https://snag.gy/EbLeqd.jpg\"></td>\n",
    "        <td><img src=\"https://snag.gy/xsNvK8.jpg\"></td>\n",
    "    </tr>\n",
    "</table>\n"
   ]
  },
  {
   "cell_type": "markdown",
   "metadata": {
    "slideshow": {
     "slide_type": "slide"
    }
   },
   "source": [
    "## Business\n",
    "\n",
    "<table>\n",
    "    <tr>\n",
    "    <td><img src=\"https://snag.gy/pDueQ2.jpg\" width=\"500\"></td>\n",
    "    <td>\n",
    "        <li>Identifying Demographics</li>\n",
    "        <li>Spending Patterns</li>\n",
    "        <li>Consumer Trends</li>\n",
    "        <li>Customer Characteristics</li>\n",
    "        <li>Recommender Systems</li>\n",
    "        <li>Taxonomy / Categorization</li>\n",
    "    </td>\n",
    "    </tr>\n",
    "</table>\n"
   ]
  },
  {
   "cell_type": "markdown",
   "metadata": {
    "slideshow": {
     "slide_type": "slide"
    }
   },
   "source": [
    "## What is meant by \"labeled data\"?\n",
    "- Give me some examples!"
   ]
  },
  {
   "cell_type": "markdown",
   "metadata": {
    "slideshow": {
     "slide_type": "slide"
    }
   },
   "source": [
    "<img src=\"https://snag.gy/YUt5RO.jpg\" style=\"float: left; margin-right: 25px; width: 250px\">\n",
    "\n",
    "## What problems do you think are implied by \"clustering\"?\n",
    "\n",
    "Follow up:\n",
    "\n",
    "- How accurate do you think these are?\n",
    "- What kind of data are we talking about?"
   ]
  },
  {
   "cell_type": "markdown",
   "metadata": {
    "slideshow": {
     "slide_type": "slide"
    }
   },
   "source": [
    "#### What is Clustering? \n",
    "\n",
    "<img src=\"https://snag.gy/BdfATE.jpg\" style=\"width: 500px\">\n",
    "\n",
    "Clustering is one of the most ubiquitous and widespread methods for understanding a dataset. In clustering, we group points in a dataset together so that the members of that group are more similar to each other than they are to members of other groups. In this sense, we're creating groups to understand our data. \n",
    "\n",
    "- No \"true\" target / response to compare\n",
    "- We apply structure to data, rather than assume some structure (ie: no true value / class / label)\n",
    "- Predictions based on observed characteristics within data\n",
    "\n",
    "For instance; Your employer gives you a dataset of voter preferences from a local poll and they want you to figure out just exactly how these voters are grouping based on their preferences. The answer: clustering!"
   ]
  },
  {
   "cell_type": "markdown",
   "metadata": {
    "slideshow": {
     "slide_type": "slide"
    }
   },
   "source": [
    "## How is Clustering Different from Classification? \n",
    "\n",
    "You may be thinking: How is clustering different from classification? If we're just creating groups, aren't the two one and the same?\n",
    "There exists an important distinction between classification and clustering: In classification, we are grouping data according to a set of predefined groups; We know what the characteristics of a mammal are, and humans have the characteristics of that predefined group. In clustering, however, we set out to figure out *if* the points in our dataset have relationships with each other, and we group those with similar characteristics in a cluster. In other words, we need to discover the classes themselves."
   ]
  },
  {
   "cell_type": "markdown",
   "metadata": {
    "slideshow": {
     "slide_type": "slide"
    }
   },
   "source": [
    "## KNN Review\n",
    "\n",
    "KNN is a supervised classification method, with some important differences.  We will review.\n",
    "\n",
    "![](https://snag.gy/WPF4ZS.jpg)\n"
   ]
  },
  {
   "cell_type": "markdown",
   "metadata": {
    "slideshow": {
     "slide_type": "slide"
    }
   },
   "source": [
    "<a name=\"demo\"></a>\n",
    "## How Does Clustering Work? - Demo (10 mins)\n",
    "\n",
    "The are numerous algorithms for clustering a dataset:\n",
    "\n",
    "- **K-Means** (mean centroids)\n",
    "- **Heirarchical** (nested clusters by merging or splitting successively)\n",
    "- **DBSCAN** (density based)\n",
    "- Affinity Propagation (graph based approach to let points 'vote' on their preferred 'exemplar')\n",
    "- Mean Shift (can find number of clusters)\n",
    "- Spectral Clustering\n",
    "- Agglomerative Clustering (suite of algorithms all based on applying the same criteria/characteristics of one cluster to others)\n",
    "\n",
    "\n",
    "\n",
    "Today we're going to look at one of the most commonly used algorithms: k-means."
   ]
  },
  {
   "cell_type": "markdown",
   "metadata": {
    "slideshow": {
     "slide_type": "slide"
    }
   },
   "source": [
    "## K-Means Clustering\n",
    "\n",
    "### K-Means is the most popular clustering algorithm\n",
    "\n",
    "It's one of the easier methods to understand and other clustering techniques will be based on some of the assumptions that K-Means is based on.\n",
    "\n",
    "- # $K = Clusters$\n",
    "- # $Means = Mean\\ of\\ cluster\\ points$\n",
    "\n",
    "in which the number of clusters k is chosen in advance, after which the goal is to partition the inputs into sets  in a way that minimizes the total sum of squared distances from each point to the mean of its assigned cluster.”\n",
    "\n",
    "\n",
    "K-Means is a clustering algorithm that assumes *k* clusters, and then computes these clusters based on the attributes of the available data. The algorithm takes your entire dataset, let's call it *df*, and iterates over its attributes to determine clusters based around centers, known as **centroids**. Unlike many statistical methods, there is no finite way to determine what \"k\" is; for our methods, we're going to approximate *k* based on distribution of our data. "
   ]
  },
  {
   "cell_type": "markdown",
   "metadata": {
    "slideshow": {
     "slide_type": "slide"
    }
   },
   "source": [
    "## Euclidean Refresher\n",
    "\n",
    "_We are going to leave this here for those of us who want a refresher, and move on..._\n",
    "\n",
    "![](https://snag.gy/5v9dLl.jpg)"
   ]
  },
  {
   "cell_type": "markdown",
   "metadata": {
    "slideshow": {
     "slide_type": "slide"
    }
   },
   "source": [
    "## K-Means Step by Step\n",
    "\n",
    "<table width=\"500\" cellpadding=\"50\"> \n",
    "<tr>\n",
    "   <td><img src=\"https://snag.gy/7haoS3.jpg\" style=\"width: 150px\"></td>\n",
    "   <td style=\"vertical-align: top; width: 400px;\"><br><b>Step 1.</b><br>We have data in a N-Dimensional feature space (2D for example).</td>\n",
    "</tr>\n",
    "<tr>\n",
    "</table>"
   ]
  },
  {
   "cell_type": "markdown",
   "metadata": {
    "slideshow": {
     "slide_type": "subslide"
    }
   },
   "source": [
    "<table width=500 cellpadding=\"50\"> \n",
    "<tr>\n",
    "   <td><img src=\"https://snag.gy/DaIVgk.jpg\" style=\"width: 150px !important;\"></td>\n",
    "   <td style=\"align: top; width: 400px; vertical-align: top;\"><br><b>Step 2.</b><br>Intialize K centroid (2 here).</td>\n",
    "</tr>\n",
    "<tr>\n",
    "</table>"
   ]
  },
  {
   "cell_type": "markdown",
   "metadata": {
    "slideshow": {
     "slide_type": "subslide"
    }
   },
   "source": [
    "<table width=500 cellpadding=\"50\"> \n",
    "<tr>\n",
    "   <td><img src=\"https://snag.gy/DaIVgk.jpg\" style=\"width: 150px !important;\"></td>\n",
    "   <td style=\"align: top; width: 400px; vertical-align: top;\"><b>Step 3.</b><br>Assign points to *closest* cluster based on _euclidean distance_.<br><br>$\\sqrt{(x_1-x_2)^2 + (y_1-y_2)^2}$\n",
    "\n",
    "   </td>\n",
    "</tr>\n",
    "<tr>\n",
    "</table>"
   ]
  },
  {
   "cell_type": "markdown",
   "metadata": {
    "slideshow": {
     "slide_type": "subslide"
    }
   },
   "source": [
    "<table width=500 cellpadding=\"50\"> \n",
    "<tr>\n",
    "   <td><img src=\"https://snag.gy/NY1EeT.jpg\" style=\"width: 150px !important;\"></td>\n",
    "   <td style=\"align: top; width: 400px; vertical-align: top;\"><b>Step 4.</b><br>Calculate mean of points assigned to centroid (2 here).  Update new centroid positions to mean (ie: geometric center).<br><br>$new\\ centroid\\ position= \\bar{x}, \\bar{y}$\n",
    "   </td>\n",
    "</tr>\n",
    "<tr>\n",
    "</table>"
   ]
  },
  {
   "cell_type": "markdown",
   "metadata": {
    "slideshow": {
     "slide_type": "subslide"
    }
   },
   "source": [
    "<table width=500 cellpadding=\"50\"> \n",
    "<tr>\n",
    "   <td><img src=\"https://snag.gy/tSfDZs.jpg\" style=\"width: 150px !important;\"></td>\n",
    "   <td style=\"align: top; width: 400px; vertical-align: top;\"><b>Step 5.</b><br>Repeat step 3-4, updating class membership based on centroid distance.\n",
    "   </td>\n",
    "</tr>\n",
    "<tr>\n",
    "</table>"
   ]
  },
  {
   "cell_type": "markdown",
   "metadata": {
    "slideshow": {
     "slide_type": "subslide"
    }
   },
   "source": [
    "<table width=500 cellpadding=\"50\"> \n",
    "<tr>\n",
    "   <td><img src=\"https://snag.gy/BbIicn.jpg\" style=\"width: 150px !important;\"></td>\n",
    "   <td style=\"align: top; width: 400px; vertical-align: top;\"><b>Fin.</b><br>Convergence is met once all points no longer change to a new class (defined by closest centroid distance).\n",
    "   </td>\n",
    "</tr>\n",
    "<tr>\n",
    "</table>"
   ]
  },
  {
   "cell_type": "markdown",
   "metadata": {
    "slideshow": {
     "slide_type": "slide"
    }
   },
   "source": [
    "## Another Example\n",
    "\n",
    "![](https://snag.gy/5hFXUA.jpg)"
   ]
  },
  {
   "cell_type": "markdown",
   "metadata": {
    "slideshow": {
     "slide_type": "slide"
    }
   },
   "source": [
    "## A few K-Means caveats...\n",
    "\n",
    "Nothing's perfect."
   ]
  },
  {
   "cell_type": "markdown",
   "metadata": {
    "slideshow": {
     "slide_type": "subslide"
    }
   },
   "source": [
    "## K-Means is sensitive to outliers\n",
    "\n",
    "![](https://snag.gy/WFNMQY.jpg)"
   ]
  },
  {
   "cell_type": "markdown",
   "metadata": {
    "slideshow": {
     "slide_type": "subslide"
    }
   },
   "source": [
    "# K-Means is also sensitive to centroid initialization\n",
    "\n",
    "![](https://snag.gy/5sigCD.jpg)"
   ]
  },
  {
   "cell_type": "markdown",
   "metadata": {
    "slideshow": {
     "slide_type": "slide"
    }
   },
   "source": [
    "## (2 mins) How Many K?\n",
    "\n",
    "Sometimes it's obvious, and sometimes it's not!  What do you think?\n",
    "\n",
    "<table>\n",
    "    <tr>\n",
    "        <td valign=\"bottom\" style=\"vertical-align: bottom; text-align: center;\"><img src=\"http://i.stack.imgur.com/4rU39.png\"><br>1</td>\n",
    "        <td valign=\"bottom\" style=\"vertical-align: bottom; text-align: center;\"><img src=\"http://i.stack.imgur.com/gq28F.png\"><br>2</td>\n",
    "        <td valign=\"bottom\" style=\"vertical-align: bottom; text-align: center;\"><img src=\"https://snag.gy/cWPgno.jpg\"><br>3</td>\n",
    "    </tr>\n",
    "</table>"
   ]
  },
  {
   "cell_type": "markdown",
   "metadata": {
    "slideshow": {
     "slide_type": "slide"
    }
   },
   "source": [
    "# Chosing K\n",
    "\n",
    "You may want to select an appropriate method of initializing your centroids, for instance:\n",
    "\n",
    "- Randomly\n",
    "- Manually\n",
    "- Special KMeans++ method in Sklearn (_This initializes the centroids to be generally distant from each other_)\n",
    "\n",
    "**Depending on your problem, you may find some of these are better than others.**\n",
    "\n",
    "_Manual is recommended if you know your data well enough to see the clusters without much help._"
   ]
  },
  {
   "cell_type": "markdown",
   "metadata": {
    "slideshow": {
     "slide_type": "slide"
    }
   },
   "source": [
    "## A note about K-Means convergence\n",
    "\n",
    "In general, k-means will converge to a solution and return a partition of k clusters, even if no natural clusters exist in the data.  It's entirely possible the clusters may not mean anything at all. **Knowing your domain and dataset is essential.**\n",
    "\n",
    "_\"Given enough time, K-means will always converge, however this may be to a local minimum. This is highly dependent on the initialization of the centroids. As a result, the computation is often done several times, with different initializations of the centroids. One method to help address this issue is the k-means++ initialization scheme, which has been implemented in scikit-learn (use the init='kmeans++' parameter). This initializes the centroids to be (generally) distant from each other, leading to provably better results than random initialization, as shown in the reference.\"_ [sklearn Clustering Guide](http://scikit-learn.org/stable/modules/clustering.html#k-means)\n",
    "\n",
    "![](http://www.datamilk.com/kmeans_animation.gif)"
   ]
  },
  {
   "cell_type": "markdown",
   "metadata": {
    "slideshow": {
     "slide_type": "slide"
    }
   },
   "source": [
    "### K-Means in sklearn\n",
    "\n",
    "Implementing K-Means with sklearn, follows a familiar pattern:"
   ]
  },
  {
   "cell_type": "code",
   "execution_count": 1,
   "metadata": {
    "collapsed": false
   },
   "outputs": [
    {
     "data": {
      "text/html": [
       "<div>\n",
       "<table border=\"1\" class=\"dataframe\">\n",
       "  <thead>\n",
       "    <tr style=\"text-align: right;\">\n",
       "      <th></th>\n",
       "      <th>x</th>\n",
       "      <th>y</th>\n",
       "    </tr>\n",
       "  </thead>\n",
       "  <tbody>\n",
       "    <tr>\n",
       "      <th>0</th>\n",
       "      <td>1</td>\n",
       "      <td>2</td>\n",
       "    </tr>\n",
       "    <tr>\n",
       "      <th>1</th>\n",
       "      <td>3</td>\n",
       "      <td>5</td>\n",
       "    </tr>\n",
       "    <tr>\n",
       "      <th>2</th>\n",
       "      <td>6</td>\n",
       "      <td>5</td>\n",
       "    </tr>\n",
       "    <tr>\n",
       "      <th>3</th>\n",
       "      <td>2</td>\n",
       "      <td>1</td>\n",
       "    </tr>\n",
       "  </tbody>\n",
       "</table>\n",
       "</div>"
      ],
      "text/plain": [
       "   x  y\n",
       "0  1  2\n",
       "1  3  5\n",
       "2  6  5\n",
       "3  2  1"
      ]
     },
     "execution_count": 1,
     "metadata": {},
     "output_type": "execute_result"
    }
   ],
   "source": [
    "%matplotlib inline\n",
    "\n",
    "from sklearn.cluster import KMeans\n",
    "from sklearn.metrics import silhouette_score\n",
    "import numpy as np\n",
    "import seaborn as sns\n",
    "import matplotlib.pyplot as plt\n",
    "import matplotlib\n",
    "import pandas as pd\n",
    "matplotlib.style.use('ggplot')\n",
    "\n",
    "test_data = [\n",
    "    (1, 2), (3, 5), (6, 5), (2, 1)\n",
    "]\n",
    "\n",
    "df = pd.DataFrame(test_data, columns=['x', 'y'])\n",
    "df\n"
   ]
  },
  {
   "cell_type": "code",
   "execution_count": 2,
   "metadata": {
    "collapsed": false
   },
   "outputs": [
    {
     "data": {
      "text/plain": [
       "KMeans(copy_x=True, init='k-means++', max_iter=300, n_clusters=3, n_init=10,\n",
       "    n_jobs=1, precompute_distances='auto', random_state=None, tol=0.0001,\n",
       "    verbose=0)"
      ]
     },
     "execution_count": 2,
     "metadata": {},
     "output_type": "execute_result"
    }
   ],
   "source": [
    "k = 3\n",
    "model = KMeans(n_clusters = k)\n",
    "model.fit(df)"
   ]
  },
  {
   "cell_type": "markdown",
   "metadata": {},
   "source": [
    "After we fit our data, we have our predicted labels available from `model.labels_`, and `model.cluster_centers_`."
   ]
  },
  {
   "cell_type": "code",
   "execution_count": 58,
   "metadata": {
    "collapsed": false
   },
   "outputs": [
    {
     "name": "stdout",
     "output_type": "stream",
     "text": [
      "[0 2 1 0] [[ 1.5  1.5]\n",
      " [ 6.   5. ]\n",
      " [ 3.   5. ]]\n"
     ]
    }
   ],
   "source": [
    "labels = model.labels_\n",
    "centroids = model.cluster_centers_\n",
    "\n",
    "print labels, centroids"
   ]
  },
  {
   "cell_type": "markdown",
   "metadata": {
    "slideshow": {
     "slide_type": "slide"
    }
   },
   "source": [
    "We can also test the _fit_ of our centroids and clusters by computing the **Silhouette Coefficient**, a metric to test the cohesion of local points to their clusters and the seperation to other clusters.\n",
    "\n",
    "**We will talk about the Silhouette Coefficient in more depth in our next lesson**"
   ]
  },
  {
   "cell_type": "code",
   "execution_count": 56,
   "metadata": {
    "collapsed": false
   },
   "outputs": [
    {
     "data": {
      "text/plain": [
       "0.81619263985965351"
      ]
     },
     "execution_count": 56,
     "metadata": {},
     "output_type": "execute_result"
    }
   ],
   "source": [
    "score = silhouette_score(df, labels, metric='euclidean')\n",
    "score"
   ]
  },
  {
   "cell_type": "markdown",
   "metadata": {
    "slideshow": {
     "slide_type": "slide"
    }
   },
   "source": [
    "## sklearn + K-Means with \"Isotopic Composition Plutonium Batches\"\n",
    "We have a nice [data dictionary](https://vincentarelbundock.github.io/Rdatasets/doc/cluster/pluton.html)"
   ]
  },
  {
   "cell_type": "code",
   "execution_count": 4,
   "metadata": {
    "collapsed": false,
    "slideshow": {
     "slide_type": "slide"
    }
   },
   "outputs": [
    {
     "data": {
      "text/html": [
       "<div>\n",
       "<table border=\"1\" class=\"dataframe\">\n",
       "  <thead>\n",
       "    <tr style=\"text-align: right;\">\n",
       "      <th></th>\n",
       "      <th>Unnamed: 0</th>\n",
       "      <th>Pu238</th>\n",
       "      <th>Pu239</th>\n",
       "      <th>Pu240</th>\n",
       "      <th>Pu241</th>\n",
       "    </tr>\n",
       "  </thead>\n",
       "  <tbody>\n",
       "    <tr>\n",
       "      <th>0</th>\n",
       "      <td>1</td>\n",
       "      <td>0.126</td>\n",
       "      <td>75.804</td>\n",
       "      <td>21.204</td>\n",
       "      <td>2.180</td>\n",
       "    </tr>\n",
       "    <tr>\n",
       "      <th>1</th>\n",
       "      <td>2</td>\n",
       "      <td>0.133</td>\n",
       "      <td>75.515</td>\n",
       "      <td>21.408</td>\n",
       "      <td>2.240</td>\n",
       "    </tr>\n",
       "    <tr>\n",
       "      <th>2</th>\n",
       "      <td>3</td>\n",
       "      <td>0.127</td>\n",
       "      <td>75.175</td>\n",
       "      <td>21.668</td>\n",
       "      <td>2.305</td>\n",
       "    </tr>\n",
       "    <tr>\n",
       "      <th>3</th>\n",
       "      <td>4</td>\n",
       "      <td>0.156</td>\n",
       "      <td>78.872</td>\n",
       "      <td>18.428</td>\n",
       "      <td>1.906</td>\n",
       "    </tr>\n",
       "    <tr>\n",
       "      <th>4</th>\n",
       "      <td>5</td>\n",
       "      <td>0.503</td>\n",
       "      <td>73.317</td>\n",
       "      <td>20.223</td>\n",
       "      <td>4.128</td>\n",
       "    </tr>\n",
       "  </tbody>\n",
       "</table>\n",
       "</div>"
      ],
      "text/plain": [
       "   Unnamed: 0  Pu238   Pu239   Pu240  Pu241\n",
       "0           1  0.126  75.804  21.204  2.180\n",
       "1           2  0.133  75.515  21.408  2.240\n",
       "2           3  0.127  75.175  21.668  2.305\n",
       "3           4  0.156  78.872  18.428  1.906\n",
       "4           5  0.503  73.317  20.223  4.128"
      ]
     },
     "execution_count": 4,
     "metadata": {},
     "output_type": "execute_result"
    }
   ],
   "source": [
    "csv_file = \"https://vincentarelbundock.github.io/Rdatasets/csv/cluster/pluton.csv\"\n",
    "\n",
    "df = pd.read_csv(csv_file)\n",
    "df.head(5)"
   ]
  },
  {
   "cell_type": "markdown",
   "metadata": {
    "slideshow": {
     "slide_type": "slide"
    }
   },
   "source": [
    "##  Let's use Pu239 and Pu240 as our X and Y\n",
    "1. We select only columns \"Pu239\" and \"Pu240\" to use for our example\n",
    "1. Plot it to see how it looks\n",
    "1. Initialize an instance of `KMeans` from `sklearn`\n",
    "1. Fit our sliced dataframe with the `fit`"
   ]
  },
  {
   "cell_type": "code",
   "execution_count": 10,
   "metadata": {
    "collapsed": false
   },
   "outputs": [
    {
     "data": {
      "text/plain": [
       "<matplotlib.axes._subplots.AxesSubplot at 0x11c631050>"
      ]
     },
     "execution_count": 10,
     "metadata": {},
     "output_type": "execute_result"
    },
    {
     "data": {
      "image/png": "[encoded data removed]",
      "text/plain": [
       "<matplotlib.figure.Figure at 0x11b7a3a50>"
      ]
     },
     "metadata": {},
     "output_type": "display_data"
    }
   ],
   "source": [
    "# Slice and check out our plot\n",
    "features = ['Pu239', 'Pu240']\n",
    "df[features].plot(kind=\"scatter\", x=features[0], y=features[1])\n"
   ]
  },
  {
   "cell_type": "code",
   "execution_count": 11,
   "metadata": {
    "collapsed": false
   },
   "outputs": [
    {
     "name": "stdout",
     "output_type": "stream",
     "text": [
      "Silhouette Score:  -0.0121114602564\n"
     ]
    },
    {
     "data": {
      "image/png": "[encoded data removed]",
      "text/plain": [
       "<matplotlib.figure.Figure at 0x11d084990>"
      ]
     },
     "metadata": {},
     "output_type": "display_data"
    }
   ],
   "source": [
    "# Run K-Means against our 2 features\n",
    "k = 6\n",
    "model = KMeans(n_clusters = k)\n",
    "model.fit(df[features].values)\n",
    "\n",
    "# Check our results\n",
    "# Assign clusters back to our dataframe\n",
    "df['cluster'] = model.labels_\n",
    "\n",
    "# Get our centrois\n",
    "centroids = model.cluster_centers_\n",
    "cc = pd.DataFrame(centroids)\n",
    "\n",
    "# Setup some sweet colors for plotting (for later)\n",
    "# colors = {'D':'red', 'E':'blue', 'F':'green'}\n",
    "\n",
    "# update x,y of our final clusters to plot later\n",
    "fig, ax = plt.subplots(figsize=(8,4))\n",
    "\n",
    "# Plot the scatter of our points with calculated centroids\n",
    "ax.scatter(df[features[0]], df[features[1]], c=df['cluster'])\n",
    "ax.scatter(cc[0], cc[1], c=cc.index, s=100)\n",
    "\n",
    "# And our score\n",
    "print \"Silhouette Score: \", silhouette_score(df, df['cluster'], metric='euclidean')"
   ]
  },
  {
   "cell_type": "markdown",
   "metadata": {
    "slideshow": {
     "slide_type": "slide"
    }
   },
   "source": [
    "#  Scale this data using standard scaler\n",
    "\n"
   ]
  },
  {
   "cell_type": "code",
   "execution_count": 12,
   "metadata": {
    "collapsed": false
   },
   "outputs": [
    {
     "name": "stdout",
     "output_type": "stream",
     "text": [
      "Silhouette Score:  -0.00886716524639\n"
     ]
    },
    {
     "data": {
      "image/png": "[encoded data removed]",
      "text/plain": [
       "<matplotlib.figure.Figure at 0x11c5a6450>"
      ]
     },
     "metadata": {},
     "output_type": "display_data"
    }
   ],
   "source": [
    "from sklearn.preprocessing import scale\n",
    "\n",
    "df = pd.read_csv(csv_file)\n",
    "df[features] = scale(df[features])\n",
    "\n",
    "model = KMeans(n_clusters = k)\n",
    "model.fit(df[features])\n",
    "\n",
    "# Check our results\n",
    "# Assign clusters back to our dataframe\n",
    "df['cluster'] = model.labels_\n",
    "\n",
    "# Get our centrois\n",
    "centroids = model.cluster_centers_\n",
    "cc = pd.DataFrame(centroids)\n",
    "\n",
    "# Setup some sweet colors for plotting (for later)\n",
    "# colors = {'D':'red', 'E':'blue', 'F':'green'}\n",
    "\n",
    "# update x,y of our final clusters to plot later\n",
    "fig, ax = plt.subplots(figsize=(6,6))\n",
    "\n",
    "# Plot the scatter of our points with calculated centroids\n",
    "ax.scatter(df[features[0]], df[features[1]], c=df['cluster'])\n",
    "ax.scatter(cc[0], cc[1], c=cc.index, s=100)\n",
    "\n",
    "# And our score\n",
    "print \"Silhouette Score: \", silhouette_score(df, df['cluster'], metric='euclidean')"
   ]
  },
  {
   "cell_type": "markdown",
   "metadata": {
    "slideshow": {
     "slide_type": "slide"
    }
   },
   "source": [
    "#  What do we notice?"
   ]
  },
  {
   "cell_type": "markdown",
   "metadata": {
    "slideshow": {
     "slide_type": "slide"
    }
   },
   "source": [
    "## (~20 mins) Independent Practice + Lab\n",
    "Experiment with other features in the plutonium dataset\n",
    "- Try plotting 2 other features\n",
    "- Fit a K-Means cluster\n",
    " - Without scaling\n",
    " - With scaling\n",
    "- How has your silhouette score differed?"
   ]
  },
  {
   "cell_type": "code",
   "execution_count": 5,
   "metadata": {
    "collapsed": false
   },
   "outputs": [
    {
     "data": {
      "text/plain": [
       "<seaborn.axisgrid.PairGrid at 0x116fb0710>"
      ]
     },
     "execution_count": 5,
     "metadata": {},
     "output_type": "execute_result"
    },
    {
     "data": {
      "image/png": "[encoded data removed]",
      "text/plain": [
       "<matplotlib.figure.Figure at 0x116fb0f50>"
      ]
     },
     "metadata": {},
     "output_type": "display_data"
    }
   ],
   "source": [
    "# Let's setup our data again\n",
    "features = ['Pu239', 'Pu240']\n",
    "\n",
    "df = pd.read_csv(csv_file)\n",
    "df[features].head(5)\n",
    "\n",
    "# Complete your analysis here\n",
    "sns.pairplot(df)"
   ]
  },
  {
   "cell_type": "markdown",
   "metadata": {
    "slideshow": {
     "slide_type": "slide"
    }
   },
   "source": [
    "## K-Means Tradeoffs\n",
    "\n",
    "| Strengths | Weaknesses |\n",
    "| -- | -- |\n",
    "| K-Means is popular because it's simple and computationally efficient. | However, K-Means is highly scale dependent and isn't suitable for data of varying shapes and densities. |\n",
    "| Easy to see results / intuitive. | Evaluating results is more subjective, requiring much more human evaluation than trusted metrics. |"
   ]
  },
  {
   "cell_type": "markdown",
   "metadata": {
    "slideshow": {
     "slide_type": "slide"
    }
   },
   "source": [
    "## (2 mins)  How is clustering different than classification?"
   ]
  },
  {
   "cell_type": "markdown",
   "metadata": {
    "slideshow": {
     "slide_type": "slide"
    }
   },
   "source": [
    "# Closing\n",
    "\n",
    "- Unsupervised Clustering Model\n",
    "- Similar to KNN (but is “clustering”)\n",
    "- Iteratively Finds Labels Given K\n",
    "- Easy to implement in sklearn\n",
    "- Sensitive to shape, scale of data\n",
    "- Optimal K hard to evaluate\n"
   ]
  },
  {
   "cell_type": "markdown",
   "metadata": {
    "slideshow": {
     "slide_type": "slide"
    }
   },
   "source": [
    "<a name=\"ind-practice\"></a>\n",
    "## Lab: Perform a K-Means Analysis\n",
    "\n",
    "Now that we've walked through the process of clustering, it's time to try it on your own. We're going to be working with the mtcars data set, and your job is to cluster these cars to understand their various attributes.\n",
    "\n",
    "The dataset contains a listing of 33 different cars from a used car dealership - your task is the cluster the cars to discover their groupings. For each car, you have a variety of technical information related to the car's performance. \n",
    "\n",
    "Open the [data](../../assets/datasets/mtcars.csv) and [starter code](../code/starter-code/starter-code.ipynb) and try to work through both exercises with a partner. Do your best!\n",
    "\n",
    "**Check:** Were you able to complete the starter code? Discuss the two variables you chose and explain how your plots demonstrate the data."
   ]
  },
  {
   "cell_type": "markdown",
   "metadata": {},
   "source": [
    "## Bonus Activity\n",
    "\n",
    "Perform a K-Means Analysis on this dataset:\n",
    "https://vincentarelbundock.github.io/Rdatasets/csv/ggplot2/diamonds.csv\n",
    "\n",
    "\n",
    "### Bonus BONUS Activity\n",
    "While it's not always a great idea, but can you research and implement a 3D scatterplot of the above data in this notebook?"
   ]
  },
  {
   "cell_type": "code",
   "execution_count": 187,
   "metadata": {
    "collapsed": false
   },
   "outputs": [
    {
     "data": {
      "text/html": [
       "<div style=\"max-height:1000px;max-width:1500px;overflow:auto;\">\n",
       "<table border=\"1\" class=\"dataframe\">\n",
       "  <thead>\n",
       "    <tr style=\"text-align: right;\">\n",
       "      <th></th>\n",
       "      <th>Unnamed: 0</th>\n",
       "      <th>carat</th>\n",
       "      <th>cut</th>\n",
       "      <th>color</th>\n",
       "      <th>clarity</th>\n",
       "      <th>depth</th>\n",
       "      <th>table</th>\n",
       "      <th>price</th>\n",
       "      <th>x</th>\n",
       "      <th>y</th>\n",
       "      <th>z</th>\n",
       "    </tr>\n",
       "  </thead>\n",
       "  <tbody>\n",
       "    <tr>\n",
       "      <th>0</th>\n",
       "      <td> 1</td>\n",
       "      <td> 0.23</td>\n",
       "      <td>   Ideal</td>\n",
       "      <td> E</td>\n",
       "      <td> SI2</td>\n",
       "      <td> 61.5</td>\n",
       "      <td> 55</td>\n",
       "      <td> 326</td>\n",
       "      <td> 3.95</td>\n",
       "      <td> 3.98</td>\n",
       "      <td> 2.43</td>\n",
       "    </tr>\n",
       "    <tr>\n",
       "      <th>1</th>\n",
       "      <td> 2</td>\n",
       "      <td> 0.21</td>\n",
       "      <td> Premium</td>\n",
       "      <td> E</td>\n",
       "      <td> SI1</td>\n",
       "      <td> 59.8</td>\n",
       "      <td> 61</td>\n",
       "      <td> 326</td>\n",
       "      <td> 3.89</td>\n",
       "      <td> 3.84</td>\n",
       "      <td> 2.31</td>\n",
       "    </tr>\n",
       "    <tr>\n",
       "      <th>2</th>\n",
       "      <td> 3</td>\n",
       "      <td> 0.23</td>\n",
       "      <td>    Good</td>\n",
       "      <td> E</td>\n",
       "      <td> VS1</td>\n",
       "      <td> 56.9</td>\n",
       "      <td> 65</td>\n",
       "      <td> 327</td>\n",
       "      <td> 4.05</td>\n",
       "      <td> 4.07</td>\n",
       "      <td> 2.31</td>\n",
       "    </tr>\n",
       "    <tr>\n",
       "      <th>3</th>\n",
       "      <td> 4</td>\n",
       "      <td> 0.29</td>\n",
       "      <td> Premium</td>\n",
       "      <td> I</td>\n",
       "      <td> VS2</td>\n",
       "      <td> 62.4</td>\n",
       "      <td> 58</td>\n",
       "      <td> 334</td>\n",
       "      <td> 4.20</td>\n",
       "      <td> 4.23</td>\n",
       "      <td> 2.63</td>\n",
       "    </tr>\n",
       "    <tr>\n",
       "      <th>4</th>\n",
       "      <td> 5</td>\n",
       "      <td> 0.31</td>\n",
       "      <td>    Good</td>\n",
       "      <td> J</td>\n",
       "      <td> SI2</td>\n",
       "      <td> 63.3</td>\n",
       "      <td> 58</td>\n",
       "      <td> 335</td>\n",
       "      <td> 4.34</td>\n",
       "      <td> 4.35</td>\n",
       "      <td> 2.75</td>\n",
       "    </tr>\n",
       "  </tbody>\n",
       "</table>\n",
       "</div>"
      ],
      "text/plain": [
       "   Unnamed: 0  carat      cut color clarity  depth  table  price     x     y  \\\n",
       "0           1   0.23    Ideal     E     SI2   61.5     55    326  3.95  3.98   \n",
       "1           2   0.21  Premium     E     SI1   59.8     61    326  3.89  3.84   \n",
       "2           3   0.23     Good     E     VS1   56.9     65    327  4.05  4.07   \n",
       "3           4   0.29  Premium     I     VS2   62.4     58    334  4.20  4.23   \n",
       "4           5   0.31     Good     J     SI2   63.3     58    335  4.34  4.35   \n",
       "\n",
       "      z  \n",
       "0  2.43  \n",
       "1  2.31  \n",
       "2  2.31  \n",
       "3  2.63  \n",
       "4  2.75  "
      ]
     },
     "execution_count": 187,
     "metadata": {},
     "output_type": "execute_result"
    }
   ],
   "source": [
    "df = pd.read_csv(\"https://vincentarelbundock.github.io/Rdatasets/csv/ggplot2/diamonds.csv\")\n",
    "df.head()"
   ]
  }
 ],
 "metadata": {
  "celltoolbar": "Slideshow",
  "kernelspec": {
   "display_name": "Python 2",
   "language": "python",
   "name": "python2"
  },
  "language_info": {
   "codemirror_mode": {
    "name": "ipython",
    "version": 2
   },
   "file_extension": ".py",
   "mimetype": "text/x-python",
   "name": "python",
   "nbconvert_exporter": "python",
   "pygments_lexer": "ipython2",
   "version": "2.7.11"
  },
  "widgets": {
   "state": {},
   "version": "1.1.0"
  }
 },
 "nbformat": 4,
 "nbformat_minor": 0
}
