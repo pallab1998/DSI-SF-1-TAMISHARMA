{
 "cells": [
  {
   "cell_type": "markdown",
   "metadata": {},
   "source": [
    "# Times University ranking dataset analysis\n",
    "\n",
    "In this codealong we are going to analyze a ranking of universities using regression. Specifically, we are going to **predict the university ranking** with the provided predictors.\n",
    "\n",
    "---\n",
    "\n",
    "The information provided in the csv contains:\n",
    "\n",
    "- **world_rank** - world rank for the university. Contains rank ranges and equal ranks (eg. =94 and 201-250).\n",
    "- **university_name** - name of university.\n",
    "- **country** - country of each university.\n",
    "- **teaching** - university score for teaching (the learning environment).\n",
    "- **international** - university score international outlook (staff, students, research).\n",
    "- **research** - university score for research (volume, income and reputation).\n",
    "- **citations** - university score for citations (research influence).\n",
    "- **income** - university score for industry income (knowledge transfer).\n",
    "- **total_score** - total score for university, used to determine rank.\n",
    "- **num_students** - number of students at the university.\n",
    "- **student_staff_ratio** - Number of students divided by number of staff.\n",
    "- **international_students** - Percentage of students who are international.\n",
    "- **female_male_ratio** - Female student to Male student ratio.\n",
    "- **year** - year of the ranking (2011 to 2016 included).\n",
    "\n",
    "We are going to predict the **total score**, which directly corresponds to the ranking.\n",
    "\n",
    "---\n",
    "\n",
    "### ONLY THE DATA PATH IS PROVIDED!\n",
    "\n",
    "The analysis is up to you. This is an open ended practice. You are expected to:\n",
    "\n",
    "- Load the packages you need to do analysis\n",
    "- Perform EDA on variables of interest\n",
    "- Form a hypothesis or hypotheses on what is important for the score\n",
    "- Check your data for problems, clean and munge data into correct formats\n",
    "- Create new variables from columns if necessary\n",
    "- Perform statistical analysis with regression and describe the results\n",
    "\n",
    "---\n",
    "\n",
    "I will obviously be there in class to help, but if you do not know how to do something **I expect you to check documentation first.** I look up things in documentation all the time. \n",
    "\n",
    "**You are not expected to know how to do things by heart. Knowing how to effectively look up the answers on the internet is a critical skill for data scientists!**"
   ]
  },
  {
   "cell_type": "code",
   "execution_count": 1,
   "metadata": {
    "collapsed": true
   },
   "outputs": [],
   "source": [
    "uni_data_path = './dataset/timesData.csv'"
   ]
  }
 ],
 "metadata": {
  "kernelspec": {
   "display_name": "Python 2",
   "language": "python",
   "name": "python2"
  },
  "language_info": {
   "codemirror_mode": {
    "name": "ipython",
    "version": 2
   },
   "file_extension": ".py",
   "mimetype": "text/x-python",
   "name": "python",
   "nbconvert_exporter": "python",
   "pygments_lexer": "ipython2",
   "version": "2.7.11"
  }
 },
 "nbformat": 4,
 "nbformat_minor": 0
}
