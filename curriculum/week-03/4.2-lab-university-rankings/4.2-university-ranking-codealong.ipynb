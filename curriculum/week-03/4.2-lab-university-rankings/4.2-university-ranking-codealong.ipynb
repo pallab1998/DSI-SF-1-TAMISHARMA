{
 "cells": [
  {
   "cell_type": "markdown",
   "metadata": {},
   "source": [
    "# Times University ranking dataset analysis\n",
    "\n",
    "In this codealong we are going to analyze a ranking of universities using regression. Specifically, we are going to **predict the university ranking** with the provided predictors.\n",
    "\n",
    "---\n",
    "\n",
    "The information provided in the csv contains:\n",
    "\n",
    "- **world_rank** - world rank for the university. Contains rank ranges and equal ranks (eg. =94 and 201-250).\n",
    "- **university_name** - name of university.\n",
    "- **country** - country of each university.\n",
    "- **teaching** - university score for teaching (the learning environment).\n",
    "- **international** - university score international outlook (staff, students, research).\n",
    "- **research** - university score for research (volume, income and reputation).\n",
    "- **citations** - university score for citations (research influence).\n",
    "- **income** - university score for industry income (knowledge transfer).\n",
    "- **total_score** - total score for university, used to determine rank.\n",
    "- **num_students** - number of students at the university.\n",
    "- **student_staff_ratio** - Number of students divided by number of staff.\n",
    "- **international_students** - Percentage of students who are international.\n",
    "- **female_male_ratio** - Female student to Male student ratio.\n",
    "- **year** - year of the ranking (2011 to 2016 included).\n",
    "\n",
    "We are going to predict the **total score**, which directly corresponds to the ranking.\n",
    "\n",
    "---\n",
    "\n",
    "### ONLY THE DATA PATH IS PROVIDED!\n",
    "\n",
    "The analysis is up to you. This is an open ended practice. You are expected to:\n",
    "\n",
    "- Load the packages you need to do analysis\n",
    "- Perform EDA on variables of interest\n",
    "- Form a hypothesis or hypotheses on what is important for the score\n",
    "- Check your data for problems, clean and munge data into correct formats\n",
    "- Create new variables from columns if necessary\n",
    "- Perform statistical analysis with regression and describe the results\n",
    "\n",
    "---\n",
    "\n",
    "I will obviously be there in class to help, but if you do not know how to do something **I expect you to check documentation first.** I look up things in documentation all the time. \n",
    "\n",
    "**You are not expected to know how to do things by heart. Knowing how to effectively look up the answers on the internet is a critical skill for data scientists!**"
   ]
  },
  {
   "cell_type": "code",
   "execution_count": 1,
   "metadata": {
    "collapsed": true
   },
   "outputs": [],
   "source": [
    "uni_data_path = './dataset/timesData.csv'"
   ]
  },
  {
   "cell_type": "code",
   "execution_count": 2,
   "metadata": {
    "collapsed": true
   },
   "outputs": [],
   "source": [
    "import numpy as np\n",
    "import pandas as pd\n",
    "import seaborn as sns\n",
    "import matplotlib as mpl\n",
    "import matplotlib.pyplot as plt \n",
    "%matplotlib inline"
   ]
  },
  {
   "cell_type": "code",
   "execution_count": 3,
   "metadata": {
    "collapsed": true
   },
   "outputs": [],
   "source": [
    "unidata = pd.read_csv(uni_data_path)"
   ]
  },
  {
   "cell_type": "code",
   "execution_count": 4,
   "metadata": {
    "collapsed": false
   },
   "outputs": [
    {
     "data": {
      "text/html": [
       "<div>\n",
       "<table border=\"1\" class=\"dataframe\">\n",
       "  <thead>\n",
       "    <tr style=\"text-align: right;\">\n",
       "      <th></th>\n",
       "      <th>world_rank</th>\n",
       "      <th>university_name</th>\n",
       "      <th>country</th>\n",
       "      <th>teaching</th>\n",
       "      <th>international</th>\n",
       "      <th>research</th>\n",
       "      <th>citations</th>\n",
       "      <th>income</th>\n",
       "      <th>total_score</th>\n",
       "      <th>num_students</th>\n",
       "      <th>student_staff_ratio</th>\n",
       "      <th>international_students</th>\n",
       "      <th>female_male_ratio</th>\n",
       "      <th>year</th>\n",
       "    </tr>\n",
       "  </thead>\n",
       "  <tbody>\n",
       "    <tr>\n",
       "      <th>0</th>\n",
       "      <td>1</td>\n",
       "      <td>Harvard University</td>\n",
       "      <td>United States of America</td>\n",
       "      <td>99.7</td>\n",
       "      <td>72.4</td>\n",
       "      <td>98.7</td>\n",
       "      <td>98.8</td>\n",
       "      <td>34.5</td>\n",
       "      <td>96.1</td>\n",
       "      <td>20,152</td>\n",
       "      <td>8.9</td>\n",
       "      <td>25%</td>\n",
       "      <td>NaN</td>\n",
       "      <td>2011</td>\n",
       "    </tr>\n",
       "    <tr>\n",
       "      <th>1</th>\n",
       "      <td>2</td>\n",
       "      <td>California Institute of Technology</td>\n",
       "      <td>United States of America</td>\n",
       "      <td>97.7</td>\n",
       "      <td>54.6</td>\n",
       "      <td>98.0</td>\n",
       "      <td>99.9</td>\n",
       "      <td>83.7</td>\n",
       "      <td>96.0</td>\n",
       "      <td>2,243</td>\n",
       "      <td>6.9</td>\n",
       "      <td>27%</td>\n",
       "      <td>33 : 67</td>\n",
       "      <td>2011</td>\n",
       "    </tr>\n",
       "    <tr>\n",
       "      <th>2</th>\n",
       "      <td>3</td>\n",
       "      <td>Massachusetts Institute of Technology</td>\n",
       "      <td>United States of America</td>\n",
       "      <td>97.8</td>\n",
       "      <td>82.3</td>\n",
       "      <td>91.4</td>\n",
       "      <td>99.9</td>\n",
       "      <td>87.5</td>\n",
       "      <td>95.6</td>\n",
       "      <td>11,074</td>\n",
       "      <td>9.0</td>\n",
       "      <td>33%</td>\n",
       "      <td>37 : 63</td>\n",
       "      <td>2011</td>\n",
       "    </tr>\n",
       "    <tr>\n",
       "      <th>3</th>\n",
       "      <td>4</td>\n",
       "      <td>Stanford University</td>\n",
       "      <td>United States of America</td>\n",
       "      <td>98.3</td>\n",
       "      <td>29.5</td>\n",
       "      <td>98.1</td>\n",
       "      <td>99.2</td>\n",
       "      <td>64.3</td>\n",
       "      <td>94.3</td>\n",
       "      <td>15,596</td>\n",
       "      <td>7.8</td>\n",
       "      <td>22%</td>\n",
       "      <td>42 : 58</td>\n",
       "      <td>2011</td>\n",
       "    </tr>\n",
       "    <tr>\n",
       "      <th>4</th>\n",
       "      <td>5</td>\n",
       "      <td>Princeton University</td>\n",
       "      <td>United States of America</td>\n",
       "      <td>90.9</td>\n",
       "      <td>70.3</td>\n",
       "      <td>95.4</td>\n",
       "      <td>99.9</td>\n",
       "      <td>-</td>\n",
       "      <td>94.2</td>\n",
       "      <td>7,929</td>\n",
       "      <td>8.4</td>\n",
       "      <td>27%</td>\n",
       "      <td>45 : 55</td>\n",
       "      <td>2011</td>\n",
       "    </tr>\n",
       "  </tbody>\n",
       "</table>\n",
       "</div>"
      ],
      "text/plain": [
       "  world_rank                        university_name                   country  \\\n",
       "0          1                     Harvard University  United States of America   \n",
       "1          2     California Institute of Technology  United States of America   \n",
       "2          3  Massachusetts Institute of Technology  United States of America   \n",
       "3          4                    Stanford University  United States of America   \n",
       "4          5                   Princeton University  United States of America   \n",
       "\n",
       "   teaching international  research  citations income total_score  \\\n",
       "0      99.7          72.4      98.7       98.8   34.5        96.1   \n",
       "1      97.7          54.6      98.0       99.9   83.7        96.0   \n",
       "2      97.8          82.3      91.4       99.9   87.5        95.6   \n",
       "3      98.3          29.5      98.1       99.2   64.3        94.3   \n",
       "4      90.9          70.3      95.4       99.9      -        94.2   \n",
       "\n",
       "  num_students  student_staff_ratio international_students female_male_ratio  \\\n",
       "0       20,152                  8.9                    25%               NaN   \n",
       "1        2,243                  6.9                    27%           33 : 67   \n",
       "2       11,074                  9.0                    33%           37 : 63   \n",
       "3       15,596                  7.8                    22%           42 : 58   \n",
       "4        7,929                  8.4                    27%           45 : 55   \n",
       "\n",
       "   year  \n",
       "0  2011  \n",
       "1  2011  \n",
       "2  2011  \n",
       "3  2011  \n",
       "4  2011  "
      ]
     },
     "execution_count": 4,
     "metadata": {},
     "output_type": "execute_result"
    }
   ],
   "source": [
    "unidata.head()"
   ]
  },
  {
   "cell_type": "code",
   "execution_count": 5,
   "metadata": {
    "collapsed": false
   },
   "outputs": [
    {
     "name": "stdout",
     "output_type": "stream",
     "text": [
      "<class 'pandas.core.frame.DataFrame'>\n",
      "RangeIndex: 2603 entries, 0 to 2602\n",
      "Data columns (total 14 columns):\n",
      "world_rank                2603 non-null object\n",
      "university_name           2603 non-null object\n",
      "country                   2603 non-null object\n",
      "teaching                  2603 non-null float64\n",
      "international             2603 non-null object\n",
      "research                  2603 non-null float64\n",
      "citations                 2603 non-null float64\n",
      "income                    2603 non-null object\n",
      "total_score               2603 non-null object\n",
      "num_students              2544 non-null object\n",
      "student_staff_ratio       2544 non-null float64\n",
      "international_students    2536 non-null object\n",
      "female_male_ratio         2370 non-null object\n",
      "year                      2603 non-null int64\n",
      "dtypes: float64(4), int64(1), object(9)\n",
      "memory usage: 284.8+ KB\n"
     ]
    }
   ],
   "source": [
    "unidata.info()"
   ]
  },
  {
   "cell_type": "code",
   "execution_count": 6,
   "metadata": {
    "collapsed": false
   },
   "outputs": [
    {
     "data": {
      "text/plain": [
       "world_rank                 object\n",
       "university_name            object\n",
       "country                    object\n",
       "teaching                  float64\n",
       "international              object\n",
       "research                  float64\n",
       "citations                 float64\n",
       "income                     object\n",
       "total_score                object\n",
       "num_students               object\n",
       "student_staff_ratio       float64\n",
       "international_students     object\n",
       "female_male_ratio          object\n",
       "year                        int64\n",
       "dtype: object"
      ]
     },
     "execution_count": 6,
     "metadata": {},
     "output_type": "execute_result"
    }
   ],
   "source": [
    "unidata.dtypes"
   ]
  },
  {
   "cell_type": "code",
   "execution_count": 7,
   "metadata": {
    "collapsed": false
   },
   "outputs": [],
   "source": [
    "def converter(x):\n",
    "    try:\n",
    "        return float(x)\n",
    "    except:\n",
    "        return np.nan\n",
    "\n",
    "cols = ['international', 'income']\n",
    "for col in cols:\n",
    "    unidata[col] = map(converter, unidata[col].values)\n",
    "    \n",
    "unidata['total_score'] = map(converter, unidata.total_score.values)\n",
    "# print unidata.total_score.values[0:10]"
   ]
  },
  {
   "cell_type": "code",
   "execution_count": 9,
   "metadata": {
    "collapsed": false
   },
   "outputs": [
    {
     "data": {
      "text/plain": [
       "array(['2243', '11074', '15596', '7929', '18812', '19919', '36186',\n",
       "       '15060', '11751'], dtype=object)"
      ]
     },
     "execution_count": 9,
     "metadata": {},
     "output_type": "execute_result"
    }
   ],
   "source": [
    "# unidata.num_students = unidata.num_students.apply(lambda x: str(x).replace(',', ''))\n",
    "# unidata['num_students'].values[1:10]"
   ]
  },
  {
   "cell_type": "code",
   "execution_count": 11,
   "metadata": {
    "collapsed": false
   },
   "outputs": [],
   "source": [
    "unidata['num_students'] = unidata['num_students'].apply(float)"
   ]
  },
  {
   "cell_type": "code",
   "execution_count": 12,
   "metadata": {
    "collapsed": false
   },
   "outputs": [
    {
     "name": "stdout",
     "output_type": "stream",
     "text": [
      "<class 'pandas.core.frame.DataFrame'>\n",
      "RangeIndex: 2603 entries, 0 to 2602\n",
      "Data columns (total 14 columns):\n",
      "world_rank                2603 non-null object\n",
      "university_name           2603 non-null object\n",
      "country                   2603 non-null object\n",
      "teaching                  2603 non-null float64\n",
      "international             2594 non-null float64\n",
      "research                  2603 non-null float64\n",
      "citations                 2603 non-null float64\n",
      "income                    2385 non-null float64\n",
      "total_score               1201 non-null float64\n",
      "num_students              2544 non-null float64\n",
      "student_staff_ratio       2544 non-null float64\n",
      "international_students    2536 non-null object\n",
      "female_male_ratio         2370 non-null object\n",
      "year                      2603 non-null int64\n",
      "dtypes: float64(8), int64(1), object(5)\n",
      "memory usage: 284.8+ KB\n"
     ]
    }
   ],
   "source": [
    "unidata.info()"
   ]
  },
  {
   "cell_type": "code",
   "execution_count": 13,
   "metadata": {
    "collapsed": false
   },
   "outputs": [
    {
     "data": {
      "text/plain": [
       "array(['United States of America', 'United Kingdom', 'Switzerland',\n",
       "       'Canada', 'Hong Kong', 'Japan', 'South Korea', 'Singapore',\n",
       "       'Australia', 'China', 'France', 'Sweden', 'Germany',\n",
       "       'Republic of Ireland', 'Finland', 'Taiwan', 'South Africa',\n",
       "       'Turkey', 'Netherlands', 'Belgium', 'Denmark', 'Norway', 'Spain',\n",
       "       'New Zealand', 'Egypt', 'Austria', 'Israel', 'Brazil', 'Italy',\n",
       "       'Russian Federation', 'Greece', 'Iceland', 'Czech Republic',\n",
       "       'India', 'Poland', 'Iran', 'Portugal', 'Thailand', 'Chile',\n",
       "       'Estonia', 'Saudi Arabia', 'Mexico', 'Colombia', 'Macau', 'Morocco',\n",
       "       'Luxembourg', 'Unisted States of America', 'Cyprus',\n",
       "       'Unted Kingdom', 'Uganda', 'Malaysia', 'Lebanon', 'Romania',\n",
       "       'Slovenia', 'Pakistan', 'Hungary', 'United Arab Emirates',\n",
       "       'Belarus', 'Serbia', 'Slovakia', 'Bangladesh', 'Ghana', 'Nigeria',\n",
       "       'Indonesia', 'Jordan', 'Latvia', 'Kenya', 'Argentina', 'Qatar',\n",
       "       'Oman', 'Ukraine', 'Lithuania'], dtype=object)"
      ]
     },
     "execution_count": 13,
     "metadata": {},
     "output_type": "execute_result"
    }
   ],
   "source": [
    "unidata.country.unique()"
   ]
  },
  {
   "cell_type": "code",
   "execution_count": 14,
   "metadata": {
    "collapsed": false
   },
   "outputs": [
    {
     "name": "stdout",
     "output_type": "stream",
     "text": [
      "[ 34.5  83.7  87.5  64.3   nan  57.   73.5   nan  92.9   nan]\n"
     ]
    }
   ],
   "source": [
    "unidata['income'] = map(converter, unidata.income.values)\n",
    "print unidata.income.values[0:10]"
   ]
  },
  {
   "cell_type": "code",
   "execution_count": 15,
   "metadata": {
    "collapsed": false
   },
   "outputs": [
    {
     "data": {
      "text/plain": [
       "world_rank                 object\n",
       "university_name            object\n",
       "country                    object\n",
       "teaching                  float64\n",
       "international             float64\n",
       "research                  float64\n",
       "citations                 float64\n",
       "income                    float64\n",
       "total_score               float64\n",
       "num_students              float64\n",
       "student_staff_ratio       float64\n",
       "international_students     object\n",
       "female_male_ratio          object\n",
       "year                        int64\n",
       "dtype: object"
      ]
     },
     "execution_count": 15,
     "metadata": {},
     "output_type": "execute_result"
    }
   ],
   "source": [
    "unidata.dtypes"
   ]
  },
  {
   "cell_type": "code",
   "execution_count": 16,
   "metadata": {
    "collapsed": true
   },
   "outputs": [],
   "source": [
    "unidata['country'] = unidata['country'].map(lambda val: val.replace('Unisted States of America', 'United States of America'))"
   ]
  },
  {
   "cell_type": "code",
   "execution_count": 17,
   "metadata": {
    "collapsed": false
   },
   "outputs": [
    {
     "data": {
      "text/plain": [
       "2016    800\n",
       "2012    402\n",
       "2015    401\n",
       "2013    400\n",
       "2014    400\n",
       "2011    200\n",
       "Name: year, dtype: int64"
      ]
     },
     "execution_count": 17,
     "metadata": {},
     "output_type": "execute_result"
    }
   ],
   "source": [
    "year_count = unidata.year.value_counts()\n",
    "year_count"
   ]
  },
  {
   "cell_type": "code",
   "execution_count": 18,
   "metadata": {
    "collapsed": false
   },
   "outputs": [
    {
     "data": {
      "text/plain": [
       "<matplotlib.axes._subplots.AxesSubplot at 0x116eed790>"
      ]
     },
     "execution_count": 18,
     "metadata": {},
     "output_type": "execute_result"
    },
    {
     "data": {
      "image/png": "[encoded data removed]",
      "text/plain": [
       "<matplotlib.figure.Figure at 0x10409d850>"
      ]
     },
     "metadata": {},
     "output_type": "display_data"
    }
   ],
   "source": [
    "sns.regplot(x = 'total_score', y='income', data = unidata)"
   ]
  },
  {
   "cell_type": "code",
   "execution_count": 19,
   "metadata": {
    "collapsed": false
   },
   "outputs": [
    {
     "data": {
      "text/plain": [
       "<matplotlib.axes._subplots.AxesSubplot at 0x11aa8ad90>"
      ]
     },
     "execution_count": 19,
     "metadata": {},
     "output_type": "execute_result"
    },
    {
     "data": {
      "image/png": "[encoded data removed]",
      "text/plain": [
       "<matplotlib.figure.Figure at 0x1177afa50>"
      ]
     },
     "metadata": {},
     "output_type": "display_data"
    }
   ],
   "source": [
    "mask_2016 = unidata['year'] == 2016\n",
    "sns.regplot(x= 'total_score', y= 'income', data= unidata[mask_2016])"
   ]
  },
  {
   "cell_type": "code",
   "execution_count": 22,
   "metadata": {
    "collapsed": false
   },
   "outputs": [
    {
     "data": {
      "text/plain": [
       "<matplotlib.axes._subplots.AxesSubplot at 0x11ac67750>"
      ]
     },
     "execution_count": 22,
     "metadata": {},
     "output_type": "execute_result"
    },
    {
     "data": {
      "image/png": "[encoded data removed]",
      "text/plain": [
       "<matplotlib.figure.Figure at 0x11ae64fd0>"
      ]
     },
     "metadata": {},
     "output_type": "display_data"
    }
   ],
   "source": [
    "sns.regplot(x='teaching', y='total_score', data=unidata)"
   ]
  },
  {
   "cell_type": "code",
   "execution_count": 23,
   "metadata": {
    "collapsed": false
   },
   "outputs": [
    {
     "data": {
      "text/plain": [
       "<matplotlib.axes._subplots.AxesSubplot at 0x11b1001d0>"
      ]
     },
     "execution_count": 23,
     "metadata": {},
     "output_type": "execute_result"
    },
    {
     "data": {
      "image/png": "[encoded data removed]",
      "text/plain": [
       "<matplotlib.figure.Figure at 0x11b115610>"
      ]
     },
     "metadata": {},
     "output_type": "display_data"
    }
   ],
   "source": [
    "sns.regplot(x='student_staff_ratio', y='total_score', data=unidata)"
   ]
  },
  {
   "cell_type": "code",
   "execution_count": 25,
   "metadata": {
    "collapsed": false
   },
   "outputs": [
    {
     "name": "stderr",
     "output_type": "stream",
     "text": [
      "/Users/Tami/anaconda/lib/python2.7/site-packages/ipykernel/__main__.py:4: SettingWithCopyWarning: \n",
      "A value is trying to be set on a copy of a slice from a DataFrame\n",
      "\n",
      "See the caveats in the documentation: http://pandas.pydata.org/pandas-docs/stable/indexing.html#indexing-view-versus-copy\n",
      "/Users/Tami/anaconda/lib/python2.7/site-packages/ipykernel/__main__.py:5: SettingWithCopyWarning: \n",
      "A value is trying to be set on a copy of a slice from a DataFrame\n",
      "\n",
      "See the caveats in the documentation: http://pandas.pydata.org/pandas-docs/stable/indexing.html#indexing-view-versus-copy\n"
     ]
    }
   ],
   "source": [
    "from sklearn import linear_model\n",
    "from sklearn.cross_validation import train_test_split\n",
    "df = unidata[['citations', 'research', 'total_score']]\n",
    "df.replace('-', np.nan, inplace=True)\n",
    "df.replace(np.inf, np.nan, inplace=True)\n",
    "df = df.dropna()\n",
    "lr = linear_model.LinearRegression()\n",
    "cols = ['citations', 'research']\n",
    "x = df[cols]\n",
    "y = df['total_score']\n",
    "x_train, x_test, y_train, y_test = train_test_split(x, y, test_size=.3)"
   ]
  },
  {
   "cell_type": "code",
   "execution_count": 26,
   "metadata": {
    "collapsed": false
   },
   "outputs": [
    {
     "data": {
      "text/plain": [
       "LinearRegression(copy_X=True, fit_intercept=True, n_jobs=1, normalize=False)"
      ]
     },
     "execution_count": 26,
     "metadata": {},
     "output_type": "execute_result"
    }
   ],
   "source": [
    "lr.fit(x_train, y_train)"
   ]
  },
  {
   "cell_type": "code",
   "execution_count": 27,
   "metadata": {
    "collapsed": false
   },
   "outputs": [
    {
     "data": {
      "text/plain": [
       "array([ 85.53946673,  69.8859175 ,  75.52394744,  53.02749448,\n",
       "        68.1473134 ,  53.17372924,  78.75348072,  49.59355774,\n",
       "        89.86324542,  53.44906337,  47.15129801,  67.8835566 ,\n",
       "        45.80291701,  62.15152596,  39.3259718 ,  65.6799147 ,\n",
       "        54.00781981,  62.68562294,  55.36585023,  48.62004144,\n",
       "        51.97192148,  58.16876426,  65.82765428,  64.9076794 ,\n",
       "        60.36434618,  53.17872319,  43.91152298,  47.36937593,\n",
       "        45.60699665,  54.2710971 ,  81.7158809 ,  53.60650877,\n",
       "        91.45274617,  46.74337539,  64.0920598 ,  52.21368996,\n",
       "        84.18830175,  62.36826831,  59.50137365,  91.72129947,\n",
       "        66.51582035,  46.96826234,  47.62640832,  69.29365184,\n",
       "        45.42739369,  47.72191385,  91.73137198,  52.54753125,\n",
       "        55.79846052,  58.70584266,  56.0454486 ,  50.80683001,\n",
       "        47.73198636,  54.72472681,  50.74806899,  68.16402571,\n",
       "        86.92930411,  91.75988726,  48.52748914,  47.33578209,\n",
       "        53.32467588,  52.0154468 ,  49.02929964,  50.2730715 ,\n",
       "        47.08904786,  75.08770698,  55.43454273,  91.48463775,\n",
       "        91.75653916,  52.48547854,  81.50447098,  53.4721334 ,\n",
       "        84.82278537,  70.56733096,  80.59978821,  48.07763062,\n",
       "        50.40055323,  45.89909949,  59.12548364,  52.05250157,\n",
       "        61.95200363,  62.18194094,  85.64859031,  74.53888202,\n",
       "        52.05900033,  47.69691591,  53.14995405,  86.85539202,\n",
       "        42.31557989,  48.72891116,  50.32002955,  81.20232383,\n",
       "        70.18644701,  74.07560289,  58.79325999,  59.50497561,\n",
       "        64.16248277,  66.15133844,  54.6993904 ,  55.09213374,\n",
       "        68.22942652,  54.20918542,  45.88414585,  72.54639618,\n",
       "        50.36905653,  84.5810733 ,  71.57977353,  53.32615249,\n",
       "        43.79757469,  50.4561918 ,  54.13209446,  63.87021069,\n",
       "        58.38176362,  54.54662867,  43.2152123 ,  79.60107652,\n",
       "        49.91065852,  53.58477431,  53.12810677,  80.34635777,\n",
       "        53.70550342,  55.05505076,  49.40042135,  47.22027258,\n",
       "        46.45967101,  60.89132386,  54.20600656,  54.69258137,\n",
       "        68.71446831,  67.15007833,  65.66975757,  44.95072215,\n",
       "        44.60666732,  51.32069734,  46.52861737,  48.96225299,\n",
       "        62.6134131 ,  49.59503435,  42.84102455,  67.57142156,\n",
       "        80.34803183,  76.76601704,  85.98260083,  46.29538837,\n",
       "        56.40144744,  58.01605895,  52.915051  ,  48.46540822,\n",
       "        50.49140328,  59.33348905,  79.23188272,  79.23018046,\n",
       "        87.94810441,  46.25300118,  76.13837065,  62.48403167,\n",
       "        56.61626188,  60.48340124,  66.37488981,  87.00483385,\n",
       "        41.73821144,  80.11976857,  55.50337626,  57.60152474,\n",
       "        55.8169879 ,  68.69259282,  46.76181816,  57.62981437,\n",
       "        51.22669664,  60.21138701,  70.22012547,  64.09370565,\n",
       "        55.97179036,  57.66022935,  64.93304402,  62.04949347,\n",
       "        55.63409326,  49.92087207,  51.54206695,  68.73481077,\n",
       "        53.14504472,  58.87852377,  47.36784291,  52.98237972,\n",
       "        52.28556133,  45.75147274,  51.68135165,  78.29865647,\n",
       "        59.02157966,  63.64401637,  49.19204926,  46.41274117,\n",
       "        51.49499608,  84.70197164,  51.94976393,  48.37492485,\n",
       "        54.82868721,  82.04657153,  60.6024845 ,  41.70782467,\n",
       "        45.80864432,  57.65146421,  49.71618655,  62.26581272,\n",
       "        55.23482295,  79.02206223,  51.142571  ,  54.05301918,\n",
       "        49.97773339,  92.41953806,  76.68390393,  69.17950611,\n",
       "        46.57532156,  68.42415234,  60.41967448,  53.32478871,\n",
       "        48.10637155,  53.22372512,  58.96937382,  51.64948827,\n",
       "        49.77472192,  65.68666732,  49.39389438,  72.11344742,\n",
       "        50.01487277,  59.58516081,  85.39181177,  55.43423246,\n",
       "        88.19986079,  53.94372637,  50.3588994 ,  54.32327474,\n",
       "        50.04494928,  51.49703682,  91.37721643,  86.49961883,\n",
       "        49.6772885 ,  50.43275508,  46.04005824,  85.44217433,\n",
       "        88.86118564,  58.43533325,  82.31172032,  80.89682858,\n",
       "        58.48592146,  53.95569858,  60.63278666,  66.39165852,\n",
       "        75.12433866,  64.25997261,  52.68815153,  46.64449356,\n",
       "        53.79133132,  57.03380571,  85.66201092,  49.10499861,\n",
       "        52.64139093,  50.50644153,  58.0010489 ,  55.09874532,\n",
       "        46.60065797,  48.14663339,  71.91211001,  47.87132747,\n",
       "        57.41179286,  64.28179168,  49.91213513,  50.15744916,\n",
       "        45.59510905,  44.27092633,  62.03249911,  55.41601534,\n",
       "        72.06464608,  49.82352326,  53.85519911,  86.06993354,\n",
       "        46.79376616,  45.50967604,  73.65936642,  49.45257079,\n",
       "        64.98008668,  66.01738616,  77.95780871,  69.8272411 ,\n",
       "        53.57824735,  61.52575107,  51.4077762 ,  47.28550415,\n",
       "        55.64073305,  62.66201699,  56.67496649,  73.93280085,\n",
       "        49.88869842,  80.20871892,  82.31013089,  44.93054893,\n",
       "        45.63548372,  52.47710829,  51.05373347,  71.12307778,\n",
       "        77.55834096,  43.43819955,  57.17169843,  56.97379374,\n",
       "        71.84134857,  54.04442328,  48.54766237,  73.49985208,\n",
       "        52.10777346,  46.7329644 ,  50.66442285,  84.41996952,\n",
       "        46.08389383,  84.47873054,  86.15207486,  49.48105786,\n",
       "        53.87667971,  54.41577064,  54.59682199,  38.6515084 ,\n",
       "        58.23073235,  53.24568522,  71.48401415,  63.90561961,\n",
       "        63.95096002,  51.08205131,  83.25674955,  77.64734772,\n",
       "        55.27006264,  74.32071948,  65.79902618,  61.43350903,\n",
       "        55.60747768,  52.47205793,  82.39230041,  47.12079842,\n",
       "        66.48702301,  55.14930533,  55.26679916,  58.46903992,\n",
       "        45.15727916,  50.97320979,  60.60912429,  44.01601929,\n",
       "        42.1477517 ,  53.46895453,  53.87012454,  51.42613435,\n",
       "        42.34733044,  61.8965061 ,  86.60028753,  55.10544153,\n",
       "        56.93685179,  81.38362904,  91.8387933 ,  76.8936398 ,\n",
       "        86.23605947,  48.45859919,  86.61878671,  74.16798596,  49.41222433])"
      ]
     },
     "execution_count": 27,
     "metadata": {},
     "output_type": "execute_result"
    }
   ],
   "source": [
    "lr.predict(x_test)"
   ]
  },
  {
   "cell_type": "code",
   "execution_count": 28,
   "metadata": {
    "collapsed": false
   },
   "outputs": [
    {
     "data": {
      "text/plain": [
       "0.9673539461240025"
      ]
     },
     "execution_count": 28,
     "metadata": {},
     "output_type": "execute_result"
    }
   ],
   "source": [
    "lr.score(x_test, y_test)"
   ]
  },
  {
   "cell_type": "code",
   "execution_count": 29,
   "metadata": {
    "collapsed": false
   },
   "outputs": [
    {
     "data": {
      "text/plain": [
       "0.96012041256428715"
      ]
     },
     "execution_count": 29,
     "metadata": {},
     "output_type": "execute_result"
    }
   ],
   "source": [
    "lr.score(x_train, y_train)"
   ]
  },
  {
   "cell_type": "code",
   "execution_count": null,
   "metadata": {
    "collapsed": true
   },
   "outputs": [],
   "source": []
  }
 ],
 "metadata": {
  "kernelspec": {
   "display_name": "Python 2",
   "language": "python",
   "name": "python2"
  },
  "language_info": {
   "codemirror_mode": {
    "name": "ipython",
    "version": 2
   },
   "file_extension": ".py",
   "mimetype": "text/x-python",
   "name": "python",
   "nbconvert_exporter": "python",
   "pygments_lexer": "ipython2",
   "version": "2.7.11"
  }
 },
 "nbformat": 4,
 "nbformat_minor": 0
}
