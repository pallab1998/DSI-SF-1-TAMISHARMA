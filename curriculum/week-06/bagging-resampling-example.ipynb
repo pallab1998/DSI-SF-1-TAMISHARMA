{
 "cells": [
  {
   "cell_type": "code",
   "execution_count": null,
   "metadata": {
    "collapsed": true
   },
   "outputs": [],
   "source": []
  },
  {
   "cell_type": "code",
   "execution_count": 2,
   "metadata": {
    "collapsed": false
   },
   "outputs": [],
   "source": [
    "# load required packages\n",
    "import numpy as np\n",
    "import pandas as pd\n",
    "from sklearn.ensemble import BaggingClassifier\n",
    "from sklearn.tree import DecisionTreeClassifier"
   ]
  },
  {
   "cell_type": "code",
   "execution_count": 5,
   "metadata": {
    "collapsed": false
   },
   "outputs": [],
   "source": [
    "# Bagging flow\n",
    "data = pd.DataFrame({\n",
    "        'animal_type': ['dog', 'wolf', 'wolf', 'dog', 'dog', 'wolf', 'dog'],\n",
    "        'weight': [30, 40, 45, 50, 25, 15, 35],\n",
    "        'anger_level': [0, 10, 7, 8, 5, 3, 2],\n",
    "        'cuddly': ['cuddly', 'not', 'not', 'not', 'cuddly', 'cuddly', 'cuddly']\n",
    "    })"
   ]
  },
  {
   "cell_type": "code",
   "execution_count": 6,
   "metadata": {
    "collapsed": false
   },
   "outputs": [
    {
     "data": {
      "text/html": [
       "<div>\n",
       "<table border=\"1\" class=\"dataframe\">\n",
       "  <thead>\n",
       "    <tr style=\"text-align: right;\">\n",
       "      <th></th>\n",
       "      <th>anger_level</th>\n",
       "      <th>animal_type</th>\n",
       "      <th>cuddly</th>\n",
       "      <th>weight</th>\n",
       "    </tr>\n",
       "  </thead>\n",
       "  <tbody>\n",
       "    <tr>\n",
       "      <th>0</th>\n",
       "      <td>0</td>\n",
       "      <td>dog</td>\n",
       "      <td>cuddly</td>\n",
       "      <td>30</td>\n",
       "    </tr>\n",
       "    <tr>\n",
       "      <th>1</th>\n",
       "      <td>10</td>\n",
       "      <td>wolf</td>\n",
       "      <td>not</td>\n",
       "      <td>40</td>\n",
       "    </tr>\n",
       "    <tr>\n",
       "      <th>2</th>\n",
       "      <td>7</td>\n",
       "      <td>wolf</td>\n",
       "      <td>not</td>\n",
       "      <td>45</td>\n",
       "    </tr>\n",
       "    <tr>\n",
       "      <th>3</th>\n",
       "      <td>8</td>\n",
       "      <td>dog</td>\n",
       "      <td>not</td>\n",
       "      <td>50</td>\n",
       "    </tr>\n",
       "    <tr>\n",
       "      <th>4</th>\n",
       "      <td>5</td>\n",
       "      <td>dog</td>\n",
       "      <td>cuddly</td>\n",
       "      <td>25</td>\n",
       "    </tr>\n",
       "    <tr>\n",
       "      <th>5</th>\n",
       "      <td>3</td>\n",
       "      <td>wolf</td>\n",
       "      <td>cuddly</td>\n",
       "      <td>15</td>\n",
       "    </tr>\n",
       "    <tr>\n",
       "      <th>6</th>\n",
       "      <td>2</td>\n",
       "      <td>dog</td>\n",
       "      <td>cuddly</td>\n",
       "      <td>35</td>\n",
       "    </tr>\n",
       "  </tbody>\n",
       "</table>\n",
       "</div>"
      ],
      "text/plain": [
       "   anger_level animal_type  cuddly  weight\n",
       "0            0         dog  cuddly      30\n",
       "1           10        wolf     not      40\n",
       "2            7        wolf     not      45\n",
       "3            8         dog     not      50\n",
       "4            5         dog  cuddly      25\n",
       "5            3        wolf  cuddly      15\n",
       "6            2         dog  cuddly      35"
      ]
     },
     "execution_count": 6,
     "metadata": {},
     "output_type": "execute_result"
    }
   ],
   "source": [
    "data"
   ]
  },
  {
   "cell_type": "code",
   "execution_count": 7,
   "metadata": {
    "collapsed": true
   },
   "outputs": [],
   "source": [
    "Y = data.animal_type.map(lambda x: 1 if x == 'dog' else 0).values"
   ]
  },
  {
   "cell_type": "code",
   "execution_count": 8,
   "metadata": {
    "collapsed": false
   },
   "outputs": [
    {
     "data": {
      "text/plain": [
       "array([1, 0, 0, 1, 1, 0, 1])"
      ]
     },
     "execution_count": 8,
     "metadata": {},
     "output_type": "execute_result"
    }
   ],
   "source": [
    "Y"
   ]
  },
  {
   "cell_type": "code",
   "execution_count": 20,
   "metadata": {
    "collapsed": false
   },
   "outputs": [],
   "source": [
    "import patsy\n",
    "\n",
    "X = patsy.dmatrix('~ cuddly + anger_level + weight', data = data,\n",
    "                  return_type = 'dataframe')"
   ]
  },
  {
   "cell_type": "code",
   "execution_count": 21,
   "metadata": {
    "collapsed": true
   },
   "outputs": [],
   "source": [
    "X.drop('Intercept', axis = 1, inplace = True)"
   ]
  },
  {
   "cell_type": "code",
   "execution_count": 23,
   "metadata": {
    "collapsed": false
   },
   "outputs": [],
   "source": [
    "Xmat = X.values"
   ]
  },
  {
   "cell_type": "code",
   "execution_count": 24,
   "metadata": {
    "collapsed": false
   },
   "outputs": [
    {
     "data": {
      "text/plain": [
       "DecisionTreeClassifier(class_weight=None, criterion='gini', max_depth=None,\n",
       "            max_features=None, max_leaf_nodes=None, min_samples_leaf=1,\n",
       "            min_samples_split=2, min_weight_fraction_leaf=0.0,\n",
       "            presort=False, random_state=None, splitter='best')"
      ]
     },
     "execution_count": 24,
     "metadata": {},
     "output_type": "execute_result"
    }
   ],
   "source": [
    "# first we create the \"base model\" estimator\n",
    "dtc = DecisionTreeClassifier(max_depth = None)\n",
    "\n",
    "dtc.fit(Xmat, Y)"
   ]
  },
  {
   "cell_type": "code",
   "execution_count": 25,
   "metadata": {
    "collapsed": false
   },
   "outputs": [
    {
     "ename": "ImportError",
     "evalue": "No module named pydot",
     "output_type": "error",
     "traceback": [
      "\u001b[0;31m---------------------------------------------------------------------------\u001b[0m",
      "\u001b[0;31mImportError\u001b[0m                               Traceback (most recent call last)",
      "\u001b[0;32m<ipython-input-25-f210acfd1a7e>\u001b[0m in \u001b[0;36m<module>\u001b[0;34m()\u001b[0m\n\u001b[1;32m      2\u001b[0m \u001b[0;32mfrom\u001b[0m \u001b[0mIPython\u001b[0m\u001b[0;34m.\u001b[0m\u001b[0mdisplay\u001b[0m \u001b[0;32mimport\u001b[0m \u001b[0mImage\u001b[0m\u001b[0;34m\u001b[0m\u001b[0m\n\u001b[1;32m      3\u001b[0m \u001b[0;32mfrom\u001b[0m \u001b[0msklearn\u001b[0m\u001b[0;34m.\u001b[0m\u001b[0mtree\u001b[0m \u001b[0;32mimport\u001b[0m \u001b[0mexport_graphviz\u001b[0m\u001b[0;34m\u001b[0m\u001b[0m\n\u001b[0;32m----> 4\u001b[0;31m \u001b[0;32mimport\u001b[0m \u001b[0mpydot\u001b[0m\u001b[0;34m\u001b[0m\u001b[0m\n\u001b[0m\u001b[1;32m      5\u001b[0m \u001b[0;34m\u001b[0m\u001b[0m\n\u001b[1;32m      6\u001b[0m \u001b[0mdot_data\u001b[0m \u001b[0;34m=\u001b[0m \u001b[0mStringIO\u001b[0m\u001b[0;34m(\u001b[0m\u001b[0;34m)\u001b[0m\u001b[0;34m\u001b[0m\u001b[0m\n",
      "\u001b[0;31mImportError\u001b[0m: No module named pydot"
     ]
    }
   ],
   "source": [
    "from sklearn.externals.six import StringIO\n",
    "from IPython.display import Image\n",
    "from sklearn.tree import export_graphviz\n",
    "import pydot\n",
    "\n",
    "dot_data = StringIO()\n",
    "\n",
    "export_graphviz(dtc, out_file= dot_data,\n",
    "                feature_names = x.columns,\n",
    "               filled = True, rounded = True,\n",
    "               special_characters = True)\n",
    "\n",
    "graph = pydot.graph_from_dot_data(dot_data.getvalue())\n",
    "Image(graph.create_png())"
   ]
  },
  {
   "cell_type": "code",
   "execution_count": 26,
   "metadata": {
    "collapsed": false
   },
   "outputs": [
    {
     "name": "stdout",
     "output_type": "stream",
     "text": [
      "[ 0.66666667  0.5         0.5       ]\n",
      "0.555555555556\n"
     ]
    }
   ],
   "source": [
    "from sklearn.cross_validation import cross_val_score\n",
    "\n",
    "scores = cross_val_score(dtc, Xmat, Y, cv=3)\n",
    "\n",
    "print scores\n",
    "print np.mean(scores)"
   ]
  },
  {
   "cell_type": "code",
   "execution_count": 34,
   "metadata": {
    "collapsed": false
   },
   "outputs": [
    {
     "name": "stdout",
     "output_type": "stream",
     "text": [
      "[ 0.66666667  0.5         0.5       ]\n",
      "0.555555555556\n"
     ]
    }
   ],
   "source": [
    "dtc_simple = DecisionTreeClassifier(max_depth = 1)\n",
    "scores_simple = cross_val_score(dtc_simple, Xmat, Y, cv= 3)\n",
    "\n",
    "print scores_simple\n",
    "print np.mean(scores_simple)"
   ]
  },
  {
   "cell_type": "code",
   "execution_count": 47,
   "metadata": {
    "collapsed": true
   },
   "outputs": [],
   "source": [
    "# first we create the \"base model\" estimator\n",
    "\n",
    "dtc = DecisionTreeClassifier(max_depth = None)\n",
    "\n",
    "# n_estimators is the number of \"base models\" (copies of the dtc classifier blueprint)\n",
    "# that we want to fit and then average\n",
    "n_estimators= 10\n",
    "\n",
    "# max_samples tells us what fraction of the size of the original dataset the bootstrapped\n",
    "# datasets are going to be\n",
    "max_samples=0.5\n",
    "\n",
    "max_features = 0.66\n",
    "\n",
    "bag = BaggingClassifier(dtc)"
   ]
  },
  {
   "cell_type": "code",
   "execution_count": 56,
   "metadata": {
    "collapsed": false
   },
   "outputs": [
    {
     "name": "stdout",
     "output_type": "stream",
     "text": [
      "original rows: [0, 1, 2, 3, 4, 5, 6]\n",
      "original cols: [0, 1, 2]\n",
      "resampled rows: [2 5 5 5]\n",
      "resampled cols: [2 0]\n"
     ]
    }
   ],
   "source": [
    "rows = range(X.shape[0])\n",
    "cols = range(X.shape[1])\n",
    "print 'original rows:', rows\n",
    "print 'original cols:', cols\n",
    "\n",
    "number_of_resampled_rows = int(round(max_samples * X.shape[0]))\n",
    "number_of_columns = int(round(max_features * X.shape[1]))\n",
    "                               \n",
    "# print number_of_resampled_rows\n",
    "# print number_of_columns\n",
    "\n",
    "resampled_rows =  np.random.choice(rows, size = number_of_resampled_rows, replace = True)\n",
    "resampled_cols = np.random.choice(cols, size = number_of_columns, replace = False)\n",
    "\n",
    "print 'resampled rows:', resampled_rows\n",
    "print 'resampled cols:', resampled_cols"
   ]
  },
  {
   "cell_type": "code",
   "execution_count": 57,
   "metadata": {
    "collapsed": false
   },
   "outputs": [
    {
     "data": {
      "text/html": [
       "<div>\n",
       "<table border=\"1\" class=\"dataframe\">\n",
       "  <thead>\n",
       "    <tr style=\"text-align: right;\">\n",
       "      <th></th>\n",
       "      <th>weight</th>\n",
       "      <th>cuddly[T.not]</th>\n",
       "    </tr>\n",
       "  </thead>\n",
       "  <tbody>\n",
       "    <tr>\n",
       "      <th>2</th>\n",
       "      <td>45.0</td>\n",
       "      <td>1.0</td>\n",
       "    </tr>\n",
       "    <tr>\n",
       "      <th>5</th>\n",
       "      <td>15.0</td>\n",
       "      <td>0.0</td>\n",
       "    </tr>\n",
       "    <tr>\n",
       "      <th>5</th>\n",
       "      <td>15.0</td>\n",
       "      <td>0.0</td>\n",
       "    </tr>\n",
       "    <tr>\n",
       "      <th>5</th>\n",
       "      <td>15.0</td>\n",
       "      <td>0.0</td>\n",
       "    </tr>\n",
       "  </tbody>\n",
       "</table>\n",
       "</div>"
      ],
      "text/plain": [
       "   weight  cuddly[T.not]\n",
       "2    45.0            1.0\n",
       "5    15.0            0.0\n",
       "5    15.0            0.0\n",
       "5    15.0            0.0"
      ]
     },
     "execution_count": 57,
     "metadata": {},
     "output_type": "execute_result"
    }
   ],
   "source": [
    "X.iloc[resampled_rows, resampled_cols]"
   ]
  },
  {
   "cell_type": "code",
   "execution_count": 58,
   "metadata": {
    "collapsed": true
   },
   "outputs": [],
   "source": [
    "from sklearn.cross_validation import KFold"
   ]
  },
  {
   "cell_type": "code",
   "execution_count": 60,
   "metadata": {
    "collapsed": false
   },
   "outputs": [
    {
     "name": "stdout",
     "output_type": "stream",
     "text": [
      "training indices [3 4 5 6]\n",
      "test indices [0 1 2]\n",
      "training indices [0 1 2 5 6]\n",
      "test indices [3 4]\n",
      "training indices [0 1 2 3 4]\n",
      "test indices [5 6]\n"
     ]
    }
   ],
   "source": [
    "folds = KFold(len(rows), n_folds=3)\n",
    "\n",
    "for train_indices, test_indices in folds:\n",
    "    \n",
    "    Xtrain, Xtest = X[train_indices], X[test_indices]\n",
    "    Ytrain, Ytest = Y[train_indices], Y[test_indices]\n",
    "    \n",
    "    for estimator_num in range(n_estimators):\n",
    "        print 'estimator number:', estimator_num\n",
    "        \n",
    "        train_rows = range(Xtrain.shape[0])\n",
    "        train_cols = range(Xtrain.shape[1])\n",
    "        \n",
    "        number_of_resampled_rows = int(round(max_samples * Xtrain.shape[0]))\n",
    "        number_of_columns = int(round(max_features * Xtrain.shape[1]))\n",
    "        \n",
    "        resampled_rows =  np.random.choice(train_rows, size = number_of_resampled_rows, replace = True)\n",
    "        resampled_cols = np.random.choice(train_cols, size = number_of_columns, replace = False)\n",
    "        \n",
    "        Xtrain_resamp = Xtrain.iloc[resampled_rows, resampled_cols]\n",
    "        Ytrain_resamp = Ytrain.iloc[resampled_rows, resampled_cols]\n",
    "\n",
    "        dtc = DecisionTreeClassifier(max_depth = None)\n",
    "        dtc.fit(Xtrain_resamp, Ytrain_resamp)\n",
    "        \n",
    "        \n",
    "        \n",
    "        \n",
    "        \n",
    "#     print 'training indices', train_indices\n",
    "#     print 'test indices', test_indices"
   ]
  },
  {
   "cell_type": "code",
   "execution_count": null,
   "metadata": {
    "collapsed": true
   },
   "outputs": [],
   "source": []
  }
 ],
 "metadata": {
  "kernelspec": {
   "display_name": "Python 2",
   "language": "python",
   "name": "python2"
  },
  "language_info": {
   "codemirror_mode": {
    "name": "ipython",
    "version": 2
   },
   "file_extension": ".py",
   "mimetype": "text/x-python",
   "name": "python",
   "nbconvert_exporter": "python",
   "pygments_lexer": "ipython2",
   "version": "2.7.11"
  }
 },
 "nbformat": 4,
 "nbformat_minor": 0
}
