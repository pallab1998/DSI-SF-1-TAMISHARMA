{
 "cells": [
  {
   "cell_type": "markdown",
   "metadata": {},
   "source": [
    "<a name=\"ind-practice\"></a>\n",
    "## Independent Practice: (25 minutes)\n",
    "- Create a series\n",
    "- Look at the head, tail, and summary stats\n",
    "- Select series values by index\n",
    "  - Single value\n",
    "  - Multiple value\n",
    "- Using Boolean indexing find values that are < than another value\n",
    "- Using Boolean indexing find values that are > than another value\n",
    "- Using Boolean indexing find values that are < than another value and > another value\n",
    "\n",
    "Bonus:  Create a DataFrame with at least 5 rows\n",
    "\n",
    "- Slice for certain rows\n",
    "  - Single row by label and index\n",
    "  - Multiple row range by label and index\n",
    "  - Single row series + multi-value range\n",
    "      - labeled index\n",
    "      - int index"
   ]
  },
  {
   "cell_type": "code",
   "execution_count": 3,
   "metadata": {
    "collapsed": false
   },
   "outputs": [
    {
     "data": {
      "text/plain": [
       "array([ 0.19151945,  0.62210877,  0.43772774,  0.78535858,  0.77997581])"
      ]
     },
     "execution_count": 3,
     "metadata": {},
     "output_type": "execute_result"
    }
   ],
   "source": [
    "import pandas as pd\n",
    "import numpy as np\n",
    "\n",
    "np.random.seed(1234)\n",
    "np.random.rand(5)"
   ]
  },
  {
   "cell_type": "code",
   "execution_count": 4,
   "metadata": {
    "collapsed": true
   },
   "outputs": [],
   "source": [
    "s = pd.Series(np.random.rand(10))"
   ]
  },
  {
   "cell_type": "code",
   "execution_count": 5,
   "metadata": {
    "collapsed": false
   },
   "outputs": [
    {
     "data": {
      "text/plain": [
       "0    0.272593\n",
       "1    0.276464\n",
       "2    0.801872\n",
       "3    0.958139\n",
       "4    0.875933\n",
       "dtype: float64"
      ]
     },
     "execution_count": 5,
     "metadata": {},
     "output_type": "execute_result"
    }
   ],
   "source": [
    "s.head()"
   ]
  },
  {
   "cell_type": "code",
   "execution_count": 6,
   "metadata": {
    "collapsed": false
   },
   "outputs": [
    {
     "data": {
      "text/plain": [
       "5    0.357817\n",
       "6    0.500995\n",
       "7    0.683463\n",
       "8    0.712702\n",
       "9    0.370251\n",
       "dtype: float64"
      ]
     },
     "execution_count": 6,
     "metadata": {},
     "output_type": "execute_result"
    }
   ],
   "source": [
    "s.tail()"
   ]
  },
  {
   "cell_type": "code",
   "execution_count": 7,
   "metadata": {
    "collapsed": false
   },
   "outputs": [
    {
     "data": {
      "text/plain": [
       "count    10.000000\n",
       "mean      0.581023\n",
       "std       0.256976\n",
       "min       0.272593\n",
       "25%       0.360926\n",
       "50%       0.592229\n",
       "75%       0.779580\n",
       "max       0.958139\n",
       "dtype: float64"
      ]
     },
     "execution_count": 7,
     "metadata": {},
     "output_type": "execute_result"
    }
   ],
   "source": [
    "s.describe()"
   ]
  },
  {
   "cell_type": "code",
   "execution_count": 8,
   "metadata": {
    "collapsed": false
   },
   "outputs": [
    {
     "data": {
      "text/plain": [
       "0.80187217753501927"
      ]
     },
     "execution_count": 8,
     "metadata": {},
     "output_type": "execute_result"
    }
   ],
   "source": [
    "s.iloc[2]"
   ]
  },
  {
   "cell_type": "code",
   "execution_count": 9,
   "metadata": {
    "collapsed": false
   },
   "outputs": [
    {
     "data": {
      "text/plain": [
       "0    0.272593\n",
       "2    0.801872\n",
       "3    0.958139\n",
       "dtype: float64"
      ]
     },
     "execution_count": 9,
     "metadata": {},
     "output_type": "execute_result"
    }
   ],
   "source": [
    "s.iloc[[0, 2, 3]]"
   ]
  },
  {
   "cell_type": "code",
   "execution_count": 18,
   "metadata": {
    "collapsed": true
   },
   "outputs": [],
   "source": [
    "mask1 = s < 0.5\n",
    "mask2 = s > 0.6\n",
    "mask3 = (s < 0.7) & (s > 0.3)"
   ]
  },
  {
   "cell_type": "code",
   "execution_count": 19,
   "metadata": {
    "collapsed": false
   },
   "outputs": [
    {
     "data": {
      "text/plain": [
       "0    0.272593\n",
       "1    0.276464\n",
       "5    0.357817\n",
       "9    0.370251\n",
       "dtype: float64"
      ]
     },
     "execution_count": 19,
     "metadata": {},
     "output_type": "execute_result"
    }
   ],
   "source": [
    "s[mask1]"
   ]
  },
  {
   "cell_type": "code",
   "execution_count": 20,
   "metadata": {
    "collapsed": false
   },
   "outputs": [
    {
     "data": {
      "text/plain": [
       "2    0.801872\n",
       "3    0.958139\n",
       "4    0.875933\n",
       "7    0.683463\n",
       "8    0.712702\n",
       "dtype: float64"
      ]
     },
     "execution_count": 20,
     "metadata": {},
     "output_type": "execute_result"
    }
   ],
   "source": [
    "s[mask2]"
   ]
  },
  {
   "cell_type": "code",
   "execution_count": 21,
   "metadata": {
    "collapsed": false
   },
   "outputs": [
    {
     "data": {
      "text/plain": [
       "5    0.357817\n",
       "6    0.500995\n",
       "7    0.683463\n",
       "9    0.370251\n",
       "dtype: float64"
      ]
     },
     "execution_count": 21,
     "metadata": {},
     "output_type": "execute_result"
    }
   ],
   "source": [
    "s[mask3]"
   ]
  },
  {
   "cell_type": "code",
   "execution_count": 22,
   "metadata": {
    "collapsed": false
   },
   "outputs": [
    {
     "data": {
      "text/html": [
       "<div>\n",
       "<table border=\"1\" class=\"dataframe\">\n",
       "  <thead>\n",
       "    <tr style=\"text-align: right;\">\n",
       "      <th></th>\n",
       "      <th>apple</th>\n",
       "      <th>banana</th>\n",
       "      <th>orange</th>\n",
       "      <th>pear</th>\n",
       "    </tr>\n",
       "  </thead>\n",
       "  <tbody>\n",
       "    <tr>\n",
       "      <th>mon</th>\n",
       "      <td>0.561196</td>\n",
       "      <td>0.503083</td>\n",
       "      <td>0.013768</td>\n",
       "      <td>0.772827</td>\n",
       "    </tr>\n",
       "    <tr>\n",
       "      <th>tues</th>\n",
       "      <td>0.882641</td>\n",
       "      <td>0.364886</td>\n",
       "      <td>0.615396</td>\n",
       "      <td>0.075381</td>\n",
       "    </tr>\n",
       "    <tr>\n",
       "      <th>wed</th>\n",
       "      <td>0.368824</td>\n",
       "      <td>0.933140</td>\n",
       "      <td>0.651378</td>\n",
       "      <td>0.397203</td>\n",
       "    </tr>\n",
       "    <tr>\n",
       "      <th>thurs</th>\n",
       "      <td>0.788730</td>\n",
       "      <td>0.316836</td>\n",
       "      <td>0.568099</td>\n",
       "      <td>0.869127</td>\n",
       "    </tr>\n",
       "  </tbody>\n",
       "</table>\n",
       "</div>"
      ],
      "text/plain": [
       "          apple    banana    orange      pear\n",
       "mon    0.561196  0.503083  0.013768  0.772827\n",
       "tues   0.882641  0.364886  0.615396  0.075381\n",
       "wed    0.368824  0.933140  0.651378  0.397203\n",
       "thurs  0.788730  0.316836  0.568099  0.869127"
      ]
     },
     "execution_count": 22,
     "metadata": {},
     "output_type": "execute_result"
    }
   ],
   "source": [
    "column_labels = ['apple', 'banana', 'orange', 'pear']\n",
    "row_index = ['mon', 'tues', 'wed', 'thurs', 'fri', 'sat', 'sun']\n",
    "df = pd.DataFrame(np.random.rand(7,4), index=row_index, columns=column_labels)\n",
    "df.head(4)"
   ]
  },
  {
   "cell_type": "code",
   "execution_count": 24,
   "metadata": {
    "collapsed": false
   },
   "outputs": [
    {
     "data": {
      "text/plain": [
       "apple     0.561196\n",
       "banana    0.503083\n",
       "orange    0.013768\n",
       "pear      0.772827\n",
       "Name: mon, dtype: float64"
      ]
     },
     "execution_count": 24,
     "metadata": {},
     "output_type": "execute_result"
    }
   ],
   "source": [
    "df.loc['mon']"
   ]
  },
  {
   "cell_type": "code",
   "execution_count": 25,
   "metadata": {
    "collapsed": false
   },
   "outputs": [
    {
     "data": {
      "text/plain": [
       "apple     0.788730\n",
       "banana    0.316836\n",
       "orange    0.568099\n",
       "pear      0.869127\n",
       "Name: thurs, dtype: float64"
      ]
     },
     "execution_count": 25,
     "metadata": {},
     "output_type": "execute_result"
    }
   ],
   "source": [
    "df.iloc[3]"
   ]
  },
  {
   "cell_type": "code",
   "execution_count": null,
   "metadata": {
    "collapsed": true
   },
   "outputs": [],
   "source": []
  }
 ],
 "metadata": {
  "kernelspec": {
   "display_name": "Python 2",
   "language": "python",
   "name": "python2"
  },
  "language_info": {
   "codemirror_mode": {
    "name": "ipython",
    "version": 2
   },
   "file_extension": ".py",
   "mimetype": "text/x-python",
   "name": "python",
   "nbconvert_exporter": "python",
   "pygments_lexer": "ipython2",
   "version": "2.7.11"
  }
 },
 "nbformat": 4,
 "nbformat_minor": 0
}
