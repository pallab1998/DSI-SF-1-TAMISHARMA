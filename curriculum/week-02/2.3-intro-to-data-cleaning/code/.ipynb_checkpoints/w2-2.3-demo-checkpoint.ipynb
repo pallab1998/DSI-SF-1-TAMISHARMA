{
 "cells": [
  {
   "cell_type": "code",
   "execution_count": 7,
   "metadata": {
    "collapsed": true
   },
   "outputs": [],
   "source": [
    "import pandas as pd\n",
    "import numpy as np"
   ]
  },
  {
   "cell_type": "code",
   "execution_count": 8,
   "metadata": {
    "collapsed": false
   },
   "outputs": [
    {
     "data": {
      "text/html": [
       "<div>\n",
       "<table border=\"1\" class=\"dataframe\">\n",
       "  <thead>\n",
       "    <tr style=\"text-align: right;\">\n",
       "      <th></th>\n",
       "      <th>A</th>\n",
       "      <th>B</th>\n",
       "      <th>C</th>\n",
       "      <th>D</th>\n",
       "      <th>E</th>\n",
       "      <th>F</th>\n",
       "      <th>G</th>\n",
       "    </tr>\n",
       "  </thead>\n",
       "  <tbody>\n",
       "    <tr>\n",
       "      <th>0</th>\n",
       "      <td>0.609739</td>\n",
       "      <td>1</td>\n",
       "      <td>foo</td>\n",
       "      <td>2001-01-02</td>\n",
       "      <td>1.0</td>\n",
       "      <td>False</td>\n",
       "      <td>1</td>\n",
       "    </tr>\n",
       "    <tr>\n",
       "      <th>1</th>\n",
       "      <td>0.678766</td>\n",
       "      <td>1</td>\n",
       "      <td>foo</td>\n",
       "      <td>2001-01-02</td>\n",
       "      <td>1.0</td>\n",
       "      <td>False</td>\n",
       "      <td>1</td>\n",
       "    </tr>\n",
       "    <tr>\n",
       "      <th>2</th>\n",
       "      <td>0.111528</td>\n",
       "      <td>1</td>\n",
       "      <td>foo</td>\n",
       "      <td>2001-01-02</td>\n",
       "      <td>1.0</td>\n",
       "      <td>False</td>\n",
       "      <td>1</td>\n",
       "    </tr>\n",
       "  </tbody>\n",
       "</table>\n",
       "</div>"
      ],
      "text/plain": [
       "          A  B    C          D    E      F  G\n",
       "0  0.609739  1  foo 2001-01-02  1.0  False  1\n",
       "1  0.678766  1  foo 2001-01-02  1.0  False  1\n",
       "2  0.111528  1  foo 2001-01-02  1.0  False  1"
      ]
     },
     "execution_count": 8,
     "metadata": {},
     "output_type": "execute_result"
    }
   ],
   "source": [
    "# create a small dictionary with different data types\n",
    "\n",
    "dft = pd.DataFrame(dict(A = np.random.rand(3),\n",
    "                        B = 1,\n",
    "                        C = 'foo',\n",
    "                        D = pd.Timestamp('20010102'),\n",
    "                        E = pd.Series([1.0]*3).astype('float32'),\n",
    "                                F = False,\n",
    "                                G = pd.Series([1]*3,dtype='int8')))\n",
    "\n",
    "dft"
   ]
  },
  {
   "cell_type": "code",
   "execution_count": 9,
   "metadata": {
    "collapsed": false
   },
   "outputs": [
    {
     "data": {
      "text/plain": [
       "A           float64\n",
       "B             int64\n",
       "C            object\n",
       "D    datetime64[ns]\n",
       "E           float32\n",
       "F              bool\n",
       "G              int8\n",
       "dtype: object"
      ]
     },
     "execution_count": 9,
     "metadata": {},
     "output_type": "execute_result"
    }
   ],
   "source": [
    "# There is a really easy way to see what kind of dtypes \n",
    "# are in each column. \n",
    "\n",
    "dft.dtypes"
   ]
  },
  {
   "cell_type": "code",
   "execution_count": 10,
   "metadata": {
    "collapsed": false
   },
   "outputs": [
    {
     "data": {
      "text/plain": [
       "0    1.0\n",
       "1    2.0\n",
       "2    3.0\n",
       "3    4.0\n",
       "4    5.0\n",
       "5    6.0\n",
       "dtype: float64"
      ]
     },
     "execution_count": 10,
     "metadata": {},
     "output_type": "execute_result"
    }
   ],
   "source": [
    "# If a pandas object contains data multiple dtypes IN A \n",
    "# SINGLE COLUMN, the dtype of the column will be chosen \n",
    "# to accommodate all of the data types (object is the \n",
    "# most general).\n",
    "# these ints are coerced to floats\n",
    "\n",
    "pd.Series([1, 2, 3, 4, 5, 6.])"
   ]
  },
  {
   "cell_type": "code",
   "execution_count": 11,
   "metadata": {
    "collapsed": false
   },
   "outputs": [
    {
     "data": {
      "text/plain": [
       "0      1\n",
       "1      2\n",
       "2      3\n",
       "3      6\n",
       "4    foo\n",
       "dtype: object"
      ]
     },
     "execution_count": 11,
     "metadata": {},
     "output_type": "execute_result"
    }
   ],
   "source": [
    "# string data forces an ``object`` dtype\n",
    "\n",
    "pd.Series([1, 2, 3, 6., 'foo'])"
   ]
  },
  {
   "cell_type": "code",
   "execution_count": 12,
   "metadata": {
    "collapsed": false
   },
   "outputs": [
    {
     "data": {
      "text/plain": [
       "bool              1\n",
       "datetime64[ns]    1\n",
       "float32           1\n",
       "float64           1\n",
       "int64             1\n",
       "int8              1\n",
       "object            1\n",
       "dtype: int64"
      ]
     },
     "execution_count": 12,
     "metadata": {},
     "output_type": "execute_result"
    }
   ],
   "source": [
    "# The method get_dtype_counts() will return the number \n",
    "# of columns of each type in a DataFrame:\n",
    "\n",
    "dft.get_dtype_counts()"
   ]
  },
  {
   "cell_type": "code",
   "execution_count": 13,
   "metadata": {
    "collapsed": false
   },
   "outputs": [
    {
     "data": {
      "text/html": [
       "<div>\n",
       "<table border=\"1\" class=\"dataframe\">\n",
       "  <thead>\n",
       "    <tr style=\"text-align: right;\">\n",
       "      <th></th>\n",
       "      <th>a</th>\n",
       "      <th>b</th>\n",
       "      <th>c</th>\n",
       "      <th>d</th>\n",
       "    </tr>\n",
       "  </thead>\n",
       "  <tbody>\n",
       "    <tr>\n",
       "      <th>0</th>\n",
       "      <td>1.338751</td>\n",
       "      <td>-0.617006</td>\n",
       "      <td>-1.000452</td>\n",
       "      <td>-1.341796</td>\n",
       "    </tr>\n",
       "    <tr>\n",
       "      <th>1</th>\n",
       "      <td>-0.499111</td>\n",
       "      <td>0.681508</td>\n",
       "      <td>-1.832509</td>\n",
       "      <td>0.268734</td>\n",
       "    </tr>\n",
       "    <tr>\n",
       "      <th>2</th>\n",
       "      <td>0.829187</td>\n",
       "      <td>-1.692537</td>\n",
       "      <td>0.030544</td>\n",
       "      <td>0.599474</td>\n",
       "    </tr>\n",
       "    <tr>\n",
       "      <th>3</th>\n",
       "      <td>1.510114</td>\n",
       "      <td>-0.658720</td>\n",
       "      <td>-0.262172</td>\n",
       "      <td>-0.285848</td>\n",
       "    </tr>\n",
       "    <tr>\n",
       "      <th>4</th>\n",
       "      <td>1.411504</td>\n",
       "      <td>2.041796</td>\n",
       "      <td>-0.630778</td>\n",
       "      <td>-1.386374</td>\n",
       "    </tr>\n",
       "  </tbody>\n",
       "</table>\n",
       "</div>"
      ],
      "text/plain": [
       "          a         b         c         d\n",
       "0  1.338751 -0.617006 -1.000452 -1.341796\n",
       "1 -0.499111  0.681508 -1.832509  0.268734\n",
       "2  0.829187 -1.692537  0.030544  0.599474\n",
       "3  1.510114 -0.658720 -0.262172 -0.285848\n",
       "4  1.411504  2.041796 -0.630778 -1.386374"
      ]
     },
     "execution_count": 13,
     "metadata": {},
     "output_type": "execute_result"
    }
   ],
   "source": [
    "# create a small data frame. \n",
    "\n",
    "df = pd.DataFrame(np.random.randn(5, 4), columns=['a', 'b', 'c', 'd'])\n",
    "df"
   ]
  },
  {
   "cell_type": "code",
   "execution_count": 14,
   "metadata": {
    "collapsed": false
   },
   "outputs": [
    {
     "data": {
      "text/html": [
       "<div>\n",
       "<table border=\"1\" class=\"dataframe\">\n",
       "  <thead>\n",
       "    <tr style=\"text-align: right;\">\n",
       "      <th></th>\n",
       "      <th>a</th>\n",
       "      <th>b</th>\n",
       "      <th>c</th>\n",
       "      <th>d</th>\n",
       "    </tr>\n",
       "  </thead>\n",
       "  <tbody>\n",
       "    <tr>\n",
       "      <th>0</th>\n",
       "      <td>1.157044</td>\n",
       "      <td>NaN</td>\n",
       "      <td>NaN</td>\n",
       "      <td>NaN</td>\n",
       "    </tr>\n",
       "    <tr>\n",
       "      <th>1</th>\n",
       "      <td>NaN</td>\n",
       "      <td>0.825535</td>\n",
       "      <td>NaN</td>\n",
       "      <td>0.518395</td>\n",
       "    </tr>\n",
       "    <tr>\n",
       "      <th>2</th>\n",
       "      <td>0.910597</td>\n",
       "      <td>NaN</td>\n",
       "      <td>0.174768</td>\n",
       "      <td>0.774257</td>\n",
       "    </tr>\n",
       "    <tr>\n",
       "      <th>3</th>\n",
       "      <td>1.228867</td>\n",
       "      <td>NaN</td>\n",
       "      <td>NaN</td>\n",
       "      <td>NaN</td>\n",
       "    </tr>\n",
       "    <tr>\n",
       "      <th>4</th>\n",
       "      <td>1.188067</td>\n",
       "      <td>1.428914</td>\n",
       "      <td>NaN</td>\n",
       "      <td>NaN</td>\n",
       "    </tr>\n",
       "  </tbody>\n",
       "</table>\n",
       "</div>"
      ],
      "text/plain": [
       "          a         b         c         d\n",
       "0  1.157044       NaN       NaN       NaN\n",
       "1       NaN  0.825535       NaN  0.518395\n",
       "2  0.910597       NaN  0.174768  0.774257\n",
       "3  1.228867       NaN       NaN       NaN\n",
       "4  1.188067  1.428914       NaN       NaN"
      ]
     },
     "execution_count": 14,
     "metadata": {},
     "output_type": "execute_result"
    }
   ],
   "source": [
    "# Use df.apply to find the square root of all the values. \n",
    "# NaN means not a number\n",
    "\n",
    "df.apply(np.sqrt)"
   ]
  },
  {
   "cell_type": "code",
   "execution_count": 15,
   "metadata": {
    "collapsed": false
   },
   "outputs": [
    {
     "data": {
      "text/plain": [
       "a    0.918089\n",
       "b   -0.048992\n",
       "c   -0.739073\n",
       "d   -0.429162\n",
       "dtype: float64"
      ]
     },
     "execution_count": 15,
     "metadata": {},
     "output_type": "execute_result"
    }
   ],
   "source": [
    "# find the mean of all of the columns\n",
    "\n",
    "df.apply(np.mean, axis=0)"
   ]
  },
  {
   "cell_type": "code",
   "execution_count": 27,
   "metadata": {
    "collapsed": false
   },
   "outputs": [
    {
     "data": {
      "text/plain": [
       "0   -0.405126\n",
       "2   -0.058333\n",
       "4    0.359037\n",
       "dtype: float64"
      ]
     },
     "execution_count": 27,
     "metadata": {},
     "output_type": "execute_result"
    }
   ],
   "source": [
    "# find the mean of all of the rows\n",
    "\n",
    "#selecting specific rows then using .apply\n",
    "df.iloc[[0, 2, 4]].apply(np.mean, axis=1)\n",
    "\n",
    "#selecting specific columns\n",
    "# df[[‘a’, ‘e’]].apply(np.mean, axis = 0)\n",
    "\n",
    "# The bottom one selects columns a & e and returns the means of those columns since axis = 0. \n",
    "# If you did axis = 1, it would return the mean calculated using only the \n",
    "# values from columns a and e for every row"
   ]
  },
  {
   "cell_type": "code",
   "execution_count": 17,
   "metadata": {
    "collapsed": false
   },
   "outputs": [
    {
     "data": {
      "text/plain": [
       "array([2, 6, 4, 4, 4, 5, 0, 3, 6, 6, 5, 3, 2, 3, 2, 2, 4, 1, 6, 5, 6, 5, 2,\n",
       "       5, 4, 0, 6, 5, 6, 3, 3, 1, 0, 3, 6, 1, 1, 1, 2, 2, 0, 1, 1, 6, 6, 3,\n",
       "       1, 2, 2, 4])"
      ]
     },
     "execution_count": 17,
     "metadata": {},
     "output_type": "execute_result"
    }
   ],
   "source": [
    "# Let's create a random array with 50 numbers, ranging \n",
    "# from 0 to 7.\n",
    "\n",
    "data = np.random.randint(0, 7, size = 50)\n",
    "data"
   ]
  },
  {
   "cell_type": "code",
   "execution_count": 18,
   "metadata": {
    "collapsed": true
   },
   "outputs": [],
   "source": [
    "# convert the array into a series\n",
    "\n",
    "s = pd.Series(data)"
   ]
  },
  {
   "cell_type": "code",
   "execution_count": 19,
   "metadata": {
    "collapsed": false
   },
   "outputs": [
    {
     "data": {
      "text/plain": [
       "6    10\n",
       "2     9\n",
       "1     8\n",
       "3     7\n",
       "5     6\n",
       "4     6\n",
       "0     4\n",
       "dtype: int64"
      ]
     },
     "execution_count": 19,
     "metadata": {},
     "output_type": "execute_result"
    }
   ],
   "source": [
    "# How many of each number is there in the series? Enter \n",
    "# value_counts()\n",
    "\n",
    "pd.value_counts(s)"
   ]
  },
  {
   "cell_type": "code",
   "execution_count": 20,
   "metadata": {
    "collapsed": false
   },
   "outputs": [
    {
     "data": {
      "text/plain": [
       "6    10\n",
       "2     9\n",
       "1     8\n",
       "3     7\n",
       "5     6\n",
       "4     6\n",
       "0     4\n",
       "dtype: int64"
      ]
     },
     "execution_count": 20,
     "metadata": {},
     "output_type": "execute_result"
    }
   ],
   "source": [
    "s.value_counts()"
   ]
  },
  {
   "cell_type": "code",
   "execution_count": null,
   "metadata": {
    "collapsed": true
   },
   "outputs": [],
   "source": []
  }
 ],
 "metadata": {
  "kernelspec": {
   "display_name": "Python 2",
   "language": "python",
   "name": "python2"
  },
  "language_info": {
   "codemirror_mode": {
    "name": "ipython",
    "version": 2
   },
   "file_extension": ".py",
   "mimetype": "text/x-python",
   "name": "python",
   "nbconvert_exporter": "python",
   "pygments_lexer": "ipython2",
   "version": "2.7.11"
  }
 },
 "nbformat": 4,
 "nbformat_minor": 0
}
