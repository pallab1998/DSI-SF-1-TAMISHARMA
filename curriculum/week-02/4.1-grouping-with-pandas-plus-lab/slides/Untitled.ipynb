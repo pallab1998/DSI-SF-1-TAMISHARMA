{
 "cells": [
  {
   "cell_type": "markdown",
   "metadata": {},
   "source": [
    "## 2-5 minutes try to do this with a partner:\n",
    "\n",
    " - Make a group object using citites and cat2\n",
    " - Select the cities subgroup \"NY\" with cat2 values \"alpha\"\n",
    " - Use get_group() on your group object, and pass a tuple with 2 values as the parameter\n",
    "   - The first tuple element is the value you are looking for in \"cities\" index\n",
    "   - The 2nd tuple element is the value you are looking for in \"cat2\""
   ]
  },
  {
   "cell_type": "code",
   "execution_count": 9,
   "metadata": {
    "collapsed": false
   },
   "outputs": [
    {
     "data": {
      "text/html": [
       "<div>\n",
       "<table border=\"1\" class=\"dataframe\">\n",
       "  <thead>\n",
       "    <tr style=\"text-align: right;\">\n",
       "      <th></th>\n",
       "      <th>a</th>\n",
       "      <th>b</th>\n",
       "      <th>cat1</th>\n",
       "      <th>cat2</th>\n",
       "      <th>cities</th>\n",
       "      <th>month</th>\n",
       "    </tr>\n",
       "  </thead>\n",
       "  <tbody>\n",
       "    <tr>\n",
       "      <th>0</th>\n",
       "      <td>-1.776815</td>\n",
       "      <td>-1.246234</td>\n",
       "      <td>X</td>\n",
       "      <td>alpha</td>\n",
       "      <td>NY</td>\n",
       "      <td>JAN</td>\n",
       "    </tr>\n",
       "    <tr>\n",
       "      <th>1</th>\n",
       "      <td>-0.469811</td>\n",
       "      <td>0.234461</td>\n",
       "      <td>X</td>\n",
       "      <td>beta</td>\n",
       "      <td>LA</td>\n",
       "      <td>FEB</td>\n",
       "    </tr>\n",
       "    <tr>\n",
       "      <th>2</th>\n",
       "      <td>-0.598466</td>\n",
       "      <td>-0.129473</td>\n",
       "      <td>Y</td>\n",
       "      <td>alpha</td>\n",
       "      <td>LA</td>\n",
       "      <td>JAN</td>\n",
       "    </tr>\n",
       "    <tr>\n",
       "      <th>3</th>\n",
       "      <td>-0.210665</td>\n",
       "      <td>0.311226</td>\n",
       "      <td>Y</td>\n",
       "      <td>beta</td>\n",
       "      <td>NY</td>\n",
       "      <td>FEB</td>\n",
       "    </tr>\n",
       "    <tr>\n",
       "      <th>4</th>\n",
       "      <td>1.647891</td>\n",
       "      <td>-0.606588</td>\n",
       "      <td>Z</td>\n",
       "      <td>alpha</td>\n",
       "      <td>NY</td>\n",
       "      <td>JAN</td>\n",
       "    </tr>\n",
       "  </tbody>\n",
       "</table>\n",
       "</div>"
      ],
      "text/plain": [
       "          a         b cat1   cat2 cities month\n",
       "0 -1.776815 -1.246234    X  alpha     NY   JAN\n",
       "1 -0.469811  0.234461    X   beta     LA   FEB\n",
       "2 -0.598466 -0.129473    Y  alpha     LA   JAN\n",
       "3 -0.210665  0.311226    Y   beta     NY   FEB\n",
       "4  1.647891 -0.606588    Z  alpha     NY   JAN"
      ]
     },
     "execution_count": 9,
     "metadata": {},
     "output_type": "execute_result"
    }
   ],
   "source": [
    "import pandas as pd\n",
    "import numpy as np\n",
    "\n",
    "# Re-init our test data\n",
    "df = pd.DataFrame({'cat1':['X','X','Y','Y','Z'],\n",
    "                   'cat2':['alpha','beta','alpha','beta','alpha'],\n",
    "                   'a':np.random.randn(5),\n",
    "                   'b':np.random.randn(5)})\n",
    "\n",
    "df['cities'] = np.array(['NY','LA','LA','NY','NY'])\n",
    "df['month'] = np.array(['JAN','FEB','JAN','FEB','JAN'])\n",
    "\n",
    "df"
   ]
  },
  {
   "cell_type": "code",
   "execution_count": 31,
   "metadata": {
    "collapsed": false
   },
   "outputs": [
    {
     "data": {
      "text/plain": [
       "<pandas.core.groupby.DataFrameGroupBy object at 0x1118eb4d0>"
      ]
     },
     "execution_count": 31,
     "metadata": {},
     "output_type": "execute_result"
    }
   ],
   "source": [
    "my_group = df.groupby(['cities', 'cat2'])\n",
    "\n",
    "my_group"
   ]
  },
  {
   "cell_type": "code",
   "execution_count": 25,
   "metadata": {
    "collapsed": false
   },
   "outputs": [
    {
     "data": {
      "text/html": [
       "<div>\n",
       "<table border=\"1\" class=\"dataframe\">\n",
       "  <thead>\n",
       "    <tr style=\"text-align: right;\">\n",
       "      <th></th>\n",
       "      <th>a</th>\n",
       "      <th>b</th>\n",
       "      <th>cat1</th>\n",
       "      <th>cat2</th>\n",
       "      <th>cities</th>\n",
       "      <th>month</th>\n",
       "    </tr>\n",
       "  </thead>\n",
       "  <tbody>\n",
       "    <tr>\n",
       "      <th>0</th>\n",
       "      <td>-1.776815</td>\n",
       "      <td>-1.246234</td>\n",
       "      <td>X</td>\n",
       "      <td>alpha</td>\n",
       "      <td>NY</td>\n",
       "      <td>JAN</td>\n",
       "    </tr>\n",
       "    <tr>\n",
       "      <th>4</th>\n",
       "      <td>1.647891</td>\n",
       "      <td>-0.606588</td>\n",
       "      <td>Z</td>\n",
       "      <td>alpha</td>\n",
       "      <td>NY</td>\n",
       "      <td>JAN</td>\n",
       "    </tr>\n",
       "  </tbody>\n",
       "</table>\n",
       "</div>"
      ],
      "text/plain": [
       "          a         b cat1   cat2 cities month\n",
       "0 -1.776815 -1.246234    X  alpha     NY   JAN\n",
       "4  1.647891 -0.606588    Z  alpha     NY   JAN"
      ]
     },
     "execution_count": 25,
     "metadata": {},
     "output_type": "execute_result"
    }
   ],
   "source": [
    "mask = (df['cities'] == 'NY') & (df['cat2'] =='alpha')\n",
    "\n",
    "df[(df['cities'] == 'NY') & (df['cat2'] =='alpha')]"
   ]
  },
  {
   "cell_type": "code",
   "execution_count": 33,
   "metadata": {
    "collapsed": false
   },
   "outputs": [
    {
     "data": {
      "text/html": [
       "<div>\n",
       "<table border=\"1\" class=\"dataframe\">\n",
       "  <thead>\n",
       "    <tr style=\"text-align: right;\">\n",
       "      <th></th>\n",
       "      <th>a</th>\n",
       "      <th>b</th>\n",
       "      <th>cat1</th>\n",
       "      <th>cat2</th>\n",
       "      <th>cities</th>\n",
       "      <th>month</th>\n",
       "    </tr>\n",
       "  </thead>\n",
       "  <tbody>\n",
       "    <tr>\n",
       "      <th>0</th>\n",
       "      <td>-1.776815</td>\n",
       "      <td>-1.246234</td>\n",
       "      <td>X</td>\n",
       "      <td>alpha</td>\n",
       "      <td>NY</td>\n",
       "      <td>JAN</td>\n",
       "    </tr>\n",
       "    <tr>\n",
       "      <th>4</th>\n",
       "      <td>1.647891</td>\n",
       "      <td>-0.606588</td>\n",
       "      <td>Z</td>\n",
       "      <td>alpha</td>\n",
       "      <td>NY</td>\n",
       "      <td>JAN</td>\n",
       "    </tr>\n",
       "  </tbody>\n",
       "</table>\n",
       "</div>"
      ],
      "text/plain": [
       "          a         b cat1   cat2 cities month\n",
       "0 -1.776815 -1.246234    X  alpha     NY   JAN\n",
       "4  1.647891 -0.606588    Z  alpha     NY   JAN"
      ]
     },
     "execution_count": 33,
     "metadata": {},
     "output_type": "execute_result"
    }
   ],
   "source": [
    "my_group.get_group(('NY', 'alpha'))"
   ]
  },
  {
   "cell_type": "code",
   "execution_count": null,
   "metadata": {
    "collapsed": true
   },
   "outputs": [],
   "source": []
  }
 ],
 "metadata": {
  "kernelspec": {
   "display_name": "Python 2",
   "language": "python",
   "name": "python2"
  },
  "language_info": {
   "codemirror_mode": {
    "name": "ipython",
    "version": 2
   },
   "file_extension": ".py",
   "mimetype": "text/x-python",
   "name": "python",
   "nbconvert_exporter": "python",
   "pygments_lexer": "ipython2",
   "version": "2.7.11"
  }
 },
 "nbformat": 4,
 "nbformat_minor": 0
}
