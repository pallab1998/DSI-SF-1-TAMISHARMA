{
 "cells": [
  {
   "cell_type": "code",
   "execution_count": 1,
   "metadata": {
    "collapsed": true
   },
   "outputs": [],
   "source": [
    "import pandas as pd\n",
    "import numpy as np\n",
    "from sklearn import datasets as datasets\n",
    "from sklearn.linear_model import LinearRegression, Lasso, Ridge, LogisticRegression\n",
    "from sklearn.neighbors import KNeighborsClassifier"
   ]
  },
  {
   "cell_type": "code",
   "execution_count": 2,
   "metadata": {
    "collapsed": true
   },
   "outputs": [],
   "source": [
    "house = datasets.load_boston()\n",
    "bcancer = datasets.load_breast_cancer()"
   ]
  },
  {
   "cell_type": "code",
   "execution_count": 3,
   "metadata": {
    "collapsed": true
   },
   "outputs": [],
   "source": [
    "# Houseing data target variable is price: continuous!\n",
    "# If Y is continuous, use regresion. Regression predicts mean Y (E[Y] given X)\n",
    "# alternatively Y ~ B*X\n",
    "Xh, Yh = pd.DataFrame(house.data, columns=house.feature_names), house.target\n",
    "\n",
    "# Breast cancer target is categorical; has breast cancer or not.\n",
    "# If Y is categorical, use classification.\n",
    "# Classification predicts probability of category (E[P(Y == 1)])\n",
    "# alternatively (for logistic regression only though): Y ~ BX\n",
    "Xb, Yb = pd.DataFrame(bcancer.data, columns=bcancer.feature_names), bcancer.target"
   ]
  },
  {
   "cell_type": "code",
   "execution_count": 4,
   "metadata": {
    "collapsed": false
   },
   "outputs": [
    {
     "name": "stdout",
     "output_type": "stream",
     "text": [
      "Index([u'CRIM', u'ZN', u'INDUS', u'CHAS', u'NOX', u'RM', u'AGE', u'DIS',\n",
      "       u'RAD', u'TAX', u'PTRATIO', u'B', u'LSTAT'],\n",
      "      dtype='object')\n",
      "Index([u'mean radius', u'mean texture', u'mean perimeter', u'mean area',\n",
      "       u'mean smoothness', u'mean compactness', u'mean concavity',\n",
      "       u'mean concave points', u'mean symmetry', u'mean fractal dimension',\n",
      "       u'radius error', u'texture error', u'perimeter error', u'area error',\n",
      "       u'smoothness error', u'compactness error', u'concavity error',\n",
      "       u'concave points error', u'symmetry error', u'fractal dimension error',\n",
      "       u'worst radius', u'worst texture', u'worst perimeter', u'worst area',\n",
      "       u'worst smoothness', u'worst compactness', u'worst concavity',\n",
      "       u'worst concave points', u'worst symmetry', u'worst fractal dimension'],\n",
      "      dtype='object')\n"
     ]
    }
   ],
   "source": [
    "print Xh.columns\n",
    "print Xb.columns"
   ]
  },
  {
   "cell_type": "code",
   "execution_count": 5,
   "metadata": {
    "collapsed": false
   },
   "outputs": [
    {
     "data": {
      "text/plain": [
       "array([0, 1])"
      ]
     },
     "execution_count": 5,
     "metadata": {},
     "output_type": "execute_result"
    }
   ],
   "source": [
    "np.unique(Yb)"
   ]
  },
  {
   "cell_type": "code",
   "execution_count": 6,
   "metadata": {
    "collapsed": false
   },
   "outputs": [
    {
     "data": {
      "text/plain": [
       "array([ 24. ,  21.6,  34.7,  33.4,  36.2,  28.7,  22.9,  27.1,  16.5,  18.9])"
      ]
     },
     "execution_count": 6,
     "metadata": {},
     "output_type": "execute_result"
    }
   ],
   "source": [
    "Yh[0:10]"
   ]
  },
  {
   "cell_type": "markdown",
   "metadata": {},
   "source": [
    "# Linear Regression#"
   ]
  },
  {
   "cell_type": "code",
   "execution_count": null,
   "metadata": {
    "collapsed": true
   },
   "outputs": [],
   "source": [
    "# check predictor types in case there are categorical variables in there ...\n",
    "Xh.dtypes\n",
    "\n",
    "# IF YOU HAVE A LOT OF CATEGORICAL VARIABLES USE PATSY"
   ]
  },
  {
   "cell_type": "code",
   "execution_count": 7,
   "metadata": {
    "collapsed": true
   },
   "outputs": [],
   "source": [
    "from sklearn.linear_model import LinearRegression"
   ]
  },
  {
   "cell_type": "code",
   "execution_count": 8,
   "metadata": {
    "collapsed": true
   },
   "outputs": [],
   "source": [
    "# First construct the linear regression using the \"blueprint\"\n",
    "linear_reg = LinearRegression()\n",
    "\n",
    "# Fit the linear regression on your target and predictors:\n",
    "# x is pandas dataframe, so convert to matrix! keep track of column names\n",
    "Xh_columns = Xh.columns\n",
    "Xh_mat = Xh.values\n",
    "\n",
    "house_linreg = linear_reg.fit(Xh_mat, Yh)"
   ]
  },
  {
   "cell_type": "code",
   "execution_count": 10,
   "metadata": {
    "collapsed": false
   },
   "outputs": [
    {
     "name": "stdout",
     "output_type": "stream",
     "text": [
      "[ 24.   21.6  34.7  33.4  36.2  28.7  22.9  27.1  16.5  18.9]\n",
      "[ 30.00821269  25.0298606   30.5702317   28.60814055  27.94288232\n",
      "  25.25940048  23.00433994  19.5347558   11.51696539  18.91981483]\n"
     ]
    }
   ],
   "source": [
    "# PREDICTIONS!\n",
    "Yh_predictions = house_linreg.predict(Xh_mat)\n",
    "\n",
    "print Yh[0:10]\n",
    "print Yh_predictions[0:10]"
   ]
  },
  {
   "cell_type": "code",
   "execution_count": 12,
   "metadata": {
    "collapsed": false
   },
   "outputs": [
    {
     "data": {
      "text/plain": [
       "0.74060774286494269"
      ]
     },
     "execution_count": 12,
     "metadata": {},
     "output_type": "execute_result"
    }
   ],
   "source": [
    "# Is our model good? Let's check the R2 for the model.\n",
    "# Since we are just using our original data to predict, put it in the score function.\n",
    "house_linreg.score(Xh_mat, Yh)\n",
    "\n",
    "# WTF is R2?\n",
    "# this is the proportion of variance explained in our target variable\n",
    "# COMPARED TO A MODEL THAT JUST USES MEAN OF Y (baseline model)\n",
    "# aka: how much better is the model compared to just guessing every Y row with the mean of Y."
   ]
  },
  {
   "cell_type": "code",
   "execution_count": 13,
   "metadata": {
    "collapsed": false
   },
   "outputs": [
    {
     "name": "stdout",
     "output_type": "stream",
     "text": [
      "[ -1.07170557e-01   4.63952195e-02   2.08602395e-02   2.68856140e+00\n",
      "  -1.77957587e+01   3.80475246e+00   7.51061703e-04  -1.47575880e+00\n",
      "   3.05655038e-01  -1.23293463e-02  -9.53463555e-01   9.39251272e-03\n",
      "  -5.25466633e-01]\n"
     ]
    }
   ],
   "source": [
    "# what are our coefficients from the model?\n",
    "print house_linreg.coef_"
   ]
  },
  {
   "cell_type": "code",
   "execution_count": 15,
   "metadata": {
    "collapsed": false
   },
   "outputs": [
    {
     "data": {
      "text/html": [
       "<div>\n",
       "<table border=\"1\" class=\"dataframe\">\n",
       "  <thead>\n",
       "    <tr style=\"text-align: right;\">\n",
       "      <th></th>\n",
       "      <th>coef</th>\n",
       "      <th>feature</th>\n",
       "    </tr>\n",
       "  </thead>\n",
       "  <tbody>\n",
       "    <tr>\n",
       "      <th>0</th>\n",
       "      <td>-0.107171</td>\n",
       "      <td>CRIM</td>\n",
       "    </tr>\n",
       "    <tr>\n",
       "      <th>1</th>\n",
       "      <td>0.046395</td>\n",
       "      <td>ZN</td>\n",
       "    </tr>\n",
       "    <tr>\n",
       "      <th>2</th>\n",
       "      <td>0.020860</td>\n",
       "      <td>INDUS</td>\n",
       "    </tr>\n",
       "    <tr>\n",
       "      <th>3</th>\n",
       "      <td>2.688561</td>\n",
       "      <td>CHAS</td>\n",
       "    </tr>\n",
       "    <tr>\n",
       "      <th>4</th>\n",
       "      <td>-17.795759</td>\n",
       "      <td>NOX</td>\n",
       "    </tr>\n",
       "    <tr>\n",
       "      <th>5</th>\n",
       "      <td>3.804752</td>\n",
       "      <td>RM</td>\n",
       "    </tr>\n",
       "    <tr>\n",
       "      <th>6</th>\n",
       "      <td>0.000751</td>\n",
       "      <td>AGE</td>\n",
       "    </tr>\n",
       "    <tr>\n",
       "      <th>7</th>\n",
       "      <td>-1.475759</td>\n",
       "      <td>DIS</td>\n",
       "    </tr>\n",
       "    <tr>\n",
       "      <th>8</th>\n",
       "      <td>0.305655</td>\n",
       "      <td>RAD</td>\n",
       "    </tr>\n",
       "    <tr>\n",
       "      <th>9</th>\n",
       "      <td>-0.012329</td>\n",
       "      <td>TAX</td>\n",
       "    </tr>\n",
       "    <tr>\n",
       "      <th>10</th>\n",
       "      <td>-0.953464</td>\n",
       "      <td>PTRATIO</td>\n",
       "    </tr>\n",
       "    <tr>\n",
       "      <th>11</th>\n",
       "      <td>0.009393</td>\n",
       "      <td>B</td>\n",
       "    </tr>\n",
       "    <tr>\n",
       "      <th>12</th>\n",
       "      <td>-0.525467</td>\n",
       "      <td>LSTAT</td>\n",
       "    </tr>\n",
       "  </tbody>\n",
       "</table>\n",
       "</div>"
      ],
      "text/plain": [
       "         coef  feature\n",
       "0   -0.107171     CRIM\n",
       "1    0.046395       ZN\n",
       "2    0.020860    INDUS\n",
       "3    2.688561     CHAS\n",
       "4  -17.795759      NOX\n",
       "5    3.804752       RM\n",
       "6    0.000751      AGE\n",
       "7   -1.475759      DIS\n",
       "8    0.305655      RAD\n",
       "9   -0.012329      TAX\n",
       "10  -0.953464  PTRATIO\n",
       "11   0.009393        B\n",
       "12  -0.525467    LSTAT"
      ]
     },
     "execution_count": 15,
     "metadata": {},
     "output_type": "execute_result"
    }
   ],
   "source": [
    "# look at this in a nicer way. we saved the column values earlier, conveniently\n",
    "house_coefs = pd.DataFrame({'feature': Xh_columns, 'coef':house_linreg.coef_})\n",
    "\n",
    "# Remember that for linear regression the formula is Y ~ b1*x1 + ... + bn*xn\n",
    "# for our x1 through xn columns of predictors\n",
    "# To estimate Y for a row of predictor variables, we multiply each of these \n",
    "# coefficients by their respective beta coefficients and add them together!\n",
    "house_coefs"
   ]
  },
  {
   "cell_type": "markdown",
   "metadata": {},
   "source": [
    "### LASSO\n",
    "\n",
    "Why would we use the Lasso?\n",
    "\n",
    "Lasso, depending on the **regularization strength C**, will eliminate variables in order of their value or importance on predicting Y.\n",
    "\n",
    "In this ase we probably don't need it for the data (will likely make prediction worse if we remove variables), but this is just a demonstration."
   ]
  },
  {
   "cell_type": "code",
   "execution_count": 16,
   "metadata": {
    "collapsed": true
   },
   "outputs": [],
   "source": [
    "from sklearn.linear_model import Lasso"
   ]
  },
  {
   "cell_type": "code",
   "execution_count": 19,
   "metadata": {
    "collapsed": false
   },
   "outputs": [],
   "source": [
    "# initialize Lasso just as you would the linear regression\n",
    "\n",
    "# Let's make 2. One with \"weak\" regularization, which means there is a very\n",
    "# small penalty on coefficient sizes.\n",
    "# Coefficients added up can be big and it won't really care (basically\n",
    "# will be the same as vanilla Linear Regression)\n",
    "house_lasso_weak = Lasso(alpha = 0.01)\n",
    "\n",
    "# make one that has strong regularization\n",
    "house_lasso_strong = Lasso(alpha =100.)"
   ]
  },
  {
   "cell_type": "code",
   "execution_count": 21,
   "metadata": {
    "collapsed": false
   },
   "outputs": [],
   "source": [
    "# fit them each on data\n",
    "h_weak = house_lasso_weak.fit(Xh_mat, Yh)\n",
    "h_strong = house_lasso_strong.fit(Xh_mat, Yh)"
   ]
  },
  {
   "cell_type": "code",
   "execution_count": null,
   "metadata": {
    "collapsed": true
   },
   "outputs": [],
   "source": [
    "# make tables of coefficients to see what lasso did\n",
    "weak_coefs - pd.DataFrame({'feature: X'})"
   ]
  }
 ],
 "metadata": {
  "kernelspec": {
   "display_name": "Python 2",
   "language": "python",
   "name": "python2"
  },
  "language_info": {
   "codemirror_mode": {
    "name": "ipython",
    "version": 2
   },
   "file_extension": ".py",
   "mimetype": "text/x-python",
   "name": "python",
   "nbconvert_exporter": "python",
   "pygments_lexer": "ipython2",
   "version": "2.7.11"
  }
 },
 "nbformat": 4,
 "nbformat_minor": 0
}
