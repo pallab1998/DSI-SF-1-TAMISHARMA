{
 "cells": [
  {
   "cell_type": "markdown",
   "metadata": {},
   "source": [
    "# Comprehensive week 4 practice\n",
    "\n",
    "This week you've learned about:\n",
    "\n",
    "- Classification vs. regression\n",
    "    - Predicting class labels\n",
    "    - Predicted probability vs. predicted mean for target/dependent variables\n",
    "- Categorical vs. continuous variables\n",
    "    - Dummy coding representation in the X matrix\n",
    "- The kNN classification algorithm\n",
    "    - How choice of neighbors affects the bias-variance tradeoff\n",
    "- The logistic regression algorithm\n",
    "    - The logit/logistic link function\n",
    "    - How logistic regression can still use the least squares loss function via the link function\n",
    "    - Pros/Cons of logistic regression vs. kNN\n",
    "- Validation of classifiers using cross-validation\n",
    "- Benefits of predictor normalization\n",
    "- How classification metrics differ from regression\n",
    "    - Confusion matrices (TP, FP, TN, FN)\n",
    "    - ROC curves\n",
    "    - How changing predicted probability thresholds change confusion matrices\n",
    "    - How context and goals inform your choice of threshold\n",
    "- Regularization\n",
    "    - How Lasso and Ridge change the least squared loss function\n",
    "    - How regularization affects the bias-variance tradeoff\n",
    "    - How to tune your regularization with cross-validation and gridsearching\n",
    "    - How context of the problem informs which regularization to use (if any!)\n",
    "    - Pros/cons to choice of Ridge or Lasso\n",
    "   \n",
    "---\n",
    "\n",
    "### Now it's time to put it all together\n",
    "\n",
    "As a class we're going to go through the process of classifying spam in a dataset with a wide variety of predictors. You will need to go through the full process.\n",
    "\n",
    "The data has been pre-cleaned, so no need to go through that part of the process. We have been practicing that enough and I want you to focus on the new things we learned this week.\n",
    "\n",
    "Given the thing's you've learned above, go through the process of classifying the **`is_spam`** column with some or all of the provided predictors!\n",
    "\n",
    "The dataset path is provided for you in the cell below:"
   ]
  },
  {
   "cell_type": "code",
   "execution_count": 1,
   "metadata": {
    "collapsed": true
   },
   "outputs": [],
   "source": [
    "spam_path = '../assets/datasets/spam_modified.csv'"
   ]
  },
  {
   "cell_type": "markdown",
   "metadata": {},
   "source": [
    "---\n",
    "\n",
    "### Step 1: Load packages and spam dataset"
   ]
  },
  {
   "cell_type": "code",
   "execution_count": 3,
   "metadata": {
    "collapsed": false
   },
   "outputs": [],
   "source": [
    "import pandas as pd\n",
    "import numpy as np\n",
    "import matplotlib.pyplot as plt\n",
    "import seaborn as sns\n",
    "import patsy\n",
    "from sklearn.linear_model import LogisticRegression, Ridge, Lasso\n",
    "from sklearn.grid_search import GridSearchCV\n",
    "from sklearn.neighbors import KNeighborsClassifier\n",
    "from sklearn.cross_validation import train_test_split, StratifiedKFold\n",
    "%matplotlib inline"
   ]
  },
  {
   "cell_type": "code",
   "execution_count": 4,
   "metadata": {
    "collapsed": true
   },
   "outputs": [],
   "source": [
    "spam = pd.read_csv(spam_path)"
   ]
  },
  {
   "cell_type": "code",
   "execution_count": 6,
   "metadata": {
    "collapsed": true
   },
   "outputs": [
    {
     "name": "stdout",
     "output_type": "stream",
     "text": [
      "0       1\n",
      "1       1\n",
      "2       1\n",
      "3       1\n",
      "4       1\n",
      "5       1\n",
      "6       1\n",
      "7       1\n",
      "8       1\n",
      "9       1\n",
      "10      1\n",
      "11      1\n",
      "12      1\n",
      "13      1\n",
      "14      1\n",
      "15      1\n",
      "16      1\n",
      "17      1\n",
      "18      1\n",
      "19      1\n",
      "20      1\n",
      "21      1\n",
      "22      1\n",
      "23      1\n",
      "24      1\n",
      "25      1\n",
      "26      1\n",
      "27      1\n",
      "28      1\n",
      "29      1\n",
      "       ..\n",
      "4571    0\n",
      "4572    0\n",
      "4573    0\n",
      "4574    0\n",
      "4575    0\n",
      "4576    0\n",
      "4577    0\n",
      "4578    0\n",
      "4579    0\n",
      "4580    0\n",
      "4581    0\n",
      "4582    0\n",
      "4583    0\n",
      "4584    0\n",
      "4585    0\n",
      "4586    0\n",
      "4587    0\n",
      "4588    0\n",
      "4589    0\n",
      "4590    0\n",
      "4591    0\n",
      "4592    0\n",
      "4593    0\n",
      "4594    0\n",
      "4595    0\n",
      "4596    0\n",
      "4597    0\n",
      "4598    0\n",
      "4599    0\n",
      "4600    0\n",
      "Name: is_spam, dtype: int64\n"
     ]
    }
   ],
   "source": [
    "spam.head()\n",
    "print spam['is_spam']"
   ]
  },
  {
   "cell_type": "code",
   "execution_count": 12,
   "metadata": {
    "collapsed": false,
    "scrolled": true
   },
   "outputs": [
    {
     "data": {
      "text/plain": [
       "<matplotlib.axes._subplots.AxesSubplot at 0x11b7006d0>"
      ]
     },
     "execution_count": 12,
     "metadata": {},
     "output_type": "execute_result"
    },
    {
     "data": {
      "image/png": "[encoded data removed]",
      "text/plain": [
       "<matplotlib.figure.Figure at 0x11b0097d0>"
      ]
     },
     "metadata": {},
     "output_type": "display_data"
    }
   ],
   "source": [
    "sns.heatmap(spam.corr())"
   ]
  },
  {
   "cell_type": "code",
   "execution_count": 8,
   "metadata": {
    "collapsed": true
   },
   "outputs": [],
   "source": [
    "# removing 26 rows of blank space on heatmap above\n",
    "spam_sub = spam[spam.columns[:-26]]\n",
    "target = spam['is_spam']"
   ]
  },
  {
   "cell_type": "code",
   "execution_count": 10,
   "metadata": {
    "collapsed": true
   },
   "outputs": [],
   "source": [
    "# creating list of predictor variables\n",
    "preds = [x for x in spam_sub.columns if x!= 'is_spam']"
   ]
  },
  {
   "cell_type": "code",
   "execution_count": 11,
   "metadata": {
    "collapsed": false
   },
   "outputs": [
    {
     "name": "stderr",
     "output_type": "stream",
     "text": [
      "/Users/Tami/anaconda/lib/python2.7/site-packages/pandas/core/indexing.py:461: SettingWithCopyWarning: \n",
      "A value is trying to be set on a copy of a slice from a DataFrame.\n",
      "Try using .loc[row_indexer,col_indexer] = value instead\n",
      "\n",
      "See the caveats in the documentation: http://pandas.pydata.org/pandas-docs/stable/indexing.html#indexing-view-versus-copy\n",
      "  self.obj[item] = s\n"
     ]
    }
   ],
   "source": [
    "#normalizing predictor variables\n",
    "spam_sub.ix[:, preds] = (spam_sub.ix[:, preds] - spam_sub.ix[:, preds].mean()) / spam_sub.ix[:, preds].std()"
   ]
  },
  {
   "cell_type": "code",
   "execution_count": 15,
   "metadata": {
    "collapsed": false
   },
   "outputs": [],
   "source": [
    "logmodel = LogisticRegression()\n",
    "\n",
    "# 1/(1 to 10**5)  (1, 10, 100, 1000, 10000)\n",
    "# Put 10 points evenly spaced between 1 and 10000\n",
    "Cs = 1./np.logspace(0.0, 4.0, 10)\n",
    "\n",
    "search_parameters = {\n",
    "    \"penalty\":         ['l1', 'l2'], #l1 is lasso, l2 is ridge. used to specify the norm used in the penalization\n",
    "    \"C\":               Cs, #Regularization parameter\n",
    "    \"class_weight\":    [None, \"balanced\"], #The \"balanced\" mode uses the values of y to automatically adjust weights inversely propertional to \n",
    "                                            #class frequencies in the input data as n_samples/ (n_classes * np.bincount(y))\n",
    "    \"n_jobs\":          [4]  #Never set above 4\n",
    "}\n",
    "\n",
    "est = GridSearchCV(logmodel, search_parameters)"
   ]
  },
  {
   "cell_type": "code",
   "execution_count": 16,
   "metadata": {
    "collapsed": true
   },
   "outputs": [],
   "source": [
    "x = spam_sub[preds]\n",
    "y = target"
   ]
  },
  {
   "cell_type": "code",
   "execution_count": 17,
   "metadata": {
    "collapsed": true
   },
   "outputs": [],
   "source": [
    "x_train, x_test, y_train, y_test = train_test_split(x, y, test_size = 0.3, random_state = 42)"
   ]
  },
  {
   "cell_type": "code",
   "execution_count": 18,
   "metadata": {
    "collapsed": true
   },
   "outputs": [],
   "source": [
    "grid = est.fit(x, y)"
   ]
  },
  {
   "cell_type": "code",
   "execution_count": 19,
   "metadata": {
    "collapsed": false
   },
   "outputs": [
    {
     "data": {
      "text/plain": [
       "[mean: 0.84460, std: 0.12961, params: {'penalty': 'l1', 'C': 1.0, 'n_jobs': 4, 'class_weight': None},\n",
       " mean: 0.93827, std: 0.05329, params: {'penalty': 'l2', 'C': 1.0, 'n_jobs': 4, 'class_weight': None},\n",
       " mean: 0.85221, std: 0.13044, params: {'penalty': 'l1', 'C': 1.0, 'n_jobs': 4, 'class_weight': 'balanced'},\n",
       " mean: 0.93349, std: 0.06128, params: {'penalty': 'l2', 'C': 1.0, 'n_jobs': 4, 'class_weight': 'balanced'},\n",
       " mean: 0.84634, std: 0.12972, params: {'penalty': 'l1', 'C': 0.35938136638046275, 'n_jobs': 4, 'class_weight': None},\n",
       " mean: 0.94175, std: 0.04776, params: {'penalty': 'l2', 'C': 0.35938136638046275, 'n_jobs': 4, 'class_weight': None},\n",
       " mean: 0.85742, std: 0.13152, params: {'penalty': 'l1', 'C': 0.35938136638046275, 'n_jobs': 4, 'class_weight': 'balanced'},\n",
       " mean: 0.93588, std: 0.05845, params: {'penalty': 'l2', 'C': 0.35938136638046275, 'n_jobs': 4, 'class_weight': 'balanced'},\n",
       " mean: 0.84916, std: 0.12977, params: {'penalty': 'l1', 'C': 0.12915496650148842, 'n_jobs': 4, 'class_weight': None},\n",
       " mean: 0.94697, std: 0.04215, params: {'penalty': 'l2', 'C': 0.12915496650148842, 'n_jobs': 4, 'class_weight': None},\n",
       " mean: 0.86068, std: 0.13223, params: {'penalty': 'l1', 'C': 0.12915496650148842, 'n_jobs': 4, 'class_weight': 'balanced'},\n",
       " mean: 0.94197, std: 0.05031, params: {'penalty': 'l2', 'C': 0.12915496650148842, 'n_jobs': 4, 'class_weight': 'balanced'},\n",
       " mean: 0.85221, std: 0.13023, params: {'penalty': 'l1', 'C': 0.046415888336127802, 'n_jobs': 4, 'class_weight': None},\n",
       " mean: 0.95305, std: 0.03439, params: {'penalty': 'l2', 'C': 0.046415888336127802, 'n_jobs': 4, 'class_weight': None},\n",
       " mean: 0.86699, std: 0.13439, params: {'penalty': 'l1', 'C': 0.046415888336127802, 'n_jobs': 4, 'class_weight': 'balanced'},\n",
       " mean: 0.94545, std: 0.04657, params: {'penalty': 'l2', 'C': 0.046415888336127802, 'n_jobs': 4, 'class_weight': 'balanced'},\n",
       " mean: 0.86025, std: 0.13210, params: {'penalty': 'l1', 'C': 0.016681005372000592, 'n_jobs': 4, 'class_weight': None},\n",
       " mean: 0.95892, std: 0.02646, params: {'penalty': 'l2', 'C': 0.016681005372000592, 'n_jobs': 4, 'class_weight': None},\n",
       " mean: 0.87829, std: 0.13962, params: {'penalty': 'l1', 'C': 0.016681005372000592, 'n_jobs': 4, 'class_weight': 'balanced'},\n",
       " mean: 0.95088, std: 0.03685, params: {'penalty': 'l2', 'C': 0.016681005372000592, 'n_jobs': 4, 'class_weight': 'balanced'},\n",
       " mean: 0.87937, std: 0.14028, params: {'penalty': 'l1', 'C': 0.0059948425031894088, 'n_jobs': 4, 'class_weight': None},\n",
       " mean: 0.96240, std: 0.02014, params: {'penalty': 'l2', 'C': 0.0059948425031894088, 'n_jobs': 4, 'class_weight': None},\n",
       " mean: 0.89415, std: 0.14956, params: {'penalty': 'l1', 'C': 0.0059948425031894088, 'n_jobs': 4, 'class_weight': 'balanced'},\n",
       " mean: 0.95544, std: 0.02502, params: {'penalty': 'l2', 'C': 0.0059948425031894088, 'n_jobs': 4, 'class_weight': 'balanced'},\n",
       " mean: 0.89415, std: 0.14956, params: {'penalty': 'l1', 'C': 0.0021544346900318843, 'n_jobs': 4, 'class_weight': None},\n",
       " mean: 0.96175, std: 0.01669, params: {'penalty': 'l2', 'C': 0.0021544346900318843, 'n_jobs': 4, 'class_weight': None},\n",
       " mean: 0.89415, std: 0.14956, params: {'penalty': 'l1', 'C': 0.0021544346900318843, 'n_jobs': 4, 'class_weight': 'balanced'},\n",
       " mean: 0.95653, std: 0.01719, params: {'penalty': 'l2', 'C': 0.0021544346900318843, 'n_jobs': 4, 'class_weight': 'balanced'},\n",
       " mean: 0.63160, std: 0.03617, params: {'penalty': 'l1', 'C': 0.00077426368268112774, 'n_jobs': 4, 'class_weight': None},\n",
       " mean: 0.95458, std: 0.01605, params: {'penalty': 'l2', 'C': 0.00077426368268112774, 'n_jobs': 4, 'class_weight': None},\n",
       " mean: 0.76288, std: 0.17055, params: {'penalty': 'l1', 'C': 0.00077426368268112774, 'n_jobs': 4, 'class_weight': 'balanced'},\n",
       " mean: 0.95197, std: 0.01679, params: {'penalty': 'l2', 'C': 0.00077426368268112774, 'n_jobs': 4, 'class_weight': 'balanced'},\n",
       " mean: 0.60596, std: 0.00007, params: {'penalty': 'l1', 'C': 0.00027825594022071258, 'n_jobs': 4, 'class_weight': None},\n",
       " mean: 0.94958, std: 0.01706, params: {'penalty': 'l2', 'C': 0.00027825594022071258, 'n_jobs': 4, 'class_weight': None},\n",
       " mean: 0.60596, std: 0.00007, params: {'penalty': 'l1', 'C': 0.00027825594022071258, 'n_jobs': 4, 'class_weight': 'balanced'},\n",
       " mean: 0.94588, std: 0.01624, params: {'penalty': 'l2', 'C': 0.00027825594022071258, 'n_jobs': 4, 'class_weight': 'balanced'},\n",
       " mean: 0.60596, std: 0.00007, params: {'penalty': 'l1', 'C': 0.0001, 'n_jobs': 4, 'class_weight': None},\n",
       " mean: 0.94349, std: 0.01734, params: {'penalty': 'l2', 'C': 0.0001, 'n_jobs': 4, 'class_weight': None},\n",
       " mean: 0.60596, std: 0.00007, params: {'penalty': 'l1', 'C': 0.0001, 'n_jobs': 4, 'class_weight': 'balanced'},\n",
       " mean: 0.94110, std: 0.01750, params: {'penalty': 'l2', 'C': 0.0001, 'n_jobs': 4, 'class_weight': 'balanced'}]"
      ]
     },
     "execution_count": 19,
     "metadata": {},
     "output_type": "execute_result"
    }
   ],
   "source": [
    "grid.grid_scores_"
   ]
  },
  {
   "cell_type": "code",
   "execution_count": 20,
   "metadata": {
    "collapsed": true
   },
   "outputs": [
    {
     "name": "stdout",
     "output_type": "stream",
     "text": [
      "C: 1.0\n",
      "penalty: l1\n",
      "class weight: None\n",
      "mean accuracy: 0.844599000217\n",
      "------------------------------\n",
      "\n",
      "C: 1.0\n",
      "penalty: l2\n",
      "class weight: None\n",
      "mean accuracy: 0.938274288198\n",
      "------------------------------\n",
      "\n",
      "C: 1.0\n",
      "penalty: l1\n",
      "class weight: balanced\n",
      "mean accuracy: 0.852206042165\n",
      "------------------------------\n",
      "\n",
      "C: 1.0\n",
      "penalty: l2\n",
      "class weight: balanced\n",
      "mean accuracy: 0.933492718974\n",
      "------------------------------\n",
      "\n",
      "C: 0.35938136638\n",
      "penalty: l1\n",
      "class weight: None\n",
      "mean accuracy: 0.846337752662\n",
      "------------------------------\n",
      "\n",
      "C: 0.35938136638\n",
      "penalty: l2\n",
      "class weight: None\n",
      "mean accuracy: 0.941751793088\n",
      "------------------------------\n",
      "\n",
      "C: 0.35938136638\n",
      "penalty: l1\n",
      "class weight: balanced\n",
      "mean accuracy: 0.8574222995\n",
      "------------------------------\n",
      "\n",
      "C: 0.35938136638\n",
      "penalty: l2\n",
      "class weight: balanced\n",
      "mean accuracy: 0.935883503586\n",
      "------------------------------\n",
      "\n",
      "C: 0.129154966501\n",
      "penalty: l1\n",
      "class weight: None\n",
      "mean accuracy: 0.849163225386\n",
      "------------------------------\n",
      "\n",
      "C: 0.129154966501\n",
      "penalty: l2\n",
      "class weight: None\n",
      "mean accuracy: 0.946968050424\n",
      "------------------------------\n",
      "\n",
      "C: 0.129154966501\n",
      "penalty: l1\n",
      "class weight: balanced\n",
      "mean accuracy: 0.860682460335\n",
      "------------------------------\n",
      "\n",
      "C: 0.129154966501\n",
      "penalty: l2\n",
      "class weight: balanced\n",
      "mean accuracy: 0.941969137144\n",
      "------------------------------\n",
      "\n",
      "C: 0.0464158883361\n",
      "penalty: l1\n",
      "class weight: None\n",
      "mean accuracy: 0.852206042165\n",
      "------------------------------\n",
      "\n",
      "C: 0.0464158883361\n",
      "penalty: l2\n",
      "class weight: None\n",
      "mean accuracy: 0.953053683982\n",
      "------------------------------\n",
      "\n",
      "C: 0.0464158883361\n",
      "penalty: l1\n",
      "class weight: balanced\n",
      "mean accuracy: 0.866985437948\n",
      "------------------------------\n",
      "\n",
      "C: 0.0464158883361\n",
      "penalty: l2\n",
      "class weight: balanced\n",
      "mean accuracy: 0.945446642034\n",
      "------------------------------\n",
      "\n",
      "C: 0.016681005372\n",
      "penalty: l1\n",
      "class weight: None\n",
      "mean accuracy: 0.860247772223\n",
      "------------------------------\n",
      "\n",
      "C: 0.016681005372\n",
      "penalty: l2\n",
      "class weight: None\n",
      "mean accuracy: 0.958921973484\n",
      "------------------------------\n",
      "\n",
      "C: 0.016681005372\n",
      "penalty: l1\n",
      "class weight: balanced\n",
      "mean accuracy: 0.878287328842\n",
      "------------------------------\n",
      "\n",
      "C: 0.016681005372\n",
      "penalty: l2\n",
      "class weight: balanced\n",
      "mean accuracy: 0.950880243425\n",
      "------------------------------\n",
      "\n",
      "C: 0.00599484250319\n",
      "penalty: l1\n",
      "class weight: None\n",
      "mean accuracy: 0.87937404912\n",
      "------------------------------\n",
      "\n",
      "C: 0.00599484250319\n",
      "penalty: l2\n",
      "class weight: None\n",
      "mean accuracy: 0.962399478374\n",
      "------------------------------\n",
      "\n",
      "C: 0.00599484250319\n",
      "penalty: l1\n",
      "class weight: balanced\n",
      "mean accuracy: 0.894153444903\n",
      "------------------------------\n",
      "\n",
      "C: 0.00599484250319\n",
      "penalty: l2\n",
      "class weight: balanced\n",
      "mean accuracy: 0.955444468594\n",
      "------------------------------\n",
      "\n",
      "C: 0.00215443469003\n",
      "penalty: l1\n",
      "class weight: None\n",
      "mean accuracy: 0.894153444903\n",
      "------------------------------\n",
      "\n",
      "C: 0.00215443469003\n",
      "penalty: l2\n",
      "class weight: None\n",
      "mean accuracy: 0.961747446207\n",
      "------------------------------\n",
      "\n",
      "C: 0.00215443469003\n",
      "penalty: l1\n",
      "class weight: balanced\n",
      "mean accuracy: 0.894153444903\n",
      "------------------------------\n",
      "\n",
      "C: 0.00215443469003\n",
      "penalty: l2\n",
      "class weight: balanced\n",
      "mean accuracy: 0.956531188872\n",
      "------------------------------\n",
      "\n",
      "C: 0.000774263682681\n",
      "penalty: l1\n",
      "class weight: None\n",
      "mean accuracy: 0.63160182569\n",
      "------------------------------\n",
      "\n",
      "C: 0.000774263682681\n",
      "penalty: l2\n",
      "class weight: None\n",
      "mean accuracy: 0.954575092371\n",
      "------------------------------\n",
      "\n",
      "C: 0.000774263682681\n",
      "penalty: l1\n",
      "class weight: balanced\n",
      "mean accuracy: 0.762877635297\n",
      "------------------------------\n",
      "\n",
      "C: 0.000774263682681\n",
      "penalty: l2\n",
      "class weight: balanced\n",
      "mean accuracy: 0.951966963704\n",
      "------------------------------\n",
      "\n",
      "C: 0.000278255940221\n",
      "penalty: l1\n",
      "class weight: None\n",
      "mean accuracy: 0.605955227125\n",
      "------------------------------\n",
      "\n",
      "C: 0.000278255940221\n",
      "penalty: l2\n",
      "class weight: None\n",
      "mean accuracy: 0.949576179092\n",
      "------------------------------\n",
      "\n",
      "C: 0.000278255940221\n",
      "penalty: l1\n",
      "class weight: balanced\n",
      "mean accuracy: 0.605955227125\n",
      "------------------------------\n",
      "\n",
      "C: 0.000278255940221\n",
      "penalty: l2\n",
      "class weight: balanced\n",
      "mean accuracy: 0.945881330146\n",
      "------------------------------\n",
      "\n",
      "C: 0.0001\n",
      "penalty: l1\n",
      "class weight: None\n",
      "mean accuracy: 0.605955227125\n",
      "------------------------------\n",
      "\n",
      "C: 0.0001\n",
      "penalty: l2\n",
      "class weight: None\n",
      "mean accuracy: 0.943490545534\n",
      "------------------------------\n",
      "\n",
      "C: 0.0001\n",
      "penalty: l1\n",
      "class weight: balanced\n",
      "mean accuracy: 0.605955227125\n",
      "------------------------------\n",
      "\n",
      "C: 0.0001\n",
      "penalty: l2\n",
      "class weight: balanced\n",
      "mean accuracy: 0.941099760922\n",
      "------------------------------\n",
      "\n"
     ]
    }
   ],
   "source": [
    "# printing all mean accuracy scores\n",
    "for params, mean_acc, std in grid.grid_scores_:\n",
    "    print 'C:', params['C']\n",
    "    print 'penalty:', params['penalty']\n",
    "    print 'class weight:', params['class_weight']\n",
    "    print 'mean accuracy:', mean_acc\n",
    "    print '------------------------------\\n'"
   ]
  },
  {
   "cell_type": "code",
   "execution_count": 21,
   "metadata": {
    "collapsed": false
   },
   "outputs": [
    {
     "data": {
      "text/plain": [
       "{'C': 0.0059948425031894088,\n",
       " 'class_weight': None,\n",
       " 'n_jobs': 4,\n",
       " 'penalty': 'l2'}"
      ]
     },
     "execution_count": 21,
     "metadata": {},
     "output_type": "execute_result"
    }
   ],
   "source": [
    "# printing the parameters resulting with the best accuracy scores\n",
    "grid.best_params_"
   ]
  },
  {
   "cell_type": "code",
   "execution_count": 27,
   "metadata": {
    "collapsed": false
   },
   "outputs": [
    {
     "data": {
      "text/html": [
       "<div>\n",
       "<table border=\"1\" class=\"dataframe\">\n",
       "  <thead>\n",
       "    <tr style=\"text-align: right;\">\n",
       "      <th></th>\n",
       "      <th>parameters</th>\n",
       "      <th>mean_validation_score</th>\n",
       "      <th>cv_validation_scores</th>\n",
       "      <th>C</th>\n",
       "    </tr>\n",
       "  </thead>\n",
       "  <tbody>\n",
       "    <tr>\n",
       "      <th>0</th>\n",
       "      <td>{u'penalty': u'l1', u'C': 1.0, u'n_jobs': 4, u...</td>\n",
       "      <td>0.844599</td>\n",
       "      <td>[0.682736156352, 1.0, 0.851272015656]</td>\n",
       "      <td>1.000000</td>\n",
       "    </tr>\n",
       "    <tr>\n",
       "      <th>1</th>\n",
       "      <td>{u'penalty': u'l2', u'C': 1.0, u'n_jobs': 4, u...</td>\n",
       "      <td>0.938274</td>\n",
       "      <td>[0.869055374593, 0.998695368558, 0.947162426614]</td>\n",
       "      <td>1.000000</td>\n",
       "    </tr>\n",
       "    <tr>\n",
       "      <th>2</th>\n",
       "      <td>{u'penalty': u'l1', u'C': 1.0, u'n_jobs': 4, u...</td>\n",
       "      <td>0.852206</td>\n",
       "      <td>[0.682736156352, 1.0, 0.874103065884]</td>\n",
       "      <td>1.000000</td>\n",
       "    </tr>\n",
       "    <tr>\n",
       "      <th>3</th>\n",
       "      <td>{u'penalty': u'l2', u'C': 1.0, u'n_jobs': 4, u...</td>\n",
       "      <td>0.933493</td>\n",
       "      <td>[0.851465798046, 0.998695368558, 0.950424005219]</td>\n",
       "      <td>1.000000</td>\n",
       "    </tr>\n",
       "    <tr>\n",
       "      <th>4</th>\n",
       "      <td>{u'penalty': u'l1', u'C': 0.35938136638, u'n_j...</td>\n",
       "      <td>0.846338</td>\n",
       "      <td>[0.682736156352, 1.0, 0.856490541422]</td>\n",
       "      <td>0.359381</td>\n",
       "    </tr>\n",
       "  </tbody>\n",
       "</table>\n",
       "</div>"
      ],
      "text/plain": [
       "                                          parameters  mean_validation_score  \\\n",
       "0  {u'penalty': u'l1', u'C': 1.0, u'n_jobs': 4, u...               0.844599   \n",
       "1  {u'penalty': u'l2', u'C': 1.0, u'n_jobs': 4, u...               0.938274   \n",
       "2  {u'penalty': u'l1', u'C': 1.0, u'n_jobs': 4, u...               0.852206   \n",
       "3  {u'penalty': u'l2', u'C': 1.0, u'n_jobs': 4, u...               0.933493   \n",
       "4  {u'penalty': u'l1', u'C': 0.35938136638, u'n_j...               0.846338   \n",
       "\n",
       "                               cv_validation_scores         C  \n",
       "0             [0.682736156352, 1.0, 0.851272015656]  1.000000  \n",
       "1  [0.869055374593, 0.998695368558, 0.947162426614]  1.000000  \n",
       "2             [0.682736156352, 1.0, 0.874103065884]  1.000000  \n",
       "3  [0.851465798046, 0.998695368558, 0.950424005219]  1.000000  \n",
       "4             [0.682736156352, 1.0, 0.856490541422]  0.359381  "
      ]
     },
     "execution_count": 27,
     "metadata": {},
     "output_type": "execute_result"
    }
   ],
   "source": [
    "df = pd.DataFrame(grid.grid_scores_)\n",
    "df['C'] = [grid.grid_scores_[i][0]['C'] for i in range(len(grid.grid_scores_))]\n",
    "\n",
    "df.head()"
   ]
  },
  {
   "cell_type": "code",
   "execution_count": null,
   "metadata": {
    "collapsed": true
   },
   "outputs": [],
   "source": []
  },
  {
   "cell_type": "code",
   "execution_count": 26,
   "metadata": {
    "collapsed": false
   },
   "outputs": [
    {
     "name": "stdout",
     "output_type": "stream",
     "text": [
      "             precision    recall  f1-score   support\n",
      "\n",
      "is_not_spam       0.99      0.99      0.99       804\n",
      "    is_spam       0.98      0.98      0.98       577\n",
      "\n",
      "avg / total       0.98      0.98      0.98      1381\n",
      "\n"
     ]
    }
   ],
   "source": [
    "from sklearn.metrics import classification_report\n",
    "\n",
    "y_true, y_pred = y_test, est.predict(x_test)\n",
    "print classification_report(y_true, y_pred, target_names=['is_not_spam', 'is_spam'])"
   ]
  },
  {
   "cell_type": "code",
   "execution_count": null,
   "metadata": {
    "collapsed": true
   },
   "outputs": [],
   "source": []
  }
 ],
 "metadata": {
  "kernelspec": {
   "display_name": "Python 2",
   "language": "python",
   "name": "python2"
  },
  "language_info": {
   "codemirror_mode": {
    "name": "ipython",
    "version": 2
   },
   "file_extension": ".py",
   "mimetype": "text/x-python",
   "name": "python",
   "nbconvert_exporter": "python",
   "pygments_lexer": "ipython2",
   "version": "2.7.11"
  }
 },
 "nbformat": 4,
 "nbformat_minor": 0
}
