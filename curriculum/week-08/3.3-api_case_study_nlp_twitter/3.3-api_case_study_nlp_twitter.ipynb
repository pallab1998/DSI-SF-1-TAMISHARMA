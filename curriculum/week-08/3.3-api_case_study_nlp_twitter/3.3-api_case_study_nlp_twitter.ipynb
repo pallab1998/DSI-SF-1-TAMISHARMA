{
 "cells": [
  {
   "cell_type": "markdown",
   "metadata": {},
   "source": [
    "\n",
    "```\n",
    "---\n",
    "title: API Review with Foursquare API\n",
    "type:  lesson + lab + demo\n",
    "duration: \"1:25\"\n",
    "creator:\n",
    "    name: David Yerrington\n",
    "    city: SF\n",
    "---\n",
    "```\n",
    "<img src=\"https://ga-dash.s3.amazonaws.com/production/assets/logo-9f88ae6c9c3871690e33280fcf557f33.png\" style=\"float: left; margin: 10px\">\n",
    "\n",
    "#  API Demo / Lab + NLP\n",
    "Week 8 | 3.3\n",
    "\n",
    "\n",
    "<img src=\"https://snag.gy/RNAEgP.jpg\" width=\"600\">\n",
    "\n",
    "Can we correctly identify which of these two old men tweeted what?\n"
   ]
  },
  {
   "cell_type": "markdown",
   "metadata": {},
   "source": [
    "## (5 mins) Opening \n",
    "\n",
    "Today we are going to attempt to classify wether a tweet comes from Trump, or Sanders.  We are going to:\n",
    "\n",
    "- Create a developer account on Twitter\n",
    "- Create a method to pull a list of tweets from the Twitter API\n",
    "- Perform proper preprocessing on our text\n",
    "- Engineer sentiment feature in our dataset using TextBlob\n",
    "- Explore supervised classification techniques\n"
   ]
  },
  {
   "cell_type": "markdown",
   "metadata": {},
   "source": [
    "## Twitter API Developer Registration\n",
    "\n",
    "If you haven't registered a Twitter account yet, this is a requirement in order to have a \"developer\" account.\n",
    "\n",
    "[Twitter Rest API](https://dev.twitter.com/rest/public)\n",
    "\n"
   ]
  },
  {
   "cell_type": "markdown",
   "metadata": {},
   "source": [
    "## Create an \"App\"\n",
    "\n",
    "![](https://snag.gy/HPBQbJ.jpg)\n",
    "\n",
    "We now will now go to Twitter and register an \"app\" [apps.twitter.com](https://apps.twitter.com/), just like we did for Foursquare.  After we set up our app, we will only need to reference the cooresponding keys Twitter generates for our app.  These are the keys that we will use with our application to communicate with the Twitter API."
   ]
  },
  {
   "cell_type": "markdown",
   "metadata": {},
   "source": [
    "## Install Python Twitter API library\n",
    "\n",
    "Someone was nice enough to build a nice libary for us in Python that we only need to plug in our keys and start collecting data with.  The library we will be using is provided by [Python Twitter Tools](http://mike.verdone.ca/twitter/).\n",
    "\n",
    "To install it, just run the next frame (there is no conda package)."
   ]
  },
  {
   "cell_type": "code",
   "execution_count": 1,
   "metadata": {
    "collapsed": false
   },
   "outputs": [
    {
     "name": "stdout",
     "output_type": "stream",
     "text": [
      "Collecting twitter\n",
      "  Downloading twitter-1.17.1-py2.py3-none-any.whl (55kB)\n",
      "\u001b[K    100% |████████████████████████████████| 61kB 970kB/s \n",
      "\u001b[?25hCollecting python-twitter\n",
      "  Downloading python-twitter-3.1.tar.gz (80kB)\n",
      "\u001b[K    100% |████████████████████████████████| 81kB 1.0MB/s \n",
      "\u001b[?25hCollecting future (from python-twitter)\n",
      "  Downloading future-0.15.2.tar.gz (1.6MB)\n",
      "\u001b[K    100% |████████████████████████████████| 1.6MB 400kB/s \n",
      "\u001b[?25hRequirement already satisfied (use --upgrade to upgrade): requests in /Users/Tami/anaconda/lib/python2.7/site-packages (from python-twitter)\n",
      "Collecting requests-oauthlib (from python-twitter)\n",
      "  Downloading requests_oauthlib-0.6.1-py2.py3-none-any.whl\n",
      "Collecting oauthlib>=0.6.2 (from requests-oauthlib->python-twitter)\n",
      "  Downloading oauthlib-1.1.2.tar.gz (111kB)\n",
      "\u001b[K    100% |████████████████████████████████| 112kB 1.4MB/s \n",
      "\u001b[?25hBuilding wheels for collected packages: python-twitter, future, oauthlib\n",
      "  Running setup.py bdist_wheel for python-twitter ... \u001b[?25l-\b \bdone\n",
      "\u001b[?25h  Stored in directory: /Users/Tami/Library/Caches/pip/wheels/22/1e/2e/506871fa7dc610616948e70812d5e2518cd89c13f757b98f6c\n",
      "  Running setup.py bdist_wheel for future ... \u001b[?25l-\b \b\\\b \b|\b \b/\b \b-\b \b\\\b \b|\b \b/\b \b-\b \b\\\b \b|\b \bdone\n",
      "\u001b[?25h  Stored in directory: /Users/Tami/Library/Caches/pip/wheels/11/c5/d2/ad287de27d0f0d646f119dcffb921f4e63df128f28ab0a1bda\n",
      "  Running setup.py bdist_wheel for oauthlib ... \u001b[?25l-\b \b\\\b \b|\b \b/\b \bdone\n",
      "\u001b[?25h  Stored in directory: /Users/Tami/Library/Caches/pip/wheels/e6/be/43/e4a2ca8cb9c78fbd9b5b14b96cb7a5cc43f36bc11af5dfac5b\n",
      "Successfully built python-twitter future oauthlib\n",
      "Installing collected packages: twitter, future, oauthlib, requests-oauthlib, python-twitter\n",
      "Successfully installed future-0.15.2 oauthlib-1.1.2 python-twitter-3.1 requests-oauthlib-0.6.1 twitter-1.17.1\n",
      "\u001b[33mYou are using pip version 8.1.1, however version 8.1.2 is available.\n",
      "You should consider upgrading via the 'pip install --upgrade pip' command.\u001b[0m\n"
     ]
    }
   ],
   "source": [
    "!pip install twitter python-twitter"
   ]
  },
  {
   "cell_type": "markdown",
   "metadata": {},
   "source": [
    "## Some Boring Twitter Rules\n",
    "\n",
    "Twitter says they will rate limit your requests:\n",
    "\n",
    ">When using application-only authentication, rate limits are determined globally for the entire application. If a method allows for 15 requests per rate limit window, then it allows you to make 15 requests per window — on behalf of your application. This limit is considered completely separately from per-user limits. https://dev.twitter.com/rest/public/rate-limiting\n",
    "\n",
    "Here's a quick overview of what Twitter says are \"the rulez\":\n",
    "\n",
    "![](https://snag.gy/yJ6vIH.jpg)\n"
   ]
  },
  {
   "cell_type": "markdown",
   "metadata": {},
   "source": [
    "## About those Keys: OAuth Review\n",
    "\n",
    "![](https://g.twimg.com/dev/documentation/image/appauth_0.png)"
   ]
  },
  {
   "cell_type": "markdown",
   "metadata": {},
   "source": [
    "## What's going on here?  Take a minute.."
   ]
  },
  {
   "cell_type": "markdown",
   "metadata": {},
   "source": [
    "## Our Application Keys\n",
    "\n",
    "Take note of our application keys that we will be using with our little application that will be connecting to Twitter and mining Tweets from the official Bernie Sanders and Donald Trump twitter accounts.\n",
    "\n",
    "![](https://snag.gy/H1djQK.jpg)"
   ]
  },
  {
   "cell_type": "markdown",
   "metadata": {},
   "source": [
    "## Tweet Miner Class Setup\n",
    "\n",
    "The following code is meant to get us up and running with connectivity to twitter, and the ability to make requests and easily transform the JSON responses to DataFrames.  We will be using object oriented Python in order to organize our code.  We may go into review since this was a topic we covered earlier in the class but we can review it during the lab for those who want to know more about it.\n",
    "\n",
    "\n",
    "> \"request_limit\" is used in this class to limit the number of tweets that are pulled per instance request.  Setting it to something lower until you've worked the bugs out of your request, and captured the data you want, is essential to avoiding any rate limit blocks.\n",
    "\n",
    "#### Key Setup\n",
    "\n",
    "- **consumer_key** - Find this in your app page under the \"Keys and Access Tokens\"\n",
    "- **consumer_secret** - Right under **consumer_key** in the \"Keys and Access Tokens\" tab\n",
    "- **access_token_key** - You will need to click the \"generate tokens\" button to get this\n",
    "- **access_token_secret** - Also available after \"generate tokens\" is pressed\n"
   ]
  },
  {
   "cell_type": "code",
   "execution_count": 2,
   "metadata": {
    "collapsed": true
   },
   "outputs": [],
   "source": [
    "import twitter, re, datetime, pandas as pd\n",
    "\n",
    "class twitterminer():\n",
    "\n",
    "    request_limit   =   20    \n",
    "    api             =   False\n",
    "    data            =   []\n",
    "    \n",
    "    twitter_keys = {\n",
    "        'consumer_key':        'Y8hp6Xi5Ax423qK1HcZX33JZy',\n",
    "        'consumer_secret':     '4JRcolwhAgFnsEbwTsCx0WwBALkJtjgeMnpPmCxnBl34s38hjh',\n",
    "        'access_token_key':    '3287944694-zd6tkrFgx6RU6xoUtkzQSDS7syNolJDKekbsLWY',\n",
    "        'access_token_secret': 'BWPRerAPEByg8RTJ9AdEc4AbG4brK049OYNpRTvAyn2mN'\n",
    "    }\n",
    "    \n",
    "    def __init__(self,  request_limit = 20):\n",
    "        \n",
    "        self.request_limit = request_limit\n",
    "        \n",
    "        # This sets the twitter API object for use internall within the class\n",
    "        self.set_api()\n",
    "        \n",
    "    def set_api(self):\n",
    "        \n",
    "        self.api = twitter.Api(\n",
    "            consumer_key         =   self.twitter_keys['consumer_key'],\n",
    "            consumer_secret      =   self.twitter_keys['consumer_secret'],\n",
    "            access_token_key     =   self.twitter_keys['access_token_key'],\n",
    "            access_token_secret  =   self.twitter_keys['access_token_secret']\n",
    "        )\n",
    "\n",
    "    def mine_user_tweets(self, user=\"dyerrington\", mine_rewteets=False):\n",
    "\n",
    "        statuses   =   self.api.GetUserTimeline(screen_name=user, count=self.request_limit)\n",
    "        data       =   []\n",
    "        \n",
    "        for item in statuses:\n",
    "\n",
    "            mined = {\n",
    "                'tweet_id': item.id,\n",
    "                'handle': item.user.name,\n",
    "                'retweet_count': item.retweet_count,\n",
    "                'text': item.text,\n",
    "                'mined_at': datetime.datetime.now(),\n",
    "                'created_at': item.created_at,\n",
    "            }\n",
    "            \n",
    "            data.append(mined)\n",
    "            \n",
    "        return data"
   ]
  },
  {
   "cell_type": "markdown",
   "metadata": {},
   "source": [
    "## Does anyone remember how we \"instantiate\" a new instance of this class?\n",
    "\n",
    "**Bonus bonus** How do we call the method to *mine_user_tweets()*?"
   ]
  },
  {
   "cell_type": "code",
   "execution_count": 4,
   "metadata": {
    "collapsed": false
   },
   "outputs": [
    {
     "name": "stdout",
     "output_type": "stream",
     "text": [
      "dogs\n"
     ]
    }
   ],
   "source": [
    "def eds_func(like = \"dogs\"):\n",
    "    print like\n",
    "\n",
    "eds_func()"
   ]
  },
  {
   "cell_type": "code",
   "execution_count": 3,
   "metadata": {
    "collapsed": false
   },
   "outputs": [
    {
     "name": "stderr",
     "output_type": "stream",
     "text": [
      "/Users/Tami/anaconda/lib/python2.7/site-packages/IPython/core/formatters.py:92: DeprecationWarning: DisplayFormatter._ipython_display_formatter_default is deprecated: use @default decorator instead.\n",
      "  def _ipython_display_formatter_default(self):\n",
      "/Users/Tami/anaconda/lib/python2.7/site-packages/IPython/core/formatters.py:98: DeprecationWarning: DisplayFormatter._formatters_default is deprecated: use @default decorator instead.\n",
      "  def _formatters_default(self):\n",
      "/Users/Tami/anaconda/lib/python2.7/site-packages/IPython/core/formatters.py:677: DeprecationWarning: PlainTextFormatter._deferred_printers_default is deprecated: use @default decorator instead.\n",
      "  def _deferred_printers_default(self):\n",
      "/Users/Tami/anaconda/lib/python2.7/site-packages/IPython/core/formatters.py:669: DeprecationWarning: PlainTextFormatter._singleton_printers_default is deprecated: use @default decorator instead.\n",
      "  def _singleton_printers_default(self):\n",
      "/Users/Tami/anaconda/lib/python2.7/site-packages/IPython/core/formatters.py:672: DeprecationWarning: PlainTextFormatter._type_printers_default is deprecated: use @default decorator instead.\n",
      "  def _type_printers_default(self):\n",
      "/Users/Tami/anaconda/lib/python2.7/site-packages/IPython/core/formatters.py:669: DeprecationWarning: PlainTextFormatter._singleton_printers_default is deprecated: use @default decorator instead.\n",
      "  def _singleton_printers_default(self):\n",
      "/Users/Tami/anaconda/lib/python2.7/site-packages/IPython/core/formatters.py:672: DeprecationWarning: PlainTextFormatter._type_printers_default is deprecated: use @default decorator instead.\n",
      "  def _type_printers_default(self):\n",
      "/Users/Tami/anaconda/lib/python2.7/site-packages/IPython/core/formatters.py:677: DeprecationWarning: PlainTextFormatter._deferred_printers_default is deprecated: use @default decorator instead.\n",
      "  def _deferred_printers_default(self):\n"
     ]
    },
    {
     "data": {
      "text/plain": [
       "[{'created_at': u'Wed Jun 01 13:17:58 +0000 2016',\n",
       "  'handle': u'Donald J. Trump',\n",
       "  'mined_at': datetime.datetime(2016, 6, 1, 11, 0, 33, 444398),\n",
       "  'retweet_count': 5421,\n",
       "  'text': u'So I raised/gave $5,600,000 for the veterans and the media makes me look bad! They do anything to belittle - totally biased.',\n",
       "  'tweet_id': 737996614573260800},\n",
       " {'created_at': u'Tue May 31 23:18:28 +0000 2016',\n",
       "  'handle': u'Donald J. Trump',\n",
       "  'mined_at': datetime.datetime(2016, 6, 1, 11, 0, 33, 444407),\n",
       "  'retweet_count': 4049,\n",
       "  'text': u'Congratulations to @seanhannity on his tremendous increase in television ratings. Speaking of ratings- I will be on his show tonight @ 10pE.',\n",
       "  'tweet_id': 737785345459113985},\n",
       " {'created_at': u'Tue May 31 23:17:33 +0000 2016',\n",
       "  'handle': u'Donald J. Trump',\n",
       "  'mined_at': datetime.datetime(2016, 6, 1, 11, 0, 33, 444410),\n",
       "  'retweet_count': 5895,\n",
       "  'text': u'I am getting great credit for my press conference today. Crooked Hillary should be admonished for not having a press conference in 179 days.',\n",
       "  'tweet_id': 737785114239864832},\n",
       " {'created_at': u'Tue May 31 23:14:42 +0000 2016',\n",
       "  'handle': u'Donald J. Trump',\n",
       "  'mined_at': datetime.datetime(2016, 6, 1, 11, 0, 33, 444411),\n",
       "  'retweet_count': 5777,\n",
       "  'text': u'Katie Couric, the third rate reporter, who has been largely forgotten, should be ashamed of herself for the fraudulent editing of her doc.',\n",
       "  'tweet_id': 737784398515441664},\n",
       " {'created_at': u'Tue May 31 22:51:56 +0000 2016',\n",
       "  'handle': u'Donald J. Trump',\n",
       "  'mined_at': datetime.datetime(2016, 6, 1, 11, 0, 33, 444413),\n",
       "  'retweet_count': 2140,\n",
       "  'text': u'I will be interviewed on @seanhannity tonight at 10pmE on @FoxNews. Enjoy!',\n",
       "  'tweet_id': 737778668785766404},\n",
       " {'created_at': u'Tue May 31 21:12:07 +0000 2016',\n",
       "  'handle': u'Donald J. Trump',\n",
       "  'mined_at': datetime.datetime(2016, 6, 1, 11, 0, 33, 444415),\n",
       "  'retweet_count': 2934,\n",
       "  'text': u'Join me in Sacramento, California-tomorrow evening @ 7pm! #Trump2016\\nhttps://t.co/W7xy7eXcii https://t.co/km0rRYSDnO',\n",
       "  'tweet_id': 737753549564694528},\n",
       " {'created_at': u'Tue May 31 16:57:17 +0000 2016',\n",
       "  'handle': u'Donald J. Trump',\n",
       "  'mined_at': datetime.datetime(2016, 6, 1, 11, 0, 33, 444416),\n",
       "  'retweet_count': 5156,\n",
       "  'text': u'So many veterans groups are beyond happy with all of the money I raised/gave! It was my great honor - they do an amazing job.',\n",
       "  'tweet_id': 737689416811073536},\n",
       " {'created_at': u'Tue May 31 16:53:58 +0000 2016',\n",
       "  'handle': u'Donald J. Trump',\n",
       "  'mined_at': datetime.datetime(2016, 6, 1, 11, 0, 33, 444418),\n",
       "  'retweet_count': 5225,\n",
       "  'text': u'Just finished a press conference in Trump Tower wherein I gave information on which VETERANS groups got the $5,600,000 that I raised/gave!',\n",
       "  'tweet_id': 737688582849171456},\n",
       " {'created_at': u'Tue May 31 11:42:20 +0000 2016',\n",
       "  'handle': u'Donald J. Trump',\n",
       "  'mined_at': datetime.datetime(2016, 6, 1, 11, 0, 33, 444419),\n",
       "  'retweet_count': 5280,\n",
       "  'text': u'I have raised/given a tremendous amount of money to our great VETERANS, and have got nothing but bad publicity for doing so. Watch!',\n",
       "  'tweet_id': 737610159459991552},\n",
       " {'created_at': u'Tue May 31 10:48:49 +0000 2016',\n",
       "  'handle': u'Donald J. Trump',\n",
       "  'mined_at': datetime.datetime(2016, 6, 1, 11, 0, 33, 444421),\n",
       "  'retweet_count': 3903,\n",
       "  'text': u'So many great things happening - new poll numbers looking good! News conference at 11:00 A.M. today, Trump Tower!',\n",
       "  'tweet_id': 737596690257969152},\n",
       " {'created_at': u'Mon May 30 21:55:41 +0000 2016',\n",
       "  'handle': u'Donald J. Trump',\n",
       "  'mined_at': datetime.datetime(2016, 6, 1, 11, 0, 33, 444423),\n",
       "  'retweet_count': 3868,\n",
       "  'text': u'I should have easily won the Trump University case on summary judgement but have a judge, Gonzalo Curiel, who is totally biased against me.',\n",
       "  'tweet_id': 737402123453878272},\n",
       " {'created_at': u'Mon May 30 21:45:09 +0000 2016',\n",
       "  'handle': u'Donald J. Trump',\n",
       "  'mined_at': datetime.datetime(2016, 6, 1, 11, 0, 33, 444424),\n",
       "  'retweet_count': 3680,\n",
       "  'text': u'I have a judge in the Trump University civil case, Gonzalo Curiel (San Diego), who is very unfair. An Obama pick. Totally biased-hates Trump',\n",
       "  'tweet_id': 737399475509985280},\n",
       " {'created_at': u'Mon May 30 20:15:04 +0000 2016',\n",
       "  'handle': u'Donald J. Trump',\n",
       "  'mined_at': datetime.datetime(2016, 6, 1, 11, 0, 33, 444426),\n",
       "  'retweet_count': 5238,\n",
       "  'text': u'I hope everyone had a great Memorial Day!',\n",
       "  'tweet_id': 737376803514286081},\n",
       " {'created_at': u'Mon May 30 20:13:17 +0000 2016',\n",
       "  'handle': u'Donald J. Trump',\n",
       "  'mined_at': datetime.datetime(2016, 6, 1, 11, 0, 33, 444430),\n",
       "  'retweet_count': 4855,\n",
       "  'text': u'I would have had millions of votes more in the primaries (than Crooked Hillary) if I only had one opponent, instead of sixteen. Broke record',\n",
       "  'tweet_id': 737376356795875330},\n",
       " {'created_at': u'Mon May 30 11:26:47 +0000 2016',\n",
       "  'handle': u'Donald J. Trump',\n",
       "  'mined_at': datetime.datetime(2016, 6, 1, 11, 0, 33, 444431),\n",
       "  'retweet_count': 9384,\n",
       "  'text': u'Have a great Memorial Day and remember that we will soon MAKE AMERICA GREAT AGAIN!',\n",
       "  'tweet_id': 737243856144629760},\n",
       " {'created_at': u'Mon May 30 11:20:38 +0000 2016',\n",
       "  'handle': u'Donald J. Trump',\n",
       "  'mined_at': datetime.datetime(2016, 6, 1, 11, 0, 33, 444433),\n",
       "  'retweet_count': 2636,\n",
       "  'text': u'\"@NBCDFW: Trump rallies veterans at annual Rolling Thunder Gathering https://t.co/b08FcMlgkr https://t.co/RCDeLvHQqD\"',\n",
       "  'tweet_id': 737242308261842945},\n",
       " {'created_at': u'Mon May 30 11:20:09 +0000 2016',\n",
       "  'handle': u'Donald J. Trump',\n",
       "  'mined_at': datetime.datetime(2016, 6, 1, 11, 0, 33, 444434),\n",
       "  'retweet_count': 1528,\n",
       "  'text': u'\"@FrankyLamouche: how many of donald\\'s rolling thunder brigade will sign up and go to war for him in the middle east.\"',\n",
       "  'tweet_id': 737242189055594496},\n",
       " {'created_at': u'Mon May 30 11:19:29 +0000 2016',\n",
       "  'handle': u'Donald J. Trump',\n",
       "  'mined_at': datetime.datetime(2016, 6, 1, 11, 0, 33, 444436),\n",
       "  'retweet_count': 4049,\n",
       "  'text': u'\"@MariaErnandez3b: Trump Supports Rolling Thunder Rally #TRUMP STRONG https://t.co/pfVXQ8NdZu\" So true, and remember the M.I.A.\\'s!',\n",
       "  'tweet_id': 737242018687164416},\n",
       " {'created_at': u'Mon May 30 11:17:04 +0000 2016',\n",
       "  'handle': u'Donald J. Trump',\n",
       "  'mined_at': datetime.datetime(2016, 6, 1, 11, 0, 33, 444438),\n",
       "  'retweet_count': 2060,\n",
       "  'text': u'\"@ScottWRasmussen: Donald Trump and Bikers Share Affection at Rolling Thunder Rally https://t.co/ZZl2sc29dn\" A great day in D.C.!',\n",
       "  'tweet_id': 737241411465170944},\n",
       " {'created_at': u'Mon May 30 11:10:12 +0000 2016',\n",
       "  'handle': u'Donald J. Trump',\n",
       "  'mined_at': datetime.datetime(2016, 6, 1, 11, 0, 33, 444441),\n",
       "  'retweet_count': 3370,\n",
       "  'text': u'\"@TeaPartyNevada: #Trump2016 \"Illegals are taken care of better than our veterans.\"  https://t.co/KKIgM4rNma https://t.co/1cEZ8wG7Cy\"',\n",
       "  'tweet_id': 737239685295181824}]"
      ]
     },
     "execution_count": 3,
     "metadata": {},
     "output_type": "execute_result"
    }
   ],
   "source": [
    "# twitter ids:  realDonaldTrump, berniesanders\n",
    "# Let's test this out here..\n",
    "miner = twitterminer()\n",
    "miner.mine_user_tweets(user = \"realDonaldTrump\")"
   ]
  },
  {
   "cell_type": "markdown",
   "metadata": {
    "collapsed": true
   },
   "source": [
    "##  Now we create some training data\n",
    "\n",
    "We will have to munge a little bit in order to get our \"mined\" data from the Twitter API.  \n",
    "\n",
    " - Mine Trump Tweets\n",
    " - Create DataFrame\n",
    " - Mine Sanders Tweets\n",
    " - Append to DataFrame"
   ]
  },
  {
   "cell_type": "code",
   "execution_count": 5,
   "metadata": {
    "collapsed": true
   },
   "outputs": [],
   "source": [
    "# we only need to \"instantiate\" once.  Then we can call mine_user_tweets as much as we want.\n",
    "miner = twitterminer(request_limit=100)\n",
    "trump_tweets = miner.mine_user_tweets(\"realDonaldTrump\")"
   ]
  },
  {
   "cell_type": "code",
   "execution_count": 6,
   "metadata": {
    "collapsed": false
   },
   "outputs": [
    {
     "data": {
      "text/html": [
       "<div>\n",
       "<table border=\"1\" class=\"dataframe\">\n",
       "  <thead>\n",
       "    <tr style=\"text-align: right;\">\n",
       "      <th></th>\n",
       "      <th>created_at</th>\n",
       "      <th>handle</th>\n",
       "      <th>mined_at</th>\n",
       "      <th>retweet_count</th>\n",
       "      <th>text</th>\n",
       "      <th>tweet_id</th>\n",
       "    </tr>\n",
       "  </thead>\n",
       "  <tbody>\n",
       "    <tr>\n",
       "      <th>0</th>\n",
       "      <td>Wed Jun 01 13:17:58 +0000 2016</td>\n",
       "      <td>Donald J. Trump</td>\n",
       "      <td>2016-06-01 11:04:59.294923</td>\n",
       "      <td>5462</td>\n",
       "      <td>So I raised/gave $5,600,000 for the veterans a...</td>\n",
       "      <td>737996614573260800</td>\n",
       "    </tr>\n",
       "    <tr>\n",
       "      <th>1</th>\n",
       "      <td>Tue May 31 23:18:28 +0000 2016</td>\n",
       "      <td>Donald J. Trump</td>\n",
       "      <td>2016-06-01 11:04:59.294935</td>\n",
       "      <td>4053</td>\n",
       "      <td>Congratulations to @seanhannity on his tremend...</td>\n",
       "      <td>737785345459113985</td>\n",
       "    </tr>\n",
       "    <tr>\n",
       "      <th>2</th>\n",
       "      <td>Tue May 31 23:17:33 +0000 2016</td>\n",
       "      <td>Donald J. Trump</td>\n",
       "      <td>2016-06-01 11:04:59.294938</td>\n",
       "      <td>5898</td>\n",
       "      <td>I am getting great credit for my press confere...</td>\n",
       "      <td>737785114239864832</td>\n",
       "    </tr>\n",
       "    <tr>\n",
       "      <th>3</th>\n",
       "      <td>Tue May 31 23:14:42 +0000 2016</td>\n",
       "      <td>Donald J. Trump</td>\n",
       "      <td>2016-06-01 11:04:59.294941</td>\n",
       "      <td>5787</td>\n",
       "      <td>Katie Couric, the third rate reporter, who has...</td>\n",
       "      <td>737784398515441664</td>\n",
       "    </tr>\n",
       "    <tr>\n",
       "      <th>4</th>\n",
       "      <td>Tue May 31 22:51:56 +0000 2016</td>\n",
       "      <td>Donald J. Trump</td>\n",
       "      <td>2016-06-01 11:04:59.294943</td>\n",
       "      <td>2142</td>\n",
       "      <td>I will be interviewed on @seanhannity tonight ...</td>\n",
       "      <td>737778668785766404</td>\n",
       "    </tr>\n",
       "    <tr>\n",
       "      <th>5</th>\n",
       "      <td>Tue May 31 21:12:07 +0000 2016</td>\n",
       "      <td>Donald J. Trump</td>\n",
       "      <td>2016-06-01 11:04:59.294947</td>\n",
       "      <td>2935</td>\n",
       "      <td>Join me in Sacramento, California-tomorrow eve...</td>\n",
       "      <td>737753549564694528</td>\n",
       "    </tr>\n",
       "    <tr>\n",
       "      <th>6</th>\n",
       "      <td>Tue May 31 16:57:17 +0000 2016</td>\n",
       "      <td>Donald J. Trump</td>\n",
       "      <td>2016-06-01 11:04:59.294949</td>\n",
       "      <td>5156</td>\n",
       "      <td>So many veterans groups are beyond happy with ...</td>\n",
       "      <td>737689416811073536</td>\n",
       "    </tr>\n",
       "    <tr>\n",
       "      <th>7</th>\n",
       "      <td>Tue May 31 16:53:58 +0000 2016</td>\n",
       "      <td>Donald J. Trump</td>\n",
       "      <td>2016-06-01 11:04:59.294951</td>\n",
       "      <td>5225</td>\n",
       "      <td>Just finished a press conference in Trump Towe...</td>\n",
       "      <td>737688582849171456</td>\n",
       "    </tr>\n",
       "    <tr>\n",
       "      <th>8</th>\n",
       "      <td>Tue May 31 11:42:20 +0000 2016</td>\n",
       "      <td>Donald J. Trump</td>\n",
       "      <td>2016-06-01 11:04:59.294954</td>\n",
       "      <td>5283</td>\n",
       "      <td>I have raised/given a tremendous amount of mon...</td>\n",
       "      <td>737610159459991552</td>\n",
       "    </tr>\n",
       "    <tr>\n",
       "      <th>9</th>\n",
       "      <td>Tue May 31 10:48:49 +0000 2016</td>\n",
       "      <td>Donald J. Trump</td>\n",
       "      <td>2016-06-01 11:04:59.294956</td>\n",
       "      <td>3903</td>\n",
       "      <td>So many great things happening - new poll numb...</td>\n",
       "      <td>737596690257969152</td>\n",
       "    </tr>\n",
       "  </tbody>\n",
       "</table>\n",
       "</div>"
      ],
      "text/plain": [
       "                       created_at           handle                   mined_at  \\\n",
       "0  Wed Jun 01 13:17:58 +0000 2016  Donald J. Trump 2016-06-01 11:04:59.294923   \n",
       "1  Tue May 31 23:18:28 +0000 2016  Donald J. Trump 2016-06-01 11:04:59.294935   \n",
       "2  Tue May 31 23:17:33 +0000 2016  Donald J. Trump 2016-06-01 11:04:59.294938   \n",
       "3  Tue May 31 23:14:42 +0000 2016  Donald J. Trump 2016-06-01 11:04:59.294941   \n",
       "4  Tue May 31 22:51:56 +0000 2016  Donald J. Trump 2016-06-01 11:04:59.294943   \n",
       "5  Tue May 31 21:12:07 +0000 2016  Donald J. Trump 2016-06-01 11:04:59.294947   \n",
       "6  Tue May 31 16:57:17 +0000 2016  Donald J. Trump 2016-06-01 11:04:59.294949   \n",
       "7  Tue May 31 16:53:58 +0000 2016  Donald J. Trump 2016-06-01 11:04:59.294951   \n",
       "8  Tue May 31 11:42:20 +0000 2016  Donald J. Trump 2016-06-01 11:04:59.294954   \n",
       "9  Tue May 31 10:48:49 +0000 2016  Donald J. Trump 2016-06-01 11:04:59.294956   \n",
       "\n",
       "   retweet_count                                               text  \\\n",
       "0           5462  So I raised/gave $5,600,000 for the veterans a...   \n",
       "1           4053  Congratulations to @seanhannity on his tremend...   \n",
       "2           5898  I am getting great credit for my press confere...   \n",
       "3           5787  Katie Couric, the third rate reporter, who has...   \n",
       "4           2142  I will be interviewed on @seanhannity tonight ...   \n",
       "5           2935  Join me in Sacramento, California-tomorrow eve...   \n",
       "6           5156  So many veterans groups are beyond happy with ...   \n",
       "7           5225  Just finished a press conference in Trump Towe...   \n",
       "8           5283  I have raised/given a tremendous amount of mon...   \n",
       "9           3903  So many great things happening - new poll numb...   \n",
       "\n",
       "             tweet_id  \n",
       "0  737996614573260800  \n",
       "1  737785345459113985  \n",
       "2  737785114239864832  \n",
       "3  737784398515441664  \n",
       "4  737778668785766404  \n",
       "5  737753549564694528  \n",
       "6  737689416811073536  \n",
       "7  737688582849171456  \n",
       "8  737610159459991552  \n",
       "9  737596690257969152  "
      ]
     },
     "execution_count": 6,
     "metadata": {},
     "output_type": "execute_result"
    }
   ],
   "source": [
    "trump_df = pd.DataFrame(trump_tweets)\n",
    "trump_df.head(10)"
   ]
  },
  {
   "cell_type": "markdown",
   "metadata": {},
   "source": [
    "## Any interesting ngrams going on with Trump?"
   ]
  },
  {
   "cell_type": "code",
   "execution_count": 7,
   "metadata": {
    "collapsed": false
   },
   "outputs": [
    {
     "data": {
      "text/plain": [
       "[(u'https co', 31),\n",
       " (u'thank you', 14),\n",
       " (u'crooked hillary', 10),\n",
       " (u'of the', 10),\n",
       " (u'trump2016 https', 8),\n",
       " (u'in the', 8),\n",
       " (u'for the', 6),\n",
       " (u'will be', 6),\n",
       " (u'great again', 5),\n",
       " (u'america great', 5)]"
      ]
     },
     "execution_count": 7,
     "metadata": {},
     "output_type": "execute_result"
    }
   ],
   "source": [
    "from sklearn.feature_extraction.text import TfidfVectorizer\n",
    "from collections import Counter\n",
    "\n",
    "# We can use the TfidfVectorizer to find ngrams for us\n",
    "vect = TfidfVectorizer(ngram_range=(2,2))\n",
    "\n",
    "# Pulls all of trumps tweet text's into one giant string\n",
    "summaries = \"\".join(trump_df['text'])\n",
    "ngrams_summaries = vect.build_analyzer()(summaries)\n",
    "\n",
    "Counter(ngrams_summaries).most_common(10)"
   ]
  },
  {
   "cell_type": "markdown",
   "metadata": {},
   "source": [
    "## (10 mins) Try this exercize with Bernie Sanders.."
   ]
  },
  {
   "cell_type": "code",
   "execution_count": 10,
   "metadata": {
    "collapsed": true
   },
   "outputs": [],
   "source": [
    "sanders_tweets = miner.mine_user_tweets(\"berniesanders\")\n",
    "\n",
    "sanders_df = pd.DataFrame(sanders_tweets)"
   ]
  },
  {
   "cell_type": "code",
   "execution_count": 11,
   "metadata": {
    "collapsed": false
   },
   "outputs": [
    {
     "data": {
      "text/plain": [
       "[(u'https co', 50),\n",
       " (u'need to', 8),\n",
       " (u'of the', 8),\n",
       " (u'this country', 6),\n",
       " (u'we need to', 5),\n",
       " (u'in the', 5),\n",
       " (u'we need', 5),\n",
       " (u'here https co', 5),\n",
       " (u'here https', 5),\n",
       " (u'tune in', 5)]"
      ]
     },
     "execution_count": 11,
     "metadata": {},
     "output_type": "execute_result"
    }
   ],
   "source": [
    "from sklearn.feature_extraction.text import TfidfVectorizer\n",
    "from collections import Counter\n",
    "\n",
    "vect = TfidfVectorizer(ngram_range=(2,3))\n",
    "\n",
    "summaries = \"\".join(sanders_df['text'])\n",
    "ngrams_summaries = vect.build_analyzer()(summaries)\n",
    "\n",
    "Counter(ngrams_summaries).most_common(10)"
   ]
  },
  {
   "cell_type": "code",
   "execution_count": 12,
   "metadata": {
    "collapsed": true
   },
   "outputs": [],
   "source": [
    "all_tweets = pd.DataFrame(trump_tweets + sanders_tweets)"
   ]
  },
  {
   "cell_type": "markdown",
   "metadata": {},
   "source": [
    "## Preprocessing our Tweets\n",
    "\n",
    "In order to do classfication recall that we need a set of features.  Our features are literally what our presidential hopefulls say on Twitter. \n",
    "\n",
    "We will need to:\n",
    "- Vectorize input text data\n",
    "- Intialize a model (let's try Logistic regression)\n",
    "- Train / Predict / Cross Validate\n",
    "- Score / Evaluate\n"
   ]
  },
  {
   "cell_type": "code",
   "execution_count": 13,
   "metadata": {
    "collapsed": false
   },
   "outputs": [
    {
     "data": {
      "text/plain": [
       "LogisticRegression(C=1.0, class_weight=None, dual=False, fit_intercept=True,\n",
       "          intercept_scaling=1, max_iter=100, multi_class='ovr', n_jobs=1,\n",
       "          penalty='l2', random_state=None, solver='liblinear', tol=0.0001,\n",
       "          verbose=0, warm_start=False)"
      ]
     },
     "execution_count": 13,
     "metadata": {},
     "output_type": "execute_result"
    }
   ],
   "source": [
    "from sklearn.linear_model import LogisticRegression\n",
    "\n",
    "# Preprocess our text data to Tfidf\n",
    "tfv = TfidfVectorizer(lowercase=True, strip_accents='unicode')\n",
    "X_all = tfv.fit_transform(all_tweets['text'])\n",
    "\n",
    "# Setup logistic regression (or try another classification method here)\n",
    "estimator = LogisticRegression()\n",
    "estimator.fit(X_all, all_tweets['handle'])\n",
    "\n"
   ]
  },
  {
   "cell_type": "markdown",
   "metadata": {},
   "source": [
    "## Check Prediction vs Random Sanders Tweet"
   ]
  },
  {
   "cell_type": "code",
   "execution_count": 16,
   "metadata": {
    "collapsed": false
   },
   "outputs": [
    {
     "name": "stdout",
     "output_type": "stream",
     "text": [
      "[[ 0.64385463  0.35614537]\n",
      " [ 0.29054443  0.70945557]]\n",
      "[u'Bernie Sanders' u'Donald J. Trump']\n"
     ]
    }
   ],
   "source": [
    "# Prep our source as TfIdf vectors\n",
    "source_test = [\n",
    "    \"Demanding that the wealthy and the powerful start paying their fair share of taxes that's exactly what the American people want.\",\n",
    "    \"Crooked Hillary is spending tremendous amounts of Wall Street money on false ads against me. She is a very dishonest person!\"\n",
    "]\n",
    "\n",
    "############\n",
    "# NOTE:  Do not re-initialize the tfidf vectorizor or the feature space willbe overwritten and\n",
    "# hence your transform will not match the number of features you trained your model on.\n",
    "#\n",
    "# This is why you only need to \"transform\" since you already \"fit\" previously\n",
    "#\n",
    "####\n",
    "\n",
    "X_all = tfv.transform(source_test)\n",
    "\n",
    "# Predict using previously trained logist regression `estimator`\n",
    "print estimator.predict_proba(X_all)\n",
    "print estimator.predict(X_all)"
   ]
  },
  {
   "cell_type": "markdown",
   "metadata": {},
   "source": [
    "## Lab Time\n",
    "\n",
    "We would like you to perform an analysis using a proper cross validation.  Also, try classfication using other models."
   ]
  },
  {
   "cell_type": "markdown",
   "metadata": {},
   "source": [
    "### 1. Implement the same analysis using more data.\n",
    "\n",
    "Experiment with using more data.  The API may not like that you are blowing through their limits so definitely be careful.  Try to grab only what you need 1x, then work on the copy of the objects that are returned.  Read the documents about rate limits and see if you can get enough without hitting the rate limit.  Are there any options availabl in the API to avoid such a problem?"
   ]
  },
  {
   "cell_type": "code",
   "execution_count": null,
   "metadata": {
    "collapsed": true
   },
   "outputs": [],
   "source": [
    "# we only need to \"instantiate\" once.  Then we can call mine_user_tweets as much as we want.\n",
    "miner = twitterminer(request_limit=200)\n",
    "trump_tweets = miner.mine_user_tweets(\"realDonaldTrump\")\n",
    "\n",
    "sanders_tweets = miner.mine_user_tweets(\"berniesanders\")"
   ]
  },
  {
   "cell_type": "markdown",
   "metadata": {},
   "source": [
    "### 2. Implement K-Folds or test/train split.\n",
    "\n",
    "Double check that you are getting random data before moving forward.  What would happen if you over sample Trump more than Sanders?"
   ]
  },
  {
   "cell_type": "code",
   "execution_count": null,
   "metadata": {
    "collapsed": true
   },
   "outputs": [],
   "source": []
  },
  {
   "cell_type": "markdown",
   "metadata": {},
   "source": [
    "### 3. Mine more Tweets that aren't in your data set\n",
    "Or use the hold-out method to do a proper test.  Refer back to our advanced classification evaluation lesson if you need to."
   ]
  },
  {
   "cell_type": "code",
   "execution_count": null,
   "metadata": {
    "collapsed": true
   },
   "outputs": [],
   "source": []
  },
  {
   "cell_type": "markdown",
   "metadata": {},
   "source": [
    "### 4. Check your classification report\n",
    "How's precision / recall of your model?"
   ]
  },
  {
   "cell_type": "code",
   "execution_count": null,
   "metadata": {
    "collapsed": true
   },
   "outputs": [],
   "source": []
  },
  {
   "cell_type": "markdown",
   "metadata": {},
   "source": [
    "### 5.  Change out your TFIDF vectorizer for CountVectorizer.\n",
    "How has this impacted your mode performance at all?"
   ]
  },
  {
   "cell_type": "code",
   "execution_count": null,
   "metadata": {
    "collapsed": true
   },
   "outputs": [],
   "source": []
  },
  {
   "cell_type": "markdown",
   "metadata": {},
   "source": [
    "### 6.  Implement a different classification method such as random forrests.\n",
    "Or pick one of your favorites"
   ]
  },
  {
   "cell_type": "code",
   "execution_count": null,
   "metadata": {
    "collapsed": true
   },
   "outputs": [],
   "source": []
  },
  {
   "cell_type": "markdown",
   "metadata": {},
   "source": [
    "### 7.  Try to remove stopwords from your text during your preprocessing step\n",
    "\n",
    "Then double check your classfication report.  Have things improved?"
   ]
  },
  {
   "cell_type": "code",
   "execution_count": null,
   "metadata": {
    "collapsed": true
   },
   "outputs": [],
   "source": []
  },
  {
   "cell_type": "markdown",
   "metadata": {},
   "source": [
    "### 8.  Try removing samples that have links or that are obviously just announcements or \"noise\" that doesn't appear to represent \"True\" tweets by the authors."
   ]
  },
  {
   "cell_type": "code",
   "execution_count": null,
   "metadata": {
    "collapsed": true
   },
   "outputs": [],
   "source": []
  },
  {
   "cell_type": "markdown",
   "metadata": {},
   "source": [
    "### 9. What are some contrasting words or phrases that you can see between the ngrams for each author?"
   ]
  },
  {
   "cell_type": "code",
   "execution_count": null,
   "metadata": {
    "collapsed": true
   },
   "outputs": [],
   "source": []
  },
  {
   "cell_type": "markdown",
   "metadata": {},
   "source": [
    "### 10.  What do you think you can do to improve the scores further?"
   ]
  },
  {
   "cell_type": "code",
   "execution_count": null,
   "metadata": {
    "collapsed": true
   },
   "outputs": [],
   "source": []
  },
  {
   "cell_type": "markdown",
   "metadata": {},
   "source": [
    "### 11. **BONUS** Using TextBlob, add a sentiment feature to your dataset."
   ]
  },
  {
   "cell_type": "code",
   "execution_count": null,
   "metadata": {
    "collapsed": true
   },
   "outputs": [],
   "source": []
  },
  {
   "cell_type": "markdown",
   "metadata": {},
   "source": [
    "### 12. BONUS BONUS Apply PCA to your text features\n",
    "Is this effective? (ie: we could talk about LDA here a little bit)"
   ]
  },
  {
   "cell_type": "code",
   "execution_count": null,
   "metadata": {
    "collapsed": true
   },
   "outputs": [],
   "source": []
  },
  {
   "cell_type": "markdown",
   "metadata": {},
   "source": [
    "## Closing\n",
    "\n",
    "- What where the most impactful changes that helped your models?\n",
    "- What do you think would happen if we had more Trump Tweets than Sanders?\n",
    "- What other projects might you think to apply these problems against?"
   ]
  }
 ],
 "metadata": {
  "kernelspec": {
   "display_name": "Python 2",
   "language": "python",
   "name": "python2"
  },
  "language_info": {
   "codemirror_mode": {
    "name": "ipython",
    "version": 2
   },
   "file_extension": ".py",
   "mimetype": "text/x-python",
   "name": "python",
   "nbconvert_exporter": "python",
   "pygments_lexer": "ipython2",
   "version": "2.7.11"
  },
  "widgets": {
   "state": {},
   "version": "1.1.0"
  }
 },
 "nbformat": 4,
 "nbformat_minor": 0
}
