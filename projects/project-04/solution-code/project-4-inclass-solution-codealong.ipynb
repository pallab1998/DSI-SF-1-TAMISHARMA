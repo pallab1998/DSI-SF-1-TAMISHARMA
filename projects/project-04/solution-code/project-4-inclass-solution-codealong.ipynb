{
 "cells": [
  {
   "cell_type": "markdown",
   "metadata": {},
   "source": [
    "# Classification with stumbleupon data\n",
    "\n",
    "Project 4 has been changed since scraping was untenable. The project now focuses on the stumbleupon kaggle dataset. For more information on this dataset, [check out the website here](https://www.kaggle.com/c/stumbleupon).\n",
    "\n",
    "---"
   ]
  },
  {
   "cell_type": "markdown",
   "metadata": {},
   "source": [
    "## 1. Load in the dataset\n",
    "\n",
    "This is the only part completed for you.\n",
    "\n",
    "---"
   ]
  },
  {
   "cell_type": "code",
   "execution_count": 48,
   "metadata": {
    "collapsed": true
   },
   "outputs": [],
   "source": [
    "import pandas as pd\n",
    "import numpy as np\n",
    "import matplotlib.pyplot as plt\n",
    "import seaborn as sns\n",
    "\n",
    "sns.set_style('white')\n",
    "\n",
    "%matplotlib inline"
   ]
  },
  {
   "cell_type": "code",
   "execution_count": 49,
   "metadata": {
    "collapsed": false
   },
   "outputs": [],
   "source": [
    "su = pd.read_csv('../dataset/evergreen.tsv', delimiter='\\t')"
   ]
  },
  {
   "cell_type": "markdown",
   "metadata": {},
   "source": [
    "## 2. Clean up/examine your data\n",
    "\n",
    "Some of the columns may have values that need changing or that are of the wrong type. There could also be columns that aren't very useful.\n",
    "\n",
    "---"
   ]
  },
  {
   "cell_type": "code",
   "execution_count": 50,
   "metadata": {
    "collapsed": false
   },
   "outputs": [
    {
     "data": {
      "text/plain": [
       "url                                object\n",
       "urlid                               int64\n",
       "boilerplate                        object\n",
       "alchemy_category                   object\n",
       "alchemy_category_score             object\n",
       "avglinksize                       float64\n",
       "commonlinkratio_1                 float64\n",
       "commonlinkratio_2                 float64\n",
       "commonlinkratio_3                 float64\n",
       "commonlinkratio_4                 float64\n",
       "compression_ratio                 float64\n",
       "embed_ratio                       float64\n",
       "framebased                          int64\n",
       "frameTagRatio                     float64\n",
       "hasDomainLink                       int64\n",
       "html_ratio                        float64\n",
       "image_ratio                       float64\n",
       "is_news                            object\n",
       "lengthyLinkDomain                   int64\n",
       "linkwordscore                       int64\n",
       "news_front_page                    object\n",
       "non_markup_alphanum_characters      int64\n",
       "numberOfLinks                       int64\n",
       "numwords_in_url                     int64\n",
       "parametrizedLinkRatio             float64\n",
       "spelling_errors_ratio             float64\n",
       "label                               int64\n",
       "dtype: object"
      ]
     },
     "execution_count": 50,
     "metadata": {},
     "output_type": "execute_result"
    }
   ],
   "source": [
    "su.dtypes"
   ]
  },
  {
   "cell_type": "code",
   "execution_count": 51,
   "metadata": {
    "collapsed": false
   },
   "outputs": [
    {
     "data": {
      "text/plain": [
       "0       0.789131\n",
       "1       0.574147\n",
       "2       0.996526\n",
       "3       0.801248\n",
       "4       0.719157\n",
       "5              ?\n",
       "6        0.22111\n",
       "7              ?\n",
       "8              ?\n",
       "9              ?\n",
       "10      0.816604\n",
       "11       0.89156\n",
       "12      0.872323\n",
       "13             ?\n",
       "14      0.559991\n",
       "15      0.548963\n",
       "16      0.598149\n",
       "17       0.77292\n",
       "18      0.287884\n",
       "19      0.585389\n",
       "20      0.941129\n",
       "21      0.437599\n",
       "22      0.644872\n",
       "23             ?\n",
       "24             ?\n",
       "25      0.898192\n",
       "26      0.348995\n",
       "27          0.85\n",
       "28             ?\n",
       "29             ?\n",
       "          ...   \n",
       "7365           ?\n",
       "7366           ?\n",
       "7367           ?\n",
       "7368           ?\n",
       "7369           ?\n",
       "7370    0.749882\n",
       "7371    0.627681\n",
       "7372    0.393665\n",
       "7373     0.70019\n",
       "7374    0.882445\n",
       "7375    0.483953\n",
       "7376    0.332504\n",
       "7377    0.949532\n",
       "7378    0.648793\n",
       "7379    0.657172\n",
       "7380           ?\n",
       "7381     0.22311\n",
       "7382    0.395289\n",
       "7383    0.307736\n",
       "7384           ?\n",
       "7385           ?\n",
       "7386    0.832741\n",
       "7387     0.31693\n",
       "7388    0.679419\n",
       "7389           ?\n",
       "7390    0.651067\n",
       "7391     0.14192\n",
       "7392    0.196273\n",
       "7393    0.617876\n",
       "7394           ?\n",
       "Name: alchemy_category_score, dtype: object"
      ]
     },
     "execution_count": 51,
     "metadata": {},
     "output_type": "execute_result"
    }
   ],
   "source": [
    "su.alchemy_category_score"
   ]
  },
  {
   "cell_type": "code",
   "execution_count": 52,
   "metadata": {
    "collapsed": true
   },
   "outputs": [],
   "source": [
    "def convert_score_to_float(x):\n",
    "    try:\n",
    "        return float(x)\n",
    "    except:\n",
    "        return np.nan\n",
    "    \n",
    "su['alchemy_category_score'] = su.alchemy_category_score.map(convert_score_to_float)"
   ]
  },
  {
   "cell_type": "code",
   "execution_count": 53,
   "metadata": {
    "collapsed": false
   },
   "outputs": [
    {
     "data": {
      "text/plain": [
       "0    0.789131\n",
       "1    0.574147\n",
       "2    0.996526\n",
       "3    0.801248\n",
       "4    0.719157\n",
       "5         NaN\n",
       "6    0.221110\n",
       "7         NaN\n",
       "8         NaN\n",
       "9         NaN\n",
       "Name: alchemy_category_score, dtype: float64"
      ]
     },
     "execution_count": 53,
     "metadata": {},
     "output_type": "execute_result"
    }
   ],
   "source": [
    "su.alchemy_category_score[0:10]"
   ]
  },
  {
   "cell_type": "code",
   "execution_count": 54,
   "metadata": {
    "collapsed": false
   },
   "outputs": [
    {
     "data": {
      "text/plain": [
       "array(['1', '?'], dtype=object)"
      ]
     },
     "execution_count": 54,
     "metadata": {},
     "output_type": "execute_result"
    }
   ],
   "source": [
    "su.is_news.unique()"
   ]
  },
  {
   "cell_type": "code",
   "execution_count": 55,
   "metadata": {
    "collapsed": true
   },
   "outputs": [],
   "source": [
    "su['is_news'] = su.is_news.map(lambda x: 1 if x == '1' else 0)"
   ]
  },
  {
   "cell_type": "code",
   "execution_count": 56,
   "metadata": {
    "collapsed": false
   },
   "outputs": [
    {
     "data": {
      "text/plain": [
       "array([1, 0])"
      ]
     },
     "execution_count": 56,
     "metadata": {},
     "output_type": "execute_result"
    }
   ],
   "source": [
    "su.is_news.unique()"
   ]
  },
  {
   "cell_type": "code",
   "execution_count": 57,
   "metadata": {
    "collapsed": false
   },
   "outputs": [
    {
     "data": {
      "text/plain": [
       "1    4552\n",
       "0    2843\n",
       "Name: is_news, dtype: int64"
      ]
     },
     "execution_count": 57,
     "metadata": {},
     "output_type": "execute_result"
    }
   ],
   "source": [
    "su.is_news.value_counts()"
   ]
  },
  {
   "cell_type": "code",
   "execution_count": 58,
   "metadata": {
    "collapsed": false
   },
   "outputs": [
    {
     "data": {
      "text/plain": [
       "array(['0', '?', '1'], dtype=object)"
      ]
     },
     "execution_count": 58,
     "metadata": {},
     "output_type": "execute_result"
    }
   ],
   "source": [
    "su.news_front_page.unique()"
   ]
  },
  {
   "cell_type": "code",
   "execution_count": 59,
   "metadata": {
    "collapsed": false
   },
   "outputs": [
    {
     "data": {
      "text/plain": [
       "0    5853\n",
       "?    1248\n",
       "1     294\n",
       "Name: news_front_page, dtype: int64"
      ]
     },
     "execution_count": 59,
     "metadata": {},
     "output_type": "execute_result"
    }
   ],
   "source": [
    "su.news_front_page.value_counts()"
   ]
  },
  {
   "cell_type": "code",
   "execution_count": 60,
   "metadata": {
    "collapsed": true
   },
   "outputs": [],
   "source": [
    "su.loc[su.is_news == 0, 'news_front_page'] = '0'"
   ]
  },
  {
   "cell_type": "code",
   "execution_count": 61,
   "metadata": {
    "collapsed": false
   },
   "outputs": [
    {
     "data": {
      "text/plain": [
       "0    7135\n",
       "1     260\n",
       "Name: news_front_page, dtype: int64"
      ]
     },
     "execution_count": 61,
     "metadata": {},
     "output_type": "execute_result"
    }
   ],
   "source": [
    "su.news_front_page.value_counts()"
   ]
  },
  {
   "cell_type": "code",
   "execution_count": 62,
   "metadata": {
    "collapsed": false
   },
   "outputs": [],
   "source": [
    "su['news_front_page'] = su.news_front_page.map(lambda x: int(x))"
   ]
  },
  {
   "cell_type": "code",
   "execution_count": 63,
   "metadata": {
    "collapsed": false
   },
   "outputs": [
    {
     "data": {
      "text/plain": [
       "url                                object\n",
       "urlid                               int64\n",
       "boilerplate                        object\n",
       "alchemy_category                   object\n",
       "alchemy_category_score            float64\n",
       "avglinksize                       float64\n",
       "commonlinkratio_1                 float64\n",
       "commonlinkratio_2                 float64\n",
       "commonlinkratio_3                 float64\n",
       "commonlinkratio_4                 float64\n",
       "compression_ratio                 float64\n",
       "embed_ratio                       float64\n",
       "framebased                          int64\n",
       "frameTagRatio                     float64\n",
       "hasDomainLink                       int64\n",
       "html_ratio                        float64\n",
       "image_ratio                       float64\n",
       "is_news                             int64\n",
       "lengthyLinkDomain                   int64\n",
       "linkwordscore                       int64\n",
       "news_front_page                     int64\n",
       "non_markup_alphanum_characters      int64\n",
       "numberOfLinks                       int64\n",
       "numwords_in_url                     int64\n",
       "parametrizedLinkRatio             float64\n",
       "spelling_errors_ratio             float64\n",
       "label                               int64\n",
       "dtype: object"
      ]
     },
     "execution_count": 63,
     "metadata": {},
     "output_type": "execute_result"
    }
   ],
   "source": [
    "su.dtypes"
   ]
  },
  {
   "cell_type": "code",
   "execution_count": 64,
   "metadata": {
    "collapsed": false
   },
   "outputs": [
    {
     "data": {
      "text/plain": [
       "url                                  0\n",
       "urlid                                0\n",
       "boilerplate                          0\n",
       "alchemy_category                     0\n",
       "alchemy_category_score            2342\n",
       "avglinksize                          0\n",
       "commonlinkratio_1                    0\n",
       "commonlinkratio_2                    0\n",
       "commonlinkratio_3                    0\n",
       "commonlinkratio_4                    0\n",
       "compression_ratio                    0\n",
       "embed_ratio                          0\n",
       "framebased                           0\n",
       "frameTagRatio                        0\n",
       "hasDomainLink                        0\n",
       "html_ratio                           0\n",
       "image_ratio                          0\n",
       "is_news                              0\n",
       "lengthyLinkDomain                    0\n",
       "linkwordscore                        0\n",
       "news_front_page                      0\n",
       "non_markup_alphanum_characters       0\n",
       "numberOfLinks                        0\n",
       "numwords_in_url                      0\n",
       "parametrizedLinkRatio                0\n",
       "spelling_errors_ratio                0\n",
       "label                                0\n",
       "dtype: int64"
      ]
     },
     "execution_count": 64,
     "metadata": {},
     "output_type": "execute_result"
    }
   ],
   "source": [
    "su.isnull().sum()"
   ]
  },
  {
   "cell_type": "code",
   "execution_count": 65,
   "metadata": {
    "collapsed": false
   },
   "outputs": [
    {
     "data": {
      "text/plain": [
       "?                     2342\n",
       "recreation            1229\n",
       "arts_entertainment     941\n",
       "business               880\n",
       "health                 506\n",
       "sports                 380\n",
       "culture_politics       343\n",
       "computer_internet      296\n",
       "science_technology     289\n",
       "gaming                  76\n",
       "religion                72\n",
       "law_crime               31\n",
       "unknown                  6\n",
       "weather                  4\n",
       "Name: alchemy_category, dtype: int64"
      ]
     },
     "execution_count": 65,
     "metadata": {},
     "output_type": "execute_result"
    }
   ],
   "source": [
    "su.alchemy_category.value_counts()"
   ]
  },
  {
   "cell_type": "code",
   "execution_count": 66,
   "metadata": {
    "collapsed": false
   },
   "outputs": [
    {
     "name": "stdout",
     "output_type": "stream",
     "text": [
      "2342\n"
     ]
    }
   ],
   "source": [
    "mask = (su.alchemy_category == '?')\n",
    "\n",
    "print su.loc[mask, 'alchemy_category_score'].isnull().sum()"
   ]
  },
  {
   "cell_type": "code",
   "execution_count": 67,
   "metadata": {
    "collapsed": false
   },
   "outputs": [
    {
     "name": "stdout",
     "output_type": "stream",
     "text": [
      "(5053, 27)\n"
     ]
    }
   ],
   "source": [
    "su = su[~mask]\n",
    "print su.shape"
   ]
  },
  {
   "cell_type": "code",
   "execution_count": 68,
   "metadata": {
    "collapsed": false
   },
   "outputs": [
    {
     "name": "stdout",
     "output_type": "stream",
     "text": [
      "(5043, 27)\n"
     ]
    }
   ],
   "source": [
    "su = su[~su.alchemy_category.isin(['unknown','weather'])]\n",
    "print su.shape"
   ]
  },
  {
   "cell_type": "code",
   "execution_count": 74,
   "metadata": {
    "collapsed": false,
    "scrolled": false
   },
   "outputs": [
    {
     "name": "stdout",
     "output_type": "stream",
     "text": [
      "URL\n",
      "                                                      url\n",
      "count                                                5043\n",
      "unique                                               5043\n",
      "top     http://www.dailydawdle.com/2010/12/polar-bear-...\n",
      "freq                                                    1\n",
      "-------------------------------------\n",
      "\n",
      "URLID\n",
      "              urlid\n",
      "count   5043.000000\n",
      "mean    5313.740631\n",
      "std     3063.653950\n",
      "min        5.000000\n",
      "25%     2651.500000\n",
      "50%     5312.000000\n",
      "75%     7985.500000\n",
      "max    10566.000000\n",
      "-------------------------------------\n",
      "\n",
      "BOILERPLATE\n",
      "                                              boilerplate\n",
      "count                                                5043\n",
      "unique                                               5043\n",
      "top     {\"title\":\"Dailymotion Food For Thought food fo...\n",
      "freq                                                    1\n",
      "-------------------------------------\n",
      "\n",
      "ALCHEMY_CATEGORY\n",
      "       alchemy_category\n",
      "count              5043\n",
      "unique               11\n",
      "top          recreation\n",
      "freq               1229\n",
      "-------------------------------------\n",
      "\n",
      "ALCHEMY_CATEGORY_SCORE\n",
      "       alchemy_category_score\n",
      "count             5043.000000\n",
      "mean                 0.603581\n",
      "std                  0.212953\n",
      "min                  0.070833\n",
      "25%                  0.452920\n",
      "50%                  0.626156\n",
      "75%                  0.781008\n",
      "max                  0.999426\n",
      "-------------------------------------\n",
      "\n",
      "AVGLINKSIZE\n",
      "       avglinksize\n",
      "count  5043.000000\n",
      "mean      2.938361\n",
      "std      10.143409\n",
      "min       0.000000\n",
      "25%       1.620044\n",
      "50%       2.106061\n",
      "75%       2.680659\n",
      "max     363.000000\n",
      "-------------------------------------\n",
      "\n",
      "COMMONLINKRATIO_1\n",
      "       commonlinkratio_1\n",
      "count        5043.000000\n",
      "mean            0.463803\n",
      "std             0.198436\n",
      "min             0.000000\n",
      "25%             0.343750\n",
      "50%             0.476190\n",
      "75%             0.607086\n",
      "max             1.000000\n",
      "-------------------------------------\n",
      "\n",
      "COMMONLINKRATIO_2\n",
      "       commonlinkratio_2\n",
      "count        5043.000000\n",
      "mean            0.213706\n",
      "std             0.143914\n",
      "min             0.000000\n",
      "25%             0.108357\n",
      "50%             0.202381\n",
      "75%             0.296601\n",
      "max             1.000000\n",
      "-------------------------------------\n",
      "\n",
      "COMMONLINKRATIO_3\n",
      "       commonlinkratio_3\n",
      "count        5043.000000\n",
      "mean            0.091635\n",
      "std             0.093404\n",
      "min             0.000000\n",
      "25%             0.023059\n",
      "50%             0.069444\n",
      "75%             0.132867\n",
      "max             0.980392\n",
      "-------------------------------------\n",
      "\n",
      "COMMONLINKRATIO_4\n",
      "       commonlinkratio_4\n",
      "count        5043.000000\n",
      "mean            0.049587\n",
      "std             0.071407\n",
      "min             0.000000\n",
      "25%             0.000000\n",
      "50%             0.024590\n",
      "75%             0.066667\n",
      "max             0.980392\n",
      "-------------------------------------\n",
      "\n",
      "COMPRESSION_RATIO\n",
      "       compression_ratio\n",
      "count        5043.000000\n",
      "mean            1.367259\n",
      "std             4.090182\n",
      "min             0.000000\n",
      "25%             0.440828\n",
      "50%             0.479134\n",
      "75%             0.546920\n",
      "max            21.000000\n",
      "-------------------------------------\n",
      "\n",
      "EMBED_RATIO\n",
      "       embed_ratio\n",
      "count  5043.000000\n",
      "mean     -0.059562\n",
      "std       0.238288\n",
      "min      -1.000000\n",
      "25%       0.000000\n",
      "50%       0.000000\n",
      "75%       0.000000\n",
      "max       0.214286\n",
      "-------------------------------------\n",
      "\n",
      "FRAMEBASED\n",
      "       framebased\n",
      "count      5043.0\n",
      "mean          0.0\n",
      "std           0.0\n",
      "min           0.0\n",
      "25%           0.0\n",
      "50%           0.0\n",
      "75%           0.0\n",
      "max           0.0\n",
      "-------------------------------------\n",
      "\n",
      "FRAMETAGRATIO\n",
      "       frameTagRatio\n",
      "count    5043.000000\n",
      "mean        0.057056\n",
      "std         0.041107\n",
      "min         0.000000\n",
      "25%         0.029561\n",
      "50%         0.046358\n",
      "75%         0.074303\n",
      "max         0.444444\n",
      "-------------------------------------\n",
      "\n",
      "HASDOMAINLINK\n",
      "       hasDomainLink\n",
      "count    5043.000000\n",
      "mean        0.019036\n",
      "std         0.136666\n",
      "min         0.000000\n",
      "25%         0.000000\n",
      "50%         0.000000\n",
      "75%         0.000000\n",
      "max         1.000000\n",
      "-------------------------------------\n",
      "\n",
      "HTML_RATIO\n",
      "        html_ratio\n",
      "count  5043.000000\n",
      "mean      0.234579\n",
      "std       0.051359\n",
      "min       0.070094\n",
      "25%       0.202506\n",
      "50%       0.230635\n",
      "75%       0.260751\n",
      "max       0.716883\n",
      "-------------------------------------\n",
      "\n",
      "IMAGE_RATIO\n",
      "       image_ratio\n",
      "count  5043.000000\n",
      "mean      0.291368\n",
      "std       1.969743\n",
      "min      -1.000000\n",
      "25%       0.032462\n",
      "50%       0.088146\n",
      "75%       0.239792\n",
      "max     113.333333\n",
      "-------------------------------------\n",
      "\n",
      "IS_NEWS\n",
      "           is_news\n",
      "count  5043.000000\n",
      "mean      0.705929\n",
      "std       0.455669\n",
      "min       0.000000\n",
      "25%       0.000000\n",
      "50%       1.000000\n",
      "75%       1.000000\n",
      "max       1.000000\n",
      "-------------------------------------\n",
      "\n",
      "LENGTHYLINKDOMAIN\n",
      "       lengthyLinkDomain\n",
      "count        5043.000000\n",
      "mean            0.673210\n",
      "std             0.469086\n",
      "min             0.000000\n",
      "25%             0.000000\n",
      "50%             1.000000\n",
      "75%             1.000000\n",
      "max             1.000000\n",
      "-------------------------------------\n",
      "\n",
      "LINKWORDSCORE\n",
      "       linkwordscore\n",
      "count    5043.000000\n",
      "mean       30.024787\n",
      "std        20.068575\n",
      "min         0.000000\n",
      "25%        14.000000\n",
      "50%        26.000000\n",
      "75%        43.000000\n",
      "max       100.000000\n",
      "-------------------------------------\n",
      "\n",
      "NEWS_FRONT_PAGE\n",
      "       news_front_page\n",
      "count      5043.000000\n",
      "mean          0.039461\n",
      "std           0.194708\n",
      "min           0.000000\n",
      "25%           0.000000\n",
      "50%           0.000000\n",
      "75%           0.000000\n",
      "max           1.000000\n",
      "-------------------------------------\n",
      "\n",
      "NON_MARKUP_ALPHANUM_CHARACTERS\n",
      "       non_markup_alphanum_characters\n",
      "count                     5043.000000\n",
      "mean                      5443.216934\n",
      "std                       7026.007440\n",
      "min                          0.000000\n",
      "25%                       1612.500000\n",
      "50%                       3633.000000\n",
      "75%                       6420.500000\n",
      "max                      87948.000000\n",
      "-------------------------------------\n",
      "\n",
      "NUMBEROFLINKS\n",
      "       numberOfLinks\n",
      "count    5043.000000\n",
      "mean      178.822328\n",
      "std       154.483283\n",
      "min         1.000000\n",
      "25%        82.000000\n",
      "50%       141.000000\n",
      "75%       228.000000\n",
      "max      3283.000000\n",
      "-------------------------------------\n",
      "\n",
      "NUMWORDS_IN_URL\n",
      "       numwords_in_url\n",
      "count      5043.000000\n",
      "mean          5.059885\n",
      "std           3.267825\n",
      "min           0.000000\n",
      "25%           3.000000\n",
      "50%           5.000000\n",
      "75%           7.000000\n",
      "max          21.000000\n",
      "-------------------------------------\n",
      "\n",
      "PARAMETRIZEDLINKRATIO\n",
      "       parametrizedLinkRatio\n",
      "count            5043.000000\n",
      "mean                0.171118\n",
      "std                 0.176445\n",
      "min                 0.000000\n",
      "25%                 0.044183\n",
      "50%                 0.116564\n",
      "75%                 0.237911\n",
      "max                 1.000000\n",
      "-------------------------------------\n",
      "\n",
      "SPELLING_ERRORS_RATIO\n",
      "       spelling_errors_ratio\n",
      "count            5043.000000\n",
      "mean                0.097196\n",
      "std                 0.060403\n",
      "min                 0.000000\n",
      "25%                 0.069560\n",
      "50%                 0.089069\n",
      "75%                 0.110463\n",
      "max                 1.000000\n",
      "-------------------------------------\n",
      "\n",
      "LABEL\n",
      "             label\n",
      "count  5043.000000\n",
      "mean      0.519135\n",
      "std       0.499683\n",
      "min       0.000000\n",
      "25%       0.000000\n",
      "50%       1.000000\n",
      "75%       1.000000\n",
      "max       1.000000\n",
      "-------------------------------------\n",
      "\n"
     ]
    }
   ],
   "source": [
    "for c in su.columns:\n",
    "    print c.upper()\n",
    "    print su[[c]].describe()\n",
    "    print '-------------------------------------\\n'\n",
    "    "
   ]
  },
  {
   "cell_type": "code",
   "execution_count": 75,
   "metadata": {
    "collapsed": true
   },
   "outputs": [],
   "source": [
    "su.drop(['framebased','embed_ratio','image_ratio'], axis=1, inplace=True)"
   ]
  },
  {
   "cell_type": "markdown",
   "metadata": {},
   "source": [
    "## 3. Use statsmodels' logistic regression function to look at variable significance\n",
    "\n",
    "The **`import statsmodels.formula.api as smf`** code below gives us access to a statsmodels api that can run logistic regressions using patsy-style formulas.\n",
    "\n",
    "Ex:\n",
    "\n",
    "```python\n",
    "formula = 'target ~ var1 + var2 + C(var3) -1'\n",
    "logreg = smf.logit(formula, data=data)\n",
    "logreg_results = logreg.fit()\n",
    "print logreg_results.summary()\n",
    "```\n",
    "\n",
    "---"
   ]
  },
  {
   "cell_type": "code",
   "execution_count": 77,
   "metadata": {
    "collapsed": false
   },
   "outputs": [],
   "source": [
    "import statsmodels.formula.api as smf"
   ]
  },
  {
   "cell_type": "markdown",
   "metadata": {},
   "source": [
    "### 3.1 Run a logistic regression predicting evergreen from the numeric columns\n",
    "\n",
    "And print out the results as shown in the example above.\n",
    "\n",
    "---"
   ]
  },
  {
   "cell_type": "code",
   "execution_count": 76,
   "metadata": {
    "collapsed": false
   },
   "outputs": [
    {
     "data": {
      "text/plain": [
       "url                                object\n",
       "urlid                               int64\n",
       "boilerplate                        object\n",
       "alchemy_category                   object\n",
       "alchemy_category_score            float64\n",
       "avglinksize                       float64\n",
       "commonlinkratio_1                 float64\n",
       "commonlinkratio_2                 float64\n",
       "commonlinkratio_3                 float64\n",
       "commonlinkratio_4                 float64\n",
       "compression_ratio                 float64\n",
       "frameTagRatio                     float64\n",
       "hasDomainLink                       int64\n",
       "html_ratio                        float64\n",
       "is_news                             int64\n",
       "lengthyLinkDomain                   int64\n",
       "linkwordscore                       int64\n",
       "news_front_page                     int64\n",
       "non_markup_alphanum_characters      int64\n",
       "numberOfLinks                       int64\n",
       "numwords_in_url                     int64\n",
       "parametrizedLinkRatio             float64\n",
       "spelling_errors_ratio             float64\n",
       "label                               int64\n",
       "dtype: object"
      ]
     },
     "execution_count": 76,
     "metadata": {},
     "output_type": "execute_result"
    }
   ],
   "source": [
    "su.dtypes"
   ]
  },
  {
   "cell_type": "code",
   "execution_count": 81,
   "metadata": {
    "collapsed": false
   },
   "outputs": [
    {
     "name": "stdout",
     "output_type": "stream",
     "text": [
      "Index([u'url', u'urlid', u'boilerplate', u'alchemy_category',\n",
      "       u'alchemy_category_score', u'avglinksize', u'commonlinkratio_1',\n",
      "       u'commonlinkratio_2', u'commonlinkratio_3', u'commonlinkratio_4',\n",
      "       u'compression_ratio', u'frameTagRatio', u'hasDomainLink', u'html_ratio',\n",
      "       u'is_news', u'lengthyLinkDomain', u'linkwordscore', u'news_front_page',\n",
      "       u'non_markup_alphanum_characters', u'numberOfLinks', u'numwords_in_url',\n",
      "       u'parametrizedLinkRatio', u'spelling_errors_ratio', u'evergreen'],\n",
      "      dtype='object')\n"
     ]
    }
   ],
   "source": [
    "new_cols = su.columns[:-1].values.tolist()\n",
    "new_cols.extend(['evergreen'])\n",
    "su.columns = new_cols\n",
    "print su.columns"
   ]
  },
  {
   "cell_type": "code",
   "execution_count": 83,
   "metadata": {
    "collapsed": false
   },
   "outputs": [
    {
     "name": "stdout",
     "output_type": "stream",
     "text": [
      "['alchemy_category_score', 'avglinksize', 'commonlinkratio_1', 'commonlinkratio_2', 'commonlinkratio_3', 'commonlinkratio_4', 'compression_ratio', 'frameTagRatio', 'hasDomainLink', 'html_ratio', 'is_news', 'lengthyLinkDomain', 'linkwordscore', 'news_front_page', 'non_markup_alphanum_characters', 'numberOfLinks', 'numwords_in_url', 'parametrizedLinkRatio', 'spelling_errors_ratio']\n"
     ]
    }
   ],
   "source": [
    "predictor_cols = [c for c in su.columns if c not in ['urlid','evergreen','boilerplate','alchemy_category','url']]\n",
    "print predictor_cols"
   ]
  },
  {
   "cell_type": "code",
   "execution_count": 90,
   "metadata": {
    "collapsed": false
   },
   "outputs": [],
   "source": [
    "su_n = su.copy()\n",
    "su_n.loc[:, predictor_cols] = (su_n.loc[:, predictor_cols] - su_n.loc[:, predictor_cols].mean()) / su_n.loc[:, predictor_cols].std()"
   ]
  },
  {
   "cell_type": "code",
   "execution_count": 91,
   "metadata": {
    "collapsed": false
   },
   "outputs": [
    {
     "data": {
      "text/html": [
       "<div>\n",
       "<table border=\"1\" class=\"dataframe\">\n",
       "  <thead>\n",
       "    <tr style=\"text-align: right;\">\n",
       "      <th></th>\n",
       "      <th>url</th>\n",
       "      <th>urlid</th>\n",
       "      <th>boilerplate</th>\n",
       "      <th>alchemy_category</th>\n",
       "      <th>alchemy_category_score</th>\n",
       "      <th>avglinksize</th>\n",
       "      <th>commonlinkratio_1</th>\n",
       "      <th>commonlinkratio_2</th>\n",
       "      <th>commonlinkratio_3</th>\n",
       "      <th>commonlinkratio_4</th>\n",
       "      <th>...</th>\n",
       "      <th>is_news</th>\n",
       "      <th>lengthyLinkDomain</th>\n",
       "      <th>linkwordscore</th>\n",
       "      <th>news_front_page</th>\n",
       "      <th>non_markup_alphanum_characters</th>\n",
       "      <th>numberOfLinks</th>\n",
       "      <th>numwords_in_url</th>\n",
       "      <th>parametrizedLinkRatio</th>\n",
       "      <th>spelling_errors_ratio</th>\n",
       "      <th>evergreen</th>\n",
       "    </tr>\n",
       "  </thead>\n",
       "  <tbody>\n",
       "    <tr>\n",
       "      <th>0</th>\n",
       "      <td>http://www.bloomberg.com/news/2010-12-23/ibm-p...</td>\n",
       "      <td>4042</td>\n",
       "      <td>{\"title\":\"IBM Sees Holographic Calls Air Breat...</td>\n",
       "      <td>business</td>\n",
       "      <td>0.871317</td>\n",
       "      <td>-0.087032</td>\n",
       "      <td>1.071720</td>\n",
       "      <td>-0.054364</td>\n",
       "      <td>-0.477240</td>\n",
       "      <td>-0.364917</td>\n",
       "      <td>...</td>\n",
       "      <td>0.645361</td>\n",
       "      <td>0.696652</td>\n",
       "      <td>-0.300210</td>\n",
       "      <td>-0.202666</td>\n",
       "      <td>-0.002735</td>\n",
       "      <td>-0.057109</td>\n",
       "      <td>0.899716</td>\n",
       "      <td>-0.103015</td>\n",
       "      <td>-0.299090</td>\n",
       "      <td>0</td>\n",
       "    </tr>\n",
       "    <tr>\n",
       "      <th>1</th>\n",
       "      <td>http://www.popsci.com/technology/article/2012-...</td>\n",
       "      <td>8471</td>\n",
       "      <td>{\"title\":\"The Fully Electronic Futuristic Star...</td>\n",
       "      <td>recreation</td>\n",
       "      <td>-0.138219</td>\n",
       "      <td>0.072915</td>\n",
       "      <td>0.222833</td>\n",
       "      <td>0.521587</td>\n",
       "      <td>1.309024</td>\n",
       "      <td>1.327566</td>\n",
       "      <td>...</td>\n",
       "      <td>0.645361</td>\n",
       "      <td>0.696652</td>\n",
       "      <td>0.497056</td>\n",
       "      <td>-0.202666</td>\n",
       "      <td>-0.066925</td>\n",
       "      <td>0.052936</td>\n",
       "      <td>1.205730</td>\n",
       "      <td>0.060645</td>\n",
       "      <td>0.467734</td>\n",
       "      <td>1</td>\n",
       "    </tr>\n",
       "    <tr>\n",
       "      <th>2</th>\n",
       "      <td>http://www.menshealth.com/health/flu-fighting-...</td>\n",
       "      <td>1164</td>\n",
       "      <td>{\"title\":\"Fruits that Fight the Flu fruits tha...</td>\n",
       "      <td>health</td>\n",
       "      <td>1.845216</td>\n",
       "      <td>-0.054762</td>\n",
       "      <td>0.494933</td>\n",
       "      <td>0.750441</td>\n",
       "      <td>0.305338</td>\n",
       "      <td>-0.097350</td>\n",
       "      <td>...</td>\n",
       "      <td>0.645361</td>\n",
       "      <td>0.696652</td>\n",
       "      <td>1.244494</td>\n",
       "      <td>-0.202666</td>\n",
       "      <td>-0.455909</td>\n",
       "      <td>0.512532</td>\n",
       "      <td>1.817758</td>\n",
       "      <td>-0.025226</td>\n",
       "      <td>-0.655305</td>\n",
       "      <td>1</td>\n",
       "    </tr>\n",
       "  </tbody>\n",
       "</table>\n",
       "<p>3 rows × 24 columns</p>\n",
       "</div>"
      ],
      "text/plain": [
       "                                                 url  urlid  \\\n",
       "0  http://www.bloomberg.com/news/2010-12-23/ibm-p...   4042   \n",
       "1  http://www.popsci.com/technology/article/2012-...   8471   \n",
       "2  http://www.menshealth.com/health/flu-fighting-...   1164   \n",
       "\n",
       "                                         boilerplate alchemy_category  \\\n",
       "0  {\"title\":\"IBM Sees Holographic Calls Air Breat...         business   \n",
       "1  {\"title\":\"The Fully Electronic Futuristic Star...       recreation   \n",
       "2  {\"title\":\"Fruits that Fight the Flu fruits tha...           health   \n",
       "\n",
       "   alchemy_category_score  avglinksize  commonlinkratio_1  commonlinkratio_2  \\\n",
       "0                0.871317    -0.087032           1.071720          -0.054364   \n",
       "1               -0.138219     0.072915           0.222833           0.521587   \n",
       "2                1.845216    -0.054762           0.494933           0.750441   \n",
       "\n",
       "   commonlinkratio_3  commonlinkratio_4    ...       is_news  \\\n",
       "0          -0.477240          -0.364917    ...      0.645361   \n",
       "1           1.309024           1.327566    ...      0.645361   \n",
       "2           0.305338          -0.097350    ...      0.645361   \n",
       "\n",
       "   lengthyLinkDomain  linkwordscore  news_front_page  \\\n",
       "0           0.696652      -0.300210        -0.202666   \n",
       "1           0.696652       0.497056        -0.202666   \n",
       "2           0.696652       1.244494        -0.202666   \n",
       "\n",
       "   non_markup_alphanum_characters  numberOfLinks  numwords_in_url  \\\n",
       "0                       -0.002735      -0.057109         0.899716   \n",
       "1                       -0.066925       0.052936         1.205730   \n",
       "2                       -0.455909       0.512532         1.817758   \n",
       "\n",
       "   parametrizedLinkRatio  spelling_errors_ratio  evergreen  \n",
       "0              -0.103015              -0.299090          0  \n",
       "1               0.060645               0.467734          1  \n",
       "2              -0.025226              -0.655305          1  \n",
       "\n",
       "[3 rows x 24 columns]"
      ]
     },
     "execution_count": 91,
     "metadata": {},
     "output_type": "execute_result"
    }
   ],
   "source": [
    "su_n.head(3)"
   ]
  },
  {
   "cell_type": "code",
   "execution_count": 92,
   "metadata": {
    "collapsed": false
   },
   "outputs": [
    {
     "name": "stdout",
     "output_type": "stream",
     "text": [
      "evergreen ~ alchemy_category_score + avglinksize + commonlinkratio_1 + commonlinkratio_2 + commonlinkratio_3 + commonlinkratio_4 + compression_ratio + frameTagRatio + hasDomainLink + html_ratio + is_news + lengthyLinkDomain + linkwordscore + news_front_page + non_markup_alphanum_characters + numberOfLinks + numwords_in_url + parametrizedLinkRatio + spelling_errors_ratio\n"
     ]
    }
   ],
   "source": [
    "formula = 'evergreen ~ ' + ' + '.join(predictor_cols)\n",
    "print formula\n",
    "model_num = smf.logit(formula, data=su_n)"
   ]
  },
  {
   "cell_type": "code",
   "execution_count": 93,
   "metadata": {
    "collapsed": false
   },
   "outputs": [
    {
     "name": "stdout",
     "output_type": "stream",
     "text": [
      "Optimization terminated successfully.\n",
      "         Current function value: 0.644566\n",
      "         Iterations 5\n",
      "                           Logit Regression Results                           \n",
      "==============================================================================\n",
      "Dep. Variable:              evergreen   No. Observations:                 5043\n",
      "Model:                          Logit   Df Residuals:                     5023\n",
      "Method:                           MLE   Df Model:                           19\n",
      "Date:                Fri, 27 May 2016   Pseudo R-squ.:                 0.06910\n",
      "Time:                        10:37:11   Log-Likelihood:                -3250.5\n",
      "converged:                       True   LL-Null:                       -3491.8\n",
      "                                        LLR p-value:                 2.483e-90\n",
      "==================================================================================================\n",
      "                                     coef    std err          z      P>|z|      [95.0% Conf. Int.]\n",
      "--------------------------------------------------------------------------------------------------\n",
      "Intercept                          0.0685      0.030      2.309      0.021         0.010     0.127\n",
      "alchemy_category_score            -0.2047      0.031     -6.582      0.000        -0.266    -0.144\n",
      "avglinksize                        0.0424      0.033      1.272      0.203        -0.023     0.108\n",
      "commonlinkratio_1                  0.1387      0.055      2.525      0.012         0.031     0.246\n",
      "commonlinkratio_2                 -0.0071      0.068     -0.105      0.917        -0.139     0.125\n",
      "commonlinkratio_3                  0.2778      0.083      3.349      0.001         0.115     0.440\n",
      "commonlinkratio_4                 -0.1546      0.065     -2.379      0.017        -0.282    -0.027\n",
      "compression_ratio                  0.0806      0.036      2.245      0.025         0.010     0.151\n",
      "frameTagRatio                     -0.3264      0.040     -8.100      0.000        -0.405    -0.247\n",
      "hasDomainLink                      0.0124      0.029      0.426      0.670        -0.045     0.069\n",
      "html_ratio                        -0.0277      0.037     -0.746      0.456        -0.100     0.045\n",
      "is_news                            0.0242      0.031      0.778      0.437        -0.037     0.085\n",
      "lengthyLinkDomain                  0.0156      0.036      0.434      0.665        -0.055     0.086\n",
      "linkwordscore                     -0.5231      0.044    -11.790      0.000        -0.610    -0.436\n",
      "news_front_page                   -0.1101      0.032     -3.455      0.001        -0.173    -0.048\n",
      "non_markup_alphanum_characters    -0.1819      0.041     -4.398      0.000        -0.263    -0.101\n",
      "numberOfLinks                      0.1435      0.044      3.290      0.001         0.058     0.229\n",
      "numwords_in_url                   -0.1278      0.033     -3.846      0.000        -0.193    -0.063\n",
      "parametrizedLinkRatio             -0.0053      0.031     -0.172      0.864        -0.066     0.055\n",
      "spelling_errors_ratio             -0.2181      0.036     -6.104      0.000        -0.288    -0.148\n",
      "==================================================================================================\n"
     ]
    }
   ],
   "source": [
    "num_results = model_num.fit()\n",
    "print num_results.summary()"
   ]
  },
  {
   "cell_type": "markdown",
   "metadata": {},
   "source": [
    "### 3.2 Run a logistic regression predicting evergreen from the numeric columns and a categorical variable of alchemy_category\n",
    "\n",
    "And print out the results as shown in the example.\n",
    "\n",
    "---"
   ]
  },
  {
   "cell_type": "code",
   "execution_count": 94,
   "metadata": {
    "collapsed": false
   },
   "outputs": [
    {
     "name": "stdout",
     "output_type": "stream",
     "text": [
      "Optimization terminated successfully.\n",
      "         Current function value: 0.593814\n",
      "         Iterations 6\n",
      "                           Logit Regression Results                           \n",
      "==============================================================================\n",
      "Dep. Variable:              evergreen   No. Observations:                 5043\n",
      "Model:                          Logit   Df Residuals:                     5013\n",
      "Method:                           MLE   Df Model:                           29\n",
      "Date:                Fri, 27 May 2016   Pseudo R-squ.:                  0.1424\n",
      "Time:                        10:43:27   Log-Likelihood:                -2994.6\n",
      "converged:                       True   LL-Null:                       -3491.8\n",
      "                                        LLR p-value:                1.263e-190\n",
      "=============================================================================================================\n",
      "                                                coef    std err          z      P>|z|      [95.0% Conf. Int.]\n",
      "-------------------------------------------------------------------------------------------------------------\n",
      "Intercept                                    -0.5302      0.071     -7.477      0.000        -0.669    -0.391\n",
      "C(alchemy_category)[T.business]               1.3838      0.105     13.207      0.000         1.178     1.589\n",
      "C(alchemy_category)[T.computer_internet]     -0.4733      0.156     -3.029      0.002        -0.780    -0.167\n",
      "C(alchemy_category)[T.culture_politics]       0.3196      0.134      2.391      0.017         0.058     0.582\n",
      "C(alchemy_category)[T.gaming]                 0.0080      0.261      0.031      0.975        -0.503     0.519\n",
      "C(alchemy_category)[T.health]                 0.8303      0.120      6.944      0.000         0.596     1.065\n",
      "C(alchemy_category)[T.law_crime]              0.4732      0.393      1.204      0.228        -0.297     1.243\n",
      "C(alchemy_category)[T.recreation]             1.2751      0.097     13.134      0.000         1.085     1.465\n",
      "C(alchemy_category)[T.religion]               0.3317      0.269      1.235      0.217        -0.195     0.858\n",
      "C(alchemy_category)[T.science_technology]     0.2949      0.143      2.061      0.039         0.014     0.575\n",
      "C(alchemy_category)[T.sports]                -0.7664      0.149     -5.152      0.000        -1.058    -0.475\n",
      "alchemy_category_score                       -0.1074      0.034     -3.150      0.002        -0.174    -0.041\n",
      "avglinksize                                   0.0510      0.035      1.440      0.150        -0.018     0.120\n",
      "commonlinkratio_1                             0.0727      0.058      1.257      0.209        -0.041     0.186\n",
      "commonlinkratio_2                             0.0050      0.071      0.070      0.944        -0.135     0.145\n",
      "commonlinkratio_3                             0.2418      0.086      2.825      0.005         0.074     0.410\n",
      "commonlinkratio_4                            -0.1281      0.067     -1.917      0.055        -0.259     0.003\n",
      "compression_ratio                             0.0677      0.037      1.824      0.068        -0.005     0.141\n",
      "frameTagRatio                                -0.3163      0.042     -7.522      0.000        -0.399    -0.234\n",
      "hasDomainLink                                -0.0159      0.030     -0.532      0.595        -0.075     0.043\n",
      "html_ratio                                   -0.0139      0.039     -0.355      0.723        -0.091     0.063\n",
      "is_news                                       0.0769      0.033      2.334      0.020         0.012     0.141\n",
      "lengthyLinkDomain                             0.0356      0.038      0.939      0.348        -0.039     0.110\n",
      "linkwordscore                                -0.4567      0.046     -9.879      0.000        -0.547    -0.366\n",
      "news_front_page                              -0.1348      0.034     -3.972      0.000        -0.201    -0.068\n",
      "non_markup_alphanum_characters               -0.1051      0.043     -2.434      0.015        -0.190    -0.020\n",
      "numberOfLinks                                 0.0986      0.046      2.166      0.030         0.009     0.188\n",
      "numwords_in_url                              -0.1300      0.035     -3.715      0.000        -0.199    -0.061\n",
      "parametrizedLinkRatio                        -0.0090      0.033     -0.277      0.782        -0.073     0.055\n",
      "spelling_errors_ratio                        -0.1760      0.036     -4.917      0.000        -0.246    -0.106\n",
      "=============================================================================================================\n"
     ]
    }
   ],
   "source": [
    "formula_cat = formula + ' + C(alchemy_category)'\n",
    "\n",
    "model_cat = smf.logit(formula_cat, data=su_n)\n",
    "cat_results = model_cat.fit()\n",
    "\n",
    "print cat_results.summary()"
   ]
  },
  {
   "cell_type": "markdown",
   "metadata": {},
   "source": [
    "## 4. Use sklearn to cross-validate the accuracy of the model above\n",
    "\n",
    "Normalize the numeric and categorical columns of the predictor matrix.\n",
    "\n",
    "---"
   ]
  },
  {
   "cell_type": "code",
   "execution_count": 95,
   "metadata": {
    "collapsed": true
   },
   "outputs": [],
   "source": [
    "import patsy\n",
    "\n",
    "Y, X = patsy.dmatrices(formula_cat, data=su_n)\n",
    "Y = np.ravel(Y)\n"
   ]
  },
  {
   "cell_type": "code",
   "execution_count": 96,
   "metadata": {
    "collapsed": false
   },
   "outputs": [
    {
     "name": "stdout",
     "output_type": "stream",
     "text": [
      "(5043,) (5043, 30)\n"
     ]
    }
   ],
   "source": [
    "print Y.shape, X.shape"
   ]
  },
  {
   "cell_type": "code",
   "execution_count": 97,
   "metadata": {
    "collapsed": false
   },
   "outputs": [
    {
     "name": "stdout",
     "output_type": "stream",
     "text": [
      "[ 0.64270153  0.71023965  0.70588235  0.708061    0.63616558  0.69432314\n",
      "  0.69432314  0.70087336  0.67248908  0.6768559   0.69432314]\n",
      "0.685112534714\n"
     ]
    }
   ],
   "source": [
    "from sklearn.linear_model import LogisticRegression\n",
    "\n",
    "logreg_cat = LogisticRegression()\n",
    "\n",
    "from sklearn.cross_validation import cross_val_score\n",
    "\n",
    "logreg_scores = cross_val_score(logreg_cat, X, Y, cv=11)\n",
    "\n",
    "print logreg_scores\n",
    "print np.mean(logreg_scores)"
   ]
  },
  {
   "cell_type": "code",
   "execution_count": 98,
   "metadata": {
    "collapsed": false
   },
   "outputs": [
    {
     "name": "stdout",
     "output_type": "stream",
     "text": [
      "baseline accuracy: 0.519135435257\n"
     ]
    }
   ],
   "source": [
    "print 'baseline accuracy:', np.mean(Y)"
   ]
  },
  {
   "cell_type": "code",
   "execution_count": 105,
   "metadata": {
    "collapsed": false
   },
   "outputs": [
    {
     "name": "stdout",
     "output_type": "stream",
     "text": [
      "0.745845244721\n"
     ]
    }
   ],
   "source": [
    "logreg_rocauc_scores = cross_val_score(logreg_cat, X, np.array(Y), cv=11, scoring='roc_auc')\n",
    "print np.mean(logreg_rocauc_scores)"
   ]
  },
  {
   "cell_type": "markdown",
   "metadata": {},
   "source": [
    "## 5. Gridsearch regularization parameters for logistic regression\n",
    "\n",
    "Find the best regularization type (Ridge, Lasso) across a set of regularization strengths.\n",
    "\n",
    "[NOTE: C is the inverse of the regularization strength. Lower C values are stronger regularization. Having a C higher than 1 will significantly slow down the search. I'm not particularly interested in values over 1, since this is the default regularization strength in LogisticRegression.]\n",
    "\n",
    "**After you find the best set of parameters, build a Logistic Regression with those parameters and crossvalidate the score.**\n",
    "\n",
    "[NOTE 2: to run Lasso regularization the solver should be `'liblinear'`]\n",
    "\n",
    "---"
   ]
  },
  {
   "cell_type": "code",
   "execution_count": 117,
   "metadata": {
    "collapsed": false
   },
   "outputs": [
    {
     "name": "stderr",
     "output_type": "stream",
     "text": [
      "[Parallel(n_jobs=1)]: Done  49 tasks       | elapsed:    0.3s\n",
      "[Parallel(n_jobs=1)]: Done 199 tasks       | elapsed:    1.4s\n"
     ]
    },
    {
     "name": "stdout",
     "output_type": "stream",
     "text": [
      "Fitting 11 folds for each of 40 candidates, totalling 440 fits\n",
      "{'penalty': 'l2', 'C': 0.01438449888287663, 'solver': 'liblinear'}\n",
      "0.691125433813\n",
      "conservative test score: 0.689791873142\n"
     ]
    },
    {
     "name": "stderr",
     "output_type": "stream",
     "text": [
      "[Parallel(n_jobs=1)]: Done 440 out of 440 | elapsed:    5.9s finished\n"
     ]
    }
   ],
   "source": [
    "from sklearn.grid_search import GridSearchCV\n",
    "from sklearn.cross_validation import train_test_split\n",
    "\n",
    "\n",
    "Y = np.array(Y)\n",
    "\n",
    "Xtr, Xte, Ytr, Yte = train_test_split(X, Y, test_size=.2)\n",
    "\n",
    "lr = LogisticRegression()\n",
    "\n",
    "lr_params = {\n",
    "    'solver':['liblinear'],\n",
    "    'penalty':['l1','l2'],\n",
    "    'C':np.logspace(-5,1,20)\n",
    "}\n",
    "\n",
    "lr_gs = GridSearchCV(lr, lr_params, cv=11, verbose=1)\n",
    "\n",
    "lr_gs.fit(Xtr, Ytr)\n",
    "\n",
    "print lr_gs.best_params_\n",
    "print lr_gs.best_score_\n",
    "\n",
    "print 'conservative test score:', lr_gs.best_estimator_.score(Xte, Yte)"
   ]
  },
  {
   "cell_type": "code",
   "execution_count": 109,
   "metadata": {
    "collapsed": false
   },
   "outputs": [
    {
     "data": {
      "text/plain": [
       "[0.0001,\n",
       " 0.00018,\n",
       " 0.00034,\n",
       " 0.00062,\n",
       " 0.00113,\n",
       " 0.00207,\n",
       " 0.00379,\n",
       " 0.00695,\n",
       " 0.01274,\n",
       " 0.02336,\n",
       " 0.04281,\n",
       " 0.07848,\n",
       " 0.14384,\n",
       " 0.26367,\n",
       " 0.48329,\n",
       " 0.88587,\n",
       " 1.62378,\n",
       " 2.97635,\n",
       " 5.45559,\n",
       " 10.0]"
      ]
     },
     "execution_count": 109,
     "metadata": {},
     "output_type": "execute_result"
    }
   ],
   "source": [
    "[round(x*100000)/100000. for x in np.logspace(-4,1,20)]"
   ]
  },
  {
   "cell_type": "code",
   "execution_count": 112,
   "metadata": {
    "collapsed": false
   },
   "outputs": [
    {
     "data": {
      "text/plain": [
       "[0.0001,\n",
       " 0.05273,\n",
       " 0.10535,\n",
       " 0.15798,\n",
       " 0.21061,\n",
       " 0.26323,\n",
       " 0.31586,\n",
       " 0.36848,\n",
       " 0.42111,\n",
       " 0.47374,\n",
       " 0.52636,\n",
       " 0.57899,\n",
       " 0.63162,\n",
       " 0.68424,\n",
       " 0.73687,\n",
       " 0.78949,\n",
       " 0.84212,\n",
       " 0.89475,\n",
       " 0.94737,\n",
       " 1.0]"
      ]
     },
     "execution_count": 112,
     "metadata": {},
     "output_type": "execute_result"
    }
   ],
   "source": [
    "[round(x*100000)/100000. for x in np.linspace(0.0001,1,20)]"
   ]
  },
  {
   "cell_type": "markdown",
   "metadata": {},
   "source": [
    "## 6. Gridsearch neighbors for kNN\n",
    "\n",
    "Find the best number of neighbors with your predictors to predict the `label` target variable.\n",
    "\n",
    "Start by bulding a kNN model with a set number of neighbors, then use gridsearch to run through a series of neighbors.\n",
    "\n",
    "---"
   ]
  },
  {
   "cell_type": "code",
   "execution_count": 118,
   "metadata": {
    "collapsed": false
   },
   "outputs": [
    {
     "name": "stderr",
     "output_type": "stream",
     "text": [
      "[Parallel(n_jobs=1)]: Done  49 tasks       | elapsed:    5.2s\n",
      "[Parallel(n_jobs=1)]: Done 199 tasks       | elapsed:   25.0s\n",
      "[Parallel(n_jobs=1)]: Done 449 tasks       | elapsed:   58.1s\n",
      "[Parallel(n_jobs=1)]: Done 799 tasks       | elapsed:  1.7min\n",
      "[Parallel(n_jobs=1)]: Done 1249 tasks       | elapsed:  2.8min\n",
      "[Parallel(n_jobs=1)]: Done 1799 tasks       | elapsed:  4.1min\n"
     ]
    },
    {
     "name": "stdout",
     "output_type": "stream",
     "text": [
      "Fitting 11 folds for each of 200 candidates, totalling 2200 fits\n"
     ]
    },
    {
     "name": "stderr",
     "output_type": "stream",
     "text": [
      "[Parallel(n_jobs=1)]: Done 2200 out of 2200 | elapsed:  5.0min finished\n"
     ]
    },
    {
     "data": {
      "text/plain": [
       "0.67737457862383499"
      ]
     },
     "execution_count": 118,
     "metadata": {},
     "output_type": "execute_result"
    }
   ],
   "source": [
    "from sklearn.neighbors import KNeighborsClassifier\n",
    "\n",
    "knn_params = {\n",
    "    'n_neighbors':range(1,101),\n",
    "    'weights':['uniform','distance']\n",
    "}\n",
    "\n",
    "knn = KNeighborsClassifier()\n",
    "\n",
    "knn_gs = GridSearchCV(knn, knn_params, cv=11, verbose=1)\n",
    "\n",
    "knn_gs.fit(X, Y)\n",
    "\n",
    "knn_gs.best_params_\n",
    "knn_gs.best_score_\n"
   ]
  },
  {
   "cell_type": "code",
   "execution_count": 119,
   "metadata": {
    "collapsed": false
   },
   "outputs": [
    {
     "data": {
      "text/plain": [
       "{'n_neighbors': 26, 'weights': 'uniform'}"
      ]
     },
     "execution_count": 119,
     "metadata": {},
     "output_type": "execute_result"
    }
   ],
   "source": [
    "knn_gs.best_params_"
   ]
  },
  {
   "cell_type": "markdown",
   "metadata": {},
   "source": [
    "## 7. Choose a new target from alchemy_category to predict with logistic regression\n",
    "\n",
    "**Ideally your category choice will have a small fraction of the total rows, but not TOO small!**\n",
    "\n",
    "---"
   ]
  },
  {
   "cell_type": "code",
   "execution_count": 120,
   "metadata": {
    "collapsed": false
   },
   "outputs": [
    {
     "data": {
      "text/plain": [
       "recreation            1229\n",
       "arts_entertainment     941\n",
       "business               880\n",
       "health                 506\n",
       "sports                 380\n",
       "culture_politics       343\n",
       "computer_internet      296\n",
       "science_technology     289\n",
       "gaming                  76\n",
       "religion                72\n",
       "law_crime               31\n",
       "Name: alchemy_category, dtype: int64"
      ]
     },
     "execution_count": 120,
     "metadata": {},
     "output_type": "execute_result"
    }
   ],
   "source": [
    "su_n.alchemy_category.value_counts()"
   ]
  },
  {
   "cell_type": "markdown",
   "metadata": {},
   "source": [
    "### 7.1 Chose your target category, create the Y vector, and check the fraction of instances\n",
    "\n",
    "---"
   ]
  },
  {
   "cell_type": "code",
   "execution_count": 162,
   "metadata": {
    "collapsed": false
   },
   "outputs": [
    {
     "name": "stdout",
     "output_type": "stream",
     "text": [
      "[0 1 0 0 0 0 0 0 0 1 1 1 0 1 0 0 1 0 0 0]\n",
      "0.243704144359\n"
     ]
    }
   ],
   "source": [
    "Ycp = np.array((su_n.alchemy_category == 'recreation')).astype('int')\n",
    "print Ycp[0:20]\n",
    "print np.mean(Ycp)"
   ]
  },
  {
   "cell_type": "markdown",
   "metadata": {},
   "source": [
    "### 7.2 Use patsy to create an X matrix of the numeric predictors and all two-way interactions between them\n",
    "\n",
    "Ex:\n",
    "\n",
    "```python\n",
    "import patsy\n",
    "\n",
    "formula_interactions = '~ (var1 + var2 + var3)**2 -1'\n",
    "X_interactions = patsy.dmatrix(formula_interactions, data=data\n",
    "```\n",
    "\n",
    "Get the column names from the `design_info` property of the patsy X matrix.\n",
    "\n",
    "---"
   ]
  },
  {
   "cell_type": "code",
   "execution_count": 125,
   "metadata": {
    "collapsed": false
   },
   "outputs": [
    {
     "data": {
      "text/plain": [
       "['alchemy_category_score',\n",
       " 'avglinksize',\n",
       " 'commonlinkratio_1',\n",
       " 'commonlinkratio_2',\n",
       " 'commonlinkratio_3',\n",
       " 'commonlinkratio_4',\n",
       " 'compression_ratio',\n",
       " 'frameTagRatio',\n",
       " 'hasDomainLink',\n",
       " 'html_ratio',\n",
       " 'is_news',\n",
       " 'lengthyLinkDomain',\n",
       " 'linkwordscore',\n",
       " 'news_front_page',\n",
       " 'non_markup_alphanum_characters',\n",
       " 'numberOfLinks',\n",
       " 'numwords_in_url',\n",
       " 'parametrizedLinkRatio',\n",
       " 'spelling_errors_ratio']"
      ]
     },
     "execution_count": 125,
     "metadata": {},
     "output_type": "execute_result"
    }
   ],
   "source": [
    "predictor_cols"
   ]
  },
  {
   "cell_type": "code",
   "execution_count": 164,
   "metadata": {
    "collapsed": true
   },
   "outputs": [],
   "source": [
    "su_n['is_recreation'] = Ycp"
   ]
  },
  {
   "cell_type": "code",
   "execution_count": 165,
   "metadata": {
    "collapsed": false
   },
   "outputs": [
    {
     "name": "stdout",
     "output_type": "stream",
     "text": [
      "(5043, 1) (5043, 191)\n"
     ]
    }
   ],
   "source": [
    "formula_inter = 'is_recreation ~ (' + ' + '.join(predictor_cols)+ ')**2'\n",
    "\n",
    "Yinter, Xinter = patsy.dmatrices(formula_inter, data=su_n, return_type='dataframe')\n",
    "\n",
    "print Yinter.shape, Xinter.shape"
   ]
  },
  {
   "cell_type": "raw",
   "metadata": {},
   "source": [
    "### 7.3 Normalize the predictor matrix columns\n",
    "\n",
    "---"
   ]
  },
  {
   "cell_type": "code",
   "execution_count": 166,
   "metadata": {
    "collapsed": true
   },
   "outputs": [],
   "source": [
    "Xinter = (Xinter - Xinter.mean()) / Xinter.std()"
   ]
  },
  {
   "cell_type": "code",
   "execution_count": 167,
   "metadata": {
    "collapsed": false
   },
   "outputs": [],
   "source": [
    "Xinter.fillna(value=0, inplace=True)\n",
    "Xinter.replace(np.inf, 0, inplace=True)"
   ]
  },
  {
   "cell_type": "markdown",
   "metadata": {},
   "source": [
    "### 7.4 Gridsearch a logistic regression to predict accuracy on your new target from the interaction predictors\n",
    "\n",
    "Include Ridge and Lasso.\n",
    "\n",
    "---"
   ]
  },
  {
   "cell_type": "code",
   "execution_count": 168,
   "metadata": {
    "collapsed": false
   },
   "outputs": [
    {
     "name": "stderr",
     "output_type": "stream",
     "text": [
      "[Parallel(n_jobs=1)]: Done  49 tasks       | elapsed:    1.9s\n",
      "[Parallel(n_jobs=1)]: Done 199 tasks       | elapsed:  1.7min\n"
     ]
    },
    {
     "name": "stdout",
     "output_type": "stream",
     "text": [
      "(5043,) (5043, 191)\n",
      "Fitting 5 folds for each of 40 candidates, totalling 200 fits\n",
      "{'penalty': 'l1', 'C': 0.01438449888287663, 'solver': 'liblinear'}\n",
      "0.762641284949\n"
     ]
    },
    {
     "name": "stderr",
     "output_type": "stream",
     "text": [
      "[Parallel(n_jobs=1)]: Done 200 out of 200 | elapsed:  1.8min finished\n"
     ]
    }
   ],
   "source": [
    "from sklearn.grid_search import GridSearchCV\n",
    "from sklearn.cross_validation import train_test_split\n",
    "\n",
    "\n",
    "Yin = np.ravel(Yinter.values)\n",
    "Xin = Xinter.values\n",
    "\n",
    "print Yin.shape, Xin.shape\n",
    "\n",
    "lr = LogisticRegression()\n",
    "\n",
    "lr_params = {\n",
    "    'solver':['liblinear'],\n",
    "    'penalty':['l1','l2'],\n",
    "    'C':np.logspace(-5,1,20)\n",
    "}\n",
    "\n",
    "lr_gs = GridSearchCV(lr, lr_params, cv=5, verbose=1)\n",
    "\n",
    "lr_gs.fit(Xin, Yin)\n",
    "\n",
    "print lr_gs.best_params_\n",
    "print lr_gs.best_score_\n"
   ]
  },
  {
   "cell_type": "markdown",
   "metadata": {},
   "source": [
    "### 7.5 Build a logistic regression with the optimal parameters, and look at the coefficients\n",
    "\n",
    "---"
   ]
  },
  {
   "cell_type": "code",
   "execution_count": 170,
   "metadata": {
    "collapsed": false
   },
   "outputs": [
    {
     "name": "stdout",
     "output_type": "stream",
     "text": [
      "     abs_coef     coefs                                      variable\n",
      "1    0.369087 -0.369087                        alchemy_category_score\n",
      "32   0.183081 -0.183081        alchemy_category_score:news_front_page\n",
      "29   0.080794  0.080794                alchemy_category_score:is_news\n",
      "10   0.056663 -0.056663                                    html_ratio\n",
      "159  0.046110 -0.046110                         is_news:numberOfLinks\n",
      "90   0.032002 -0.032002                  commonlinkratio_3:html_ratio\n",
      "8    0.023976 -0.023976                                 frameTagRatio\n",
      "172  0.020218  0.020218                   linkwordscore:numberOfLinks\n",
      "173  0.018948  0.018948                 linkwordscore:numwords_in_url\n",
      "82   0.013827  0.013827               commonlinkratio_2:numberOfLinks\n",
      "101  0.011911 -0.011911               commonlinkratio_4:frameTagRatio\n",
      "171  0.011130  0.011130  linkwordscore:non_markup_alphanum_characters\n",
      "12   0.007870 -0.007870                             lengthyLinkDomain\n",
      "106  0.007236 -0.007236               commonlinkratio_4:linkwordscore\n",
      "170  0.006749 -0.006749                 linkwordscore:news_front_page\n",
      "11   0.006571 -0.006571                                       is_news\n",
      "118  0.002579  0.002579               compression_ratio:linkwordscore\n",
      "127  0.000000  0.000000                         frameTagRatio:is_news\n",
      "125  0.000000  0.000000                   frameTagRatio:hasDomainLink\n",
      "126  0.000000  0.000000                      frameTagRatio:html_ratio\n",
      "124  0.000000  0.000000       compression_ratio:spelling_errors_ratio\n",
      "131  0.000000  0.000000  frameTagRatio:non_markup_alphanum_characters\n",
      "128  0.000000  0.000000               frameTagRatio:lengthyLinkDomain\n",
      "129  0.000000  0.000000                   frameTagRatio:linkwordscore\n",
      "130  0.000000  0.000000                 frameTagRatio:news_front_page\n",
      "17\n",
      "0.764227642276\n",
      "0.756295855641\n"
     ]
    }
   ],
   "source": [
    "Yinter, Xinter = patsy.dmatrices(formula_inter, data=su_n, return_type='dataframe')\n",
    "\n",
    "\n",
    "lr_inter = lr_gs.best_estimator_\n",
    "\n",
    "coefs = pd.DataFrame({'variable':Xinter.columns,\n",
    "                      'coefs':lr_inter.coef_[0],\n",
    "                      'abs_coef':np.abs(lr_inter.coef_[0])})\n",
    "\n",
    "coefs.sort_values(['abs_coef'], inplace=True, ascending=False)\n",
    "\n",
    "print coefs[0:25]\n",
    "\n",
    "print np.sum(coefs.coefs != 0)\n",
    "\n",
    "print lr_inter.score(Xin, Yin)\n",
    "print 1-np.mean(Yin)"
   ]
  },
  {
   "cell_type": "markdown",
   "metadata": {},
   "source": [
    "### 7.6 Gridsearch parameters for a logistic regression with the same target and predictors, but score based on precision rather than accuracy\n",
    "\n",
    "Look at the documentation.\n",
    "\n",
    "---"
   ]
  },
  {
   "cell_type": "code",
   "execution_count": null,
   "metadata": {
    "collapsed": true
   },
   "outputs": [],
   "source": []
  },
  {
   "cell_type": "markdown",
   "metadata": {},
   "source": [
    "## [BONUS] 8. Build models predicting from words\n",
    "\n",
    "This is a bit of the NLP we covered in the pipeline lecture!\n",
    "\n",
    "---"
   ]
  },
  {
   "cell_type": "markdown",
   "metadata": {},
   "source": [
    "### 8.1 Choose 'body' or 'title' from the boilerplate to be the basis of your word predictors\n",
    "\n",
    "You will need to parse the json from the boilerplate field.\n",
    "\n",
    "---"
   ]
  },
  {
   "cell_type": "code",
   "execution_count": null,
   "metadata": {
    "collapsed": true
   },
   "outputs": [],
   "source": [
    "import json"
   ]
  },
  {
   "cell_type": "markdown",
   "metadata": {},
   "source": [
    "### 8.2 Use CountVectorizer to create your predictor matrix from the string column\n",
    "\n",
    "It is up to you what range of ngrams and features, and whether or not you want the columns binary or counts.\n",
    "\n",
    "---"
   ]
  },
  {
   "cell_type": "code",
   "execution_count": null,
   "metadata": {
    "collapsed": true
   },
   "outputs": [],
   "source": []
  },
  {
   "cell_type": "markdown",
   "metadata": {},
   "source": [
    "### 8.3 Gridsearch a logistic regression predicting accuracy of your chosen target category from word predictor matrix\n",
    "\n",
    "---"
   ]
  },
  {
   "cell_type": "code",
   "execution_count": null,
   "metadata": {
    "collapsed": true
   },
   "outputs": [],
   "source": []
  },
  {
   "cell_type": "markdown",
   "metadata": {},
   "source": [
    "### 8.4 Do the same as above, but score the gridsearch based on precision rather than accuracy\n",
    "\n",
    "---"
   ]
  },
  {
   "cell_type": "code",
   "execution_count": null,
   "metadata": {
    "collapsed": true
   },
   "outputs": [],
   "source": []
  },
  {
   "cell_type": "markdown",
   "metadata": {},
   "source": [
    "### 8.5 Build a logistic regression with optimal precision categories\n",
    "\n",
    "Print out the top 20 or 25 word features as ranked by their coefficients.\n",
    "\n",
    "---"
   ]
  },
  {
   "cell_type": "code",
   "execution_count": null,
   "metadata": {
    "collapsed": true
   },
   "outputs": [],
   "source": []
  }
 ],
 "metadata": {
  "kernelspec": {
   "display_name": "Python 2",
   "language": "python",
   "name": "python2"
  },
  "language_info": {
   "codemirror_mode": {
    "name": "ipython",
    "version": 2
   },
   "file_extension": ".py",
   "mimetype": "text/x-python",
   "name": "python",
   "nbconvert_exporter": "python",
   "pygments_lexer": "ipython2",
   "version": "2.7.11"
  }
 },
 "nbformat": 4,
 "nbformat_minor": 0
}
