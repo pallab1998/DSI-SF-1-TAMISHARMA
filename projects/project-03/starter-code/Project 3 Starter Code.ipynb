{
 "cells": [
  {
   "cell_type": "markdown",
   "metadata": {},
   "source": [
    "# Getting started\n",
    "\n",
    "Once you've chosen your scenario, download the data from [the Iowa website](https://data.iowa.gov/Economy/Iowa-Liquor-Sales/m3tr-qhgy) in csv format. Start by loading the data with pandas. You may need to parse the date columns appropriately."
   ]
  },
  {
   "cell_type": "code",
   "execution_count": 1,
   "metadata": {
    "collapsed": false
   },
   "outputs": [],
   "source": [
    "import pandas as pd\n",
    "import datetime\n",
    "import numpy as np"
   ]
  },
  {
   "cell_type": "code",
   "execution_count": 2,
   "metadata": {
    "collapsed": false
   },
   "outputs": [],
   "source": [
    "## Load the data into a DataFrame\n",
    "df = pd.read_csv(\"../../../../iowa_data/Iowa_Liquor_sales_sample_10pct.csv\")\n",
    "\n",
    "## Transform the dates if needed, e.g.\n",
    "df[\"Date\"] = pd.to_datetime(df[\"Date\"])\n",
    "\n",
    "# Remove redundant columns\n",
    "df.drop(\"Volume Sold (Gallons)\", axis = 1, inplace = True)\n",
    "\n",
    "\n",
    "# Remove $ from certain columns\n",
    "dcs = [\"State Bottle Cost\", \"State Bottle Retail\", \"Sale (Dollars)\"]\n",
    "for col in dcs:\n",
    "    df[col] = df[col].map(lambda x: float(x.lstrip('$')))\n",
    "\n",
    "# Create a column for month and year\n",
    "df[\"Year\"] = df[\"Date\"].dt.year\n",
    "df[\"Month\"] = df[\"Date\"].dt.month\n",
    "\n",
    "# Create a column for profits earned by every transaction\n",
    "df['Profit'] = (df[\"State Bottle Retail\"] - df[\"State Bottle Cost\"]) * df[\"Bottles Sold\"]"
   ]
  },
  {
   "cell_type": "code",
   "execution_count": 3,
   "metadata": {
    "collapsed": true
   },
   "outputs": [],
   "source": [
    "# Replace random Zipcode with actual value and change to int types\n",
    "df['Zip Code'].replace('712-2', '51529', inplace = True)\n",
    "df['Zip Code'] = df['Zip Code'].astype(int, copy = True)"
   ]
  },
  {
   "cell_type": "code",
   "execution_count": 4,
   "metadata": {
    "collapsed": false
   },
   "outputs": [],
   "source": [
    "# Create Price Per Liter column\n",
    "df['Price Per Liter'] = df['State Bottle Retail']/(df[\"Bottle Volume (ml)\"]/1000)\n",
    "df['Price Per Liter'] = df['Price Per Liter'].round(2)"
   ]
  },
  {
   "cell_type": "code",
   "execution_count": 5,
   "metadata": {
    "collapsed": false
   },
   "outputs": [],
   "source": [
    "# Function that assigns quarter to the transaction and create column for Quarter\n",
    "def quarter_assigner(x):\n",
    "    if x <= 3:\n",
    "        return 1\n",
    "    elif x <= 6:\n",
    "        return 2\n",
    "    elif x <= 9:\n",
    "        return 3\n",
    "    else:\n",
    "        return 4\n",
    "    \n",
    "df['Quarter'] = df['Month'].map(quarter_assigner)"
   ]
  },
  {
   "cell_type": "code",
   "execution_count": 6,
   "metadata": {
    "collapsed": false
   },
   "outputs": [],
   "source": [
    "# Do Not Run. It takes more than an hour\n",
    "\n",
    "# # FILLING IN ALL MY NANs\n",
    "\n",
    "# for group_label, group_df in df.groupby([\"Zip Code\", \"Item Number\"]): \n",
    "#     mask = (df['Zip Code'] == group_label[0]) & (df[\"Item Number\"] == group_label[1])\n",
    "#     df[mask] = df[mask].sort([\"County\", \"Category\"]).ffill()"
   ]
  },
  {
   "cell_type": "code",
   "execution_count": 7,
   "metadata": {
    "collapsed": true
   },
   "outputs": [],
   "source": [
    "# Drop stores with no values\n",
    "df.dropna(how = \"any\", axis = 0, inplace= True)\n",
    "\n",
    "# Deleting liquors that are were only sold 2 times\n",
    "beer_mask = df['Category Name'] == 'HIGH PROOF BEER - AMERICAN'\n",
    "df[beer_mask]\n",
    "df.drop(df[beer_mask].index, axis = 0, inplace = True)"
   ]
  },
  {
   "cell_type": "code",
   "execution_count": 8,
   "metadata": {
    "collapsed": false
   },
   "outputs": [],
   "source": [
    "# \"\"\"For blog explaining purposes\"\"\"\n",
    "\n",
    "# # FILLING IN ALL MY NULLS\n",
    "# dfc = df.head(550)\n",
    "# # Use interpolate and ffill to fill in nans \n",
    "\n",
    "# # df[\"Item Number\", \"Category\"].interpolate(method = 'linear', inplace = True, limit_direction = 'both')\n",
    "\n",
    "# for group_label, group_df in df.groupby([\"Zip Code\", \"Item Number\"]): \n",
    "#     mask = (df['Zip Code'] == group_label[0]) & (df[\"Item Number\"] == group_label[1])\n",
    "#     df[mask] = df[mask].sort([\"County\", \"Category\"]).ffill()\n"
   ]
  },
  {
   "cell_type": "code",
   "execution_count": 9,
   "metadata": {
    "collapsed": false
   },
   "outputs": [],
   "source": [
    "# dfc.info()"
   ]
  },
  {
   "cell_type": "code",
   "execution_count": 10,
   "metadata": {
    "collapsed": false
   },
   "outputs": [],
   "source": [
    "# # \"\"\"TEST TO SEE IF CATEGORIES AND ITEM NUMBERS MATCH 1 TO 1\"\"\"\n",
    "# tester = dfc.groupby([\"Item Number\", \"Category\"])[\"Profit\"].sum()\n",
    "# print len(dfc['Item Number'].unique())\n",
    "# print tester.shape"
   ]
  },
  {
   "cell_type": "code",
   "execution_count": 11,
   "metadata": {
    "collapsed": false
   },
   "outputs": [],
   "source": [
    "# Creates a column called Transactions containing the total number of transactions for each store\n",
    "\n",
    "# dfc = df.copy()\n",
    "\n",
    "# trans = dfc['Store Number'].value_counts()\n",
    "# trans = pd.DataFrame(trans).reset_index().rename(columns = {'index': 'Store Number', 'Store Number': 'Transactions'})\n",
    "\n",
    "# dfc = pd.merge(dfc, trans, how = 'inner', on = 'Store Number')\n",
    "\n",
    "# dfc.head()"
   ]
  },
  {
   "cell_type": "code",
   "execution_count": 12,
   "metadata": {
    "collapsed": false
   },
   "outputs": [],
   "source": [
    "# # Subset for each store based on quarter of sales in 2015 alone\n",
    "# quarter_subset = sales[sales.Year == 0].groupby(['Store Number', 'Quarter'])['Profit'].sum()\n",
    "# quarter_subset = pd.DataFrame(quarter_subset).reset_index()\n",
    "# quarter_subset.head()"
   ]
  },
  {
   "cell_type": "markdown",
   "metadata": {},
   "source": [
    "# Explore the data\n",
    "\n",
    "Perform some exploratory statistical analysis and make some plots, such as histograms of transaction totals, bottles sold, etc."
   ]
  },
  {
   "cell_type": "code",
   "execution_count": 13,
   "metadata": {
    "collapsed": true
   },
   "outputs": [],
   "source": [
    "import seaborn as sns\n",
    "import matplotlib.pyplot as plt\n",
    "\n",
    "%matplotlib inline"
   ]
  },
  {
   "cell_type": "code",
   "execution_count": 19,
   "metadata": {
    "collapsed": false
   },
   "outputs": [
    {
     "data": {
      "text/plain": [
       "<matplotlib.axes._subplots.AxesSubplot at 0x117090fd0>"
      ]
     },
     "execution_count": 19,
     "metadata": {},
     "output_type": "execute_result"
    },
    {
     "data": {
      "image/png": "[encoded data removed]",
      "text/plain": [
       "<matplotlib.figure.Figure at 0x1170acf10>"
      ]
     },
     "metadata": {},
     "output_type": "display_data"
    }
   ],
   "source": [
    "sns.regplot(x = \"Category\", y = \"Profit\", data = df, scatter=True)"
   ]
  },
  {
   "cell_type": "code",
   "execution_count": 15,
   "metadata": {
    "collapsed": false
   },
   "outputs": [
    {
     "name": "stderr",
     "output_type": "stream",
     "text": [
      "/Users/Tami/anaconda/lib/python2.7/site-packages/ipykernel/__main__.py:3: FutureWarning: sort(columns=....) is deprecated, use sort_values(by=.....)\n",
      "  app.launch_new_instance()\n"
     ]
    },
    {
     "data": {
      "image/png": "[encoded data removed]",
      "text/plain": [
       "<matplotlib.figure.Figure at 0x114e644d0>"
      ]
     },
     "metadata": {},
     "output_type": "display_data"
    }
   ],
   "source": [
    "subset = df.groupby('City')[\"Bottles Sold\"].sum()\n",
    "subsetdf = pd.DataFrame(subset).reset_index()\n",
    "bottles_sub_set = subsetdf.sort('Bottles Sold', ascending = False).head(5)\n",
    "\n",
    "sns.set(rc= {\"figure.figsize\" : (10,6)}, style = \"whitegrid\")\n",
    "ax = sns.barplot(x = \"City\", y= \"Bottles Sold\", data = bottles_sub_set)\n",
    "ax.set(xlabel = \"City\", ylabel = \"Total Bottles Sold\")\n",
    "\n",
    "plt.show()"
   ]
  },
  {
   "cell_type": "code",
   "execution_count": 16,
   "metadata": {
    "collapsed": false
   },
   "outputs": [
    {
     "data": {
      "text/html": [
       "<div>\n",
       "<table border=\"1\" class=\"dataframe\">\n",
       "  <thead>\n",
       "    <tr style=\"text-align: right;\">\n",
       "      <th></th>\n",
       "      <th>City</th>\n",
       "      <th>Bottles Sold</th>\n",
       "    </tr>\n",
       "  </thead>\n",
       "  <tbody>\n",
       "    <tr>\n",
       "      <th>90</th>\n",
       "      <td>DES MOINES</td>\n",
       "      <td>344151</td>\n",
       "    </tr>\n",
       "    <tr>\n",
       "      <th>51</th>\n",
       "      <td>CEDAR RAPIDS</td>\n",
       "      <td>194525</td>\n",
       "    </tr>\n",
       "    <tr>\n",
       "      <th>81</th>\n",
       "      <td>DAVENPORT</td>\n",
       "      <td>153200</td>\n",
       "    </tr>\n",
       "    <tr>\n",
       "      <th>358</th>\n",
       "      <td>WATERLOO</td>\n",
       "      <td>117206</td>\n",
       "    </tr>\n",
       "    <tr>\n",
       "      <th>175</th>\n",
       "      <td>IOWA CITY</td>\n",
       "      <td>93923</td>\n",
       "    </tr>\n",
       "  </tbody>\n",
       "</table>\n",
       "</div>"
      ],
      "text/plain": [
       "             City  Bottles Sold\n",
       "90     DES MOINES        344151\n",
       "51   CEDAR RAPIDS        194525\n",
       "81      DAVENPORT        153200\n",
       "358      WATERLOO        117206\n",
       "175     IOWA CITY         93923"
      ]
     },
     "execution_count": 16,
     "metadata": {},
     "output_type": "execute_result"
    }
   ],
   "source": [
    "bottles_sub_set"
   ]
  },
  {
   "cell_type": "code",
   "execution_count": 17,
   "metadata": {
    "collapsed": false
   },
   "outputs": [
    {
     "data": {
      "text/plain": [
       "<matplotlib.axes._subplots.AxesSubplot at 0x11524bcd0>"
      ]
     },
     "execution_count": 17,
     "metadata": {},
     "output_type": "execute_result"
    },
    {
     "data": {
      "image/png": "[encoded data removed]",
      "text/plain": [
       "<matplotlib.figure.Figure at 0x114b6ea10>"
      ]
     },
     "metadata": {},
     "output_type": "display_data"
    }
   ],
   "source": [
    "transactions = df[\"Store Number\"].value_counts()\n",
    "transactions = pd.DataFrame(transactions).reset_index().rename(columns = {'index': 'Store Number',\n",
    "                                                                          'Store Number' : 'Transactions'})\n",
    "sns.distplot(transactions['Transactions'])"
   ]
  },
  {
   "cell_type": "code",
   "execution_count": null,
   "metadata": {
    "collapsed": true
   },
   "outputs": [],
   "source": []
  },
  {
   "cell_type": "markdown",
   "metadata": {},
   "source": [
    "## Record your findings\n",
    "\n",
    "Be sure to write out anything observations from your exploratory analysis."
   ]
  },
  {
   "cell_type": "markdown",
   "metadata": {},
   "source": [
    "Top 5 Cities based on Bottles Sold:\n",
    " * Des Moines\n",
    " * Cedar Rapids\n",
    " * Davenport\n",
    " * Waterloo\n",
    " * Iowa City\n",
    "\n",
    "Top 5 Cities based on Total Profits in dataset:\n",
    " * Des Moines\n",
    " * Cedar Rapids\n",
    " * Davenport\n",
    " * Iowa City\n",
    " * Sioux City"
   ]
  },
  {
   "cell_type": "markdown",
   "metadata": {},
   "source": [
    "# Mine the data\n",
    "Now you are ready to compute the variables you will use for your regression from the data. For example, you may want to\n",
    "compute total sales per store from Jan to March of 2015, mean price per bottle, etc. Refer to the readme for more ideas appropriate to your scenario.\n",
    "\n",
    "Pandas is your friend for this task. Take a look at the operations [here](http://pandas.pydata.org/pandas-docs/stable/groupby.html) for ideas on how to make the best use of pandas and feel free to search for blog and Stack Overflow posts to help you group data by certain variables and compute sums, means, etc. You may find it useful to create a new data frame to house this summary data."
   ]
  },
  {
   "cell_type": "code",
   "execution_count": 20,
   "metadata": {
    "collapsed": true
   },
   "outputs": [],
   "source": [
    "modeling_copy = df.copy()"
   ]
  },
  {
   "cell_type": "code",
   "execution_count": 21,
   "metadata": {
    "collapsed": false
   },
   "outputs": [
    {
     "data": {
      "text/plain": [
       "array(['Brandy', 'Whisky', 'Cocktail', 'Vodka', 'Gin', 'Specialties',\n",
       "       'Tequila', 'Liqueur', 'Rum', 'Amaretto', 'Misc.', 'Decanter',\n",
       "       'Mixer'], dtype=object)"
      ]
     },
     "execution_count": 21,
     "metadata": {},
     "output_type": "execute_result"
    }
   ],
   "source": [
    "# Generalizing categories\n",
    "for x in modeling_copy['Category Name']:\n",
    "    if 'WHISK' in str(x):\n",
    "        modeling_copy['Category Name'].replace(x, 'Whisky', inplace = True)\n",
    "    elif 'BRAND' in str(x):\n",
    "        modeling_copy['Category Name'].replace(x, 'Brandy', inplace = True)\n",
    "    elif 'COCKTAIL' in str(x):\n",
    "        modeling_copy['Category Name'].replace(x, 'Cocktail', inplace = True)\n",
    "    elif 'VODKA' in str(x):\n",
    "        modeling_copy['Category Name'].replace(x, 'Vodka', inplace = True)\n",
    "    elif 'GIN' in str(x):\n",
    "        modeling_copy['Category Name'].replace(x, 'Gin', inplace = True)\n",
    "    elif 'SCHNAP' in str(x):\n",
    "        modeling_copy['Category Name'].replace(x, 'Brandy', inplace = True)\n",
    "    elif 'LIQUEUR' in str(x):\n",
    "        modeling_copy['Category Name'].replace(x, 'Liqueur', inplace = True)\n",
    "    elif 'TRIPLE SEC' in str(x):\n",
    "        modeling_copy['Category Name'].replace(x, 'Liqueur', inplace = True)\n",
    "    elif 'ANISETTE' in str(x):\n",
    "        modeling_copy['Category Name'].replace(x, 'Liqueur', inplace = True)\n",
    "    elif 'TEQUILA' in str(x):\n",
    "        modeling_copy['Category Name'].replace(x, 'Tequila', inplace = True)\n",
    "    elif 'BOURBON' in str(x):\n",
    "        modeling_copy['Category Name'].replace(x, 'Whisky', inplace = True)\n",
    "    elif 'SCOTCH' in str(x):\n",
    "        modeling_copy['Category Name'].replace(x, 'Whisky', inplace = True)\n",
    "    elif 'RUM' in str(x):\n",
    "        modeling_copy['Category Name'].replace(x, 'Rum', inplace = True)\n",
    "    elif 'AMARETTO' in str(x):\n",
    "        modeling_copy['Category Name'].replace(x, 'Amaretto', inplace = True)\n",
    "    elif 'ROCK & RYE' in str(x):\n",
    "        modeling_copy['Category Name'].replace(x, 'Whisky', inplace = True)\n",
    "    elif 'CREME DE' in str(x):\n",
    "        modeling_copy['Category Name'].replace(x, 'Mixer', inplace = True)\n",
    "    elif 'AMERICAN ALCOHOL' in str(x):\n",
    "        modeling_copy['Category Name'].replace(x, 'Misc.', inplace = True)\n",
    "    elif 'DECANTER' in str(x):\n",
    "        modeling_copy['Category Name'].replace(x, 'Decanter', inplace = True)\n",
    "    elif 'SPECIALTY' in str(x):\n",
    "        modeling_copy['Category Name'].replace(x, 'Specialties', inplace = True)\n",
    "\n",
    "modeling_copy['Category Name'].unique()"
   ]
  },
  {
   "cell_type": "code",
   "execution_count": 22,
   "metadata": {
    "collapsed": false
   },
   "outputs": [
    {
     "name": "stderr",
     "output_type": "stream",
     "text": [
      "/Users/Tami/anaconda/lib/python2.7/site-packages/ipykernel/__main__.py:3: FutureWarning: sort(columns=....) is deprecated, use sort_values(by=.....)\n",
      "  app.launch_new_instance()\n"
     ]
    }
   ],
   "source": [
    "# Use interpolate and ffill to fill in nans \n",
    "for group_label, group_df in modeling_copy.groupby(\"Zip Code\"):\n",
    "    modeling_copy[modeling_copy[\"Zip Code\"] == group_label] = modeling_copy[modeling_copy[\"Zip Code\"] == group_label].sort(\"County Number\").ffill()\n",
    "    \n",
    "modeling_copy.interpolate(method = 'linear', inplace = True, limit_direction = 'both')"
   ]
  },
  {
   "cell_type": "code",
   "execution_count": 23,
   "metadata": {
    "collapsed": false
   },
   "outputs": [
    {
     "data": {
      "text/html": [
       "<div>\n",
       "<table border=\"1\" class=\"dataframe\">\n",
       "  <thead>\n",
       "    <tr style=\"text-align: right;\">\n",
       "      <th></th>\n",
       "      <th>Date</th>\n",
       "      <th>Store Number</th>\n",
       "      <th>City</th>\n",
       "      <th>Zip Code</th>\n",
       "      <th>County Number</th>\n",
       "      <th>County</th>\n",
       "      <th>Category</th>\n",
       "      <th>Category Name</th>\n",
       "      <th>Vendor Number</th>\n",
       "      <th>Item Number</th>\n",
       "      <th>...</th>\n",
       "      <th>State Bottle Retail</th>\n",
       "      <th>Bottles Sold</th>\n",
       "      <th>Sale (Dollars)</th>\n",
       "      <th>Volume Sold (Liters)</th>\n",
       "      <th>Year</th>\n",
       "      <th>Month</th>\n",
       "      <th>Profit</th>\n",
       "      <th>Price Per Liter</th>\n",
       "      <th>Quarter</th>\n",
       "      <th>Category Number</th>\n",
       "    </tr>\n",
       "  </thead>\n",
       "  <tbody>\n",
       "    <tr>\n",
       "      <th>0</th>\n",
       "      <td>2015-11-04</td>\n",
       "      <td>3717</td>\n",
       "      <td>SUMNER</td>\n",
       "      <td>50674</td>\n",
       "      <td>9.0</td>\n",
       "      <td>Bremer</td>\n",
       "      <td>1051100.0</td>\n",
       "      <td>Brandy</td>\n",
       "      <td>55</td>\n",
       "      <td>54436</td>\n",
       "      <td>...</td>\n",
       "      <td>6.75</td>\n",
       "      <td>12</td>\n",
       "      <td>81.00</td>\n",
       "      <td>9.0</td>\n",
       "      <td>2015</td>\n",
       "      <td>11</td>\n",
       "      <td>27.00</td>\n",
       "      <td>9.00</td>\n",
       "      <td>4</td>\n",
       "      <td>2</td>\n",
       "    </tr>\n",
       "    <tr>\n",
       "      <th>1</th>\n",
       "      <td>2016-03-02</td>\n",
       "      <td>2614</td>\n",
       "      <td>DAVENPORT</td>\n",
       "      <td>52807</td>\n",
       "      <td>82.0</td>\n",
       "      <td>Scott</td>\n",
       "      <td>1011100.0</td>\n",
       "      <td>Whisky</td>\n",
       "      <td>395</td>\n",
       "      <td>27605</td>\n",
       "      <td>...</td>\n",
       "      <td>20.63</td>\n",
       "      <td>2</td>\n",
       "      <td>41.26</td>\n",
       "      <td>1.5</td>\n",
       "      <td>2016</td>\n",
       "      <td>3</td>\n",
       "      <td>13.76</td>\n",
       "      <td>27.51</td>\n",
       "      <td>1</td>\n",
       "      <td>13</td>\n",
       "    </tr>\n",
       "    <tr>\n",
       "      <th>2</th>\n",
       "      <td>2016-02-11</td>\n",
       "      <td>2106</td>\n",
       "      <td>CEDAR FALLS</td>\n",
       "      <td>50613</td>\n",
       "      <td>7.0</td>\n",
       "      <td>Black Hawk</td>\n",
       "      <td>1011200.0</td>\n",
       "      <td>Whisky</td>\n",
       "      <td>65</td>\n",
       "      <td>19067</td>\n",
       "      <td>...</td>\n",
       "      <td>18.89</td>\n",
       "      <td>24</td>\n",
       "      <td>453.36</td>\n",
       "      <td>24.0</td>\n",
       "      <td>2016</td>\n",
       "      <td>2</td>\n",
       "      <td>151.20</td>\n",
       "      <td>18.89</td>\n",
       "      <td>1</td>\n",
       "      <td>13</td>\n",
       "    </tr>\n",
       "    <tr>\n",
       "      <th>3</th>\n",
       "      <td>2016-02-03</td>\n",
       "      <td>2501</td>\n",
       "      <td>AMES</td>\n",
       "      <td>50010</td>\n",
       "      <td>85.0</td>\n",
       "      <td>Story</td>\n",
       "      <td>1071100.0</td>\n",
       "      <td>Cocktail</td>\n",
       "      <td>395</td>\n",
       "      <td>59154</td>\n",
       "      <td>...</td>\n",
       "      <td>14.25</td>\n",
       "      <td>6</td>\n",
       "      <td>85.50</td>\n",
       "      <td>10.5</td>\n",
       "      <td>2016</td>\n",
       "      <td>2</td>\n",
       "      <td>28.50</td>\n",
       "      <td>8.14</td>\n",
       "      <td>1</td>\n",
       "      <td>3</td>\n",
       "    </tr>\n",
       "    <tr>\n",
       "      <th>4</th>\n",
       "      <td>2015-08-18</td>\n",
       "      <td>3654</td>\n",
       "      <td>BELMOND</td>\n",
       "      <td>50421</td>\n",
       "      <td>99.0</td>\n",
       "      <td>Wright</td>\n",
       "      <td>1031080.0</td>\n",
       "      <td>Vodka</td>\n",
       "      <td>297</td>\n",
       "      <td>35918</td>\n",
       "      <td>...</td>\n",
       "      <td>10.80</td>\n",
       "      <td>12</td>\n",
       "      <td>129.60</td>\n",
       "      <td>21.0</td>\n",
       "      <td>2015</td>\n",
       "      <td>8</td>\n",
       "      <td>43.20</td>\n",
       "      <td>6.17</td>\n",
       "      <td>3</td>\n",
       "      <td>12</td>\n",
       "    </tr>\n",
       "  </tbody>\n",
       "</table>\n",
       "<p>5 rows × 23 columns</p>\n",
       "</div>"
      ],
      "text/plain": [
       "        Date  Store Number         City  Zip Code  County Number      County  \\\n",
       "0 2015-11-04          3717       SUMNER     50674            9.0      Bremer   \n",
       "1 2016-03-02          2614    DAVENPORT     52807           82.0       Scott   \n",
       "2 2016-02-11          2106  CEDAR FALLS     50613            7.0  Black Hawk   \n",
       "3 2016-02-03          2501         AMES     50010           85.0       Story   \n",
       "4 2015-08-18          3654      BELMOND     50421           99.0      Wright   \n",
       "\n",
       "    Category Category Name  Vendor Number  Item Number       ...         \\\n",
       "0  1051100.0        Brandy             55        54436       ...          \n",
       "1  1011100.0        Whisky            395        27605       ...          \n",
       "2  1011200.0        Whisky             65        19067       ...          \n",
       "3  1071100.0      Cocktail            395        59154       ...          \n",
       "4  1031080.0         Vodka            297        35918       ...          \n",
       "\n",
       "  State Bottle Retail  Bottles Sold  Sale (Dollars)  Volume Sold (Liters)  \\\n",
       "0                6.75            12           81.00                   9.0   \n",
       "1               20.63             2           41.26                   1.5   \n",
       "2               18.89            24          453.36                  24.0   \n",
       "3               14.25             6           85.50                  10.5   \n",
       "4               10.80            12          129.60                  21.0   \n",
       "\n",
       "   Year  Month  Profit  Price Per Liter  Quarter  Category Number  \n",
       "0  2015     11   27.00             9.00        4                2  \n",
       "1  2016      3   13.76            27.51        1               13  \n",
       "2  2016      2  151.20            18.89        1               13  \n",
       "3  2016      2   28.50             8.14        1                3  \n",
       "4  2015      8   43.20             6.17        3               12  \n",
       "\n",
       "[5 rows x 23 columns]"
      ]
     },
     "execution_count": 23,
     "metadata": {},
     "output_type": "execute_result"
    }
   ],
   "source": [
    "# Category Number column for every generalized category\n",
    "cats = sorted(modeling_copy['Category Name'].unique())\n",
    "cats_list = list(enumerate(cats, start=1))\n",
    "\n",
    "lt = []\n",
    "for cats in modeling_copy['Category Name']:\n",
    "    for x in cats_list:\n",
    "        if x[1] == cats:\n",
    "            lt.append(x[0])\n",
    "modeling_copy['Category Number'] = lt\n",
    "\n",
    "modeling_copy.head()\n"
   ]
  },
  {
   "cell_type": "code",
   "execution_count": 24,
   "metadata": {
    "collapsed": false
   },
   "outputs": [
    {
     "data": {
      "text/html": [
       "<div>\n",
       "<table border=\"1\" class=\"dataframe\">\n",
       "  <thead>\n",
       "    <tr style=\"text-align: right;\">\n",
       "      <th></th>\n",
       "      <th>Date</th>\n",
       "      <th>Store Number</th>\n",
       "      <th>City</th>\n",
       "      <th>Zip Code</th>\n",
       "      <th>County Number</th>\n",
       "      <th>County</th>\n",
       "      <th>Category</th>\n",
       "      <th>Category Name</th>\n",
       "      <th>Vendor Number</th>\n",
       "      <th>Item Number</th>\n",
       "      <th>...</th>\n",
       "      <th>State Bottle Retail</th>\n",
       "      <th>Bottles Sold</th>\n",
       "      <th>Sale (Dollars)</th>\n",
       "      <th>Volume Sold (Liters)</th>\n",
       "      <th>Year</th>\n",
       "      <th>Month</th>\n",
       "      <th>Profit</th>\n",
       "      <th>Price Per Liter</th>\n",
       "      <th>Quarter</th>\n",
       "      <th>Category Number</th>\n",
       "    </tr>\n",
       "  </thead>\n",
       "  <tbody>\n",
       "    <tr>\n",
       "      <th>0</th>\n",
       "      <td>2015-11-04</td>\n",
       "      <td>3717</td>\n",
       "      <td>SUMNER</td>\n",
       "      <td>50674</td>\n",
       "      <td>9.0</td>\n",
       "      <td>Bremer</td>\n",
       "      <td>1051100.0</td>\n",
       "      <td>Brandy</td>\n",
       "      <td>55</td>\n",
       "      <td>54436</td>\n",
       "      <td>...</td>\n",
       "      <td>6.75</td>\n",
       "      <td>12</td>\n",
       "      <td>81.00</td>\n",
       "      <td>9.0</td>\n",
       "      <td>2015</td>\n",
       "      <td>11</td>\n",
       "      <td>27.00</td>\n",
       "      <td>9.00</td>\n",
       "      <td>4</td>\n",
       "      <td>2</td>\n",
       "    </tr>\n",
       "    <tr>\n",
       "      <th>1</th>\n",
       "      <td>2016-03-02</td>\n",
       "      <td>2614</td>\n",
       "      <td>DAVENPORT</td>\n",
       "      <td>52807</td>\n",
       "      <td>82.0</td>\n",
       "      <td>Scott</td>\n",
       "      <td>1011100.0</td>\n",
       "      <td>Whisky</td>\n",
       "      <td>395</td>\n",
       "      <td>27605</td>\n",
       "      <td>...</td>\n",
       "      <td>20.63</td>\n",
       "      <td>2</td>\n",
       "      <td>41.26</td>\n",
       "      <td>1.5</td>\n",
       "      <td>2016</td>\n",
       "      <td>3</td>\n",
       "      <td>13.76</td>\n",
       "      <td>27.51</td>\n",
       "      <td>1</td>\n",
       "      <td>13</td>\n",
       "    </tr>\n",
       "    <tr>\n",
       "      <th>2</th>\n",
       "      <td>2016-02-11</td>\n",
       "      <td>2106</td>\n",
       "      <td>CEDAR FALLS</td>\n",
       "      <td>50613</td>\n",
       "      <td>7.0</td>\n",
       "      <td>Black Hawk</td>\n",
       "      <td>1011200.0</td>\n",
       "      <td>Whisky</td>\n",
       "      <td>65</td>\n",
       "      <td>19067</td>\n",
       "      <td>...</td>\n",
       "      <td>18.89</td>\n",
       "      <td>24</td>\n",
       "      <td>453.36</td>\n",
       "      <td>24.0</td>\n",
       "      <td>2016</td>\n",
       "      <td>2</td>\n",
       "      <td>151.20</td>\n",
       "      <td>18.89</td>\n",
       "      <td>1</td>\n",
       "      <td>13</td>\n",
       "    </tr>\n",
       "    <tr>\n",
       "      <th>3</th>\n",
       "      <td>2016-02-03</td>\n",
       "      <td>2501</td>\n",
       "      <td>AMES</td>\n",
       "      <td>50010</td>\n",
       "      <td>85.0</td>\n",
       "      <td>Story</td>\n",
       "      <td>1071100.0</td>\n",
       "      <td>Cocktail</td>\n",
       "      <td>395</td>\n",
       "      <td>59154</td>\n",
       "      <td>...</td>\n",
       "      <td>14.25</td>\n",
       "      <td>6</td>\n",
       "      <td>85.50</td>\n",
       "      <td>10.5</td>\n",
       "      <td>2016</td>\n",
       "      <td>2</td>\n",
       "      <td>28.50</td>\n",
       "      <td>8.14</td>\n",
       "      <td>1</td>\n",
       "      <td>3</td>\n",
       "    </tr>\n",
       "    <tr>\n",
       "      <th>4</th>\n",
       "      <td>2015-08-18</td>\n",
       "      <td>3654</td>\n",
       "      <td>BELMOND</td>\n",
       "      <td>50421</td>\n",
       "      <td>99.0</td>\n",
       "      <td>Wright</td>\n",
       "      <td>1031080.0</td>\n",
       "      <td>Vodka</td>\n",
       "      <td>297</td>\n",
       "      <td>35918</td>\n",
       "      <td>...</td>\n",
       "      <td>10.80</td>\n",
       "      <td>12</td>\n",
       "      <td>129.60</td>\n",
       "      <td>21.0</td>\n",
       "      <td>2015</td>\n",
       "      <td>8</td>\n",
       "      <td>43.20</td>\n",
       "      <td>6.17</td>\n",
       "      <td>3</td>\n",
       "      <td>12</td>\n",
       "    </tr>\n",
       "  </tbody>\n",
       "</table>\n",
       "<p>5 rows × 23 columns</p>\n",
       "</div>"
      ],
      "text/plain": [
       "        Date  Store Number         City  Zip Code  County Number      County  \\\n",
       "0 2015-11-04          3717       SUMNER     50674            9.0      Bremer   \n",
       "1 2016-03-02          2614    DAVENPORT     52807           82.0       Scott   \n",
       "2 2016-02-11          2106  CEDAR FALLS     50613            7.0  Black Hawk   \n",
       "3 2016-02-03          2501         AMES     50010           85.0       Story   \n",
       "4 2015-08-18          3654      BELMOND     50421           99.0      Wright   \n",
       "\n",
       "    Category Category Name  Vendor Number  Item Number       ...         \\\n",
       "0  1051100.0        Brandy             55        54436       ...          \n",
       "1  1011100.0        Whisky            395        27605       ...          \n",
       "2  1011200.0        Whisky             65        19067       ...          \n",
       "3  1071100.0      Cocktail            395        59154       ...          \n",
       "4  1031080.0         Vodka            297        35918       ...          \n",
       "\n",
       "  State Bottle Retail  Bottles Sold  Sale (Dollars)  Volume Sold (Liters)  \\\n",
       "0                6.75            12           81.00                   9.0   \n",
       "1               20.63             2           41.26                   1.5   \n",
       "2               18.89            24          453.36                  24.0   \n",
       "3               14.25             6           85.50                  10.5   \n",
       "4               10.80            12          129.60                  21.0   \n",
       "\n",
       "   Year  Month  Profit  Price Per Liter  Quarter  Category Number  \n",
       "0  2015     11   27.00             9.00        4                2  \n",
       "1  2016      3   13.76            27.51        1               13  \n",
       "2  2016      2  151.20            18.89        1               13  \n",
       "3  2016      2   28.50             8.14        1                3  \n",
       "4  2015      8   43.20             6.17        3               12  \n",
       "\n",
       "[5 rows x 23 columns]"
      ]
     },
     "execution_count": 24,
     "metadata": {},
     "output_type": "execute_result"
    }
   ],
   "source": [
    "# Determine which stores were open all of 2015\n",
    "mask1 = modeling_copy.Year == 2015\n",
    "\n",
    "first_sale_date = modeling_copy[mask1].groupby(['Store Number'])['Date'].min()\n",
    "last_sale_date = modeling_copy[mask1].groupby(['Store Number'])['Date'].max()\n",
    "# Filter out stores that opened or closed throughout the year\n",
    "# first_sale_date\n",
    "\n",
    "first_sale_df = pd.DataFrame(first_sale_date).reset_index()\n",
    "last_sale_df = pd.DataFrame(last_sale_date).reset_index()\n",
    "\n",
    "mask2 = [first_sale_df.Date[i].month == 1 for i in range(len(first_sale_df))]\n",
    "mask3 = [last_sale_df.Date[i].month == 12 for i in range(len(first_sale_df))]\n",
    "\n",
    "jan_stores = first_sale_df[mask2]['Store Number']\n",
    "dec_stores = last_sale_df[mask3]['Store Number']\n",
    "\n",
    "full_year_stores_mask = jan_stores.isin(dec_stores)\n",
    "full_year_stores = jan_stores[full_year_stores_mask]\n",
    "\n",
    "final_mask = modeling_copy['Store Number'].isin(full_year_stores)\n",
    "sales_both = modeling_copy[final_mask]\n",
    "\n",
    "sales_both.head()"
   ]
  },
  {
   "cell_type": "code",
   "execution_count": 26,
   "metadata": {
    "collapsed": true
   },
   "outputs": [],
   "source": [
    "q1_15_mask = (sales_both.Month <= 3) & (sales_both.Month >= 1) & (sales_both.Year == 2015)\n",
    "q1_16_mask = (sales_both.Month <= 3) & (sales_both.Month >= 1) & (sales_both.Year == 2016)\n",
    "all_15_mask = sales_both.Year == 2015\n",
    "all_16_mask = sales_both.Year == 2016\n",
    "\n",
    "q1_15_stores = sales_both[q1_15_mask]\n",
    "q1_16_stores = sales_both[q1_16_mask]\n",
    "all_15_stores = sales_both[all_15_mask]"
   ]
  },
  {
   "cell_type": "code",
   "execution_count": 27,
   "metadata": {
    "collapsed": false
   },
   "outputs": [
    {
     "data": {
      "text/html": [
       "<div>\n",
       "<table border=\"1\" class=\"dataframe\">\n",
       "  <thead>\n",
       "    <tr style=\"text-align: right;\">\n",
       "      <th></th>\n",
       "      <th>Store Number</th>\n",
       "      <th>County Number</th>\n",
       "    </tr>\n",
       "  </thead>\n",
       "  <tbody>\n",
       "    <tr>\n",
       "      <th>2</th>\n",
       "      <td>2106</td>\n",
       "      <td>7.0</td>\n",
       "    </tr>\n",
       "    <tr>\n",
       "      <th>3893</th>\n",
       "      <td>2113</td>\n",
       "      <td>94.0</td>\n",
       "    </tr>\n",
       "    <tr>\n",
       "      <th>16</th>\n",
       "      <td>2130</td>\n",
       "      <td>7.0</td>\n",
       "    </tr>\n",
       "    <tr>\n",
       "      <th>4795</th>\n",
       "      <td>2152</td>\n",
       "      <td>17.0</td>\n",
       "    </tr>\n",
       "    <tr>\n",
       "      <th>469</th>\n",
       "      <td>2178</td>\n",
       "      <td>3.0</td>\n",
       "    </tr>\n",
       "  </tbody>\n",
       "</table>\n",
       "</div>"
      ],
      "text/plain": [
       "      Store Number  County Number\n",
       "2             2106            7.0\n",
       "3893          2113           94.0\n",
       "16            2130            7.0\n",
       "4795          2152           17.0\n",
       "469           2178            3.0"
      ]
     },
     "execution_count": 27,
     "metadata": {},
     "output_type": "execute_result"
    }
   ],
   "source": [
    "# Subset of Store Number and respective County Number\n",
    "counties = sales_both.groupby(['Store Number', 'County Number'])\n",
    "store_cats = counties['Store Number', 'County Number'].head(1).sort_values(by = 'Store Number', ascending = True)\n",
    "store_cats.head()"
   ]
  },
  {
   "cell_type": "code",
   "execution_count": 28,
   "metadata": {
    "collapsed": false
   },
   "outputs": [
    {
     "data": {
      "text/html": [
       "<div>\n",
       "<table border=\"1\" class=\"dataframe\">\n",
       "  <thead>\n",
       "    <tr style=\"text-align: right;\">\n",
       "      <th></th>\n",
       "      <th>Store Number</th>\n",
       "      <th>Category Number</th>\n",
       "    </tr>\n",
       "  </thead>\n",
       "  <tbody>\n",
       "    <tr>\n",
       "      <th>7</th>\n",
       "      <td>2106</td>\n",
       "      <td>9</td>\n",
       "    </tr>\n",
       "    <tr>\n",
       "      <th>17</th>\n",
       "      <td>2113</td>\n",
       "      <td>9</td>\n",
       "    </tr>\n",
       "    <tr>\n",
       "      <th>28</th>\n",
       "      <td>2130</td>\n",
       "      <td>9</td>\n",
       "    </tr>\n",
       "    <tr>\n",
       "      <th>39</th>\n",
       "      <td>2152</td>\n",
       "      <td>9</td>\n",
       "    </tr>\n",
       "    <tr>\n",
       "      <th>48</th>\n",
       "      <td>2178</td>\n",
       "      <td>9</td>\n",
       "    </tr>\n",
       "  </tbody>\n",
       "</table>\n",
       "</div>"
      ],
      "text/plain": [
       "    Store Number  Category Number\n",
       "7           2106                9\n",
       "17          2113                9\n",
       "28          2130                9\n",
       "39          2152                9\n",
       "48          2178                9"
      ]
     },
     "execution_count": 28,
     "metadata": {},
     "output_type": "execute_result"
    }
   ],
   "source": [
    "# Create a subset with the average profit for each category FOR 2015\n",
    "avg_profit_cats15 = sales_both[all_15_mask].groupby(['Store Number', 'Category Number'])['Profit'].mean()\n",
    "avg_profit_cats15 = pd.DataFrame(avg_profit_cats15).reset_index()\n",
    "\n",
    "# Selecting the category with the max avg profit for each store\n",
    "max_cats15 = avg_profit_cats15.loc[avg_profit_cats15.reset_index().groupby(['Store Number'])['Profit'].idxmax()]\n",
    "max_cats15.drop('Profit', axis = 1, inplace = True)\n",
    "max_cats15.head()"
   ]
  },
  {
   "cell_type": "code",
   "execution_count": 29,
   "metadata": {
    "collapsed": false
   },
   "outputs": [
    {
     "data": {
      "text/html": [
       "<div>\n",
       "<table border=\"1\" class=\"dataframe\">\n",
       "  <thead>\n",
       "    <tr style=\"text-align: right;\">\n",
       "      <th></th>\n",
       "      <th>Store Number</th>\n",
       "      <th>Category Number</th>\n",
       "    </tr>\n",
       "  </thead>\n",
       "  <tbody>\n",
       "    <tr>\n",
       "      <th>6</th>\n",
       "      <td>2106</td>\n",
       "      <td>9</td>\n",
       "    </tr>\n",
       "    <tr>\n",
       "      <th>17</th>\n",
       "      <td>2113</td>\n",
       "      <td>13</td>\n",
       "    </tr>\n",
       "    <tr>\n",
       "      <th>24</th>\n",
       "      <td>2130</td>\n",
       "      <td>12</td>\n",
       "    </tr>\n",
       "    <tr>\n",
       "      <th>30</th>\n",
       "      <td>2152</td>\n",
       "      <td>13</td>\n",
       "    </tr>\n",
       "    <tr>\n",
       "      <th>36</th>\n",
       "      <td>2178</td>\n",
       "      <td>7</td>\n",
       "    </tr>\n",
       "  </tbody>\n",
       "</table>\n",
       "</div>"
      ],
      "text/plain": [
       "    Store Number  Category Number\n",
       "6           2106                9\n",
       "17          2113               13\n",
       "24          2130               12\n",
       "30          2152               13\n",
       "36          2178                7"
      ]
     },
     "execution_count": 29,
     "metadata": {},
     "output_type": "execute_result"
    }
   ],
   "source": [
    "# Create a subset with the average profit for each category FOR 2016\n",
    "avg_profit_cats16 = sales_both[all_16_mask].groupby(['Store Number', 'Category Number'])['Profit'].mean()\n",
    "avg_profit_cats16 = pd.DataFrame(avg_profit_cats16).reset_index()\n",
    "\n",
    "# Selecting the category with the max avg profit for each store\n",
    "max_cats16 = avg_profit_cats16.loc[avg_profit_cats16.reset_index().groupby(['Store Number'])['Profit'].idxmax()]\n",
    "max_cats16.drop('Profit', axis = 1, inplace = True)\n",
    "max_cats16.head()"
   ]
  },
  {
   "cell_type": "code",
   "execution_count": 30,
   "metadata": {
    "collapsed": false
   },
   "outputs": [
    {
     "data": {
      "text/html": [
       "<div>\n",
       "<table border=\"1\" class=\"dataframe\">\n",
       "  <thead>\n",
       "    <tr style=\"text-align: right;\">\n",
       "      <th></th>\n",
       "      <th>Store Number</th>\n",
       "      <th>Price Per Liter</th>\n",
       "    </tr>\n",
       "  </thead>\n",
       "  <tbody>\n",
       "    <tr>\n",
       "      <th>0</th>\n",
       "      <td>2106</td>\n",
       "      <td>17.85</td>\n",
       "    </tr>\n",
       "    <tr>\n",
       "      <th>1</th>\n",
       "      <td>2113</td>\n",
       "      <td>18.50</td>\n",
       "    </tr>\n",
       "    <tr>\n",
       "      <th>2</th>\n",
       "      <td>2130</td>\n",
       "      <td>16.82</td>\n",
       "    </tr>\n",
       "    <tr>\n",
       "      <th>3</th>\n",
       "      <td>2152</td>\n",
       "      <td>13.02</td>\n",
       "    </tr>\n",
       "    <tr>\n",
       "      <th>4</th>\n",
       "      <td>2178</td>\n",
       "      <td>16.06</td>\n",
       "    </tr>\n",
       "  </tbody>\n",
       "</table>\n",
       "</div>"
      ],
      "text/plain": [
       "   Store Number  Price Per Liter\n",
       "0          2106            17.85\n",
       "1          2113            18.50\n",
       "2          2130            16.82\n",
       "3          2152            13.02\n",
       "4          2178            16.06"
      ]
     },
     "execution_count": 30,
     "metadata": {},
     "output_type": "execute_result"
    }
   ],
   "source": [
    "# Creating a subset with the average profit for each category.\n",
    "avg_ppl15 = sales_both[all_15_mask].groupby(['Store Number'])['Price Per Liter'].mean()\n",
    "avg_ppl15 = pd.DataFrame(avg_ppl15).reset_index()\n",
    "avg_ppl15['Price Per Liter'] = avg_ppl15['Price Per Liter'].round(2)\n",
    "\n",
    "avg_ppl15.head()"
   ]
  },
  {
   "cell_type": "code",
   "execution_count": 31,
   "metadata": {
    "collapsed": false
   },
   "outputs": [
    {
     "data": {
      "text/html": [
       "<div>\n",
       "<table border=\"1\" class=\"dataframe\">\n",
       "  <thead>\n",
       "    <tr style=\"text-align: right;\">\n",
       "      <th></th>\n",
       "      <th>Store Number</th>\n",
       "      <th>Price Per Liter</th>\n",
       "    </tr>\n",
       "  </thead>\n",
       "  <tbody>\n",
       "    <tr>\n",
       "      <th>0</th>\n",
       "      <td>2106</td>\n",
       "      <td>17.97</td>\n",
       "    </tr>\n",
       "    <tr>\n",
       "      <th>1</th>\n",
       "      <td>2113</td>\n",
       "      <td>17.48</td>\n",
       "    </tr>\n",
       "    <tr>\n",
       "      <th>2</th>\n",
       "      <td>2130</td>\n",
       "      <td>17.45</td>\n",
       "    </tr>\n",
       "    <tr>\n",
       "      <th>3</th>\n",
       "      <td>2152</td>\n",
       "      <td>12.49</td>\n",
       "    </tr>\n",
       "    <tr>\n",
       "      <th>4</th>\n",
       "      <td>2178</td>\n",
       "      <td>15.10</td>\n",
       "    </tr>\n",
       "  </tbody>\n",
       "</table>\n",
       "</div>"
      ],
      "text/plain": [
       "   Store Number  Price Per Liter\n",
       "0          2106            17.97\n",
       "1          2113            17.48\n",
       "2          2130            17.45\n",
       "3          2152            12.49\n",
       "4          2178            15.10"
      ]
     },
     "execution_count": 31,
     "metadata": {},
     "output_type": "execute_result"
    }
   ],
   "source": [
    "# Creating a subset with the average profit for each category.\n",
    "avg_ppl16 = sales_both[all_16_mask].groupby(['Store Number'])['Price Per Liter'].mean()\n",
    "avg_ppl16 = pd.DataFrame(avg_ppl16).reset_index()\n",
    "avg_ppl16['Price Per Liter'] = avg_ppl16['Price Per Liter'].round(2)\n",
    "\n",
    "avg_ppl16.head()"
   ]
  },
  {
   "cell_type": "code",
   "execution_count": 32,
   "metadata": {
    "collapsed": false
   },
   "outputs": [],
   "source": [
    "# Subset that will become a column of the total profits per store for Q1 of 2015\n",
    "q1_15_profits = q1_15_stores.groupby(['Store Number'])['Profit', 'Sale (Dollars)'].sum()\n",
    "q1_15_profits = pd.DataFrame(q1_15_profits).reset_index().sort_values(by = 'Store Number', ascending = True)\n",
    "\n",
    "# Subset that will become a column of the total profits per store for Q1 of 2016\n",
    "q1_16_profits = q1_16_stores.groupby(['Store Number'])['Profit','Sale (Dollars)'].sum()\n",
    "q1_16_profits = pd.DataFrame(q1_16_profits).reset_index().sort_values(by = 'Store Number', ascending = True)\n",
    "\n",
    "# Subset of total profits for 2015\n",
    "all_15_profits = all_15_stores.groupby(['Store Number'])['Profit','Sale (Dollars)'].sum()\n",
    "all_15_profits = pd.DataFrame(all_15_profits).reset_index().sort_values(by = 'Store Number', ascending = True)"
   ]
  },
  {
   "cell_type": "code",
   "execution_count": 33,
   "metadata": {
    "collapsed": false
   },
   "outputs": [
    {
     "data": {
      "text/html": [
       "<div>\n",
       "<table border=\"1\" class=\"dataframe\">\n",
       "  <thead>\n",
       "    <tr style=\"text-align: right;\">\n",
       "      <th></th>\n",
       "      <th>Store Number</th>\n",
       "      <th>Q1 Profit</th>\n",
       "      <th>Q1 Sales</th>\n",
       "      <th>Q2 Profit</th>\n",
       "      <th>Q2 Sales</th>\n",
       "      <th>Q3 Profit</th>\n",
       "      <th>Q3 Sales</th>\n",
       "      <th>Q4 Profit</th>\n",
       "      <th>Q4 Sales</th>\n",
       "      <th>Q1-16 Profit</th>\n",
       "      <th>Q1-16 Sales</th>\n",
       "    </tr>\n",
       "  </thead>\n",
       "  <tbody>\n",
       "    <tr>\n",
       "      <th>0</th>\n",
       "      <td>2106</td>\n",
       "      <td>13108.37</td>\n",
       "      <td>39287.29</td>\n",
       "      <td>10420.43</td>\n",
       "      <td>31173.46</td>\n",
       "      <td>12787.25</td>\n",
       "      <td>38324.77</td>\n",
       "      <td>12426.15</td>\n",
       "      <td>37253.18</td>\n",
       "      <td>10174.68</td>\n",
       "      <td>30478.75</td>\n",
       "    </tr>\n",
       "    <tr>\n",
       "      <th>1</th>\n",
       "      <td>2113</td>\n",
       "      <td>944.72</td>\n",
       "      <td>2833.25</td>\n",
       "      <td>664.99</td>\n",
       "      <td>1994.30</td>\n",
       "      <td>704.77</td>\n",
       "      <td>2113.56</td>\n",
       "      <td>794.56</td>\n",
       "      <td>2369.11</td>\n",
       "      <td>693.49</td>\n",
       "      <td>2065.90</td>\n",
       "    </tr>\n",
       "    <tr>\n",
       "      <th>2</th>\n",
       "      <td>2130</td>\n",
       "      <td>8108.68</td>\n",
       "      <td>24272.57</td>\n",
       "      <td>11689.39</td>\n",
       "      <td>35038.09</td>\n",
       "      <td>8204.60</td>\n",
       "      <td>24605.88</td>\n",
       "      <td>9226.65</td>\n",
       "      <td>27667.37</td>\n",
       "      <td>9288.29</td>\n",
       "      <td>27856.11</td>\n",
       "    </tr>\n",
       "    <tr>\n",
       "      <th>3</th>\n",
       "      <td>2152</td>\n",
       "      <td>668.60</td>\n",
       "      <td>2003.46</td>\n",
       "      <td>470.86</td>\n",
       "      <td>1398.92</td>\n",
       "      <td>752.36</td>\n",
       "      <td>2246.70</td>\n",
       "      <td>695.71</td>\n",
       "      <td>2072.00</td>\n",
       "      <td>304.08</td>\n",
       "      <td>904.66</td>\n",
       "    </tr>\n",
       "    <tr>\n",
       "      <th>4</th>\n",
       "      <td>2178</td>\n",
       "      <td>1961.28</td>\n",
       "      <td>5856.41</td>\n",
       "      <td>2372.80</td>\n",
       "      <td>6986.33</td>\n",
       "      <td>1890.11</td>\n",
       "      <td>5668.15</td>\n",
       "      <td>1941.51</td>\n",
       "      <td>5813.29</td>\n",
       "      <td>1868.76</td>\n",
       "      <td>5588.50</td>\n",
       "    </tr>\n",
       "  </tbody>\n",
       "</table>\n",
       "</div>"
      ],
      "text/plain": [
       "   Store Number  Q1 Profit  Q1 Sales  Q2 Profit  Q2 Sales  Q3 Profit  \\\n",
       "0          2106   13108.37  39287.29   10420.43  31173.46   12787.25   \n",
       "1          2113     944.72   2833.25     664.99   1994.30     704.77   \n",
       "2          2130    8108.68  24272.57   11689.39  35038.09    8204.60   \n",
       "3          2152     668.60   2003.46     470.86   1398.92     752.36   \n",
       "4          2178    1961.28   5856.41    2372.80   6986.33    1890.11   \n",
       "\n",
       "   Q3 Sales  Q4 Profit  Q4 Sales  Q1-16 Profit  Q1-16 Sales  \n",
       "0  38324.77   12426.15  37253.18      10174.68     30478.75  \n",
       "1   2113.56     794.56   2369.11        693.49      2065.90  \n",
       "2  24605.88    9226.65  27667.37       9288.29     27856.11  \n",
       "3   2246.70     695.71   2072.00        304.08       904.66  \n",
       "4   5668.15    1941.51   5813.29       1868.76      5588.50  "
      ]
     },
     "execution_count": 33,
     "metadata": {},
     "output_type": "execute_result"
    }
   ],
   "source": [
    "# Creating dataframes per quarter of 2015 to calculate growth rate and predict 2016\n",
    "\n",
    "# Creating masks for other 3 quarters\n",
    "q2_15_mask = (sales_both.Year == 2015) & (sales_both.Month >= 4) & (sales_both.Month <= 6)\n",
    "q3_15_mask = (sales_both.Year == 2015) & (sales_both.Month >= 7) & (sales_both.Month <= 9)\n",
    "q4_15_mask = (sales_both.Year == 2015) & (sales_both.Month >= 10) & (sales_both.Month <= 12)\n",
    "\n",
    "# Grouping each quarter\n",
    "q2_15_profit = sales_both[q2_15_mask].groupby([\"Store Number\"])['Profit', 'Sale (Dollars)'].sum()\n",
    "q3_15_profit = sales_both[q3_15_mask].groupby(['Store Number'])['Profit', 'Sale (Dollars)'].sum()\n",
    "q4_15_profit = sales_both[q4_15_mask].groupby(['Store Number'])['Profit', 'Sale (Dollars)'].sum()\n",
    "\n",
    "# Turning groupby df into a df\n",
    "q2_15_profit = pd.DataFrame(q2_15_profit).reset_index()\n",
    "q3_15_profit = pd.DataFrame(q3_15_profit).reset_index()\n",
    "q4_15_profit = pd.DataFrame(q4_15_profit).reset_index()\n",
    "\n",
    "# Renaming column titles before merging dfs\n",
    "q2_15_profit = q2_15_profit.rename(columns = {'Profit':'Q2 Profit','Sale (Dollars)': 'Q2 Sales'})\n",
    "q3_15_profit = q3_15_profit.rename(columns = {'Profit':'Q3 Profit','Sale (Dollars)': 'Q3 Sales'})\n",
    "q4_15_profit = q4_15_profit.rename(columns = {'Profit':'Q4 Profit','Sale (Dollars)': 'Q4 Sales'})\n",
    "\n",
    "# Merging quarterly dataframes\n",
    "quarterly_profit = pd.merge(pd.merge(q2_15_profit, q3_15_profit, on = 'Store Number'),\n",
    "                            q4_15_profit, on = 'Store Number')\n",
    "quarter_preds = pd.merge(pd.merge(q1_15_profits, quarterly_profit, on = 'Store Number'), q1_16_profits, on = 'Store Number')\n",
    "\n",
    "# Renaming q1 since it is called profits\n",
    "quarter_preds = quarter_preds.rename(columns = {'Profit_x': 'Q1 Profit','Sale (Dollars)_x':'Q1 Sales',\n",
    "                                               'Profit_y': 'Q1-16 Profit','Sale (Dollars)_y':'Q1-16 Sales'})\n",
    "\n",
    "quarter_preds.head()"
   ]
  },
  {
   "cell_type": "code",
   "execution_count": 34,
   "metadata": {
    "collapsed": false
   },
   "outputs": [
    {
     "data": {
      "text/html": [
       "<div>\n",
       "<table border=\"1\" class=\"dataframe\">\n",
       "  <thead>\n",
       "    <tr style=\"text-align: right;\">\n",
       "      <th></th>\n",
       "      <th>Store Number</th>\n",
       "      <th>Q1 Profit</th>\n",
       "      <th>Q1 Sales</th>\n",
       "      <th>Q2 Profit</th>\n",
       "      <th>Q2 Sales</th>\n",
       "      <th>Q3 Profit</th>\n",
       "      <th>Q3 Sales</th>\n",
       "      <th>Q4 Profit</th>\n",
       "      <th>Q4 Sales</th>\n",
       "      <th>Q1-16 Profit</th>\n",
       "      <th>Q1-16 Sales</th>\n",
       "      <th>Q2-16 Predicted Profit</th>\n",
       "      <th>Q3-16 Predicted Profit</th>\n",
       "      <th>Q4-16 Predicted Profit</th>\n",
       "      <th>Q2-16 Predicted Sales</th>\n",
       "      <th>Q3-16 Predicted Sales</th>\n",
       "      <th>Q4-16 Predicted Sales</th>\n",
       "    </tr>\n",
       "  </thead>\n",
       "  <tbody>\n",
       "    <tr>\n",
       "      <th>0</th>\n",
       "      <td>2106</td>\n",
       "      <td>13108.37</td>\n",
       "      <td>39287.29</td>\n",
       "      <td>10420.43</td>\n",
       "      <td>31173.46</td>\n",
       "      <td>12787.25</td>\n",
       "      <td>38324.77</td>\n",
       "      <td>12426.15</td>\n",
       "      <td>37253.18</td>\n",
       "      <td>10174.68</td>\n",
       "      <td>30478.75</td>\n",
       "      <td>8088.31</td>\n",
       "      <td>9925.43</td>\n",
       "      <td>9645.14</td>\n",
       "      <td>24184.11</td>\n",
       "      <td>29732.04</td>\n",
       "      <td>28900.70</td>\n",
       "    </tr>\n",
       "    <tr>\n",
       "      <th>1</th>\n",
       "      <td>2113</td>\n",
       "      <td>944.72</td>\n",
       "      <td>2833.25</td>\n",
       "      <td>664.99</td>\n",
       "      <td>1994.30</td>\n",
       "      <td>704.77</td>\n",
       "      <td>2113.56</td>\n",
       "      <td>794.56</td>\n",
       "      <td>2369.11</td>\n",
       "      <td>693.49</td>\n",
       "      <td>2065.90</td>\n",
       "      <td>488.15</td>\n",
       "      <td>517.35</td>\n",
       "      <td>583.26</td>\n",
       "      <td>1454.17</td>\n",
       "      <td>1541.13</td>\n",
       "      <td>1727.47</td>\n",
       "    </tr>\n",
       "    <tr>\n",
       "      <th>2</th>\n",
       "      <td>2130</td>\n",
       "      <td>8108.68</td>\n",
       "      <td>24272.57</td>\n",
       "      <td>11689.39</td>\n",
       "      <td>35038.09</td>\n",
       "      <td>8204.60</td>\n",
       "      <td>24605.88</td>\n",
       "      <td>9226.65</td>\n",
       "      <td>27667.37</td>\n",
       "      <td>9288.29</td>\n",
       "      <td>27856.11</td>\n",
       "      <td>13389.90</td>\n",
       "      <td>9398.16</td>\n",
       "      <td>10568.90</td>\n",
       "      <td>40211.02</td>\n",
       "      <td>28238.63</td>\n",
       "      <td>31752.11</td>\n",
       "    </tr>\n",
       "    <tr>\n",
       "      <th>3</th>\n",
       "      <td>2152</td>\n",
       "      <td>668.60</td>\n",
       "      <td>2003.46</td>\n",
       "      <td>470.86</td>\n",
       "      <td>1398.92</td>\n",
       "      <td>752.36</td>\n",
       "      <td>2246.70</td>\n",
       "      <td>695.71</td>\n",
       "      <td>2072.00</td>\n",
       "      <td>304.08</td>\n",
       "      <td>904.66</td>\n",
       "      <td>214.15</td>\n",
       "      <td>342.17</td>\n",
       "      <td>316.41</td>\n",
       "      <td>631.68</td>\n",
       "      <td>1014.49</td>\n",
       "      <td>935.61</td>\n",
       "    </tr>\n",
       "    <tr>\n",
       "      <th>4</th>\n",
       "      <td>2178</td>\n",
       "      <td>1961.28</td>\n",
       "      <td>5856.41</td>\n",
       "      <td>2372.80</td>\n",
       "      <td>6986.33</td>\n",
       "      <td>1890.11</td>\n",
       "      <td>5668.15</td>\n",
       "      <td>1941.51</td>\n",
       "      <td>5813.29</td>\n",
       "      <td>1868.76</td>\n",
       "      <td>5588.50</td>\n",
       "      <td>2260.87</td>\n",
       "      <td>1800.95</td>\n",
       "      <td>1849.92</td>\n",
       "      <td>6666.73</td>\n",
       "      <td>5408.85</td>\n",
       "      <td>5547.35</td>\n",
       "    </tr>\n",
       "  </tbody>\n",
       "</table>\n",
       "</div>"
      ],
      "text/plain": [
       "   Store Number  Q1 Profit  Q1 Sales  Q2 Profit  Q2 Sales  Q3 Profit  \\\n",
       "0          2106   13108.37  39287.29   10420.43  31173.46   12787.25   \n",
       "1          2113     944.72   2833.25     664.99   1994.30     704.77   \n",
       "2          2130    8108.68  24272.57   11689.39  35038.09    8204.60   \n",
       "3          2152     668.60   2003.46     470.86   1398.92     752.36   \n",
       "4          2178    1961.28   5856.41    2372.80   6986.33    1890.11   \n",
       "\n",
       "   Q3 Sales  Q4 Profit  Q4 Sales  Q1-16 Profit  Q1-16 Sales  \\\n",
       "0  38324.77   12426.15  37253.18      10174.68     30478.75   \n",
       "1   2113.56     794.56   2369.11        693.49      2065.90   \n",
       "2  24605.88    9226.65  27667.37       9288.29     27856.11   \n",
       "3   2246.70     695.71   2072.00        304.08       904.66   \n",
       "4   5668.15    1941.51   5813.29       1868.76      5588.50   \n",
       "\n",
       "   Q2-16 Predicted Profit  Q3-16 Predicted Profit  Q4-16 Predicted Profit  \\\n",
       "0                 8088.31                 9925.43                 9645.14   \n",
       "1                  488.15                  517.35                  583.26   \n",
       "2                13389.90                 9398.16                10568.90   \n",
       "3                  214.15                  342.17                  316.41   \n",
       "4                 2260.87                 1800.95                 1849.92   \n",
       "\n",
       "   Q2-16 Predicted Sales  Q3-16 Predicted Sales  Q4-16 Predicted Sales  \n",
       "0               24184.11               29732.04               28900.70  \n",
       "1                1454.17                1541.13                1727.47  \n",
       "2               40211.02               28238.63               31752.11  \n",
       "3                 631.68                1014.49                 935.61  \n",
       "4                6666.73                5408.85                5547.35  "
      ]
     },
     "execution_count": 34,
     "metadata": {},
     "output_type": "execute_result"
    }
   ],
   "source": [
    "# Growth rate calculator\n",
    "def growth_rate(df, start, end):\n",
    "    return ((df[end] - df[start])/df[start])\n",
    "\n",
    "# Creating new columns for each growth rate by profit\n",
    "quarter_preds['Q2-16 Predicted Profit'] = quarter_preds['Q1-16 Profit'] + (\n",
    "    quarter_preds['Q1-16 Profit']*(growth_rate(quarter_preds, 'Q1 Profit', 'Q2 Profit')))\n",
    "\n",
    "quarter_preds['Q3-16 Predicted Profit'] = quarter_preds['Q2-16 Predicted Profit'] + (\n",
    "    quarter_preds['Q2-16 Predicted Profit']*(growth_rate(quarter_preds, 'Q2 Profit', 'Q3 Profit')))\n",
    "\n",
    "quarter_preds['Q4-16 Predicted Profit'] = quarter_preds['Q3-16 Predicted Profit'] + (\n",
    "    quarter_preds['Q3-16 Predicted Profit']*(growth_rate(quarter_preds, 'Q3 Profit', 'Q4 Profit')))\n",
    "\n",
    "# Creating new columns for each growth rate by sales\n",
    "quarter_preds['Q2-16 Predicted Sales'] = quarter_preds['Q1-16 Sales'] + (\n",
    "    quarter_preds['Q1-16 Sales']*(growth_rate(quarter_preds, 'Q1 Sales', 'Q2 Sales')))\n",
    "\n",
    "quarter_preds['Q3-16 Predicted Sales'] = quarter_preds['Q2-16 Predicted Sales'] + (\n",
    "    quarter_preds['Q2-16 Predicted Sales']*(growth_rate(quarter_preds, 'Q2 Sales', 'Q3 Sales')))\n",
    "\n",
    "quarter_preds['Q4-16 Predicted Sales'] = quarter_preds['Q3-16 Predicted Sales'] + (\n",
    "    quarter_preds['Q3-16 Predicted Sales']*(growth_rate(quarter_preds, 'Q3 Sales', 'Q4 Sales')))\n",
    "\n",
    "quarter_preds = quarter_preds.round(2)\n",
    "\n",
    "quarter_preds.head()"
   ]
  },
  {
   "cell_type": "code",
   "execution_count": 35,
   "metadata": {
    "collapsed": false
   },
   "outputs": [
    {
     "data": {
      "text/html": [
       "<div>\n",
       "<table border=\"1\" class=\"dataframe\">\n",
       "  <thead>\n",
       "    <tr style=\"text-align: right;\">\n",
       "      <th></th>\n",
       "      <th>Store Number</th>\n",
       "      <th>Q12015 Sales</th>\n",
       "      <th>Q12016 Sales</th>\n",
       "      <th>2015 Sales</th>\n",
       "      <th>2016 Predicted Profits</th>\n",
       "      <th>2016 Predicted Sales</th>\n",
       "    </tr>\n",
       "  </thead>\n",
       "  <tbody>\n",
       "    <tr>\n",
       "      <th>0</th>\n",
       "      <td>2106</td>\n",
       "      <td>39287.29</td>\n",
       "      <td>30478.75</td>\n",
       "      <td>146038.70</td>\n",
       "      <td>37833.56</td>\n",
       "      <td>113295.60</td>\n",
       "    </tr>\n",
       "    <tr>\n",
       "      <th>1</th>\n",
       "      <td>2113</td>\n",
       "      <td>2833.25</td>\n",
       "      <td>2065.90</td>\n",
       "      <td>9310.22</td>\n",
       "      <td>2282.25</td>\n",
       "      <td>6788.67</td>\n",
       "    </tr>\n",
       "    <tr>\n",
       "      <th>2</th>\n",
       "      <td>2130</td>\n",
       "      <td>24272.57</td>\n",
       "      <td>27856.11</td>\n",
       "      <td>111583.91</td>\n",
       "      <td>42645.25</td>\n",
       "      <td>128057.87</td>\n",
       "    </tr>\n",
       "    <tr>\n",
       "      <th>3</th>\n",
       "      <td>2152</td>\n",
       "      <td>2003.46</td>\n",
       "      <td>904.66</td>\n",
       "      <td>7721.08</td>\n",
       "      <td>1176.81</td>\n",
       "      <td>3486.44</td>\n",
       "    </tr>\n",
       "    <tr>\n",
       "      <th>4</th>\n",
       "      <td>2178</td>\n",
       "      <td>5856.41</td>\n",
       "      <td>5588.50</td>\n",
       "      <td>24324.18</td>\n",
       "      <td>7780.50</td>\n",
       "      <td>23211.43</td>\n",
       "    </tr>\n",
       "  </tbody>\n",
       "</table>\n",
       "</div>"
      ],
      "text/plain": [
       "   Store Number  Q12015 Sales  Q12016 Sales  2015 Sales  \\\n",
       "0          2106      39287.29      30478.75   146038.70   \n",
       "1          2113       2833.25       2065.90     9310.22   \n",
       "2          2130      24272.57      27856.11   111583.91   \n",
       "3          2152       2003.46        904.66     7721.08   \n",
       "4          2178       5856.41       5588.50    24324.18   \n",
       "\n",
       "   2016 Predicted Profits  2016 Predicted Sales  \n",
       "0                37833.56             113295.60  \n",
       "1                 2282.25               6788.67  \n",
       "2                42645.25             128057.87  \n",
       "3                 1176.81               3486.44  \n",
       "4                 7780.50              23211.43  "
      ]
     },
     "execution_count": 35,
     "metadata": {},
     "output_type": "execute_result"
    }
   ],
   "source": [
    "quarter_predictions = quarter_preds.copy()\n",
    "\n",
    "# Creating a sum of the total 2015 sales, 2016 predicted sales, and predicted profits\n",
    "\n",
    "quarter_predictions['2015 Sales'] = quarter_predictions['Q1 Sales'] + (\n",
    "    quarter_predictions['Q2 Sales'] + quarter_predictions['Q3 Sales'] + quarter_predictions['Q4 Sales'])\n",
    "quarter_predictions['2016 Predicted Profits'] = quarter_predictions['Q1-16 Profit'] + (\n",
    "    quarter_predictions['Q2-16 Predicted Profit'] + quarter_predictions['Q3-16 Predicted Profit'] + quarter_predictions['Q4-16 Predicted Profit'])\n",
    "quarter_predictions['2016 Predicted Sales'] = quarter_predictions['Q1-16 Sales'] + (\n",
    "    quarter_predictions['Q2-16 Predicted Sales'] + quarter_predictions['Q3-16 Predicted Sales'] + quarter_predictions['Q4-16 Predicted Sales'])\n",
    "\n",
    "# Dropping the unnecessary columns \n",
    "\n",
    "quarter_predictions.drop(['Q1-16 Profit','Q2-16 Predicted Profit','Q3-16 Predicted Profit','Q4-16 Predicted Profit'], axis = 1, inplace = True)\n",
    "quarter_predictions.drop(['Q2-16 Predicted Sales','Q3-16 Predicted Sales','Q4-16 Predicted Sales'], axis = 1, inplace = True)\n",
    "quarter_predictions.drop(['Q2 Sales','Q3 Sales','Q4 Sales'], axis = 1, inplace = True)\n",
    "quarter_predictions.drop(['Q1 Profit','Q2 Profit','Q3 Profit','Q4 Profit'], axis = 1, inplace = True)\n",
    "\n",
    "# Renaming the columns to match our dataframe containing predictors and their predictor variables\n",
    "\n",
    "quarter_predictions = quarter_predictions.rename(columns = {'Q1 Sales':'Q12015 Sales', 'Q1-16 Sales':'Q12016 Sales'})\n",
    "quarter_predictions.head()"
   ]
  },
  {
   "cell_type": "code",
   "execution_count": 36,
   "metadata": {
    "collapsed": false
   },
   "outputs": [
    {
     "data": {
      "text/html": [
       "<div>\n",
       "<table border=\"1\" class=\"dataframe\">\n",
       "  <thead>\n",
       "    <tr style=\"text-align: right;\">\n",
       "      <th></th>\n",
       "      <th>Store Number</th>\n",
       "      <th>County Number</th>\n",
       "      <th>2015 Most Profitable Liquor</th>\n",
       "      <th>2016 Most Profitable Liquor</th>\n",
       "      <th>2015 Avg Price Per Liter</th>\n",
       "      <th>2016 Avg Price Per Liter</th>\n",
       "      <th>Q12015 Profit</th>\n",
       "      <th>Q12016 Profit</th>\n",
       "      <th>2015 Profit</th>\n",
       "    </tr>\n",
       "  </thead>\n",
       "  <tbody>\n",
       "    <tr>\n",
       "      <th>0</th>\n",
       "      <td>2106</td>\n",
       "      <td>7.0</td>\n",
       "      <td>9</td>\n",
       "      <td>9</td>\n",
       "      <td>17.85</td>\n",
       "      <td>17.97</td>\n",
       "      <td>13108.37</td>\n",
       "      <td>10174.68</td>\n",
       "      <td>48742.20</td>\n",
       "    </tr>\n",
       "    <tr>\n",
       "      <th>1</th>\n",
       "      <td>2113</td>\n",
       "      <td>94.0</td>\n",
       "      <td>9</td>\n",
       "      <td>13</td>\n",
       "      <td>18.50</td>\n",
       "      <td>17.48</td>\n",
       "      <td>944.72</td>\n",
       "      <td>693.49</td>\n",
       "      <td>3109.04</td>\n",
       "    </tr>\n",
       "    <tr>\n",
       "      <th>2</th>\n",
       "      <td>2130</td>\n",
       "      <td>7.0</td>\n",
       "      <td>9</td>\n",
       "      <td>12</td>\n",
       "      <td>16.82</td>\n",
       "      <td>17.45</td>\n",
       "      <td>8108.68</td>\n",
       "      <td>9288.29</td>\n",
       "      <td>37229.32</td>\n",
       "    </tr>\n",
       "    <tr>\n",
       "      <th>3</th>\n",
       "      <td>2152</td>\n",
       "      <td>17.0</td>\n",
       "      <td>9</td>\n",
       "      <td>13</td>\n",
       "      <td>13.02</td>\n",
       "      <td>12.49</td>\n",
       "      <td>668.60</td>\n",
       "      <td>304.08</td>\n",
       "      <td>2587.53</td>\n",
       "    </tr>\n",
       "    <tr>\n",
       "      <th>4</th>\n",
       "      <td>2178</td>\n",
       "      <td>3.0</td>\n",
       "      <td>9</td>\n",
       "      <td>7</td>\n",
       "      <td>16.06</td>\n",
       "      <td>15.10</td>\n",
       "      <td>1961.28</td>\n",
       "      <td>1868.76</td>\n",
       "      <td>8165.70</td>\n",
       "    </tr>\n",
       "  </tbody>\n",
       "</table>\n",
       "</div>"
      ],
      "text/plain": [
       "   Store Number  County Number  2015 Most Profitable Liquor  \\\n",
       "0          2106            7.0                            9   \n",
       "1          2113           94.0                            9   \n",
       "2          2130            7.0                            9   \n",
       "3          2152           17.0                            9   \n",
       "4          2178            3.0                            9   \n",
       "\n",
       "   2016 Most Profitable Liquor  2015 Avg Price Per Liter  \\\n",
       "0                            9                     17.85   \n",
       "1                           13                     18.50   \n",
       "2                           12                     16.82   \n",
       "3                           13                     13.02   \n",
       "4                            7                     16.06   \n",
       "\n",
       "   2016 Avg Price Per Liter  Q12015 Profit  Q12016 Profit  2015 Profit  \n",
       "0                     17.97       13108.37       10174.68     48742.20  \n",
       "1                     17.48         944.72         693.49      3109.04  \n",
       "2                     17.45        8108.68        9288.29     37229.32  \n",
       "3                     12.49         668.60         304.08      2587.53  \n",
       "4                     15.10        1961.28        1868.76      8165.70  "
      ]
     },
     "execution_count": 36,
     "metadata": {},
     "output_type": "execute_result"
    }
   ],
   "source": [
    "# Merging all subsets above into one subset containing all predictor and target variables\n",
    "subset1 = pd.merge(pd.merge(q1_15_profits, q1_16_profits, on = 'Store Number'), all_15_profits, on = 'Store Number')\n",
    "\n",
    "subset2 = pd.merge(pd.merge(avg_ppl15, avg_ppl16, on = 'Store Number'), subset1, on = 'Store Number')\n",
    "\n",
    "subset3 = pd.merge(pd.merge(max_cats15, max_cats16, on = 'Store Number'), subset2, on = 'Store Number')\n",
    "\n",
    "subset4 = pd.merge(store_cats, subset3, on = 'Store Number')\n",
    "\n",
    "subset5 = subset4.rename(columns = {'Profit_x': 'Q12015 Profit', 'Profit_y': 'Q12016 Profit',\n",
    "                                    'Profit': '2015 Profit', 'Category Number_x': '2015 Most Profitable Liquor',\n",
    "                                   'Category Number_y': '2016 Most Profitable Liquor', 'Price Per Liter_x': '2015 Avg Price Per Liter',\n",
    "                                   'Price Per Liter_y': '2016 Avg Price Per Liter'})\n",
    " \n",
    "subset5.drop(['Sale (Dollars)_x', 'Sale (Dollars)_y', 'Sale (Dollars)'], axis = 1, inplace = True)\n",
    "subset5.head()"
   ]
  },
  {
   "cell_type": "code",
   "execution_count": 37,
   "metadata": {
    "collapsed": false
   },
   "outputs": [
    {
     "data": {
      "text/html": [
       "<div>\n",
       "<table border=\"1\" class=\"dataframe\">\n",
       "  <thead>\n",
       "    <tr style=\"text-align: right;\">\n",
       "      <th></th>\n",
       "      <th>Store Number</th>\n",
       "      <th>County Number</th>\n",
       "      <th>2015 Most Profitable Liquor</th>\n",
       "      <th>2016 Most Profitable Liquor</th>\n",
       "      <th>2015 Avg Price Per Liter</th>\n",
       "      <th>2016 Avg Price Per Liter</th>\n",
       "      <th>Q12015 Profit</th>\n",
       "      <th>Q12016 Profit</th>\n",
       "      <th>2015 Profit</th>\n",
       "      <th>Q12015 Sales</th>\n",
       "      <th>Q12016 Sales</th>\n",
       "      <th>2015 Sales</th>\n",
       "      <th>2016 Predicted Profits</th>\n",
       "      <th>2016 Predicted Sales</th>\n",
       "    </tr>\n",
       "  </thead>\n",
       "  <tbody>\n",
       "    <tr>\n",
       "      <th>0</th>\n",
       "      <td>2106</td>\n",
       "      <td>7.0</td>\n",
       "      <td>9</td>\n",
       "      <td>9</td>\n",
       "      <td>17.85</td>\n",
       "      <td>17.97</td>\n",
       "      <td>13108.37</td>\n",
       "      <td>10174.68</td>\n",
       "      <td>48742.20</td>\n",
       "      <td>39287.29</td>\n",
       "      <td>30478.75</td>\n",
       "      <td>146038.70</td>\n",
       "      <td>37833.56</td>\n",
       "      <td>113295.60</td>\n",
       "    </tr>\n",
       "    <tr>\n",
       "      <th>1</th>\n",
       "      <td>2113</td>\n",
       "      <td>94.0</td>\n",
       "      <td>9</td>\n",
       "      <td>13</td>\n",
       "      <td>18.50</td>\n",
       "      <td>17.48</td>\n",
       "      <td>944.72</td>\n",
       "      <td>693.49</td>\n",
       "      <td>3109.04</td>\n",
       "      <td>2833.25</td>\n",
       "      <td>2065.90</td>\n",
       "      <td>9310.22</td>\n",
       "      <td>2282.25</td>\n",
       "      <td>6788.67</td>\n",
       "    </tr>\n",
       "    <tr>\n",
       "      <th>2</th>\n",
       "      <td>2130</td>\n",
       "      <td>7.0</td>\n",
       "      <td>9</td>\n",
       "      <td>12</td>\n",
       "      <td>16.82</td>\n",
       "      <td>17.45</td>\n",
       "      <td>8108.68</td>\n",
       "      <td>9288.29</td>\n",
       "      <td>37229.32</td>\n",
       "      <td>24272.57</td>\n",
       "      <td>27856.11</td>\n",
       "      <td>111583.91</td>\n",
       "      <td>42645.25</td>\n",
       "      <td>128057.87</td>\n",
       "    </tr>\n",
       "    <tr>\n",
       "      <th>3</th>\n",
       "      <td>2152</td>\n",
       "      <td>17.0</td>\n",
       "      <td>9</td>\n",
       "      <td>13</td>\n",
       "      <td>13.02</td>\n",
       "      <td>12.49</td>\n",
       "      <td>668.60</td>\n",
       "      <td>304.08</td>\n",
       "      <td>2587.53</td>\n",
       "      <td>2003.46</td>\n",
       "      <td>904.66</td>\n",
       "      <td>7721.08</td>\n",
       "      <td>1176.81</td>\n",
       "      <td>3486.44</td>\n",
       "    </tr>\n",
       "    <tr>\n",
       "      <th>4</th>\n",
       "      <td>2178</td>\n",
       "      <td>3.0</td>\n",
       "      <td>9</td>\n",
       "      <td>7</td>\n",
       "      <td>16.06</td>\n",
       "      <td>15.10</td>\n",
       "      <td>1961.28</td>\n",
       "      <td>1868.76</td>\n",
       "      <td>8165.70</td>\n",
       "      <td>5856.41</td>\n",
       "      <td>5588.50</td>\n",
       "      <td>24324.18</td>\n",
       "      <td>7780.50</td>\n",
       "      <td>23211.43</td>\n",
       "    </tr>\n",
       "  </tbody>\n",
       "</table>\n",
       "</div>"
      ],
      "text/plain": [
       "   Store Number  County Number  2015 Most Profitable Liquor  \\\n",
       "0          2106            7.0                            9   \n",
       "1          2113           94.0                            9   \n",
       "2          2130            7.0                            9   \n",
       "3          2152           17.0                            9   \n",
       "4          2178            3.0                            9   \n",
       "\n",
       "   2016 Most Profitable Liquor  2015 Avg Price Per Liter  \\\n",
       "0                            9                     17.85   \n",
       "1                           13                     18.50   \n",
       "2                           12                     16.82   \n",
       "3                           13                     13.02   \n",
       "4                            7                     16.06   \n",
       "\n",
       "   2016 Avg Price Per Liter  Q12015 Profit  Q12016 Profit  2015 Profit  \\\n",
       "0                     17.97       13108.37       10174.68     48742.20   \n",
       "1                     17.48         944.72         693.49      3109.04   \n",
       "2                     17.45        8108.68        9288.29     37229.32   \n",
       "3                     12.49         668.60         304.08      2587.53   \n",
       "4                     15.10        1961.28        1868.76      8165.70   \n",
       "\n",
       "   Q12015 Sales  Q12016 Sales  2015 Sales  2016 Predicted Profits  \\\n",
       "0      39287.29      30478.75   146038.70                37833.56   \n",
       "1       2833.25       2065.90     9310.22                 2282.25   \n",
       "2      24272.57      27856.11   111583.91                42645.25   \n",
       "3       2003.46        904.66     7721.08                 1176.81   \n",
       "4       5856.41       5588.50    24324.18                 7780.50   \n",
       "\n",
       "   2016 Predicted Sales  \n",
       "0             113295.60  \n",
       "1               6788.67  \n",
       "2             128057.87  \n",
       "3               3486.44  \n",
       "4              23211.43  "
      ]
     },
     "execution_count": 37,
     "metadata": {},
     "output_type": "execute_result"
    }
   ],
   "source": [
    "model_df = pd.merge(subset5, quarter_predictions, on = 'Store Number')\n",
    "model_df.head()"
   ]
  },
  {
   "cell_type": "code",
   "execution_count": 38,
   "metadata": {
    "collapsed": false
   },
   "outputs": [
    {
     "data": {
      "text/html": [
       "<div>\n",
       "<table border=\"1\" class=\"dataframe\">\n",
       "  <thead>\n",
       "    <tr style=\"text-align: right;\">\n",
       "      <th></th>\n",
       "      <th>Store Number</th>\n",
       "      <th>County Number</th>\n",
       "      <th>2015 Most Profitable Liquor</th>\n",
       "      <th>2016 Most Profitable Liquor</th>\n",
       "      <th>2015 Avg Price Per Liter</th>\n",
       "      <th>2016 Avg Price Per Liter</th>\n",
       "      <th>Q12015 Profit</th>\n",
       "      <th>Q12016 Profit</th>\n",
       "      <th>2015 Profit</th>\n",
       "      <th>Q12015 Sales</th>\n",
       "      <th>Q12016 Sales</th>\n",
       "      <th>2015 Sales</th>\n",
       "      <th>2016 Predicted Profits</th>\n",
       "      <th>2016 Predicted Sales</th>\n",
       "    </tr>\n",
       "  </thead>\n",
       "  <tbody>\n",
       "    <tr>\n",
       "      <th>0</th>\n",
       "      <td>2106</td>\n",
       "      <td>7.0</td>\n",
       "      <td>9</td>\n",
       "      <td>9</td>\n",
       "      <td>0.216476</td>\n",
       "      <td>0.175466</td>\n",
       "      <td>2.671994</td>\n",
       "      <td>10174.68</td>\n",
       "      <td>48742.20</td>\n",
       "      <td>2.675791</td>\n",
       "      <td>30478.75</td>\n",
       "      <td>146038.70</td>\n",
       "      <td>37833.56</td>\n",
       "      <td>113295.60</td>\n",
       "    </tr>\n",
       "    <tr>\n",
       "      <th>1</th>\n",
       "      <td>2113</td>\n",
       "      <td>94.0</td>\n",
       "      <td>9</td>\n",
       "      <td>13</td>\n",
       "      <td>0.388927</td>\n",
       "      <td>0.074389</td>\n",
       "      <td>-0.221082</td>\n",
       "      <td>693.49</td>\n",
       "      <td>3109.04</td>\n",
       "      <td>-0.219952</td>\n",
       "      <td>2065.90</td>\n",
       "      <td>9310.22</td>\n",
       "      <td>2282.25</td>\n",
       "      <td>6788.67</td>\n",
       "    </tr>\n",
       "    <tr>\n",
       "      <th>2</th>\n",
       "      <td>2130</td>\n",
       "      <td>7.0</td>\n",
       "      <td>9</td>\n",
       "      <td>12</td>\n",
       "      <td>-0.056793</td>\n",
       "      <td>0.068200</td>\n",
       "      <td>1.482837</td>\n",
       "      <td>9288.29</td>\n",
       "      <td>37229.32</td>\n",
       "      <td>1.483090</td>\n",
       "      <td>27856.11</td>\n",
       "      <td>111583.91</td>\n",
       "      <td>42645.25</td>\n",
       "      <td>128057.87</td>\n",
       "    </tr>\n",
       "    <tr>\n",
       "      <th>3</th>\n",
       "      <td>2152</td>\n",
       "      <td>17.0</td>\n",
       "      <td>9</td>\n",
       "      <td>13</td>\n",
       "      <td>-1.064967</td>\n",
       "      <td>-0.954952</td>\n",
       "      <td>-0.286756</td>\n",
       "      <td>304.08</td>\n",
       "      <td>2587.53</td>\n",
       "      <td>-0.285867</td>\n",
       "      <td>904.66</td>\n",
       "      <td>7721.08</td>\n",
       "      <td>1176.81</td>\n",
       "      <td>3486.44</td>\n",
       "    </tr>\n",
       "    <tr>\n",
       "      <th>4</th>\n",
       "      <td>2178</td>\n",
       "      <td>3.0</td>\n",
       "      <td>9</td>\n",
       "      <td>7</td>\n",
       "      <td>-0.258427</td>\n",
       "      <td>-0.416559</td>\n",
       "      <td>0.020703</td>\n",
       "      <td>1868.76</td>\n",
       "      <td>8165.70</td>\n",
       "      <td>0.020194</td>\n",
       "      <td>5588.50</td>\n",
       "      <td>24324.18</td>\n",
       "      <td>7780.50</td>\n",
       "      <td>23211.43</td>\n",
       "    </tr>\n",
       "  </tbody>\n",
       "</table>\n",
       "</div>"
      ],
      "text/plain": [
       "   Store Number  County Number  2015 Most Profitable Liquor  \\\n",
       "0          2106            7.0                            9   \n",
       "1          2113           94.0                            9   \n",
       "2          2130            7.0                            9   \n",
       "3          2152           17.0                            9   \n",
       "4          2178            3.0                            9   \n",
       "\n",
       "   2016 Most Profitable Liquor  2015 Avg Price Per Liter  \\\n",
       "0                            9                  0.216476   \n",
       "1                           13                  0.388927   \n",
       "2                           12                 -0.056793   \n",
       "3                           13                 -1.064967   \n",
       "4                            7                 -0.258427   \n",
       "\n",
       "   2016 Avg Price Per Liter  Q12015 Profit  Q12016 Profit  2015 Profit  \\\n",
       "0                  0.175466       2.671994       10174.68     48742.20   \n",
       "1                  0.074389      -0.221082         693.49      3109.04   \n",
       "2                  0.068200       1.482837        9288.29     37229.32   \n",
       "3                 -0.954952      -0.286756         304.08      2587.53   \n",
       "4                 -0.416559       0.020703        1868.76      8165.70   \n",
       "\n",
       "   Q12015 Sales  Q12016 Sales  2015 Sales  2016 Predicted Profits  \\\n",
       "0      2.675791      30478.75   146038.70                37833.56   \n",
       "1     -0.219952       2065.90     9310.22                 2282.25   \n",
       "2      1.483090      27856.11   111583.91                42645.25   \n",
       "3     -0.285867        904.66     7721.08                 1176.81   \n",
       "4      0.020194       5588.50    24324.18                 7780.50   \n",
       "\n",
       "   2016 Predicted Sales  \n",
       "0             113295.60  \n",
       "1               6788.67  \n",
       "2             128057.87  \n",
       "3               3486.44  \n",
       "4              23211.43  "
      ]
     },
     "execution_count": 38,
     "metadata": {},
     "output_type": "execute_result"
    }
   ],
   "source": [
    "# Normalizing our modeling df\n",
    "\n",
    "model_copy = model_df.copy()\n",
    "\n",
    "# Not normalizing 2015 Profit because its our target variable, as well as the other categorical variables since they represent a string\n",
    "cols = [x for x in model_copy.columns if \n",
    "        (x != '2015 Profit' and x != 'Q12016 Profit' and x != 'County Number' \n",
    "         and x != '2015 Most Profitable Liquor' and x != '2016 Most Profitable Liquor' and x!= 'Store Number' and x!= '2016 Predicted Sales'\n",
    "         and x!= '2016 Predicted Profits' and x != '2015 Sales' and x != 'Q12016 Sales')]\n",
    "model_copy.ix[:, cols] = (model_copy.ix[:, cols] - model_copy.ix[:, cols].mean())/model_copy.ix[:, cols].std()\n",
    "\n",
    "model_copy.head()"
   ]
  },
  {
   "cell_type": "markdown",
   "metadata": {},
   "source": [
    "# Refine the data\n",
    "Look for any statistical relationships, correlations, or other relevant properties of the dataset."
   ]
  },
  {
   "cell_type": "code",
   "execution_count": 39,
   "metadata": {
    "collapsed": true
   },
   "outputs": [],
   "source": [
    "import patsy\n",
    "from sklearn.linear_model import LinearRegression\n",
    "from sklearn.linear_model import LogisticRegression\n",
    "from sklearn.linear_model import Ridge\n",
    "from sklearn.linear_model import Lasso\n",
    "from sklearn.neighbors import KNeighborsClassifier\n",
    "from sklearn.cross_validation import train_test_split, StratifiedKFold"
   ]
  },
  {
   "cell_type": "code",
   "execution_count": 40,
   "metadata": {
    "collapsed": false
   },
   "outputs": [
    {
     "data": {
      "text/plain": [
       "Lasso(alpha=1, copy_X=True, fit_intercept=True, max_iter=1000,\n",
       "   normalize=False, positive=False, precompute=False, random_state=None,\n",
       "   selection='cyclic', tol=0.0001, warm_start=False)"
      ]
     },
     "execution_count": 40,
     "metadata": {},
     "output_type": "execute_result"
    }
   ],
   "source": [
    "# Using lasso to determine which predictors to use\n",
    "preds = ['2015 Avg Price Per Liter']\n",
    "\n",
    "#Can't use categorical values because they don't end up indicating quantitative values. \n",
    "#Can't use a predictor that was used in the calculations of what you're trying to predict\n",
    "\n",
    "x = model_copy[preds]\n",
    "y = model_copy['2015 Profit']\n",
    "\n",
    "lmodel = Lasso(alpha = 1)\n",
    "lmodel.fit(x ,y)"
   ]
  },
  {
   "cell_type": "code",
   "execution_count": 41,
   "metadata": {
    "collapsed": false
   },
   "outputs": [
    {
     "data": {
      "text/plain": [
       "array([ 3291.10500904])"
      ]
     },
     "execution_count": 41,
     "metadata": {},
     "output_type": "execute_result"
    }
   ],
   "source": [
    "# When coef is 0 then the predictor it matches to above, is no longer factored\n",
    "lmodel.coef_"
   ]
  },
  {
   "cell_type": "code",
   "execution_count": 42,
   "metadata": {
    "collapsed": false
   },
   "outputs": [
    {
     "name": "stdout",
     "output_type": "stream",
     "text": [
      "0.0298095135468\n"
     ]
    }
   ],
   "source": [
    "# lmodel score changes every time we use or don't use a predictor variable, showing us how it affects our predictions\n",
    "print lmodel.score(x, y)"
   ]
  },
  {
   "cell_type": "code",
   "execution_count": 43,
   "metadata": {
    "collapsed": false
   },
   "outputs": [
    {
     "name": "stdout",
     "output_type": "stream",
     "text": [
      "0.0122413345722\n",
      "0.0644553598319\n"
     ]
    }
   ],
   "source": [
    "# Using train-test-split to cross validate whether this model is good \n",
    "x_train, x_test, y_train, y_test = train_test_split(x, y, test_size = 0.4)\n",
    "lmodel.fit(x_train, y_train)\n",
    "lactual = y_test\n",
    "lpred = lmodel.predict(x_test)\n",
    "print lmodel.score(x_test, y_test)\n",
    "print lmodel.score(x_train, y_train)\n",
    "\n",
    "#Since this model is based on 2015 values and predictions, if it does well, we can then run it on 2016"
   ]
  },
  {
   "cell_type": "code",
   "execution_count": null,
   "metadata": {
    "collapsed": false
   },
   "outputs": [],
   "source": [
    "# Repeat steps above but use Q4 of 2015 profits and the average growth rates to predict Q1 2016 sales (y = Q12016 Profit)\n",
    "\n",
    "# preds16 = ['2015 Most Profitable Liquor', '2016 Most Profitable Liquor', 'County Number', '2015 Avg Price Per Liter', '2016 Avg Price Per Liter']\n",
    "# x16 = model_copy[preds16]\n",
    "# y16 = model_copy['2016 Predicted Sales']\n",
    "\n",
    "# lmodel16 = Lasso(alpha = 1)\n",
    "# lmodel16.fit(x, y)"
   ]
  },
  {
   "cell_type": "code",
   "execution_count": null,
   "metadata": {
    "collapsed": true
   },
   "outputs": [],
   "source": []
  },
  {
   "cell_type": "markdown",
   "metadata": {},
   "source": [
    "# Build your models\n",
    "\n",
    "Using scikit-learn or statsmodels, build the necessary models for your scenario. Evaluate model fit."
   ]
  },
  {
   "cell_type": "code",
   "execution_count": 45,
   "metadata": {
    "collapsed": false
   },
   "outputs": [
    {
     "data": {
      "text/plain": [
       "LinearRegression(copy_X=True, fit_intercept=True, n_jobs=1, normalize=False)"
      ]
     },
     "execution_count": 45,
     "metadata": {},
     "output_type": "execute_result"
    }
   ],
   "source": [
    "# Making our linear regression model for 2015 data\n",
    "lrmodel = LinearRegression()\n",
    "lrmodel.fit(x, y)"
   ]
  },
  {
   "cell_type": "code",
   "execution_count": 46,
   "metadata": {
    "collapsed": false
   },
   "outputs": [
    {
     "data": {
      "text/plain": [
       "0.029809516302562233"
      ]
     },
     "execution_count": 46,
     "metadata": {},
     "output_type": "execute_result"
    }
   ],
   "source": [
    "# Linear Regression for 2015's score\n",
    "lrmodel.score(x, y)"
   ]
  },
  {
   "cell_type": "code",
   "execution_count": 47,
   "metadata": {
    "collapsed": false
   },
   "outputs": [
    {
     "name": "stdout",
     "output_type": "stream",
     "text": [
      "0.0122338442263\n",
      "0.0644553677456\n"
     ]
    }
   ],
   "source": [
    "# Fitting our 2015 model onto training groups\n",
    "lrmodel.fit(x_train, y_train)\n",
    "lractual = y_test\n",
    "lrpred = lrmodel.predict(x_test)\n",
    "print lrmodel.score(x_test, y_test)\n",
    "print lrmodel.score(x_train, y_train)"
   ]
  },
  {
   "cell_type": "code",
   "execution_count": null,
   "metadata": {
    "collapsed": true
   },
   "outputs": [],
   "source": []
  },
  {
   "cell_type": "code",
   "execution_count": 49,
   "metadata": {
    "collapsed": false
   },
   "outputs": [
    {
     "data": {
      "text/plain": [
       "Lasso(alpha=1, copy_X=True, fit_intercept=True, max_iter=1000,\n",
       "   normalize=False, positive=False, precompute=False, random_state=None,\n",
       "   selection='cyclic', tol=0.0001, warm_start=False)"
      ]
     },
     "execution_count": 49,
     "metadata": {},
     "output_type": "execute_result"
    }
   ],
   "source": [
    "# Using our predictors from 2015 to predict 2016 sales\n",
    "\n",
    "preds16 = ['Q12015 Sales', '2015 Avg Price Per Liter']\n",
    "\n",
    "x16 = model_copy[preds16]\n",
    "y16 = model_copy['Q12016 Sales']\n",
    "\n",
    "# Creating our lasso model and fitting it to our 2015 data\n",
    "lmodel16 = Lasso(alpha = 1)\n",
    "lmodel16.fit(x16 ,y16)"
   ]
  },
  {
   "cell_type": "code",
   "execution_count": 50,
   "metadata": {
    "collapsed": false
   },
   "outputs": [
    {
     "data": {
      "text/plain": [
       "array([ 12092.64234966,    -35.23066447])"
      ]
     },
     "execution_count": 50,
     "metadata": {},
     "output_type": "execute_result"
    }
   ],
   "source": [
    "lmodel16.coef_"
   ]
  },
  {
   "cell_type": "code",
   "execution_count": 51,
   "metadata": {
    "collapsed": false
   },
   "outputs": [
    {
     "data": {
      "text/plain": [
       "0.90257479345863389"
      ]
     },
     "execution_count": 51,
     "metadata": {},
     "output_type": "execute_result"
    }
   ],
   "source": [
    "lmodel16.score(x16, y16)"
   ]
  },
  {
   "cell_type": "code",
   "execution_count": 52,
   "metadata": {
    "collapsed": false
   },
   "outputs": [
    {
     "name": "stdout",
     "output_type": "stream",
     "text": [
      "0.897404308739\n",
      "0.906179919943\n"
     ]
    }
   ],
   "source": [
    "# Using train-test-split to cross validate whether this model is good \n",
    "x16_train, x16_test, y16_train, y16_test = train_test_split(x16, y16, test_size = 0.4)\n",
    "lmodel16.fit(x16_train, y16_train)\n",
    "lactua16l = y16_test\n",
    "lpred16 = lmodel16.predict(x16_test)\n",
    "print lmodel16.score(x16_test, y16_test)\n",
    "print lmodel16.score(x16_train, y16_train)"
   ]
  },
  {
   "cell_type": "code",
   "execution_count": 53,
   "metadata": {
    "collapsed": false
   },
   "outputs": [
    {
     "data": {
      "text/plain": [
       "LinearRegression(copy_X=True, fit_intercept=True, n_jobs=1, normalize=False)"
      ]
     },
     "execution_count": 53,
     "metadata": {},
     "output_type": "execute_result"
    }
   ],
   "source": [
    "# Making our linear regression model for 2016 data\n",
    "lrmodel16 = LinearRegression()\n",
    "lrmodel16.fit(x16, y16)"
   ]
  },
  {
   "cell_type": "code",
   "execution_count": 54,
   "metadata": {
    "collapsed": false
   },
   "outputs": [
    {
     "data": {
      "text/plain": [
       "0.90257480838085902"
      ]
     },
     "execution_count": 54,
     "metadata": {},
     "output_type": "execute_result"
    }
   ],
   "source": [
    "lrmodel16.score(x16, y16)"
   ]
  },
  {
   "cell_type": "code",
   "execution_count": 55,
   "metadata": {
    "collapsed": false
   },
   "outputs": [
    {
     "name": "stdout",
     "output_type": "stream",
     "text": [
      "0.89739102646\n",
      "0.906179939924\n"
     ]
    }
   ],
   "source": [
    "# Fitting our 2016 model\n",
    "lrmodel16.fit(x16_train, y16_train)\n",
    "lractual16 = y16_test\n",
    "lrpred16 = lrmodel16.predict(x16_test)\n",
    "print lrmodel16.score(x16_test, y16_test)\n",
    "print lrmodel16.score(x16_train, y16_train)"
   ]
  },
  {
   "cell_type": "code",
   "execution_count": null,
   "metadata": {
    "collapsed": true
   },
   "outputs": [],
   "source": []
  },
  {
   "cell_type": "code",
   "execution_count": 56,
   "metadata": {
    "collapsed": false
   },
   "outputs": [
    {
     "data": {
      "text/html": [
       "<div>\n",
       "<table border=\"1\" class=\"dataframe\">\n",
       "  <thead>\n",
       "    <tr style=\"text-align: right;\">\n",
       "      <th></th>\n",
       "      <th>Q12015 Sales</th>\n",
       "      <th>2015 Avg Price Per Liter</th>\n",
       "      <th>Target</th>\n",
       "      <th>Prediction</th>\n",
       "    </tr>\n",
       "  </thead>\n",
       "  <tbody>\n",
       "    <tr>\n",
       "      <th>960</th>\n",
       "      <td>-0.361882</td>\n",
       "      <td>-0.269040</td>\n",
       "      <td>1702.39</td>\n",
       "      <td>1109.343941</td>\n",
       "    </tr>\n",
       "    <tr>\n",
       "      <th>459</th>\n",
       "      <td>-0.302514</td>\n",
       "      <td>-0.009037</td>\n",
       "      <td>1545.20</td>\n",
       "      <td>1829.714248</td>\n",
       "    </tr>\n",
       "    <tr>\n",
       "      <th>470</th>\n",
       "      <td>-0.354810</td>\n",
       "      <td>-0.433531</td>\n",
       "      <td>1742.31</td>\n",
       "      <td>1210.653788</td>\n",
       "    </tr>\n",
       "    <tr>\n",
       "      <th>742</th>\n",
       "      <td>-0.251238</td>\n",
       "      <td>-0.311489</td>\n",
       "      <td>2017.20</td>\n",
       "      <td>2493.670508</td>\n",
       "    </tr>\n",
       "    <tr>\n",
       "      <th>748</th>\n",
       "      <td>-0.373490</td>\n",
       "      <td>0.853217</td>\n",
       "      <td>881.77</td>\n",
       "      <td>875.486431</td>\n",
       "    </tr>\n",
       "  </tbody>\n",
       "</table>\n",
       "</div>"
      ],
      "text/plain": [
       "     Q12015 Sales  2015 Avg Price Per Liter   Target   Prediction\n",
       "960     -0.361882                 -0.269040  1702.39  1109.343941\n",
       "459     -0.302514                 -0.009037  1545.20  1829.714248\n",
       "470     -0.354810                 -0.433531  1742.31  1210.653788\n",
       "742     -0.251238                 -0.311489  2017.20  2493.670508\n",
       "748     -0.373490                  0.853217   881.77   875.486431"
      ]
     },
     "execution_count": 56,
     "metadata": {},
     "output_type": "execute_result"
    }
   ],
   "source": [
    "summary_df = pd.DataFrame(x16_test)\n",
    "summary_df['Target'] = (y16_test)\n",
    "# summary_df = summary_df.rename(columns={0:\"A\", 1:\"B\", 3:\"C\", 4:\"D\", 5:\"E\"})\n",
    "summary_df['Prediction'] = lrpred16\n",
    "\n",
    "summary_df.head()"
   ]
  },
  {
   "cell_type": "code",
   "execution_count": null,
   "metadata": {
    "collapsed": true
   },
   "outputs": [],
   "source": []
  },
  {
   "cell_type": "markdown",
   "metadata": {},
   "source": [
    "## Plot your results\n",
    "\n",
    "Again make sure that you record any valuable information. For example, in the tax scenario, did you find the sales from the first three months of the year to be a good predictor of the total sales for the year? Plot the predictions versus the true values and discuss the successes and limitations of your models"
   ]
  },
  {
   "cell_type": "code",
   "execution_count": 57,
   "metadata": {
    "collapsed": false
   },
   "outputs": [
    {
     "data": {
      "image/png": "[encoded data removed]",
      "text/plain": [
       "<matplotlib.figure.Figure at 0x12d772910>"
      ]
     },
     "metadata": {},
     "output_type": "display_data"
    }
   ],
   "source": [
    "# Plotting 2015 model for our actual regression\n",
    "sns.set(rc = {\"figure.figsize\":(10, 6)}, style = 'whitegrid')\n",
    "ax = sns.regplot(x = lrpred, y = lractual)\n",
    "\n",
    "ax.set(xlabel = 'Predictions', ylabel = 'Actual Results')\n",
    "\n",
    "plt.show()"
   ]
  },
  {
   "cell_type": "code",
   "execution_count": 59,
   "metadata": {
    "collapsed": false
   },
   "outputs": [
    {
     "data": {
      "image/png": "[encoded data removed]",
      "text/plain": [
       "<matplotlib.figure.Figure at 0x12d9a3050>"
      ]
     },
     "metadata": {},
     "output_type": "display_data"
    }
   ],
   "source": [
    "# \"\"\"Plotting 2015 model's lasso regression\"\"\"\n",
    "sns.set(rc = {\"figure.figsize\": (10, 6)}, style = 'whitegrid')\n",
    "ax = sns.residplot(x = lrpred, y = lractual)\n",
    "\n",
    "ax.set(xlabel = 'Predictions', ylabel = 'Actual Results')\n",
    "\n",
    "plt.show()"
   ]
  },
  {
   "cell_type": "markdown",
   "metadata": {},
   "source": [
    "# Present the Results\n",
    "\n",
    "Present your conclusions and results. If you have more than one interesting model feel free to include more than one along with a discussion. Use your work in this notebook to prepare your write-up."
   ]
  },
  {
   "cell_type": "code",
   "execution_count": null,
   "metadata": {
    "collapsed": true
   },
   "outputs": [],
   "source": []
  }
 ],
 "metadata": {
  "kernelspec": {
   "display_name": "Python 2",
   "language": "python",
   "name": "python2"
  },
  "language_info": {
   "codemirror_mode": {
    "name": "ipython",
    "version": 2
   },
   "file_extension": ".py",
   "mimetype": "text/x-python",
   "name": "python",
   "nbconvert_exporter": "python",
   "pygments_lexer": "ipython2",
   "version": "2.7.11"
  }
 },
 "nbformat": 4,
 "nbformat_minor": 0
}
