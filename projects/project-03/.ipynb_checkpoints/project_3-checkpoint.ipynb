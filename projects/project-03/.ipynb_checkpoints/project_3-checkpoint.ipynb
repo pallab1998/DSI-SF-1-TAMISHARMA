{
 "cells": [
  {
   "cell_type": "code",
   "execution_count": 1,
   "metadata": {
    "collapsed": true
   },
   "outputs": [],
   "source": [
    "% matplotlib inline\n",
    "import datetime\n",
    "import numpy as np\n",
    "import pandas as pd"
   ]
  },
  {
   "cell_type": "code",
   "execution_count": 2,
   "metadata": {
    "collapsed": false
   },
   "outputs": [
    {
     "data": {
      "text/html": [
       "<div>\n",
       "<table border=\"1\" class=\"dataframe\">\n",
       "  <thead>\n",
       "    <tr style=\"text-align: right;\">\n",
       "      <th></th>\n",
       "      <th>Date</th>\n",
       "      <th>Store Number</th>\n",
       "      <th>City</th>\n",
       "      <th>Zip Code</th>\n",
       "      <th>County Number</th>\n",
       "      <th>County</th>\n",
       "      <th>Category</th>\n",
       "      <th>Category Name</th>\n",
       "      <th>Vendor Number</th>\n",
       "      <th>Item Number</th>\n",
       "      <th>Item Description</th>\n",
       "      <th>Bottle Volume (ml)</th>\n",
       "      <th>State Bottle Cost</th>\n",
       "      <th>State Bottle Retail</th>\n",
       "      <th>Bottles Sold</th>\n",
       "      <th>Sale (Dollars)</th>\n",
       "      <th>Volume Sold (Liters)</th>\n",
       "      <th>Volume Sold (Gallons)</th>\n",
       "    </tr>\n",
       "  </thead>\n",
       "  <tbody>\n",
       "    <tr>\n",
       "      <th>0</th>\n",
       "      <td>11/04/2015</td>\n",
       "      <td>3717</td>\n",
       "      <td>SUMNER</td>\n",
       "      <td>50674</td>\n",
       "      <td>9.0</td>\n",
       "      <td>Bremer</td>\n",
       "      <td>1051100.0</td>\n",
       "      <td>APRICOT BRANDIES</td>\n",
       "      <td>55</td>\n",
       "      <td>54436</td>\n",
       "      <td>Mr. Boston Apricot Brandy</td>\n",
       "      <td>750</td>\n",
       "      <td>$4.50</td>\n",
       "      <td>$6.75</td>\n",
       "      <td>12</td>\n",
       "      <td>$81.00</td>\n",
       "      <td>9.0</td>\n",
       "      <td>2.38</td>\n",
       "    </tr>\n",
       "    <tr>\n",
       "      <th>1</th>\n",
       "      <td>03/02/2016</td>\n",
       "      <td>2614</td>\n",
       "      <td>DAVENPORT</td>\n",
       "      <td>52807</td>\n",
       "      <td>82.0</td>\n",
       "      <td>Scott</td>\n",
       "      <td>1011100.0</td>\n",
       "      <td>BLENDED WHISKIES</td>\n",
       "      <td>395</td>\n",
       "      <td>27605</td>\n",
       "      <td>Tin Cup</td>\n",
       "      <td>750</td>\n",
       "      <td>$13.75</td>\n",
       "      <td>$20.63</td>\n",
       "      <td>2</td>\n",
       "      <td>$41.26</td>\n",
       "      <td>1.5</td>\n",
       "      <td>0.40</td>\n",
       "    </tr>\n",
       "    <tr>\n",
       "      <th>2</th>\n",
       "      <td>02/11/2016</td>\n",
       "      <td>2106</td>\n",
       "      <td>CEDAR FALLS</td>\n",
       "      <td>50613</td>\n",
       "      <td>7.0</td>\n",
       "      <td>Black Hawk</td>\n",
       "      <td>1011200.0</td>\n",
       "      <td>STRAIGHT BOURBON WHISKIES</td>\n",
       "      <td>65</td>\n",
       "      <td>19067</td>\n",
       "      <td>Jim Beam</td>\n",
       "      <td>1000</td>\n",
       "      <td>$12.59</td>\n",
       "      <td>$18.89</td>\n",
       "      <td>24</td>\n",
       "      <td>$453.36</td>\n",
       "      <td>24.0</td>\n",
       "      <td>6.34</td>\n",
       "    </tr>\n",
       "    <tr>\n",
       "      <th>3</th>\n",
       "      <td>02/03/2016</td>\n",
       "      <td>2501</td>\n",
       "      <td>AMES</td>\n",
       "      <td>50010</td>\n",
       "      <td>85.0</td>\n",
       "      <td>Story</td>\n",
       "      <td>1071100.0</td>\n",
       "      <td>AMERICAN COCKTAILS</td>\n",
       "      <td>395</td>\n",
       "      <td>59154</td>\n",
       "      <td>1800 Ultimate Margarita</td>\n",
       "      <td>1750</td>\n",
       "      <td>$9.50</td>\n",
       "      <td>$14.25</td>\n",
       "      <td>6</td>\n",
       "      <td>$85.50</td>\n",
       "      <td>10.5</td>\n",
       "      <td>2.77</td>\n",
       "    </tr>\n",
       "    <tr>\n",
       "      <th>4</th>\n",
       "      <td>08/18/2015</td>\n",
       "      <td>3654</td>\n",
       "      <td>BELMOND</td>\n",
       "      <td>50421</td>\n",
       "      <td>99.0</td>\n",
       "      <td>Wright</td>\n",
       "      <td>1031080.0</td>\n",
       "      <td>VODKA 80 PROOF</td>\n",
       "      <td>297</td>\n",
       "      <td>35918</td>\n",
       "      <td>Five O'clock Vodka</td>\n",
       "      <td>1750</td>\n",
       "      <td>$7.20</td>\n",
       "      <td>$10.80</td>\n",
       "      <td>12</td>\n",
       "      <td>$129.60</td>\n",
       "      <td>21.0</td>\n",
       "      <td>5.55</td>\n",
       "    </tr>\n",
       "  </tbody>\n",
       "</table>\n",
       "</div>"
      ],
      "text/plain": [
       "         Date  Store Number         City Zip Code  County Number      County  \\\n",
       "0  11/04/2015          3717       SUMNER    50674            9.0      Bremer   \n",
       "1  03/02/2016          2614    DAVENPORT    52807           82.0       Scott   \n",
       "2  02/11/2016          2106  CEDAR FALLS    50613            7.0  Black Hawk   \n",
       "3  02/03/2016          2501         AMES    50010           85.0       Story   \n",
       "4  08/18/2015          3654      BELMOND    50421           99.0      Wright   \n",
       "\n",
       "    Category              Category Name  Vendor Number  Item Number  \\\n",
       "0  1051100.0           APRICOT BRANDIES             55        54436   \n",
       "1  1011100.0           BLENDED WHISKIES            395        27605   \n",
       "2  1011200.0  STRAIGHT BOURBON WHISKIES             65        19067   \n",
       "3  1071100.0         AMERICAN COCKTAILS            395        59154   \n",
       "4  1031080.0             VODKA 80 PROOF            297        35918   \n",
       "\n",
       "            Item Description  Bottle Volume (ml) State Bottle Cost  \\\n",
       "0  Mr. Boston Apricot Brandy                 750             $4.50   \n",
       "1                    Tin Cup                 750            $13.75   \n",
       "2                   Jim Beam                1000            $12.59   \n",
       "3    1800 Ultimate Margarita                1750             $9.50   \n",
       "4         Five O'clock Vodka                1750             $7.20   \n",
       "\n",
       "  State Bottle Retail  Bottles Sold Sale (Dollars)  Volume Sold (Liters)  \\\n",
       "0               $6.75            12         $81.00                   9.0   \n",
       "1              $20.63             2         $41.26                   1.5   \n",
       "2              $18.89            24        $453.36                  24.0   \n",
       "3              $14.25             6         $85.50                  10.5   \n",
       "4              $10.80            12        $129.60                  21.0   \n",
       "\n",
       "   Volume Sold (Gallons)  \n",
       "0                   2.38  \n",
       "1                   0.40  \n",
       "2                   6.34  \n",
       "3                   2.77  \n",
       "4                   5.55  "
      ]
     },
     "execution_count": 2,
     "metadata": {},
     "output_type": "execute_result"
    }
   ],
   "source": [
    "# Load the data\n",
    "df = pd.read_csv(\"../../../iowa_data/Iowa_Liquor_sales_sample_10pct.csv\")\n",
    "df.head()"
   ]
  },
  {
   "cell_type": "markdown",
   "metadata": {},
   "source": [
    "## Data Exploration ##"
   ]
  },
  {
   "cell_type": "code",
   "execution_count": 3,
   "metadata": {
    "collapsed": false
   },
   "outputs": [
    {
     "data": {
      "text/plain": [
       "Date                      object\n",
       "Store Number               int64\n",
       "City                      object\n",
       "Zip Code                  object\n",
       "County Number            float64\n",
       "County                    object\n",
       "Category                 float64\n",
       "Category Name             object\n",
       "Vendor Number              int64\n",
       "Item Number                int64\n",
       "Item Description          object\n",
       "Bottle Volume (ml)         int64\n",
       "State Bottle Cost         object\n",
       "State Bottle Retail       object\n",
       "Bottles Sold               int64\n",
       "Sale (Dollars)            object\n",
       "Volume Sold (Liters)     float64\n",
       "Volume Sold (Gallons)    float64\n",
       "dtype: object"
      ]
     },
     "execution_count": 3,
     "metadata": {},
     "output_type": "execute_result"
    }
   ],
   "source": [
    "df.dtypes"
   ]
  },
  {
   "cell_type": "code",
   "execution_count": 4,
   "metadata": {
    "collapsed": false
   },
   "outputs": [
    {
     "name": "stdout",
     "output_type": "stream",
     "text": [
      "<class 'pandas.core.frame.DataFrame'>\n",
      "RangeIndex: 270955 entries, 0 to 270954\n",
      "Data columns (total 18 columns):\n",
      "Date                     270955 non-null object\n",
      "Store Number             270955 non-null int64\n",
      "City                     270955 non-null object\n",
      "Zip Code                 270955 non-null object\n",
      "County Number            269878 non-null float64\n",
      "County                   269878 non-null object\n",
      "Category                 270887 non-null float64\n",
      "Category Name            270323 non-null object\n",
      "Vendor Number            270955 non-null int64\n",
      "Item Number              270955 non-null int64\n",
      "Item Description         270955 non-null object\n",
      "Bottle Volume (ml)       270955 non-null int64\n",
      "State Bottle Cost        270955 non-null object\n",
      "State Bottle Retail      270955 non-null object\n",
      "Bottles Sold             270955 non-null int64\n",
      "Sale (Dollars)           270955 non-null object\n",
      "Volume Sold (Liters)     270955 non-null float64\n",
      "Volume Sold (Gallons)    270955 non-null float64\n",
      "dtypes: float64(4), int64(5), object(9)\n",
      "memory usage: 37.2+ MB\n"
     ]
    }
   ],
   "source": [
    "df.info()"
   ]
  },
  {
   "cell_type": "code",
   "execution_count": 5,
   "metadata": {
    "collapsed": true
   },
   "outputs": [],
   "source": [
    "## insert data dict here ##"
   ]
  },
  {
   "cell_type": "markdown",
   "metadata": {},
   "source": [
    "## Data Cleaning ##"
   ]
  },
  {
   "cell_type": "code",
   "execution_count": 6,
   "metadata": {
    "collapsed": true
   },
   "outputs": [],
   "source": [
    "# Remove redundant columns\n",
    "df.drop(\"Volume Sold (Gallons)\", axis = 1, inplace = True)"
   ]
  },
  {
   "cell_type": "code",
   "execution_count": 7,
   "metadata": {
    "collapsed": false
   },
   "outputs": [],
   "source": [
    "# Remove $ from certain columns\n",
    "dcs = [\"State Bottle Cost\", \"State Bottle Retail\", \"Sale (Dollars)\"]\n",
    "for col in dcs:\n",
    "    df[col] = df[col].map(lambda x: float(x.lstrip('$')))"
   ]
  },
  {
   "cell_type": "code",
   "execution_count": 8,
   "metadata": {
    "collapsed": false
   },
   "outputs": [
    {
     "data": {
      "text/plain": [
       "Date                    datetime64[ns]\n",
       "Store Number                     int64\n",
       "City                            object\n",
       "Zip Code                        object\n",
       "County Number                  float64\n",
       "County                          object\n",
       "Category                       float64\n",
       "Category Name                   object\n",
       "Vendor Number                    int64\n",
       "Item Number                      int64\n",
       "Item Description                object\n",
       "Bottle Volume (ml)               int64\n",
       "State Bottle Cost              float64\n",
       "State Bottle Retail            float64\n",
       "Bottles Sold                     int64\n",
       "Sale (Dollars)                 float64\n",
       "Volume Sold (Liters)           float64\n",
       "dtype: object"
      ]
     },
     "execution_count": 8,
     "metadata": {},
     "output_type": "execute_result"
    }
   ],
   "source": [
    "# Convert dates\n",
    "df[\"Date\"] = pd.to_datetime(df[\"Date\"])\n",
    "df.dtypes"
   ]
  },
  {
   "cell_type": "code",
   "execution_count": 9,
   "metadata": {
    "collapsed": false
   },
   "outputs": [
    {
     "data": {
      "text/plain": [
       "array(['APRICOT BRANDIES', 'BLENDED WHISKIES', 'STRAIGHT BOURBON WHISKIES',\n",
       "       'AMERICAN COCKTAILS', 'VODKA 80 PROOF', 'AMERICAN DRY GINS',\n",
       "       'AMERICAN GRAPE BRANDIES', 'CANADIAN WHISKIES', 'IMPORTED VODKA',\n",
       "       'CINNAMON SCHNAPPS', 'SINGLE BARREL BOURBON WHISKIES',\n",
       "       'PEPPERMINT SCHNAPPS', 'VODKA FLAVORED', '100 PROOF VODKA',\n",
       "       'DISTILLED SPIRITS SPECIALTY', 'TEQUILA', 'TENNESSEE WHISKIES',\n",
       "       'WHISKEY LIQUEUR', 'MISC. AMERICAN CORDIALS & LIQUEURS',\n",
       "       'APPLE SCHNAPPS', 'CHERRY BRANDIES',\n",
       "       'MISC. IMPORTED CORDIALS & LIQUEURS', 'IMPORTED DRY GINS',\n",
       "       'WATERMELON SCHNAPPS', 'BLACKBERRY BRANDIES', 'SINGLE MALT SCOTCH',\n",
       "       'PUERTO RICO & VIRGIN ISLANDS RUM', 'SPICED RUM', 'CREAM LIQUEURS',\n",
       "       'SCOTCH WHISKIES', 'IMPORTED VODKA - MISC', 'IRISH WHISKIES',\n",
       "       'FLAVORED RUM', 'IMPORTED GRAPE BRANDIES', 'SPEARMINT SCHNAPPS',\n",
       "       'RASPBERRY SCHNAPPS', 'TRIPLE SEC', 'AMERICAN AMARETTO',\n",
       "       'IMPORTED SCHNAPPS', 'STRAIGHT RYE WHISKIES', 'PEACH SCHNAPPS',\n",
       "       'MISCELLANEOUS  BRANDIES', 'STRAWBERRY SCHNAPPS',\n",
       "       'AMERICAN ALCOHOL', 'JAMAICA RUM', 'BARBADOS RUM',\n",
       "       'COFFEE LIQUEURS', 'ROOT BEER SCHNAPPS',\n",
       "       'DECANTERS & SPECIALTY PACKAGES', 'GRAPE SCHNAPPS',\n",
       "       'OTHER PROOF VODKA', nan, 'IMPORTED AMARETTO',\n",
       "       'BUTTERSCOTCH SCHNAPPS', 'ANISETTE', 'CREME DE ALMOND',\n",
       "       'ROCK & RYE', 'PEACH BRANDIES', 'FLAVORED GINS',\n",
       "       'MISCELLANEOUS SCHNAPPS', 'WHITE CREME DE MENTHE',\n",
       "       'WHITE CREME DE CACAO', 'TROPICAL FRUIT SCHNAPPS',\n",
       "       'GREEN CREME DE MENTHE', 'LOW PROOF VODKA', 'AMERICAN SLOE GINS',\n",
       "       'DARK CREME DE CACAO', 'JAPANESE WHISKY', 'BOTTLED IN BOND BOURBON',\n",
       "       'CORN WHISKIES', 'HIGH PROOF BEER - AMERICAN', 'AMARETTO - IMPORTED'], dtype=object)"
      ]
     },
     "execution_count": 9,
     "metadata": {},
     "output_type": "execute_result"
    }
   ],
   "source": [
    "df[\"Category Name\"].unique()"
   ]
  },
  {
   "cell_type": "code",
   "execution_count": 10,
   "metadata": {
    "collapsed": true
   },
   "outputs": [],
   "source": [
    "df['Margins'] = df[\"State Bottle Retail\"] - df[\"State Bottle Cost\"]"
   ]
  },
  {
   "cell_type": "markdown",
   "metadata": {},
   "source": [
    "## Part 1 ##"
   ]
  },
  {
   "cell_type": "markdown",
   "metadata": {},
   "source": [
    "### Problem Statement: ###\n",
    "\n"
   ]
  },
  {
   "cell_type": "code",
   "execution_count": 11,
   "metadata": {
    "collapsed": true
   },
   "outputs": [],
   "source": [
    "# mask1 = df.Date.dt.year == 2015\n",
    "\n",
    "# start = df[mask1].groupby(\"Store Number\")[\"Date\"].min()\n",
    "# end = df[mask1].groupby(\"Store Number\")[\"Date\"].max()\n",
    "\n",
    "# begin_year = pd.DataFrame(start).reset_index()\n",
    "# end_year = pd.DataFrame(end).reset_index()\n",
    "\n",
    "# mask2 = begin_year.Date.dt.month == 1 \n",
    "# mask3 = end_year.Date.dt.month == 12\n",
    "\n",
    "# jan_start = begin_year[mask2][\"Store Number\"]\n",
    "# dec_end = end_year[mask3][\"Store Number\"]\n",
    "\n",
    "# mask4 = jan_start.isin(dec_end)\n",
    "# full_year = jan_start[mask4]\n",
    "\n",
    "# df_mask = df[\"Store Number\"].isin(full_year)\n",
    "# iowa_2015 = df[df_mask]\n",
    "# iowa_2015.head()"
   ]
  },
  {
   "cell_type": "code",
   "execution_count": 12,
   "metadata": {
    "collapsed": false
   },
   "outputs": [
    {
     "name": "stdout",
     "output_type": "stream",
     "text": [
      "   Store Number  Sale (Dollars)\n",
      "0          2106        39287.29\n",
      "1          2113         2833.25\n",
      "2          2130        24272.57\n",
      "3          2152         2003.46\n",
      "4          2178         5856.41\n",
      "   Store Number  Sale (Dollars)\n",
      "0          2106        30523.75\n",
      "1          2113         2065.90\n",
      "2          2130        27856.11\n",
      "3          2152         1376.43\n",
      "4          2178         5588.50\n"
     ]
    }
   ],
   "source": [
    "q1_15mask = (df.Date.dt.year == 2015) & (df.Date.dt.month >= 1) & (df.Date.dt.month <= 3)\n",
    "q1_15 = df[q1_15mask].groupby(['Store Number'])['Sale (Dollars)'].sum()\n",
    "q1_15df = pd.DataFrame(q1_15).reset_index()\n",
    "\n",
    "q1_16mask = (df.Date.dt.year == 2016) & (df.Date.dt.month >= 1) & (df.Date.dt.month <= 3)\n",
    "q1_16 = df[q1_16mask].groupby(['Store Number'])['Sale (Dollars)'].sum()\n",
    "q1_16df = pd.DataFrame(q1_16).reset_index()\n",
    "\n",
    "print q1_15df.head()\n",
    "print q1_16df.head()"
   ]
  },
  {
   "cell_type": "code",
   "execution_count": 13,
   "metadata": {
    "collapsed": false
   },
   "outputs": [
    {
     "data": {
      "text/plain": [
       "176849.97000000015"
      ]
     },
     "execution_count": 13,
     "metadata": {},
     "output_type": "execute_result"
    }
   ],
   "source": [
    "df[df['Store Number'] == 2106]['Sale (Dollars)'].sum()"
   ]
  },
  {
   "cell_type": "code",
   "execution_count": 14,
   "metadata": {
    "collapsed": false
   },
   "outputs": [],
   "source": [
    "# outside = pd.read_csv(\"../../../iowa_data/outside.csv\")\n",
    "# outside"
   ]
  },
  {
   "cell_type": "code",
   "execution_count": 15,
   "metadata": {
    "collapsed": false
   },
   "outputs": [
    {
     "data": {
      "text/plain": [
       "385"
      ]
     },
     "execution_count": 15,
     "metadata": {},
     "output_type": "execute_result"
    }
   ],
   "source": [
    "len(df.City.unique())"
   ]
  },
  {
   "cell_type": "markdown",
   "metadata": {},
   "source": [
    "## Data Viz ##"
   ]
  },
  {
   "cell_type": "code",
   "execution_count": 16,
   "metadata": {
    "collapsed": true
   },
   "outputs": [],
   "source": [
    "import seaborn as sns\n",
    "from matplotlib import pyplot as plt"
   ]
  },
  {
   "cell_type": "code",
   "execution_count": 17,
   "metadata": {
    "collapsed": false
   },
   "outputs": [
    {
     "name": "stderr",
     "output_type": "stream",
     "text": [
      "/Users/Tami/anaconda/lib/python2.7/site-packages/ipykernel/__main__.py:4: FutureWarning: sort(columns=....) is deprecated, use sort_values(by=.....)\n"
     ]
    }
   ],
   "source": [
    "city_margin = df.groupby([\"City\", \"Date\"])[\"Margins\"].sum()\n",
    "city_mdf = pd.DataFrame(city_margin).reset_index()\n",
    "\n",
    "city_margin_set = city_mdf.sort('Margins', ascending = False)"
   ]
  },
  {
   "cell_type": "code",
   "execution_count": 37,
   "metadata": {
    "collapsed": false
   },
   "outputs": [
    {
     "name": "stderr",
     "output_type": "stream",
     "text": [
      "/Users/Tami/anaconda/lib/python2.7/site-packages/ipykernel/__main__.py:3: FutureWarning: sort(columns=....) is deprecated, use sort_values(by=.....)\n",
      "  app.launch_new_instance()\n"
     ]
    },
    {
     "data": {
      "text/html": [
       "<div>\n",
       "<table border=\"1\" class=\"dataframe\">\n",
       "  <thead>\n",
       "    <tr style=\"text-align: right;\">\n",
       "      <th></th>\n",
       "      <th>City</th>\n",
       "      <th>Margins</th>\n",
       "    </tr>\n",
       "  </thead>\n",
       "  <tbody>\n",
       "    <tr>\n",
       "      <th>90</th>\n",
       "      <td>DES MOINES</td>\n",
       "      <td>118932.02</td>\n",
       "    </tr>\n",
       "    <tr>\n",
       "      <th>51</th>\n",
       "      <td>CEDAR RAPIDS</td>\n",
       "      <td>89590.04</td>\n",
       "    </tr>\n",
       "    <tr>\n",
       "      <th>81</th>\n",
       "      <td>DAVENPORT</td>\n",
       "      <td>53086.94</td>\n",
       "    </tr>\n",
       "    <tr>\n",
       "      <th>175</th>\n",
       "      <td>IOWA CITY</td>\n",
       "      <td>40001.73</td>\n",
       "    </tr>\n",
       "    <tr>\n",
       "      <th>317</th>\n",
       "      <td>SIOUX CITY</td>\n",
       "      <td>39953.12</td>\n",
       "    </tr>\n",
       "  </tbody>\n",
       "</table>\n",
       "</div>"
      ],
      "text/plain": [
       "             City    Margins\n",
       "90     DES MOINES  118932.02\n",
       "51   CEDAR RAPIDS   89590.04\n",
       "81      DAVENPORT   53086.94\n",
       "175     IOWA CITY   40001.73\n",
       "317    SIOUX CITY   39953.12"
      ]
     },
     "execution_count": 37,
     "metadata": {},
     "output_type": "execute_result"
    }
   ],
   "source": [
    "subset = df.groupby('City')[\"Margins\"].sum()\n",
    "subsetdf = pd.DataFrame(subset).reset_index()\n",
    "sub_set = subsetdf.sort('Margins', ascending = False)\n",
    "\n",
    "sub_set.head()"
   ]
  },
  {
   "cell_type": "code",
   "execution_count": 18,
   "metadata": {
    "collapsed": false
   },
   "outputs": [
    {
     "data": {
      "text/plain": [
       "<matplotlib.axes._subplots.AxesSubplot at 0x1150cbf90>"
      ]
     },
     "execution_count": 18,
     "metadata": {},
     "output_type": "execute_result"
    },
    {
     "data": {
      "image/png": "[encoded data removed]",
      "text/plain": [
       "<matplotlib.figure.Figure at 0x115074fd0>"
      ]
     },
     "metadata": {},
     "output_type": "display_data"
    }
   ],
   "source": [
    "plt.figure(figsize = (20, 10))\n",
    "sns.regplot(x= city_margin_set.Date.dt.month, y = \"Margins\", data= city_margin_set)"
   ]
  },
  {
   "cell_type": "code",
   "execution_count": 26,
   "metadata": {
    "collapsed": false
   },
   "outputs": [
    {
     "data": {
      "text/plain": [
       "<matplotlib.axes._subplots.AxesSubplot at 0x120d3be50>"
      ]
     },
     "execution_count": 26,
     "metadata": {},
     "output_type": "execute_result"
    },
    {
     "data": {
      "image/png": "[encoded data removed]",
      "text/plain": [
       "<matplotlib.figure.Figure at 0x115262e90>"
      ]
     },
     "metadata": {},
     "output_type": "display_data"
    }
   ],
   "source": [
    "sns.barplot(x= \"City\", y= \"Margins\", data = test)"
   ]
  },
  {
   "cell_type": "code",
   "execution_count": 19,
   "metadata": {
    "collapsed": true
   },
   "outputs": [],
   "source": [
    "##trying to plot differences in quarter 1 & 2. nans and discrepancies "
   ]
  },
  {
   "cell_type": "code",
   "execution_count": 24,
   "metadata": {
    "collapsed": false
   },
   "outputs": [],
   "source": [
    "df[\"q1\"] = df[q1_15mask][\"Margins\"]\n",
    "df[\"q2\"] = df[(df.Date.dt.year == 2015) & (df.Date.dt.month >= 3) & (df.Date.dt.month <= 6)][\"Margins\"]\n",
    "test = df[(df.Date.dt.year == 2015) & (df.Date.dt.month >= 1) & (df.Date.dt.month <= 6)][[\"City\", \"Date\", \"Margins\"]]"
   ]
  },
  {
   "cell_type": "code",
   "execution_count": 22,
   "metadata": {
    "collapsed": false
   },
   "outputs": [],
   "source": [
    "# sns.regplot(x= \"q1\", y=\"\", data = test, scatter = True)"
   ]
  },
  {
   "cell_type": "markdown",
   "metadata": {},
   "source": [
    "# Regression by stores there for full year of 2015 that are in the full year of 2016 # "
   ]
  },
  {
   "cell_type": "code",
   "execution_count": null,
   "metadata": {
    "collapsed": true
   },
   "outputs": [],
   "source": [
    "mask15 = df.Date.dt.year == 2015\n",
    "mask16 = df.Date.dt.year == 2016\n",
    "\n",
    "start15 = df[mask15].groupby(\"Store Number\")[\"Date\"].min()\n",
    "end15 = df[mask15].groupby(\"Store Number\")[\"Date\"].max()\n",
    "\n",
    "start16 = df[mask16].groupby(\"Store Number\")[\"Date\"].min()\n",
    "end16 = df[mask16].groupby(\"Store Number\")[\"Date\"].max()\n",
    "\n",
    "begin_year15 = pd.DataFrame(start15).reset_index()\n",
    "end_year15 = pd.DataFrame(end15).reset_index()\n",
    "\n",
    "begin_year16 = pd.DataFrame(start16).reset_index()\n",
    "end_year16 = pd.DataFrame(end16).reset_index()\n",
    "\n",
    "mask2 = begin_year15.Date.dt.month == 1 \n",
    "mask3 = end_year15.Date.dt.month == 12\n",
    "mask4 = begin_year16.Date.dt.month == 1 \n",
    "mask5 = end_year16.Date.dt.month == 12\n",
    "\n",
    "jan_start15 = begin_year15[mask2][\"Store Number\"]\n",
    "dec_end15 = end_year15[mask3][\"Store Number\"]\n",
    "\n",
    "jan_start16 = begin_year16[mask4][\"Store Number\"]\n",
    "dec_end16 = end_year16[mask5][\"Store Number\"]\n",
    "\n",
    "anothaone = jan_start15.isin(dec_end15)\n",
    "full_year15 = jan_start15[anothaone]\n",
    "\n",
    "anothatwo = jan_start16.isin(dec_end16)\n",
    "full_year16 = jan_start16[anothatwo]\n",
    "\n",
    "\n",
    "df_mask15 = df[\"Store Number\"].isin(full_year15)\n",
    "df_mask16 = df[\"Store Number\"].isin(full_year16)\n",
    "iowa_2015 = df[df_mask15]\n",
    "iowa_2016 = df[df_mask16]\n",
    "\n",
    "df15 = iowa_2015.groupby(['Store Number'])['Bottles Sold', 'Volume Sold (Liters)', 'Profit'].sum()\n",
    "df16 = iowa_2016.groupby(['Store Number'])['Bottles Sold', 'Volume Sold (Liters)', 'Profit'].sum()\n",
    "df15 = pd.DataFrame(df15).reset_index()\n",
    "df16 = pd.DataFrame(df16).reset_index()\n",
    "sub1 = df15['Store Number']\n",
    "sub2 = df16['Store Number']\n",
    "\n",
    "#mask for stores in Q1 of 2015 that are also in Q1 of 2016\n",
    "anothaone = sub1.isin(sub2)\n",
    "#new data frame of just Q1 2015 stores that are also in Q1 of 2016\n",
    "newdf15 = df15[anothaone]\n",
    "\n",
    "#mask for stores in Q1 of 2016 that are also in the new df of 15 values\n",
    "anothatwo = sub2.isin(sub1)\n",
    "#applied mask onto Q1 2016 to filter out stores that don't match new df 15 stores\n",
    "newdf16 = df16[anothatwo]\n",
    "\n",
    "anothaone.value_counts()\n",
    "\n",
    "# cols = ['Bottles Sold','Volume Sold (Liters)']\n",
    "# lr = linear_model.LinearRegression()\n",
    "\n",
    "# x_train = newdf15[cols]\n",
    "# y_train = newdf15['Profit']\n",
    "\n",
    "# x_test = newdf16[cols]\n",
    "# y_test = newdf16[\"Profit\"]\n",
    "\n",
    "# lr.fit(x_train, y_train)\n",
    "# pred = lr.predict(x_test)\n",
    "# actual = y_test\n",
    "# print lr.score(x_test, y_test)\n",
    "# print lr.score(x_train, y_train)\n",
    "\n",
    "# %matplotlib inline\n",
    "# import matplotlib.pyplot as plt\n",
    "# sns.regplot(x=pred,y=actual)"
   ]
  }
 ],
 "metadata": {
  "kernelspec": {
   "display_name": "Python 2",
   "language": "python",
   "name": "python2"
  },
  "language_info": {
   "codemirror_mode": {
    "name": "ipython",
    "version": 2
   },
   "file_extension": ".py",
   "mimetype": "text/x-python",
   "name": "python",
   "nbconvert_exporter": "python",
   "pygments_lexer": "ipython2",
   "version": "2.7.11"
  }
 },
 "nbformat": 4,
 "nbformat_minor": 0
}
