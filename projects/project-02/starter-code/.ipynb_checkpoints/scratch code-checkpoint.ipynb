{
 "cells": [
  {
   "cell_type": "markdown",
   "metadata": {},
   "source": [
    "Step 2, using billboard_long convert values for Week from a string to an int"
   ]
  },
  {
   "cell_type": "code",
   "execution_count": 1,
   "metadata": {
    "collapsed": true
   },
   "outputs": [],
   "source": [
    "### Convert 'week' values to an int since aggregate functions cannot be applied to the column's object datatypes.\n",
    "\n",
    "##.append\n",
    "# value = int()\n",
    "# # v_list = []\n",
    "# billboard_long['week'] = [v_list.append(value) for value in billboard_long['week']\n",
    "#                          if x in \n",
    "#                          [x for x in value if x in ['1', '2', '3', '4', '5', '6', '7', '8', '9', '0']]]\n",
    "\n",
    "##.map\n",
    "# billboard_long['week'] = billboard_long['week'].map(lambda x: x.replace('thweek', ''))\n",
    "# billboard_long['week'] = billboard_long['week'].map(lambda x: x.replace('stweek', ''))\n",
    "# billboard_long['week'] = billboard_long['week'].map(lambda x: x.replace('ndweek', ''))\n",
    "# billboard_long['week'] = billboard_long['week'].map(lambda x: x.replace('rdweek', ''))\n",
    "# billboard_long['week'].unique()\n",
    "\n",
    "\n",
    "#kiefer's code for replacing column titles\n",
    "\n",
    "# d = {\n",
    "#     col:col.replace('Q','Question')\n",
    "#     for col in hsq.columns\n",
    "#     if all([\n",
    "#             True \n",
    "#             if c in 'Q0123456789' \n",
    "#             else False \n",
    "#             for c in col\n",
    "#         ])\n",
    "#     }\n",
    "# hsq_copy = hsq.copy()\n",
    "# hsq_copy.rename(columns=d, inplace=True)\n",
    "# print hsq_copy.columns.values"
   ]
  },
  {
   "cell_type": "code",
   "execution_count": 2,
   "metadata": {
    "collapsed": true
   },
   "outputs": [],
   "source": [
    "#### Removing columns 66thweek-76thweek \n",
    "\n",
    "# nans = billboard['67th'].unique()\n",
    "# len(nans)\n",
    "\n",
    "##code for changing NaN's to 0\n",
    "# billboard.fillna(0, inplace = True)\n",
    "\n",
    "##list of column titles for empty columns\n",
    "# crap_data = [col for col in billboard.columns.values\n",
    "#             if max(billboard[col]) == 0]\n",
    "# crap_data\n",
    "\n",
    "# billboard.columns = billboard[~(billboard.columns.isin(crap_data))]\n",
    "\n",
    "# crap_data = ['66thweek', '67thweek', '68thweek', '69thweek', '70thweek', '71stweek', '72ndweek', '73rdweek', '74thweek', '75thweek', '76thweek']\n",
    "# billboard = billboard[~(billboard.columns.isin(crap_data))]\n",
    "\n",
    "\n",
    "# billboard.drop(crap_data, axis = 1, inplace = True)\n",
    "# billboard.describe()"
   ]
  },
  {
   "cell_type": "markdown",
   "metadata": {
    "collapsed": true
   },
   "source": [
    "## Step 5 loops etc ##"
   ]
  },
  {
   "cell_type": "code",
   "execution_count": null,
   "metadata": {
    "collapsed": true
   },
   "outputs": [],
   "source": [
    "# bill_long[\"weeks_at_rank\"] = \n",
    "blg = bill_long[np.isfinite(bill_long[\"ranking\"])].groupby([\"track\", \"week\", \"ranking\"])\n",
    "# df = pd.DataFrame(blg).reset_index()\n",
    "# df.head()\n",
    "\n",
    "grps = blg.iloc[0:100,:]\n",
    "twr = blg['track', 'week', 'ranking']\n",
    "twr\n",
    "groups = dict(list(twr))\n",
    "groups\n",
    "\n",
    "\n",
    "row = gdf.ix[:,['track','week','ranking']]\n",
    "for group_name, values in groups:\n",
    "    print values\n",
    "\n",
    "    \n",
    "    \n",
    "billboard['highest_ranking'] = billboard.iloc[:,7:72].min(axis=1)\n",
    "hr_dpeak = billboard[billboard[\"weeks_on_chart_count\"] > 20].groupby(\n",
    "    [\"track\", \"highest_ranking\"]).agg({'days_to_peak':max})\n",
    "hrdp = pd.DataFrame(hr_dpeak).reset_index()\n",
    "\n",
    "sns.jointplot(x=\"days_to_peak\", y= \"highest_ranking\", data = hrdp, kind = \"reg\")\n",
    "# hrdp.corr()"
   ]
  },
  {
   "cell_type": "code",
   "execution_count": null,
   "metadata": {
    "collapsed": true
   },
   "outputs": [],
   "source": []
  }
 ],
 "metadata": {
  "kernelspec": {
   "display_name": "Python 2",
   "language": "python",
   "name": "python2"
  },
  "language_info": {
   "codemirror_mode": {
    "name": "ipython",
    "version": 2
   },
   "file_extension": ".py",
   "mimetype": "text/x-python",
   "name": "python",
   "nbconvert_exporter": "python",
   "pygments_lexer": "ipython2",
   "version": "2.7.11"
  }
 },
 "nbformat": 4,
 "nbformat_minor": 0
}
